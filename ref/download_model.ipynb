{
 "cells": [
  {
   "cell_type": "code",
   "execution_count": 1,
   "metadata": {},
   "outputs": [
    {
     "name": "stdout",
     "output_type": "stream",
     "text": [
      "Requirement already satisfied: transformers in /Users/cactus/miniconda3/envs/fastai/lib/python3.11/site-packages (4.39.1)\n",
      "Requirement already satisfied: filelock in /Users/cactus/miniconda3/envs/fastai/lib/python3.11/site-packages (from transformers) (3.13.1)\n",
      "Requirement already satisfied: huggingface-hub<1.0,>=0.19.3 in /Users/cactus/miniconda3/envs/fastai/lib/python3.11/site-packages (from transformers) (0.21.4)\n",
      "Requirement already satisfied: numpy>=1.17 in /Users/cactus/miniconda3/envs/fastai/lib/python3.11/site-packages (from transformers) (1.26.4)\n",
      "Requirement already satisfied: packaging>=20.0 in /Users/cactus/miniconda3/envs/fastai/lib/python3.11/site-packages (from transformers) (23.2)\n",
      "Requirement already satisfied: pyyaml>=5.1 in /Users/cactus/miniconda3/envs/fastai/lib/python3.11/site-packages (from transformers) (6.0.1)\n",
      "Requirement already satisfied: regex!=2019.12.17 in /Users/cactus/miniconda3/envs/fastai/lib/python3.11/site-packages (from transformers) (2023.12.25)\n",
      "Requirement already satisfied: requests in /Users/cactus/miniconda3/envs/fastai/lib/python3.11/site-packages (from transformers) (2.31.0)\n",
      "Requirement already satisfied: tokenizers<0.19,>=0.14 in /Users/cactus/miniconda3/envs/fastai/lib/python3.11/site-packages (from transformers) (0.15.2)\n",
      "Requirement already satisfied: safetensors>=0.4.1 in /Users/cactus/miniconda3/envs/fastai/lib/python3.11/site-packages (from transformers) (0.4.2)\n",
      "Requirement already satisfied: tqdm>=4.27 in /Users/cactus/miniconda3/envs/fastai/lib/python3.11/site-packages (from transformers) (4.65.0)\n",
      "Requirement already satisfied: fsspec>=2023.5.0 in /Users/cactus/miniconda3/envs/fastai/lib/python3.11/site-packages (from huggingface-hub<1.0,>=0.19.3->transformers) (2024.2.0)\n",
      "Requirement already satisfied: typing-extensions>=3.7.4.3 in /Users/cactus/miniconda3/envs/fastai/lib/python3.11/site-packages (from huggingface-hub<1.0,>=0.19.3->transformers) (4.9.0)\n",
      "Requirement already satisfied: charset-normalizer<4,>=2 in /Users/cactus/miniconda3/envs/fastai/lib/python3.11/site-packages (from requests->transformers) (2.0.4)\n",
      "Requirement already satisfied: idna<4,>=2.5 in /Users/cactus/miniconda3/envs/fastai/lib/python3.11/site-packages (from requests->transformers) (3.4)\n",
      "Requirement already satisfied: urllib3<3,>=1.21.1 in /Users/cactus/miniconda3/envs/fastai/lib/python3.11/site-packages (from requests->transformers) (2.1.0)\n",
      "Requirement already satisfied: certifi>=2017.4.17 in /Users/cactus/miniconda3/envs/fastai/lib/python3.11/site-packages (from requests->transformers) (2024.2.2)\n"
     ]
    }
   ],
   "source": [
    "!pip install transformers"
   ]
  },
  {
   "cell_type": "code",
   "execution_count": 7,
   "metadata": {},
   "outputs": [
    {
     "name": "stdout",
     "output_type": "stream",
     "text": [
      "  adding: microsoft_deberta-v3-large_pretrained/added_tokens.json (stored 0%)\n",
      "  adding: microsoft_deberta-v3-large_pretrained/config.json (deflated 53%)\n",
      "  adding: microsoft_deberta-v3-large_pretrained/model.safetensors (deflated 41%)\n",
      "  adding: microsoft_deberta-v3-large_pretrained/special_tokens_map.json (deflated 50%)\n",
      "  adding: microsoft_deberta-v3-large_pretrained/spm.model (deflated 50%)\n",
      "  adding: microsoft_deberta-v3-large_pretrained/tokenizer.json (deflated 77%)\n",
      "  adding: microsoft_deberta-v3-large_pretrained/tokenizer_config.json (deflated 73%)\n"
     ]
    }
   ],
   "source": [
    "from transformers import AutoModelForSequenceClassification,AutoTokenizer\n",
    "import warnings, logging\n",
    "warnings.simplefilter('ignore')\n",
    "logging.disable(logging.WARNING)\n",
    "\n",
    "num_labels=1\n",
    "model_nm = 'microsoft/deberta-v3-large'\n",
    "model = AutoModelForSequenceClassification.from_pretrained(model_nm, num_labels=num_labels, return_dict=True)\n",
    "tokenizer = AutoTokenizer.from_pretrained(model_nm)\n",
    "\n",
    "save_path =  model_nm.replace('/', '_') + '_pretrained'\n",
    "# !mkdir {save_path}\n",
    "\n",
    "model.save_pretrained(save_path)\n",
    "tokenizer.save_pretrained(save_path)\n",
    "\n",
    "!zip -r {save_path + '.zip'} {save_path}/*\n",
    "# removing redundant files\n",
    "!rm -rf {save_path}"
   ]
  },
  {
   "cell_type": "code",
   "execution_count": null,
   "metadata": {},
   "outputs": [],
   "source": []
  },
  {
   "cell_type": "code",
   "execution_count": null,
   "metadata": {},
   "outputs": [],
   "source": []
  }
 ],
 "metadata": {
  "kernelspec": {
   "display_name": "fastai",
   "language": "python",
   "name": "python3"
  },
  "language_info": {
   "codemirror_mode": {
    "name": "ipython",
    "version": 3
   },
   "file_extension": ".py",
   "mimetype": "text/x-python",
   "name": "python",
   "nbconvert_exporter": "python",
   "pygments_lexer": "ipython3",
   "version": "3.11.8"
  }
 },
 "nbformat": 4,
 "nbformat_minor": 2
}
