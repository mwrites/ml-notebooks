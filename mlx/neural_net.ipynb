{
 "cells": [
  {
   "cell_type": "markdown",
   "metadata": {},
   "source": [
    "# [README](https://ml-explore.github.io/mlx/build/html/python/nn.html)"
   ]
  },
  {
   "cell_type": "code",
   "execution_count": 1,
   "metadata": {},
   "outputs": [
    {
     "name": "stdout",
     "output_type": "stream",
     "text": [
      "(128, 2)\n",
      "{'weight': array([[-0.0268423, -0.0562418],\n",
      "       [0.389877, -0.680357],\n",
      "       [-0.126075, -0.485999],\n",
      "       ...,\n",
      "       [-0.693027, -0.418455],\n",
      "       [0.118114, 0.236964],\n",
      "       [0.151581, 0.423195]], dtype=float32), 'bias': array([0.51184, -0.372349, -0.506989, ..., 0.231424, -0.0480418, -0.0294991], dtype=float32)}\n"
     ]
    }
   ],
   "source": [
    "import mlx.core as mx\n",
    "import mlx.nn as nn\n",
    "\n",
    "class MLP(nn.Module):\n",
    "    def __init__(self, in_dims: int, out_dims: int):\n",
    "        super().__init__()\n",
    "\n",
    "        self.layers = [\n",
    "            nn.Linear(in_dims, 128),\n",
    "            nn.Linear(128, 128),\n",
    "            nn.Linear(128, out_dims),\n",
    "        ]\n",
    "\n",
    "    def __call__(self, x):\n",
    "        for i, l in enumerate(self.layers):\n",
    "            x = mx.maximum(x, 0) if i > 0 else x\n",
    "            x = l(x)\n",
    "        return x\n",
    "\n",
    "# The model is created with all its parameters but nothing is initialized\n",
    "# yet because MLX is lazily evaluated\n",
    "mlp = MLP(2, 10)\n",
    "\n",
    "# We can access its parameters by calling mlp.parameters()\n",
    "params = mlp.parameters()\n",
    "print(params[\"layers\"][0][\"weight\"].shape)\n",
    "\n",
    "# Printing a parameter will cause it to be evaluated and thus initialized\n",
    "print(params[\"layers\"][0])\n",
    "\n",
    "# We can also force evaluate all parameters to initialize the model\n",
    "mx.eval(mlp.parameters())\n",
    "\n",
    "# A simple loss function.\n",
    "# NOTE: It doesn't matter how it uses the mlp model. It currently captures\n",
    "#       it from the local scope. It could be a positional argument or a\n",
    "#       keyword argument.\n",
    "def l2_loss(x, y):\n",
    "    y_hat = mlp(x)\n",
    "    return (y_hat - y).square().mean()\n",
    "\n",
    "# Calling `nn.value_and_grad` instead of `mx.value_and_grad` returns the\n",
    "# gradient with respect to `mlp.trainable_parameters()`\n",
    "loss_and_grad = nn.value_and_grad(mlp, l2_loss)"
   ]
  }
 ],
 "metadata": {
  "kernelspec": {
   "display_name": "base",
   "language": "python",
   "name": "python3"
  },
  "language_info": {
   "codemirror_mode": {
    "name": "ipython",
    "version": 3
   },
   "file_extension": ".py",
   "mimetype": "text/x-python",
   "name": "python",
   "nbconvert_exporter": "python",
   "pygments_lexer": "ipython3",
   "version": "3.12.2"
  }
 },
 "nbformat": 4,
 "nbformat_minor": 2
}
