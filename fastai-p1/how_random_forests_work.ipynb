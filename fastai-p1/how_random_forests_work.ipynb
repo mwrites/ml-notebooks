{
 "cells": [
  {
   "cell_type": "code",
   "execution_count": 2,
   "metadata": {},
   "outputs": [],
   "source": [
    "# install fastkaggle if not available\n",
    "try: import fastkaggle\n",
    "except ModuleNotFoundError:\n",
    "    !pip install -Uq fastkaggle\n",
    "\n",
    "from fastkaggle import *"
   ]
  },
  {
   "cell_type": "code",
   "execution_count": 3,
   "metadata": {},
   "outputs": [],
   "source": [
    "from fastai.imports import *\n",
    "np.set_printoptions(linewidth=110)"
   ]
  },
  {
   "cell_type": "code",
   "execution_count": 4,
   "metadata": {},
   "outputs": [],
   "source": [
    "comp = 'titanic'\n",
    "path = setup_comp(comp, install='fastai \"timm>=0.6.2.dev0\"')\n",
    "\n",
    "\n",
    "df = pd.read_csv(path/'train.csv')\n",
    "tst_df = pd.read_csv(path/'test.csv')\n",
    "modes = df.mode().iloc[0]"
   ]
  },
  {
   "cell_type": "code",
   "execution_count": 5,
   "metadata": {},
   "outputs": [
    {
     "data": {
      "text/html": [
       "<div>\n",
       "<style scoped>\n",
       "    .dataframe tbody tr th:only-of-type {\n",
       "        vertical-align: middle;\n",
       "    }\n",
       "\n",
       "    .dataframe tbody tr th {\n",
       "        vertical-align: top;\n",
       "    }\n",
       "\n",
       "    .dataframe thead th {\n",
       "        text-align: right;\n",
       "    }\n",
       "</style>\n",
       "<table border=\"1\" class=\"dataframe\">\n",
       "  <thead>\n",
       "    <tr style=\"text-align: right;\">\n",
       "      <th></th>\n",
       "      <th>PassengerId</th>\n",
       "      <th>Survived</th>\n",
       "      <th>Pclass</th>\n",
       "      <th>Name</th>\n",
       "      <th>Sex</th>\n",
       "      <th>Age</th>\n",
       "      <th>SibSp</th>\n",
       "      <th>Parch</th>\n",
       "      <th>Ticket</th>\n",
       "      <th>Fare</th>\n",
       "      <th>Cabin</th>\n",
       "      <th>Embarked</th>\n",
       "    </tr>\n",
       "  </thead>\n",
       "  <tbody>\n",
       "    <tr>\n",
       "      <th>0</th>\n",
       "      <td>1</td>\n",
       "      <td>0</td>\n",
       "      <td>3</td>\n",
       "      <td>Braund, Mr. Owen Harris</td>\n",
       "      <td>male</td>\n",
       "      <td>22.0</td>\n",
       "      <td>1</td>\n",
       "      <td>0</td>\n",
       "      <td>A/5 21171</td>\n",
       "      <td>7.2500</td>\n",
       "      <td>NaN</td>\n",
       "      <td>S</td>\n",
       "    </tr>\n",
       "    <tr>\n",
       "      <th>1</th>\n",
       "      <td>2</td>\n",
       "      <td>1</td>\n",
       "      <td>1</td>\n",
       "      <td>Cumings, Mrs. John Bradley (Florence Briggs Thayer)</td>\n",
       "      <td>female</td>\n",
       "      <td>38.0</td>\n",
       "      <td>1</td>\n",
       "      <td>0</td>\n",
       "      <td>PC 17599</td>\n",
       "      <td>71.2833</td>\n",
       "      <td>C85</td>\n",
       "      <td>C</td>\n",
       "    </tr>\n",
       "    <tr>\n",
       "      <th>2</th>\n",
       "      <td>3</td>\n",
       "      <td>1</td>\n",
       "      <td>3</td>\n",
       "      <td>Heikkinen, Miss. Laina</td>\n",
       "      <td>female</td>\n",
       "      <td>26.0</td>\n",
       "      <td>0</td>\n",
       "      <td>0</td>\n",
       "      <td>STON/O2. 3101282</td>\n",
       "      <td>7.9250</td>\n",
       "      <td>NaN</td>\n",
       "      <td>S</td>\n",
       "    </tr>\n",
       "    <tr>\n",
       "      <th>3</th>\n",
       "      <td>4</td>\n",
       "      <td>1</td>\n",
       "      <td>1</td>\n",
       "      <td>Futrelle, Mrs. Jacques Heath (Lily May Peel)</td>\n",
       "      <td>female</td>\n",
       "      <td>35.0</td>\n",
       "      <td>1</td>\n",
       "      <td>0</td>\n",
       "      <td>113803</td>\n",
       "      <td>53.1000</td>\n",
       "      <td>C123</td>\n",
       "      <td>S</td>\n",
       "    </tr>\n",
       "    <tr>\n",
       "      <th>4</th>\n",
       "      <td>5</td>\n",
       "      <td>0</td>\n",
       "      <td>3</td>\n",
       "      <td>Allen, Mr. William Henry</td>\n",
       "      <td>male</td>\n",
       "      <td>35.0</td>\n",
       "      <td>0</td>\n",
       "      <td>0</td>\n",
       "      <td>373450</td>\n",
       "      <td>8.0500</td>\n",
       "      <td>NaN</td>\n",
       "      <td>S</td>\n",
       "    </tr>\n",
       "  </tbody>\n",
       "</table>\n",
       "</div>"
      ],
      "text/plain": [
       "   PassengerId  Survived  Pclass  \\\n",
       "0            1         0       3   \n",
       "1            2         1       1   \n",
       "2            3         1       3   \n",
       "3            4         1       1   \n",
       "4            5         0       3   \n",
       "\n",
       "                                                  Name     Sex   Age  SibSp  \\\n",
       "0                              Braund, Mr. Owen Harris    male  22.0      1   \n",
       "1  Cumings, Mrs. John Bradley (Florence Briggs Thayer)  female  38.0      1   \n",
       "2                               Heikkinen, Miss. Laina  female  26.0      0   \n",
       "3         Futrelle, Mrs. Jacques Heath (Lily May Peel)  female  35.0      1   \n",
       "4                             Allen, Mr. William Henry    male  35.0      0   \n",
       "\n",
       "   Parch            Ticket     Fare Cabin Embarked  \n",
       "0      0         A/5 21171   7.2500   NaN        S  \n",
       "1      0          PC 17599  71.2833   C85        C  \n",
       "2      0  STON/O2. 3101282   7.9250   NaN        S  \n",
       "3      0            113803  53.1000  C123        S  \n",
       "4      0            373450   8.0500   NaN        S  "
      ]
     },
     "execution_count": 5,
     "metadata": {},
     "output_type": "execute_result"
    }
   ],
   "source": [
    "df.head()"
   ]
  },
  {
   "cell_type": "code",
   "execution_count": 6,
   "metadata": {},
   "outputs": [
    {
     "data": {
      "text/plain": [
       "PassengerId                      1\n",
       "Survived                       0.0\n",
       "Pclass                         3.0\n",
       "Name           Abbing, Mr. Anthony\n",
       "Sex                           male\n",
       "Age                           24.0\n",
       "SibSp                          0.0\n",
       "Parch                          0.0\n",
       "Ticket                        1601\n",
       "Fare                          8.05\n",
       "Cabin                      B96 B98\n",
       "Embarked                         S\n",
       "Name: 0, dtype: object"
      ]
     },
     "execution_count": 6,
     "metadata": {},
     "output_type": "execute_result"
    }
   ],
   "source": [
    "modes"
   ]
  },
  {
   "cell_type": "code",
   "execution_count": 7,
   "metadata": {},
   "outputs": [],
   "source": [
    "def proc_data(df):\n",
    "    df['Fare'] = df.Fare.fillna(0)\n",
    "    df.fillna(modes, inplace=True)\n",
    "    df['LogFare'] = np.log1p(df['Fare'])\n",
    "    df['Embarked'] = pd.Categorical(df.Embarked)\n",
    "    df['Sex'] = pd.Categorical(df.Sex)\n",
    "\n",
    "proc_data(df)\n",
    "proc_data(tst_df)"
   ]
  },
  {
   "cell_type": "code",
   "execution_count": 8,
   "metadata": {},
   "outputs": [],
   "source": [
    "# ask yourself why we don't consider Pclass a categorical variable\n",
    "cats=[\"Sex\",\"Embarked\"]\n",
    "conts=['Age', 'SibSp', 'Parch', 'LogFare',\"Pclass\"]\n",
    "dep=\"Survived\""
   ]
  },
  {
   "cell_type": "code",
   "execution_count": 9,
   "metadata": {},
   "outputs": [
    {
     "data": {
      "text/plain": [
       "0      male\n",
       "1    female\n",
       "2    female\n",
       "3    female\n",
       "4      male\n",
       "Name: Sex, dtype: category\n",
       "Categories (2, object): ['female', 'male']"
      ]
     },
     "execution_count": 9,
     "metadata": {},
     "output_type": "execute_result"
    }
   ],
   "source": [
    "df.Sex.head()"
   ]
  },
  {
   "cell_type": "code",
   "execution_count": 10,
   "metadata": {},
   "outputs": [
    {
     "data": {
      "text/plain": [
       "0    1\n",
       "1    0\n",
       "2    0\n",
       "3    0\n",
       "4    1\n",
       "dtype: int8"
      ]
     },
     "execution_count": 10,
     "metadata": {},
     "output_type": "execute_result"
    }
   ],
   "source": [
    "df.Sex.cat.codes.head()"
   ]
  },
  {
   "cell_type": "markdown",
   "metadata": {},
   "source": [
    "# Binary Splits"
   ]
  },
  {
   "cell_type": "markdown",
   "metadata": {},
   "source": [
    "### Splitting on a Categorical Column"
   ]
  },
  {
   "cell_type": "code",
   "execution_count": 11,
   "metadata": {},
   "outputs": [
    {
     "data": {
      "image/png": "[encoded data removed]",
      "text/plain": [
       "<Figure size 1100x500 with 2 Axes>"
      ]
     },
     "metadata": {},
     "output_type": "display_data"
    }
   ],
   "source": [
    "import seaborn as sns\n",
    "\n",
    "fig,axs = plt.subplots(1,2, figsize=(11,5))\n",
    "sns.barplot(data=df, y=dep, x=\"Sex\", ax=axs[0]).set(title=\"Survival rate\")\n",
    "sns.countplot(data=df, x=\"Sex\", ax=axs[1]).set(title=\"Histogram\");"
   ]
  },
  {
   "cell_type": "code",
   "execution_count": 12,
   "metadata": {},
   "outputs": [
    {
     "data": {
      "text/html": [
       "<div>\n",
       "<style scoped>\n",
       "    .dataframe tbody tr th:only-of-type {\n",
       "        vertical-align: middle;\n",
       "    }\n",
       "\n",
       "    .dataframe tbody tr th {\n",
       "        vertical-align: top;\n",
       "    }\n",
       "\n",
       "    .dataframe thead th {\n",
       "        text-align: right;\n",
       "    }\n",
       "</style>\n",
       "<table border=\"1\" class=\"dataframe\">\n",
       "  <thead>\n",
       "    <tr style=\"text-align: right;\">\n",
       "      <th></th>\n",
       "      <th>Sex</th>\n",
       "      <th>Embarked</th>\n",
       "    </tr>\n",
       "  </thead>\n",
       "  <tbody>\n",
       "    <tr>\n",
       "      <th>298</th>\n",
       "      <td>male</td>\n",
       "      <td>S</td>\n",
       "    </tr>\n",
       "    <tr>\n",
       "      <th>884</th>\n",
       "      <td>male</td>\n",
       "      <td>S</td>\n",
       "    </tr>\n",
       "    <tr>\n",
       "      <th>247</th>\n",
       "      <td>female</td>\n",
       "      <td>S</td>\n",
       "    </tr>\n",
       "    <tr>\n",
       "      <th>478</th>\n",
       "      <td>male</td>\n",
       "      <td>S</td>\n",
       "    </tr>\n",
       "    <tr>\n",
       "      <th>305</th>\n",
       "      <td>male</td>\n",
       "      <td>S</td>\n",
       "    </tr>\n",
       "  </tbody>\n",
       "</table>\n",
       "</div>"
      ],
      "text/plain": [
       "        Sex Embarked\n",
       "298    male        S\n",
       "884    male        S\n",
       "247  female        S\n",
       "478    male        S\n",
       "305    male        S"
      ]
     },
     "execution_count": 12,
     "metadata": {},
     "output_type": "execute_result"
    }
   ],
   "source": [
    "from numpy import random\n",
    "from sklearn.model_selection import train_test_split\n",
    "\n",
    "random.seed(42)\n",
    "trn_df,val_df = train_test_split(df, test_size=0.25)\n",
    "trn_df[cats].head()"
   ]
  },
  {
   "cell_type": "code",
   "execution_count": 13,
   "metadata": {},
   "outputs": [
    {
     "data": {
      "text/html": [
       "<div>\n",
       "<style scoped>\n",
       "    .dataframe tbody tr th:only-of-type {\n",
       "        vertical-align: middle;\n",
       "    }\n",
       "\n",
       "    .dataframe tbody tr th {\n",
       "        vertical-align: top;\n",
       "    }\n",
       "\n",
       "    .dataframe thead th {\n",
       "        text-align: right;\n",
       "    }\n",
       "</style>\n",
       "<table border=\"1\" class=\"dataframe\">\n",
       "  <thead>\n",
       "    <tr style=\"text-align: right;\">\n",
       "      <th></th>\n",
       "      <th>Sex</th>\n",
       "      <th>Embarked</th>\n",
       "    </tr>\n",
       "  </thead>\n",
       "  <tbody>\n",
       "    <tr>\n",
       "      <th>298</th>\n",
       "      <td>1</td>\n",
       "      <td>2</td>\n",
       "    </tr>\n",
       "    <tr>\n",
       "      <th>884</th>\n",
       "      <td>1</td>\n",
       "      <td>2</td>\n",
       "    </tr>\n",
       "    <tr>\n",
       "      <th>247</th>\n",
       "      <td>0</td>\n",
       "      <td>2</td>\n",
       "    </tr>\n",
       "    <tr>\n",
       "      <th>478</th>\n",
       "      <td>1</td>\n",
       "      <td>2</td>\n",
       "    </tr>\n",
       "    <tr>\n",
       "      <th>305</th>\n",
       "      <td>1</td>\n",
       "      <td>2</td>\n",
       "    </tr>\n",
       "  </tbody>\n",
       "</table>\n",
       "</div>"
      ],
      "text/plain": [
       "     Sex  Embarked\n",
       "298    1         2\n",
       "884    1         2\n",
       "247    0         2\n",
       "478    1         2\n",
       "305    1         2"
      ]
     },
     "execution_count": 13,
     "metadata": {},
     "output_type": "execute_result"
    }
   ],
   "source": [
    "# transform the categories by their codes\n",
    "trn_df[cats] = trn_df[cats].apply(lambda x: x.cat.codes)\n",
    "val_df[cats] = val_df[cats].apply(lambda x: x.cat.codes)\n",
    "trn_df[cats].head()"
   ]
  },
  {
   "cell_type": "code",
   "execution_count": 14,
   "metadata": {},
   "outputs": [],
   "source": [
    "def make_variables(df):\n",
    "    x = df[cats+conts].copy()\n",
    "    return x, df[dep] if dep in df else None\n",
    "\n",
    "trn_x, trn_y = make_variables(trn_df)\n",
    "val_x, val_y = make_variables(val_df)\n"
   ]
  },
  {
   "cell_type": "code",
   "execution_count": 15,
   "metadata": {},
   "outputs": [
    {
     "data": {
      "text/plain": [
       "709     True\n",
       "439     True\n",
       "840     True\n",
       "720    False\n",
       "39     False\n",
       "       ...  \n",
       "880    False\n",
       "425     True\n",
       "101     True\n",
       "199    False\n",
       "424     True\n",
       "Name: Sex, Length: 223, dtype: bool"
      ]
     },
     "execution_count": 15,
     "metadata": {},
     "output_type": "execute_result"
    }
   ],
   "source": [
    "# split point\n",
    "# doesn't matter we don't kno what's the optimal value yet\n",
    "preds = val_x.Sex == 1\n",
    "preds"
   ]
  },
  {
   "cell_type": "code",
   "execution_count": 16,
   "metadata": {},
   "outputs": [
    {
     "data": {
      "text/plain": [
       "0.7847533632286996"
      ]
     },
     "execution_count": 16,
     "metadata": {},
     "output_type": "execute_result"
    }
   ],
   "source": [
    "from sklearn.metrics import mean_absolute_error\n",
    "\n",
    "# measure accuracy\n",
    "mean_absolute_error(val_y, preds)"
   ]
  },
  {
   "cell_type": "markdown",
   "metadata": {},
   "source": [
    "### Splitting on a Continuous column"
   ]
  },
  {
   "cell_type": "code",
   "execution_count": 17,
   "metadata": {},
   "outputs": [
    {
     "data": {
      "text/plain": [
       "<Axes: xlabel='LogFare', ylabel='Density'>"
      ]
     },
     "execution_count": 17,
     "metadata": {},
     "output_type": "execute_result"
    },
    {
     "data": {
      "image/png": "[encoded data removed]",
      "text/plain": [
       "<Figure size 1100x500 with 2 Axes>"
      ]
     },
     "metadata": {},
     "output_type": "display_data"
    }
   ],
   "source": [
    "df_fare = trn_df[trn_df.LogFare>0]\n",
    "fg,axs = plt.subplots(1, 2, figsize=(11,5))\n",
    "\n",
    "# quartiles\n",
    "sns.boxenplot(data=df_fare, x=dep, y='LogFare', ax=axs[0])\n",
    "\n",
    "# kernel density estimate \n",
    "# split the data in bins?\n",
    "sns.kdeplot(data=df_fare, x='LogFare', ax=axs[1])"
   ]
  },
  {
   "cell_type": "code",
   "execution_count": 18,
   "metadata": {},
   "outputs": [],
   "source": [
    "# split point\n",
    "# we want to split at the densiest place?\n",
    "# according to the graph the most density is aroud 2.7\n",
    "preds = val_x.LogFare>2.7"
   ]
  },
  {
   "cell_type": "code",
   "execution_count": 19,
   "metadata": {},
   "outputs": [
    {
     "data": {
      "text/plain": [
       "0.336322869955157"
      ]
     },
     "execution_count": 19,
     "metadata": {},
     "output_type": "execute_result"
    }
   ],
   "source": [
    "# measure accuracy\n",
    "mean_absolute_error(val_y, preds)"
   ]
  },
  {
   "cell_type": "markdown",
   "metadata": {},
   "source": [
    "### Finding the right threshold"
   ]
  },
  {
   "cell_type": "markdown",
   "metadata": {},
   "source": [
    "How can we quickly experiment with different threshold?"
   ]
  },
  {
   "cell_type": "markdown",
   "metadata": {},
   "source": [
    "What is a good split? We want a little tool that let us experiment\n",
    "with different split and show us the score for each"
   ]
  },
  {
   "cell_type": "markdown",
   "metadata": {},
   "source": [
    "But what's a definition of a good split?"
   ]
  },
  {
   "cell_type": "markdown",
   "metadata": {},
   "source": [
    "> Think like separating oil from water, we want oil to be on one side and water to be on another side.\n",
    "\n",
    "> And each side should be as pure as possible\n",
    "\n",
    "> This purity can be defined by similarity (in statistisque similary is measured by std deviation)\n",
    "\n",
    "> If we take a poin of referece (the avg) and we calculate the distance, we can now how similar they are from the average or how different they are"
   ]
  },
  {
   "cell_type": "code",
   "execution_count": 20,
   "metadata": {},
   "outputs": [],
   "source": [
    "def similarity_score(group, y):\n",
    "    total = group.sum()\n",
    "    if total <= 1: return 0\n",
    "    # why * total?\n",
    "    return y[group].std() * total\n",
    "\n",
    "def similartiy_score_for_split(col, y, threshold):\n",
    "    left_half = col <= threshold\n",
    "    left_score = similarity_score(left_half, y)\n",
    "    right_score = similarity_score(~left_half, y)\n",
    "    # take the average\n",
    "    return (left_score + right_score) / len(y)"
   ]
  },
  {
   "cell_type": "code",
   "execution_count": 21,
   "metadata": {},
   "outputs": [
    {
     "data": {
      "text/plain": [
       "0.4078753098206398"
      ]
     },
     "execution_count": 21,
     "metadata": {},
     "output_type": "execute_result"
    }
   ],
   "source": [
    "# checking the purity via standard deviation\n",
    "# lower is better\n",
    "similartiy_score_for_split(trn_x[\"Sex\"], trn_y, 0.5)"
   ]
  },
  {
   "cell_type": "code",
   "execution_count": 22,
   "metadata": {},
   "outputs": [
    {
     "data": {
      "text/plain": [
       "0.4718087395209973"
      ]
     },
     "execution_count": 22,
     "metadata": {},
     "output_type": "execute_result"
    }
   ],
   "source": [
    "similartiy_score_for_split(trn_x[\"LogFare\"], trn_y, 2.7)"
   ]
  },
  {
   "cell_type": "code",
   "execution_count": 23,
   "metadata": {},
   "outputs": [
    {
     "data": {
      "text/plain": [
       "(0.3828350034484158, 0.3064437162277842)"
      ]
     },
     "execution_count": 23,
     "metadata": {},
     "output_type": "execute_result"
    }
   ],
   "source": [
    "# use by scikitlearn to create random forests\n",
    "# similar purpose as similartiy_score_for_split\n",
    "# but different usage?\n",
    "def gini(cond):\n",
    "    act = df.loc[cond, dep]\n",
    "    return 1 - act.mean()**2 - (1-act).mean()**2\n",
    "\n",
    "gini(df.Sex=='female'), gini(df.Sex=='male')"
   ]
  },
  {
   "cell_type": "code",
   "execution_count": 24,
   "metadata": {},
   "outputs": [
    {
     "data": {
      "application/vnd.jupyter.widget-view+json": {
       "model_id": "3bc24e7e544c472bb47bd284379e9e93",
       "version_major": 2,
       "version_minor": 0
      },
      "text/plain": [
       "interactive(children=(Dropdown(description='nm', options=('Age', 'SibSp', 'Parch', 'LogFare', 'Pclass'), value…"
      ]
     },
     "metadata": {},
     "output_type": "display_data"
    }
   ],
   "source": [
    "def iscore(nm, split):\n",
    "    col = trn_x[nm]\n",
    "    return similartiy_score_for_split(col, trn_y, split)\n",
    "\n",
    "from ipywidgets import interact\n",
    "interact(nm=conts, split=15.5)(iscore);"
   ]
  },
  {
   "cell_type": "code",
   "execution_count": 25,
   "metadata": {},
   "outputs": [
    {
     "data": {
      "application/vnd.jupyter.widget-view+json": {
       "model_id": "bb49091b17a2482580d76434f7873fb6",
       "version_major": 2,
       "version_minor": 0
      },
      "text/plain": [
       "interactive(children=(Dropdown(description='nm', options=('Sex', 'Embarked'), value='Sex'), IntSlider(value=2,…"
      ]
     },
     "metadata": {},
     "output_type": "display_data"
    }
   ],
   "source": [
    "interact(nm=cats, split=2)(iscore);"
   ]
  },
  {
   "cell_type": "markdown",
   "metadata": {},
   "source": [
    "It's better than hardcoding a value, but we can automate this process further"
   ]
  },
  {
   "cell_type": "code",
   "execution_count": 26,
   "metadata": {},
   "outputs": [
    {
     "data": {
      "text/plain": [
       "array([ 0.42,  0.67,  0.75,  0.83,  0.92,  1.  ,  2.  ,  3.  ,  4.  ,  5.  ,  6.  ,  7.  ,  8.  ,  9.  ,\n",
       "       10.  , 11.  , 12.  , 13.  , 14.  , 14.5 , 15.  , 16.  , 17.  , 18.  , 19.  , 20.  , 21.  , 22.  ,\n",
       "       23.  , 24.  , 24.5 , 25.  , 26.  , 27.  , 28.  , 28.5 , 29.  , 30.  , 31.  , 32.  , 32.5 , 33.  ,\n",
       "       34.  , 34.5 , 35.  , 36.  , 36.5 , 37.  , 38.  , 39.  , 40.  , 40.5 , 41.  , 42.  , 43.  , 44.  ,\n",
       "       45.  , 45.5 , 46.  , 47.  , 48.  , 49.  , 50.  , 51.  , 52.  , 53.  , 54.  , 55.  , 55.5 , 56.  ,\n",
       "       57.  , 58.  , 59.  , 60.  , 61.  , 62.  , 64.  , 65.  , 70.  , 70.5 , 74.  , 80.  ])"
      ]
     },
     "execution_count": 26,
     "metadata": {},
     "output_type": "execute_result"
    }
   ],
   "source": [
    "# make a list of all possible split points (so all possible values)\n",
    "nm = \"Age\"\n",
    "col = trn_x[nm]\n",
    "unq = col.unique()\n",
    "unq.sort()\n",
    "unq"
   ]
  },
  {
   "cell_type": "code",
   "execution_count": 27,
   "metadata": {},
   "outputs": [
    {
     "data": {
      "text/plain": [
       "6.0"
      ]
     },
     "execution_count": 27,
     "metadata": {},
     "output_type": "execute_result"
    }
   ],
   "source": [
    "# run similarity score with all the possible thresolds (values)\n",
    "# and get that minimum std deviation (lower is better)\n",
    "scores = np.array([similartiy_score_for_split(col, trn_y, o) for o in unq if not np.isnan(o)])\n",
    "best_similarity_score = unq[scores.argmin()]\n",
    "best_similarity_score\n"
   ]
  },
  {
   "cell_type": "code",
   "execution_count": 28,
   "metadata": {},
   "outputs": [
    {
     "data": {
      "text/plain": [
       "(6.0, 0.47831671750899085)"
      ]
     },
     "execution_count": 28,
     "metadata": {},
     "output_type": "execute_result"
    }
   ],
   "source": [
    "def find_best_split_for_best_similarity_for_column(df, nm):\n",
    "    col,y = df[nm],df[dep]\n",
    "    unq = col.dropna().unique()\n",
    "    scores = np.array([similartiy_score_for_split(col, y, o) for o in unq if not np.isnan(o)])\n",
    "    idx = scores.argmin()\n",
    "    return unq[idx],scores[idx]\n",
    "\n",
    "find_best_split_for_best_similarity_for_column(trn_df, \"Age\")"
   ]
  },
  {
   "cell_type": "code",
   "execution_count": 29,
   "metadata": {},
   "outputs": [
    {
     "data": {
      "text/plain": [
       "[('Sex', (0, 0.4078753098206398)),\n",
       " ('Pclass', (2, 0.46048261885806663)),\n",
       " ('LogFare', (2.4390808375825834, 0.4620823937736595)),\n",
       " ('Age', (6.0, 0.47831671750899085)),\n",
       " ('SibSp', (4, 0.4783740258817423)),\n",
       " ('Embarked', (0, 0.47883342573147897)),\n",
       " ('Parch', (0, 0.4805296527841601))]"
      ]
     },
     "execution_count": 29,
     "metadata": {},
     "output_type": "execute_result"
    }
   ],
   "source": [
    "# now we can do that for all the columns\n",
    "# and we sort by lowest std deviation (best similarity)\n",
    "\n",
    "def find_splits_for_columns(cols, trn_df):\n",
    "    splits = {o:find_best_split_for_best_similarity_for_column(trn_df, o) for o in cols}\n",
    "    columns_with_best_split = sorted(splits.items(), key=lambda x: x[1][1])\n",
    "    return columns_with_best_split\n",
    "\n",
    "cols = cats+conts\n",
    "find_splits_for_columns(cols, trn_df)"
   ]
  },
  {
   "cell_type": "markdown",
   "metadata": {},
   "source": [
    "According to this, Sex<=0 is the best split we can use."
   ]
  },
  {
   "cell_type": "markdown",
   "metadata": {},
   "source": [
    "We can now use that value to build a model that split sex column at 0\n",
    "And verify the accuracy"
   ]
  },
  {
   "cell_type": "code",
   "execution_count": 30,
   "metadata": {},
   "outputs": [
    {
     "data": {
      "text/plain": [
       "0.21524663677130046"
      ]
     },
     "execution_count": 30,
     "metadata": {},
     "output_type": "execute_result"
    }
   ],
   "source": [
    "preds = val_x.Sex == 0\n",
    "mean_absolute_error(val_y, preds)"
   ]
  },
  {
   "cell_type": "markdown",
   "metadata": {},
   "source": [
    "So that's a OneR!"
   ]
  },
  {
   "cell_type": "markdown",
   "metadata": {},
   "source": [
    "# From OneR to TwoR"
   ]
  },
  {
   "cell_type": "markdown",
   "metadata": {},
   "source": [
    "Well we take the OneR and we divide even more\n",
    "Meaning for each groups Male and Female, we find subgroups around using other feature"
   ]
  },
  {
   "cell_type": "code",
   "execution_count": 31,
   "metadata": {},
   "outputs": [],
   "source": [
    "# create two groups according to the OneR\n",
    "ismale = trn_df.Sex==1\n",
    "males,females = trn_df[ismale],trn_df[~ismale]\n"
   ]
  },
  {
   "cell_type": "code",
   "execution_count": 32,
   "metadata": {},
   "outputs": [],
   "source": [
    "# find the second column to split within the first group\n",
    "# don't forget to remove this since it has been used\n",
    "cols.remove('Sex')\n"
   ]
  },
  {
   "cell_type": "markdown",
   "metadata": {},
   "source": []
  },
  {
   "cell_type": "code",
   "execution_count": 33,
   "metadata": {},
   "outputs": [
    {
     "data": {
      "text/plain": [
       "[('Age', (6.0, 0.37398283710105873)),\n",
       " ('LogFare', (2.803360380906535, 0.38048562317581447)),\n",
       " ('Pclass', (1, 0.3815544200436083)),\n",
       " ('Parch', (0, 0.3874704821461953)),\n",
       " ('Embarked', (0, 0.387558187041091)),\n",
       " ('SibSp', (4, 0.38758642275862637))]"
      ]
     },
     "execution_count": 33,
     "metadata": {},
     "output_type": "execute_result"
    }
   ],
   "source": [
    "find_splits_for_columns(cols, males)"
   ]
  },
  {
   "cell_type": "code",
   "execution_count": 34,
   "metadata": {},
   "outputs": [
    {
     "data": {
      "text/plain": [
       "[('Pclass', (2, 0.3335388911567602)),\n",
       " ('LogFare', (4.256321678298823, 0.413505983329114)),\n",
       " ('Parch', (3, 0.4193314500446157)),\n",
       " ('Age', (50.0, 0.4225927658431646)),\n",
       " ('SibSp', (4, 0.42319212059713585)),\n",
       " ('Embarked', (0, 0.4295252982857326))]"
      ]
     },
     "execution_count": 34,
     "metadata": {},
     "output_type": "execute_result"
    }
   ],
   "source": [
    "find_splits_for_columns(cols, females)"
   ]
  },
  {
   "cell_type": "markdown",
   "metadata": {},
   "source": [
    "The next best splits:\n",
    "- for males is Age <= 6\n",
    "- for females is Pclass <= 2"
   ]
  },
  {
   "cell_type": "markdown",
   "metadata": {},
   "source": [
    "# Decision Tree"
   ]
  },
  {
   "cell_type": "code",
   "execution_count": 35,
   "metadata": {},
   "outputs": [],
   "source": [
    "from sklearn.tree import DecisionTreeClassifier, export_graphviz\n",
    "\n",
    "m = DecisionTreeClassifier(max_leaf_nodes=4).fit(trn_x, trn_y);"
   ]
  },
  {
   "cell_type": "code",
   "execution_count": 36,
   "metadata": {},
   "outputs": [],
   "source": [
    "import graphviz\n",
    "\n",
    "def draw_tree(t, df, size=10, ratio=0.6, precision=2, **kwargs):\n",
    "    s=export_graphviz(t, out_file=None, feature_names=df.columns, filled=True, rounded=True,\n",
    "                      special_characters=True, rotate=False, precision=precision, **kwargs)\n",
    "    return graphviz.Source(re.sub('Tree {', f'Tree {{ size={size}; ratio={ratio}', s))"
   ]
  },
  {
   "cell_type": "code",
   "execution_count": 37,
   "metadata": {},
   "outputs": [
    {
     "data": {
      "image/svg+xml": [
       "<?xml version=\"1.0\" encoding=\"UTF-8\" standalone=\"no\"?>\n",
       "<!DOCTYPE svg PUBLIC \"-//W3C//DTD SVG 1.1//EN\"\n",
       " \"http://www.w3.org/Graphics/SVG/1.1/DTD/svg11.dtd\">\n",
       "<!-- Generated by graphviz version 9.0.0 (20230911.1827)\n",
       " -->\n",
       "<!-- Title: Tree Pages: 1 -->\n",
       "<svg width=\"504pt\" height=\"305pt\"\n",
       " viewBox=\"0.00 0.00 503.75 305.00\" xmlns=\"http://www.w3.org/2000/svg\" xmlns:xlink=\"http://www.w3.org/1999/xlink\">\n",
       "<g id=\"graph0\" class=\"graph\" transform=\"scale(1 1) rotate(0) translate(4 301)\">\n",
       "<title>Tree</title>\n",
       "<polygon fill=\"white\" stroke=\"none\" points=\"-4,4 -4,-301 499.75,-301 499.75,4 -4,4\"/>\n",
       "<!-- 0 -->\n",
       "<g id=\"node1\" class=\"node\">\n",
       "<title>0</title>\n",
       "<path fill=\"#f5ceb2\" stroke=\"black\" d=\"M295.5,-292C295.5,-292 195.5,-292 195.5,-292 189.5,-292 183.5,-286 183.5,-280 183.5,-280 183.5,-236 183.5,-236 183.5,-230 189.5,-224 195.5,-224 195.5,-224 295.5,-224 295.5,-224 301.5,-224 307.5,-230 307.5,-236 307.5,-236 307.5,-280 307.5,-280 307.5,-286 301.5,-292 295.5,-292\"/>\n",
       "<text text-anchor=\"start\" x=\"217\" y=\"-274.7\" font-family=\"Helvetica,sans-Serif\" font-size=\"14.00\">Sex ≤ 0.5</text>\n",
       "<text text-anchor=\"start\" x=\"214\" y=\"-259.7\" font-family=\"Helvetica,sans-Serif\" font-size=\"14.00\">gini = 0.47</text>\n",
       "<text text-anchor=\"start\" x=\"200.88\" y=\"-244.7\" font-family=\"Helvetica,sans-Serif\" font-size=\"14.00\">samples = 668</text>\n",
       "<text text-anchor=\"start\" x=\"191.5\" y=\"-229.7\" font-family=\"Helvetica,sans-Serif\" font-size=\"14.00\">value = [415, 253]</text>\n",
       "</g>\n",
       "<!-- 1 -->\n",
       "<g id=\"node2\" class=\"node\">\n",
       "<title>1</title>\n",
       "<path fill=\"#7ebfee\" stroke=\"black\" d=\"M224.75,-174C224.75,-174 132.25,-174 132.25,-174 126.25,-174 120.25,-168 120.25,-162 120.25,-162 120.25,-118 120.25,-118 120.25,-112 126.25,-106 132.25,-106 132.25,-106 224.75,-106 224.75,-106 230.75,-106 236.75,-112 236.75,-118 236.75,-118 236.75,-162 236.75,-162 236.75,-168 230.75,-174 224.75,-174\"/>\n",
       "<text text-anchor=\"start\" x=\"141.75\" y=\"-156.7\" font-family=\"Helvetica,sans-Serif\" font-size=\"14.00\">Pclass ≤ 2.5</text>\n",
       "<text text-anchor=\"start\" x=\"147\" y=\"-141.7\" font-family=\"Helvetica,sans-Serif\" font-size=\"14.00\">gini = 0.38</text>\n",
       "<text text-anchor=\"start\" x=\"133.88\" y=\"-126.7\" font-family=\"Helvetica,sans-Serif\" font-size=\"14.00\">samples = 229</text>\n",
       "<text text-anchor=\"start\" x=\"128.25\" y=\"-111.7\" font-family=\"Helvetica,sans-Serif\" font-size=\"14.00\">value = [59, 170]</text>\n",
       "</g>\n",
       "<!-- 0&#45;&gt;1 -->\n",
       "<g id=\"edge1\" class=\"edge\">\n",
       "<title>0&#45;&gt;1</title>\n",
       "<path fill=\"none\" stroke=\"black\" d=\"M226.3,-223.76C219.15,-211.38 210.93,-197.15 203.35,-184.02\"/>\n",
       "<polygon fill=\"black\" stroke=\"black\" points=\"206.49,-182.47 198.46,-175.56 200.43,-185.97 206.49,-182.47\"/>\n",
       "<text text-anchor=\"middle\" x=\"191.24\" y=\"-192.6\" font-family=\"Helvetica,sans-Serif\" font-size=\"14.00\">True</text>\n",
       "</g>\n",
       "<!-- 2 -->\n",
       "<g id=\"node5\" class=\"node\">\n",
       "<title>2</title>\n",
       "<path fill=\"#eb9e67\" stroke=\"black\" d=\"M359.75,-174C359.75,-174 267.25,-174 267.25,-174 261.25,-174 255.25,-168 255.25,-162 255.25,-162 255.25,-118 255.25,-118 255.25,-112 261.25,-106 267.25,-106 267.25,-106 359.75,-106 359.75,-106 365.75,-106 371.75,-112 371.75,-118 371.75,-118 371.75,-162 371.75,-162 371.75,-168 365.75,-174 359.75,-174\"/>\n",
       "<text text-anchor=\"start\" x=\"284.62\" y=\"-156.7\" font-family=\"Helvetica,sans-Serif\" font-size=\"14.00\">Age ≤ 6.5</text>\n",
       "<text text-anchor=\"start\" x=\"282\" y=\"-141.7\" font-family=\"Helvetica,sans-Serif\" font-size=\"14.00\">gini = 0.31</text>\n",
       "<text text-anchor=\"start\" x=\"268.88\" y=\"-126.7\" font-family=\"Helvetica,sans-Serif\" font-size=\"14.00\">samples = 439</text>\n",
       "<text text-anchor=\"start\" x=\"263.25\" y=\"-111.7\" font-family=\"Helvetica,sans-Serif\" font-size=\"14.00\">value = [356, 83]</text>\n",
       "</g>\n",
       "<!-- 0&#45;&gt;2 -->\n",
       "<g id=\"edge4\" class=\"edge\">\n",
       "<title>0&#45;&gt;2</title>\n",
       "<path fill=\"none\" stroke=\"black\" d=\"M264.99,-223.76C272.24,-211.38 280.58,-197.15 288.28,-184.02\"/>\n",
       "<polygon fill=\"black\" stroke=\"black\" points=\"291.21,-185.95 293.25,-175.55 285.17,-182.41 291.21,-185.95\"/>\n",
       "<text text-anchor=\"middle\" x=\"300.32\" y=\"-192.64\" font-family=\"Helvetica,sans-Serif\" font-size=\"14.00\">False</text>\n",
       "</g>\n",
       "<!-- 3 -->\n",
       "<g id=\"node3\" class=\"node\">\n",
       "<title>3</title>\n",
       "<path fill=\"#40a0e6\" stroke=\"black\" d=\"M97,-56.5C97,-56.5 12,-56.5 12,-56.5 6,-56.5 0,-50.5 0,-44.5 0,-44.5 0,-15.5 0,-15.5 0,-9.5 6,-3.5 12,-3.5 12,-3.5 97,-3.5 97,-3.5 103,-3.5 109,-9.5 109,-15.5 109,-15.5 109,-44.5 109,-44.5 109,-50.5 103,-56.5 97,-56.5\"/>\n",
       "<text text-anchor=\"start\" x=\"23\" y=\"-39.2\" font-family=\"Helvetica,sans-Serif\" font-size=\"14.00\">gini = 0.06</text>\n",
       "<text text-anchor=\"start\" x=\"9.88\" y=\"-24.2\" font-family=\"Helvetica,sans-Serif\" font-size=\"14.00\">samples = 120</text>\n",
       "<text text-anchor=\"start\" x=\"8\" y=\"-9.2\" font-family=\"Helvetica,sans-Serif\" font-size=\"14.00\">value = [4, 116]</text>\n",
       "</g>\n",
       "<!-- 1&#45;&gt;3 -->\n",
       "<g id=\"edge2\" class=\"edge\">\n",
       "<title>1&#45;&gt;3</title>\n",
       "<path fill=\"none\" stroke=\"black\" d=\"M140.28,-105.72C125.17,-92.56 107.84,-77.46 92.73,-64.3\"/>\n",
       "<polygon fill=\"black\" stroke=\"black\" points=\"95.11,-61.73 85.27,-57.8 90.51,-67 95.11,-61.73\"/>\n",
       "</g>\n",
       "<!-- 4 -->\n",
       "<g id=\"node4\" class=\"node\">\n",
       "<title>4</title>\n",
       "<path fill=\"#fffdfb\" stroke=\"black\" d=\"M224,-56.5C224,-56.5 139,-56.5 139,-56.5 133,-56.5 127,-50.5 127,-44.5 127,-44.5 127,-15.5 127,-15.5 127,-9.5 133,-3.5 139,-3.5 139,-3.5 224,-3.5 224,-3.5 230,-3.5 236,-9.5 236,-15.5 236,-15.5 236,-44.5 236,-44.5 236,-50.5 230,-56.5 224,-56.5\"/>\n",
       "<text text-anchor=\"start\" x=\"153.75\" y=\"-39.2\" font-family=\"Helvetica,sans-Serif\" font-size=\"14.00\">gini = 0.5</text>\n",
       "<text text-anchor=\"start\" x=\"136.88\" y=\"-24.2\" font-family=\"Helvetica,sans-Serif\" font-size=\"14.00\">samples = 109</text>\n",
       "<text text-anchor=\"start\" x=\"135\" y=\"-9.2\" font-family=\"Helvetica,sans-Serif\" font-size=\"14.00\">value = [55, 54]</text>\n",
       "</g>\n",
       "<!-- 1&#45;&gt;4 -->\n",
       "<g id=\"edge3\" class=\"edge\">\n",
       "<title>1&#45;&gt;4</title>\n",
       "<path fill=\"none\" stroke=\"black\" d=\"M179.42,-105.72C179.76,-93.79 180.13,-80.27 180.47,-68.04\"/>\n",
       "<polygon fill=\"black\" stroke=\"black\" points=\"183.96,-68.41 180.74,-58.32 176.96,-68.22 183.96,-68.41\"/>\n",
       "</g>\n",
       "<!-- 5 -->\n",
       "<g id=\"node6\" class=\"node\">\n",
       "<title>5</title>\n",
       "<path fill=\"#88c4ef\" stroke=\"black\" d=\"M349.25,-56.5C349.25,-56.5 271.75,-56.5 271.75,-56.5 265.75,-56.5 259.75,-50.5 259.75,-44.5 259.75,-44.5 259.75,-15.5 259.75,-15.5 259.75,-9.5 265.75,-3.5 271.75,-3.5 271.75,-3.5 349.25,-3.5 349.25,-3.5 355.25,-3.5 361.25,-9.5 361.25,-15.5 361.25,-15.5 361.25,-44.5 361.25,-44.5 361.25,-50.5 355.25,-56.5 349.25,-56.5\"/>\n",
       "<text text-anchor=\"start\" x=\"279\" y=\"-39.2\" font-family=\"Helvetica,sans-Serif\" font-size=\"14.00\">gini = 0.41</text>\n",
       "<text text-anchor=\"start\" x=\"269.62\" y=\"-24.2\" font-family=\"Helvetica,sans-Serif\" font-size=\"14.00\">samples = 21</text>\n",
       "<text text-anchor=\"start\" x=\"267.75\" y=\"-9.2\" font-family=\"Helvetica,sans-Serif\" font-size=\"14.00\">value = [6, 15]</text>\n",
       "</g>\n",
       "<!-- 2&#45;&gt;5 -->\n",
       "<g id=\"edge5\" class=\"edge\">\n",
       "<title>2&#45;&gt;5</title>\n",
       "<path fill=\"none\" stroke=\"black\" d=\"M312.58,-105.72C312.24,-93.79 311.87,-80.27 311.53,-68.04\"/>\n",
       "<polygon fill=\"black\" stroke=\"black\" points=\"315.04,-68.22 311.26,-58.32 308.04,-68.41 315.04,-68.22\"/>\n",
       "</g>\n",
       "<!-- 6 -->\n",
       "<g id=\"node7\" class=\"node\">\n",
       "<title>6</title>\n",
       "<path fill=\"#ea995f\" stroke=\"black\" d=\"M483.75,-56.5C483.75,-56.5 391.25,-56.5 391.25,-56.5 385.25,-56.5 379.25,-50.5 379.25,-44.5 379.25,-44.5 379.25,-15.5 379.25,-15.5 379.25,-9.5 385.25,-3.5 391.25,-3.5 391.25,-3.5 483.75,-3.5 483.75,-3.5 489.75,-3.5 495.75,-9.5 495.75,-15.5 495.75,-15.5 495.75,-44.5 495.75,-44.5 495.75,-50.5 489.75,-56.5 483.75,-56.5\"/>\n",
       "<text text-anchor=\"start\" x=\"406\" y=\"-39.2\" font-family=\"Helvetica,sans-Serif\" font-size=\"14.00\">gini = 0.27</text>\n",
       "<text text-anchor=\"start\" x=\"392.88\" y=\"-24.2\" font-family=\"Helvetica,sans-Serif\" font-size=\"14.00\">samples = 418</text>\n",
       "<text text-anchor=\"start\" x=\"387.25\" y=\"-9.2\" font-family=\"Helvetica,sans-Serif\" font-size=\"14.00\">value = [350, 68]</text>\n",
       "</g>\n",
       "<!-- 2&#45;&gt;6 -->\n",
       "<g id=\"edge6\" class=\"edge\">\n",
       "<title>2&#45;&gt;6</title>\n",
       "<path fill=\"none\" stroke=\"black\" d=\"M351.72,-105.72C366.83,-92.56 384.16,-77.46 399.27,-64.3\"/>\n",
       "<polygon fill=\"black\" stroke=\"black\" points=\"401.49,-67 406.73,-57.8 396.89,-61.73 401.49,-67\"/>\n",
       "</g>\n",
       "</g>\n",
       "</svg>\n"
      ],
      "text/plain": [
       "<graphviz.sources.Source at 0x286a48b90>"
      ]
     },
     "execution_count": 37,
     "metadata": {},
     "output_type": "execute_result"
    }
   ],
   "source": [
    "draw_tree(m, trn_x, size=10)"
   ]
  },
  {
   "cell_type": "markdown",
   "metadata": {},
   "source": []
  },
  {
   "cell_type": "code",
   "execution_count": 38,
   "metadata": {},
   "outputs": [
    {
     "data": {
      "text/plain": [
       "0.2242152466367713"
      ]
     },
     "execution_count": 38,
     "metadata": {},
     "output_type": "execute_result"
    }
   ],
   "source": [
    "# let's check the accuracy of this model\n",
    "# it's a bit worse, but let's try again with a bigger tree, more leaves\n",
    "mean_absolute_error(val_y, m.predict(val_x))\n"
   ]
  },
  {
   "cell_type": "code",
   "execution_count": 39,
   "metadata": {},
   "outputs": [
    {
     "data": {
      "image/svg+xml": [
       "<?xml version=\"1.0\" encoding=\"UTF-8\" standalone=\"no\"?>\n",
       "<!DOCTYPE svg PUBLIC \"-//W3C//DTD SVG 1.1//EN\"\n",
       " \"http://www.w3.org/Graphics/SVG/1.1/DTD/svg11.dtd\">\n",
       "<!-- Generated by graphviz version 9.0.0 (20230911.1827)\n",
       " -->\n",
       "<!-- Title: Tree Pages: 1 -->\n",
       "<svg width=\"864pt\" height=\"521pt\"\n",
       " viewBox=\"0.00 0.00 864.00 520.70\" xmlns=\"http://www.w3.org/2000/svg\" xmlns:xlink=\"http://www.w3.org/1999/xlink\">\n",
       "<g id=\"graph0\" class=\"graph\" transform=\"scale(0.76015 0.76015) rotate(0) translate(4 681)\">\n",
       "<title>Tree</title>\n",
       "<polygon fill=\"white\" stroke=\"none\" points=\"-4,4 -4,-681 1132.62,-681 1132.62,4 -4,4\"/>\n",
       "<!-- 0 -->\n",
       "<g id=\"node1\" class=\"node\">\n",
       "<title>0</title>\n",
       "<path fill=\"#f5ceb2\" stroke=\"black\" d=\"M595.83,-677C595.83,-677 495.83,-677 495.83,-677 489.83,-677 483.83,-671 483.83,-665 483.83,-665 483.83,-621 483.83,-621 483.83,-615 489.83,-609 495.83,-609 495.83,-609 595.83,-609 595.83,-609 601.83,-609 607.83,-615 607.83,-621 607.83,-621 607.83,-665 607.83,-665 607.83,-671 601.83,-677 595.83,-677\"/>\n",
       "<text text-anchor=\"start\" x=\"517.33\" y=\"-659.7\" font-family=\"Helvetica,sans-Serif\" font-size=\"14.00\">Sex ≤ 0.5</text>\n",
       "<text text-anchor=\"start\" x=\"514.33\" y=\"-644.7\" font-family=\"Helvetica,sans-Serif\" font-size=\"14.00\">gini = 0.47</text>\n",
       "<text text-anchor=\"start\" x=\"501.2\" y=\"-629.7\" font-family=\"Helvetica,sans-Serif\" font-size=\"14.00\">samples = 668</text>\n",
       "<text text-anchor=\"start\" x=\"491.83\" y=\"-614.7\" font-family=\"Helvetica,sans-Serif\" font-size=\"14.00\">value = [415, 253]</text>\n",
       "</g>\n",
       "<!-- 1 -->\n",
       "<g id=\"node2\" class=\"node\">\n",
       "<title>1</title>\n",
       "<path fill=\"#7ebfee\" stroke=\"black\" d=\"M450.08,-573C450.08,-573 357.58,-573 357.58,-573 351.58,-573 345.58,-567 345.58,-561 345.58,-561 345.58,-517 345.58,-517 345.58,-511 351.58,-505 357.58,-505 357.58,-505 450.08,-505 450.08,-505 456.08,-505 462.08,-511 462.08,-517 462.08,-517 462.08,-561 462.08,-561 462.08,-567 456.08,-573 450.08,-573\"/>\n",
       "<text text-anchor=\"start\" x=\"367.08\" y=\"-555.7\" font-family=\"Helvetica,sans-Serif\" font-size=\"14.00\">Pclass ≤ 2.5</text>\n",
       "<text text-anchor=\"start\" x=\"372.33\" y=\"-540.7\" font-family=\"Helvetica,sans-Serif\" font-size=\"14.00\">gini = 0.38</text>\n",
       "<text text-anchor=\"start\" x=\"359.2\" y=\"-525.7\" font-family=\"Helvetica,sans-Serif\" font-size=\"14.00\">samples = 229</text>\n",
       "<text text-anchor=\"start\" x=\"353.58\" y=\"-510.7\" font-family=\"Helvetica,sans-Serif\" font-size=\"14.00\">value = [59, 170]</text>\n",
       "</g>\n",
       "<!-- 0&#45;&gt;1 -->\n",
       "<g id=\"edge1\" class=\"edge\">\n",
       "<title>0&#45;&gt;1</title>\n",
       "<path fill=\"none\" stroke=\"black\" d=\"M499.33,-608.6C486.58,-599.44 472.63,-589.42 459.43,-579.94\"/>\n",
       "<polygon fill=\"black\" stroke=\"black\" points=\"461.82,-577.35 451.66,-574.36 457.74,-583.03 461.82,-577.35\"/>\n",
       "<text text-anchor=\"middle\" x=\"454.47\" y=\"-592.34\" font-family=\"Helvetica,sans-Serif\" font-size=\"14.00\">True</text>\n",
       "</g>\n",
       "<!-- 8 -->\n",
       "<g id=\"node9\" class=\"node\">\n",
       "<title>8</title>\n",
       "<path fill=\"#eb9e67\" stroke=\"black\" d=\"M744.08,-573C744.08,-573 651.58,-573 651.58,-573 645.58,-573 639.58,-567 639.58,-561 639.58,-561 639.58,-517 639.58,-517 639.58,-511 645.58,-505 651.58,-505 651.58,-505 744.08,-505 744.08,-505 750.08,-505 756.08,-511 756.08,-517 756.08,-517 756.08,-561 756.08,-561 756.08,-567 750.08,-573 744.08,-573\"/>\n",
       "<text text-anchor=\"start\" x=\"652.08\" y=\"-555.7\" font-family=\"Helvetica,sans-Serif\" font-size=\"14.00\">LogFare ≤ 3.31</text>\n",
       "<text text-anchor=\"start\" x=\"666.33\" y=\"-540.7\" font-family=\"Helvetica,sans-Serif\" font-size=\"14.00\">gini = 0.31</text>\n",
       "<text text-anchor=\"start\" x=\"653.2\" y=\"-525.7\" font-family=\"Helvetica,sans-Serif\" font-size=\"14.00\">samples = 439</text>\n",
       "<text text-anchor=\"start\" x=\"647.58\" y=\"-510.7\" font-family=\"Helvetica,sans-Serif\" font-size=\"14.00\">value = [356, 83]</text>\n",
       "</g>\n",
       "<!-- 0&#45;&gt;8 -->\n",
       "<g id=\"edge8\" class=\"edge\">\n",
       "<title>0&#45;&gt;8</title>\n",
       "<path fill=\"none\" stroke=\"black\" d=\"M595.6,-608.6C609.38,-599.36 624.47,-589.23 638.72,-579.66\"/>\n",
       "<polygon fill=\"black\" stroke=\"black\" points=\"640.33,-582.8 646.69,-574.32 636.43,-576.98 640.33,-582.8\"/>\n",
       "<text text-anchor=\"middle\" x=\"643.12\" y=\"-592.2\" font-family=\"Helvetica,sans-Serif\" font-size=\"14.00\">False</text>\n",
       "</g>\n",
       "<!-- 2 -->\n",
       "<g id=\"node3\" class=\"node\">\n",
       "<title>2</title>\n",
       "<path fill=\"#40a0e6\" stroke=\"black\" d=\"M237.33,-469C237.33,-469 152.33,-469 152.33,-469 146.33,-469 140.33,-463 140.33,-457 140.33,-457 140.33,-413 140.33,-413 140.33,-407 146.33,-401 152.33,-401 152.33,-401 237.33,-401 237.33,-401 243.33,-401 249.33,-407 249.33,-413 249.33,-413 249.33,-457 249.33,-457 249.33,-463 243.33,-469 237.33,-469\"/>\n",
       "<text text-anchor=\"start\" x=\"159.95\" y=\"-451.7\" font-family=\"Helvetica,sans-Serif\" font-size=\"14.00\">SibSp ≤ 0.5</text>\n",
       "<text text-anchor=\"start\" x=\"163.33\" y=\"-436.7\" font-family=\"Helvetica,sans-Serif\" font-size=\"14.00\">gini = 0.06</text>\n",
       "<text text-anchor=\"start\" x=\"150.2\" y=\"-421.7\" font-family=\"Helvetica,sans-Serif\" font-size=\"14.00\">samples = 120</text>\n",
       "<text text-anchor=\"start\" x=\"148.33\" y=\"-406.7\" font-family=\"Helvetica,sans-Serif\" font-size=\"14.00\">value = [4, 116]</text>\n",
       "</g>\n",
       "<!-- 1&#45;&gt;2 -->\n",
       "<g id=\"edge2\" class=\"edge\">\n",
       "<title>1&#45;&gt;2</title>\n",
       "<path fill=\"none\" stroke=\"black\" d=\"M345.33,-509.45C318.77,-496.49 287.27,-481.11 259.96,-467.79\"/>\n",
       "<polygon fill=\"black\" stroke=\"black\" points=\"261.6,-464.69 251.08,-463.45 258.53,-470.98 261.6,-464.69\"/>\n",
       "</g>\n",
       "<!-- 5 -->\n",
       "<g id=\"node6\" class=\"node\">\n",
       "<title>5</title>\n",
       "<path fill=\"#fffdfb\" stroke=\"black\" d=\"M446.33,-469C446.33,-469 361.33,-469 361.33,-469 355.33,-469 349.33,-463 349.33,-457 349.33,-457 349.33,-413 349.33,-413 349.33,-407 355.33,-401 361.33,-401 361.33,-401 446.33,-401 446.33,-401 452.33,-401 458.33,-407 458.33,-413 458.33,-413 458.33,-457 458.33,-457 458.33,-463 452.33,-469 446.33,-469\"/>\n",
       "<text text-anchor=\"start\" x=\"361.83\" y=\"-451.7\" font-family=\"Helvetica,sans-Serif\" font-size=\"14.00\">LogFare ≤ 2.7</text>\n",
       "<text text-anchor=\"start\" x=\"376.08\" y=\"-436.7\" font-family=\"Helvetica,sans-Serif\" font-size=\"14.00\">gini = 0.5</text>\n",
       "<text text-anchor=\"start\" x=\"359.2\" y=\"-421.7\" font-family=\"Helvetica,sans-Serif\" font-size=\"14.00\">samples = 109</text>\n",
       "<text text-anchor=\"start\" x=\"357.33\" y=\"-406.7\" font-family=\"Helvetica,sans-Serif\" font-size=\"14.00\">value = [55, 54]</text>\n",
       "</g>\n",
       "<!-- 1&#45;&gt;5 -->\n",
       "<g id=\"edge5\" class=\"edge\">\n",
       "<title>1&#45;&gt;5</title>\n",
       "<path fill=\"none\" stroke=\"black\" d=\"M403.83,-504.6C403.83,-497.03 403.83,-488.87 403.83,-480.9\"/>\n",
       "<polygon fill=\"black\" stroke=\"black\" points=\"407.33,-480.99 403.83,-470.99 400.33,-480.99 407.33,-480.99\"/>\n",
       "</g>\n",
       "<!-- 3 -->\n",
       "<g id=\"node4\" class=\"node\">\n",
       "<title>3</title>\n",
       "<path fill=\"#3c9ee5\" stroke=\"black\" d=\"M96.58,-357.5C96.58,-357.5 19.08,-357.5 19.08,-357.5 13.08,-357.5 7.08,-351.5 7.08,-345.5 7.08,-345.5 7.08,-316.5 7.08,-316.5 7.08,-310.5 13.08,-304.5 19.08,-304.5 19.08,-304.5 96.58,-304.5 96.58,-304.5 102.58,-304.5 108.58,-310.5 108.58,-316.5 108.58,-316.5 108.58,-345.5 108.58,-345.5 108.58,-351.5 102.58,-357.5 96.58,-357.5\"/>\n",
       "<text text-anchor=\"start\" x=\"26.33\" y=\"-340.2\" font-family=\"Helvetica,sans-Serif\" font-size=\"14.00\">gini = 0.03</text>\n",
       "<text text-anchor=\"start\" x=\"16.95\" y=\"-325.2\" font-family=\"Helvetica,sans-Serif\" font-size=\"14.00\">samples = 67</text>\n",
       "<text text-anchor=\"start\" x=\"15.08\" y=\"-310.2\" font-family=\"Helvetica,sans-Serif\" font-size=\"14.00\">value = [1, 66]</text>\n",
       "</g>\n",
       "<!-- 2&#45;&gt;3 -->\n",
       "<g id=\"edge3\" class=\"edge\">\n",
       "<title>2&#45;&gt;3</title>\n",
       "<path fill=\"none\" stroke=\"black\" d=\"M149.97,-400.6C134.31,-388.94 116.78,-375.89 101.24,-364.32\"/>\n",
       "<polygon fill=\"black\" stroke=\"black\" points=\"103.68,-361.77 93.57,-358.61 99.5,-367.39 103.68,-361.77\"/>\n",
       "</g>\n",
       "<!-- 4 -->\n",
       "<g id=\"node5\" class=\"node\">\n",
       "<title>4</title>\n",
       "<path fill=\"#45a3e7\" stroke=\"black\" d=\"M233.58,-357.5C233.58,-357.5 156.08,-357.5 156.08,-357.5 150.08,-357.5 144.08,-351.5 144.08,-345.5 144.08,-345.5 144.08,-316.5 144.08,-316.5 144.08,-310.5 150.08,-304.5 156.08,-304.5 156.08,-304.5 233.58,-304.5 233.58,-304.5 239.58,-304.5 245.58,-310.5 245.58,-316.5 245.58,-316.5 245.58,-345.5 245.58,-345.5 245.58,-351.5 239.58,-357.5 233.58,-357.5\"/>\n",
       "<text text-anchor=\"start\" x=\"163.33\" y=\"-340.2\" font-family=\"Helvetica,sans-Serif\" font-size=\"14.00\">gini = 0.11</text>\n",
       "<text text-anchor=\"start\" x=\"153.95\" y=\"-325.2\" font-family=\"Helvetica,sans-Serif\" font-size=\"14.00\">samples = 53</text>\n",
       "<text text-anchor=\"start\" x=\"152.08\" y=\"-310.2\" font-family=\"Helvetica,sans-Serif\" font-size=\"14.00\">value = [3, 50]</text>\n",
       "</g>\n",
       "<!-- 2&#45;&gt;4 -->\n",
       "<g id=\"edge4\" class=\"edge\">\n",
       "<title>2&#45;&gt;4</title>\n",
       "<path fill=\"none\" stroke=\"black\" d=\"M194.83,-400.6C194.83,-390.47 194.83,-379.28 194.83,-368.93\"/>\n",
       "<polygon fill=\"black\" stroke=\"black\" points=\"198.33,-369.22 194.83,-359.22 191.33,-369.22 198.33,-369.22\"/>\n",
       "</g>\n",
       "<!-- 6 -->\n",
       "<g id=\"node7\" class=\"node\">\n",
       "<title>6</title>\n",
       "<path fill=\"#cbe5f8\" stroke=\"black\" d=\"M377.33,-357.5C377.33,-357.5 292.33,-357.5 292.33,-357.5 286.33,-357.5 280.33,-351.5 280.33,-345.5 280.33,-345.5 280.33,-316.5 280.33,-316.5 280.33,-310.5 286.33,-304.5 292.33,-304.5 292.33,-304.5 377.33,-304.5 377.33,-304.5 383.33,-304.5 389.33,-310.5 389.33,-316.5 389.33,-316.5 389.33,-345.5 389.33,-345.5 389.33,-351.5 383.33,-357.5 377.33,-357.5\"/>\n",
       "<text text-anchor=\"start\" x=\"303.33\" y=\"-340.2\" font-family=\"Helvetica,sans-Serif\" font-size=\"14.00\">gini = 0.49</text>\n",
       "<text text-anchor=\"start\" x=\"293.95\" y=\"-325.2\" font-family=\"Helvetica,sans-Serif\" font-size=\"14.00\">samples = 59</text>\n",
       "<text text-anchor=\"start\" x=\"288.33\" y=\"-310.2\" font-family=\"Helvetica,sans-Serif\" font-size=\"14.00\">value = [25, 34]</text>\n",
       "</g>\n",
       "<!-- 5&#45;&gt;6 -->\n",
       "<g id=\"edge6\" class=\"edge\">\n",
       "<title>5&#45;&gt;6</title>\n",
       "<path fill=\"none\" stroke=\"black\" d=\"M381.23,-400.6C373.94,-389.82 365.83,-377.83 358.46,-366.94\"/>\n",
       "<polygon fill=\"black\" stroke=\"black\" points=\"361.57,-365.28 353.06,-358.96 355.77,-369.2 361.57,-365.28\"/>\n",
       "</g>\n",
       "<!-- 7 -->\n",
       "<g id=\"node8\" class=\"node\">\n",
       "<title>7</title>\n",
       "<path fill=\"#f6d5bd\" stroke=\"black\" d=\"M521.33,-357.5C521.33,-357.5 436.33,-357.5 436.33,-357.5 430.33,-357.5 424.33,-351.5 424.33,-345.5 424.33,-345.5 424.33,-316.5 424.33,-316.5 424.33,-310.5 430.33,-304.5 436.33,-304.5 436.33,-304.5 521.33,-304.5 521.33,-304.5 527.33,-304.5 533.33,-310.5 533.33,-316.5 533.33,-316.5 533.33,-345.5 533.33,-345.5 533.33,-351.5 527.33,-357.5 521.33,-357.5\"/>\n",
       "<text text-anchor=\"start\" x=\"447.33\" y=\"-340.2\" font-family=\"Helvetica,sans-Serif\" font-size=\"14.00\">gini = 0.48</text>\n",
       "<text text-anchor=\"start\" x=\"437.95\" y=\"-325.2\" font-family=\"Helvetica,sans-Serif\" font-size=\"14.00\">samples = 50</text>\n",
       "<text text-anchor=\"start\" x=\"432.33\" y=\"-310.2\" font-family=\"Helvetica,sans-Serif\" font-size=\"14.00\">value = [30, 20]</text>\n",
       "</g>\n",
       "<!-- 5&#45;&gt;7 -->\n",
       "<g id=\"edge7\" class=\"edge\">\n",
       "<title>5&#45;&gt;7</title>\n",
       "<path fill=\"none\" stroke=\"black\" d=\"M428.38,-400.6C436.31,-389.82 445.13,-377.83 453.13,-366.94\"/>\n",
       "<polygon fill=\"black\" stroke=\"black\" points=\"455.92,-369.06 459.03,-358.93 450.29,-364.91 455.92,-369.06\"/>\n",
       "</g>\n",
       "<!-- 9 -->\n",
       "<g id=\"node10\" class=\"node\">\n",
       "<title>9</title>\n",
       "<path fill=\"#e99659\" stroke=\"black\" d=\"M744.08,-469C744.08,-469 651.58,-469 651.58,-469 645.58,-469 639.58,-463 639.58,-457 639.58,-457 639.58,-413 639.58,-413 639.58,-407 645.58,-401 651.58,-401 651.58,-401 744.08,-401 744.08,-401 750.08,-401 756.08,-407 756.08,-413 756.08,-413 756.08,-457 756.08,-457 756.08,-463 750.08,-469 744.08,-469\"/>\n",
       "<text text-anchor=\"start\" x=\"665.2\" y=\"-451.7\" font-family=\"Helvetica,sans-Serif\" font-size=\"14.00\">Age ≤ 20.5</text>\n",
       "<text text-anchor=\"start\" x=\"666.33\" y=\"-436.7\" font-family=\"Helvetica,sans-Serif\" font-size=\"14.00\">gini = 0.24</text>\n",
       "<text text-anchor=\"start\" x=\"653.2\" y=\"-421.7\" font-family=\"Helvetica,sans-Serif\" font-size=\"14.00\">samples = 320</text>\n",
       "<text text-anchor=\"start\" x=\"647.58\" y=\"-406.7\" font-family=\"Helvetica,sans-Serif\" font-size=\"14.00\">value = [275, 45]</text>\n",
       "</g>\n",
       "<!-- 8&#45;&gt;9 -->\n",
       "<g id=\"edge9\" class=\"edge\">\n",
       "<title>8&#45;&gt;9</title>\n",
       "<path fill=\"none\" stroke=\"black\" d=\"M697.83,-504.6C697.83,-497.03 697.83,-488.87 697.83,-480.9\"/>\n",
       "<polygon fill=\"black\" stroke=\"black\" points=\"701.33,-480.99 697.83,-470.99 694.33,-480.99 701.33,-480.99\"/>\n",
       "</g>\n",
       "<!-- 18 -->\n",
       "<g id=\"node19\" class=\"node\">\n",
       "<title>18</title>\n",
       "<path fill=\"#f1bc96\" stroke=\"black\" d=\"M964.33,-469C964.33,-469 879.33,-469 879.33,-469 873.33,-469 867.33,-463 867.33,-457 867.33,-457 867.33,-413 867.33,-413 867.33,-407 873.33,-401 879.33,-401 879.33,-401 964.33,-401 964.33,-401 970.33,-401 976.33,-407 976.33,-413 976.33,-413 976.33,-457 976.33,-457 976.33,-463 970.33,-469 964.33,-469\"/>\n",
       "<text text-anchor=\"start\" x=\"886.95\" y=\"-451.7\" font-family=\"Helvetica,sans-Serif\" font-size=\"14.00\">SibSp ≤ 0.5</text>\n",
       "<text text-anchor=\"start\" x=\"890.33\" y=\"-436.7\" font-family=\"Helvetica,sans-Serif\" font-size=\"14.00\">gini = 0.43</text>\n",
       "<text text-anchor=\"start\" x=\"877.2\" y=\"-421.7\" font-family=\"Helvetica,sans-Serif\" font-size=\"14.00\">samples = 119</text>\n",
       "<text text-anchor=\"start\" x=\"875.33\" y=\"-406.7\" font-family=\"Helvetica,sans-Serif\" font-size=\"14.00\">value = [81, 38]</text>\n",
       "</g>\n",
       "<!-- 8&#45;&gt;18 -->\n",
       "<g id=\"edge18\" class=\"edge\">\n",
       "<title>8&#45;&gt;18</title>\n",
       "<path fill=\"none\" stroke=\"black\" d=\"M756.39,-511.33C787.27,-497.27 825.23,-479.99 856.99,-465.52\"/>\n",
       "<polygon fill=\"black\" stroke=\"black\" points=\"858.04,-468.89 865.69,-461.56 855.14,-462.52 858.04,-468.89\"/>\n",
       "</g>\n",
       "<!-- 10 -->\n",
       "<g id=\"node11\" class=\"node\">\n",
       "<title>10</title>\n",
       "<path fill=\"#f1b992\" stroke=\"black\" d=\"M666.33,-357.5C666.33,-357.5 581.33,-357.5 581.33,-357.5 575.33,-357.5 569.33,-351.5 569.33,-345.5 569.33,-345.5 569.33,-316.5 569.33,-316.5 569.33,-310.5 575.33,-304.5 581.33,-304.5 581.33,-304.5 666.33,-304.5 666.33,-304.5 672.33,-304.5 678.33,-310.5 678.33,-316.5 678.33,-316.5 678.33,-345.5 678.33,-345.5 678.33,-351.5 672.33,-357.5 666.33,-357.5\"/>\n",
       "<text text-anchor=\"start\" x=\"592.33\" y=\"-340.2\" font-family=\"Helvetica,sans-Serif\" font-size=\"14.00\">gini = 0.43</text>\n",
       "<text text-anchor=\"start\" x=\"582.95\" y=\"-325.2\" font-family=\"Helvetica,sans-Serif\" font-size=\"14.00\">samples = 55</text>\n",
       "<text text-anchor=\"start\" x=\"577.33\" y=\"-310.2\" font-family=\"Helvetica,sans-Serif\" font-size=\"14.00\">value = [38, 17]</text>\n",
       "</g>\n",
       "<!-- 9&#45;&gt;10 -->\n",
       "<g id=\"edge10\" class=\"edge\">\n",
       "<title>9&#45;&gt;10</title>\n",
       "<path fill=\"none\" stroke=\"black\" d=\"M673.6,-400.6C665.77,-389.82 657.08,-377.83 649.18,-366.94\"/>\n",
       "<polygon fill=\"black\" stroke=\"black\" points=\"652.07,-364.97 643.37,-358.93 646.4,-369.08 652.07,-364.97\"/>\n",
       "</g>\n",
       "<!-- 11 -->\n",
       "<g id=\"node12\" class=\"node\">\n",
       "<title>11</title>\n",
       "<path fill=\"#e89050\" stroke=\"black\" d=\"M819.08,-365C819.08,-365 726.58,-365 726.58,-365 720.58,-365 714.58,-359 714.58,-353 714.58,-353 714.58,-309 714.58,-309 714.58,-303 720.58,-297 726.58,-297 726.58,-297 819.08,-297 819.08,-297 825.08,-297 831.08,-303 831.08,-309 831.08,-309 831.08,-353 831.08,-353 831.08,-359 825.08,-365 819.08,-365\"/>\n",
       "<text text-anchor=\"start\" x=\"740.2\" y=\"-347.7\" font-family=\"Helvetica,sans-Serif\" font-size=\"14.00\">Age ≤ 32.5</text>\n",
       "<text text-anchor=\"start\" x=\"741.33\" y=\"-332.7\" font-family=\"Helvetica,sans-Serif\" font-size=\"14.00\">gini = 0.19</text>\n",
       "<text text-anchor=\"start\" x=\"728.2\" y=\"-317.7\" font-family=\"Helvetica,sans-Serif\" font-size=\"14.00\">samples = 265</text>\n",
       "<text text-anchor=\"start\" x=\"722.58\" y=\"-302.7\" font-family=\"Helvetica,sans-Serif\" font-size=\"14.00\">value = [237, 28]</text>\n",
       "</g>\n",
       "<!-- 9&#45;&gt;11 -->\n",
       "<g id=\"edge11\" class=\"edge\">\n",
       "<title>9&#45;&gt;11</title>\n",
       "<path fill=\"none\" stroke=\"black\" d=\"M722.38,-400.6C728.47,-392.32 735.08,-383.34 741.44,-374.69\"/>\n",
       "<polygon fill=\"black\" stroke=\"black\" points=\"744.21,-376.82 747.32,-366.69 738.57,-372.68 744.21,-376.82\"/>\n",
       "</g>\n",
       "<!-- 12 -->\n",
       "<g id=\"node13\" class=\"node\">\n",
       "<title>12</title>\n",
       "<path fill=\"#e99356\" stroke=\"black\" d=\"M746.08,-261C746.08,-261 653.58,-261 653.58,-261 647.58,-261 641.58,-255 641.58,-249 641.58,-249 641.58,-205 641.58,-205 641.58,-199 647.58,-193 653.58,-193 653.58,-193 746.08,-193 746.08,-193 752.08,-193 758.08,-199 758.08,-205 758.08,-205 758.08,-249 758.08,-249 758.08,-255 752.08,-261 746.08,-261\"/>\n",
       "<text text-anchor=\"start\" x=\"663.45\" y=\"-243.7\" font-family=\"Helvetica,sans-Serif\" font-size=\"14.00\">Age ≤ 24.75</text>\n",
       "<text text-anchor=\"start\" x=\"668.33\" y=\"-228.7\" font-family=\"Helvetica,sans-Serif\" font-size=\"14.00\">gini = 0.22</text>\n",
       "<text text-anchor=\"start\" x=\"655.2\" y=\"-213.7\" font-family=\"Helvetica,sans-Serif\" font-size=\"14.00\">samples = 181</text>\n",
       "<text text-anchor=\"start\" x=\"649.58\" y=\"-198.7\" font-family=\"Helvetica,sans-Serif\" font-size=\"14.00\">value = [158, 23]</text>\n",
       "</g>\n",
       "<!-- 11&#45;&gt;12 -->\n",
       "<g id=\"edge12\" class=\"edge\">\n",
       "<title>11&#45;&gt;12</title>\n",
       "<path fill=\"none\" stroke=\"black\" d=\"M748.92,-296.6C743,-288.32 736.57,-279.34 730.38,-270.69\"/>\n",
       "<polygon fill=\"black\" stroke=\"black\" points=\"733.33,-268.8 724.66,-262.7 727.64,-272.87 733.33,-268.8\"/>\n",
       "</g>\n",
       "<!-- 17 -->\n",
       "<g id=\"node18\" class=\"node\">\n",
       "<title>17</title>\n",
       "<path fill=\"#e78946\" stroke=\"black\" d=\"M883.58,-253.5C883.58,-253.5 806.08,-253.5 806.08,-253.5 800.08,-253.5 794.08,-247.5 794.08,-241.5 794.08,-241.5 794.08,-212.5 794.08,-212.5 794.08,-206.5 800.08,-200.5 806.08,-200.5 806.08,-200.5 883.58,-200.5 883.58,-200.5 889.58,-200.5 895.58,-206.5 895.58,-212.5 895.58,-212.5 895.58,-241.5 895.58,-241.5 895.58,-247.5 889.58,-253.5 883.58,-253.5\"/>\n",
       "<text text-anchor=\"start\" x=\"813.33\" y=\"-236.2\" font-family=\"Helvetica,sans-Serif\" font-size=\"14.00\">gini = 0.11</text>\n",
       "<text text-anchor=\"start\" x=\"803.95\" y=\"-221.2\" font-family=\"Helvetica,sans-Serif\" font-size=\"14.00\">samples = 84</text>\n",
       "<text text-anchor=\"start\" x=\"802.08\" y=\"-206.2\" font-family=\"Helvetica,sans-Serif\" font-size=\"14.00\">value = [79, 5]</text>\n",
       "</g>\n",
       "<!-- 11&#45;&gt;17 -->\n",
       "<g id=\"edge17\" class=\"edge\">\n",
       "<title>11&#45;&gt;17</title>\n",
       "<path fill=\"none\" stroke=\"black\" d=\"M796.4,-296.6C804.02,-285.82 812.47,-273.83 820.16,-262.94\"/>\n",
       "<polygon fill=\"black\" stroke=\"black\" points=\"822.9,-265.13 825.81,-254.94 817.18,-261.09 822.9,-265.13\"/>\n",
       "</g>\n",
       "<!-- 13 -->\n",
       "<g id=\"node14\" class=\"node\">\n",
       "<title>13</title>\n",
       "<path fill=\"#e88d4c\" stroke=\"black\" d=\"M672.08,-157C672.08,-157 579.58,-157 579.58,-157 573.58,-157 567.58,-151 567.58,-145 567.58,-145 567.58,-101 567.58,-101 567.58,-95 573.58,-89 579.58,-89 579.58,-89 672.08,-89 672.08,-89 678.08,-89 684.08,-95 684.08,-101 684.08,-101 684.08,-145 684.08,-145 684.08,-151 678.08,-157 672.08,-157\"/>\n",
       "<text text-anchor=\"start\" x=\"580.08\" y=\"-139.7\" font-family=\"Helvetica,sans-Serif\" font-size=\"14.00\">LogFare ≤ 2.18</text>\n",
       "<text text-anchor=\"start\" x=\"594.33\" y=\"-124.7\" font-family=\"Helvetica,sans-Serif\" font-size=\"14.00\">gini = 0.16</text>\n",
       "<text text-anchor=\"start\" x=\"581.2\" y=\"-109.7\" font-family=\"Helvetica,sans-Serif\" font-size=\"14.00\">samples = 114</text>\n",
       "<text text-anchor=\"start\" x=\"575.58\" y=\"-94.7\" font-family=\"Helvetica,sans-Serif\" font-size=\"14.00\">value = [104, 10]</text>\n",
       "</g>\n",
       "<!-- 12&#45;&gt;13 -->\n",
       "<g id=\"edge13\" class=\"edge\">\n",
       "<title>12&#45;&gt;13</title>\n",
       "<path fill=\"none\" stroke=\"black\" d=\"M675.6,-192.6C669.59,-184.32 663.07,-175.34 656.8,-166.69\"/>\n",
       "<polygon fill=\"black\" stroke=\"black\" points=\"659.71,-164.74 651,-158.7 654.04,-168.85 659.71,-164.74\"/>\n",
       "</g>\n",
       "<!-- 16 -->\n",
       "<g id=\"node17\" class=\"node\">\n",
       "<title>16</title>\n",
       "<path fill=\"#eb9f69\" stroke=\"black\" d=\"M817.33,-149.5C817.33,-149.5 732.33,-149.5 732.33,-149.5 726.33,-149.5 720.33,-143.5 720.33,-137.5 720.33,-137.5 720.33,-108.5 720.33,-108.5 720.33,-102.5 726.33,-96.5 732.33,-96.5 732.33,-96.5 817.33,-96.5 817.33,-96.5 823.33,-96.5 829.33,-102.5 829.33,-108.5 829.33,-108.5 829.33,-137.5 829.33,-137.5 829.33,-143.5 823.33,-149.5 817.33,-149.5\"/>\n",
       "<text text-anchor=\"start\" x=\"743.33\" y=\"-132.2\" font-family=\"Helvetica,sans-Serif\" font-size=\"14.00\">gini = 0.31</text>\n",
       "<text text-anchor=\"start\" x=\"733.95\" y=\"-117.2\" font-family=\"Helvetica,sans-Serif\" font-size=\"14.00\">samples = 67</text>\n",
       "<text text-anchor=\"start\" x=\"728.33\" y=\"-102.2\" font-family=\"Helvetica,sans-Serif\" font-size=\"14.00\">value = [54, 13]</text>\n",
       "</g>\n",
       "<!-- 12&#45;&gt;16 -->\n",
       "<g id=\"edge16\" class=\"edge\">\n",
       "<title>12&#45;&gt;16</title>\n",
       "<path fill=\"none\" stroke=\"black\" d=\"M724.38,-192.6C732.31,-181.82 741.13,-169.83 749.13,-158.94\"/>\n",
       "<polygon fill=\"black\" stroke=\"black\" points=\"751.92,-161.06 755.03,-150.93 746.29,-156.91 751.92,-161.06\"/>\n",
       "</g>\n",
       "<!-- 14 -->\n",
       "<g id=\"node15\" class=\"node\">\n",
       "<title>14</title>\n",
       "<path fill=\"#e99254\" stroke=\"black\" d=\"M596.58,-53.5C596.58,-53.5 519.08,-53.5 519.08,-53.5 513.08,-53.5 507.08,-47.5 507.08,-41.5 507.08,-41.5 507.08,-12.5 507.08,-12.5 507.08,-6.5 513.08,-0.5 519.08,-0.5 519.08,-0.5 596.58,-0.5 596.58,-0.5 602.58,-0.5 608.58,-6.5 608.58,-12.5 608.58,-12.5 608.58,-41.5 608.58,-41.5 608.58,-47.5 602.58,-53.5 596.58,-53.5\"/>\n",
       "<text text-anchor=\"start\" x=\"526.33\" y=\"-36.2\" font-family=\"Helvetica,sans-Serif\" font-size=\"14.00\">gini = 0.21</text>\n",
       "<text text-anchor=\"start\" x=\"516.95\" y=\"-21.2\" font-family=\"Helvetica,sans-Serif\" font-size=\"14.00\">samples = 50</text>\n",
       "<text text-anchor=\"start\" x=\"515.08\" y=\"-6.2\" font-family=\"Helvetica,sans-Serif\" font-size=\"14.00\">value = [44, 6]</text>\n",
       "</g>\n",
       "<!-- 13&#45;&gt;14 -->\n",
       "<g id=\"edge14\" class=\"edge\">\n",
       "<title>13&#45;&gt;14</title>\n",
       "<path fill=\"none\" stroke=\"black\" d=\"M601.66,-88.59C595.67,-80.31 589.23,-71.42 583.19,-63.06\"/>\n",
       "<polygon fill=\"black\" stroke=\"black\" points=\"586.16,-61.19 577.46,-55.14 580.48,-65.29 586.16,-61.19\"/>\n",
       "</g>\n",
       "<!-- 15 -->\n",
       "<g id=\"node16\" class=\"node\">\n",
       "<title>15</title>\n",
       "<path fill=\"#e78946\" stroke=\"black\" d=\"M732.58,-53.5C732.58,-53.5 655.08,-53.5 655.08,-53.5 649.08,-53.5 643.08,-47.5 643.08,-41.5 643.08,-41.5 643.08,-12.5 643.08,-12.5 643.08,-6.5 649.08,-0.5 655.08,-0.5 655.08,-0.5 732.58,-0.5 732.58,-0.5 738.58,-0.5 744.58,-6.5 744.58,-12.5 744.58,-12.5 744.58,-41.5 744.58,-41.5 744.58,-47.5 738.58,-53.5 732.58,-53.5\"/>\n",
       "<text text-anchor=\"start\" x=\"662.33\" y=\"-36.2\" font-family=\"Helvetica,sans-Serif\" font-size=\"14.00\">gini = 0.12</text>\n",
       "<text text-anchor=\"start\" x=\"652.95\" y=\"-21.2\" font-family=\"Helvetica,sans-Serif\" font-size=\"14.00\">samples = 64</text>\n",
       "<text text-anchor=\"start\" x=\"651.08\" y=\"-6.2\" font-family=\"Helvetica,sans-Serif\" font-size=\"14.00\">value = [60, 4]</text>\n",
       "</g>\n",
       "<!-- 13&#45;&gt;15 -->\n",
       "<g id=\"edge15\" class=\"edge\">\n",
       "<title>13&#45;&gt;15</title>\n",
       "<path fill=\"none\" stroke=\"black\" d=\"M649.99,-88.59C655.98,-80.31 662.42,-71.42 668.47,-63.06\"/>\n",
       "<polygon fill=\"black\" stroke=\"black\" points=\"671.17,-65.29 674.2,-55.14 665.5,-61.19 671.17,-65.29\"/>\n",
       "</g>\n",
       "<!-- 19 -->\n",
       "<g id=\"node20\" class=\"node\">\n",
       "<title>19</title>\n",
       "<path fill=\"#f6d5bd\" stroke=\"black\" d=\"M964.33,-357.5C964.33,-357.5 879.33,-357.5 879.33,-357.5 873.33,-357.5 867.33,-351.5 867.33,-345.5 867.33,-345.5 867.33,-316.5 867.33,-316.5 867.33,-310.5 873.33,-304.5 879.33,-304.5 879.33,-304.5 964.33,-304.5 964.33,-304.5 970.33,-304.5 976.33,-310.5 976.33,-316.5 976.33,-316.5 976.33,-345.5 976.33,-345.5 976.33,-351.5 970.33,-357.5 964.33,-357.5\"/>\n",
       "<text text-anchor=\"start\" x=\"890.33\" y=\"-340.2\" font-family=\"Helvetica,sans-Serif\" font-size=\"14.00\">gini = 0.48</text>\n",
       "<text text-anchor=\"start\" x=\"880.95\" y=\"-325.2\" font-family=\"Helvetica,sans-Serif\" font-size=\"14.00\">samples = 60</text>\n",
       "<text text-anchor=\"start\" x=\"875.33\" y=\"-310.2\" font-family=\"Helvetica,sans-Serif\" font-size=\"14.00\">value = [36, 24]</text>\n",
       "</g>\n",
       "<!-- 18&#45;&gt;19 -->\n",
       "<g id=\"edge19\" class=\"edge\">\n",
       "<title>18&#45;&gt;19</title>\n",
       "<path fill=\"none\" stroke=\"black\" d=\"M921.83,-400.6C921.83,-390.47 921.83,-379.28 921.83,-368.93\"/>\n",
       "<polygon fill=\"black\" stroke=\"black\" points=\"925.33,-369.22 921.83,-359.22 918.33,-369.22 925.33,-369.22\"/>\n",
       "</g>\n",
       "<!-- 20 -->\n",
       "<g id=\"node21\" class=\"node\">\n",
       "<title>20</title>\n",
       "<path fill=\"#eda877\" stroke=\"black\" d=\"M1109.33,-357.5C1109.33,-357.5 1024.33,-357.5 1024.33,-357.5 1018.33,-357.5 1012.33,-351.5 1012.33,-345.5 1012.33,-345.5 1012.33,-316.5 1012.33,-316.5 1012.33,-310.5 1018.33,-304.5 1024.33,-304.5 1024.33,-304.5 1109.33,-304.5 1109.33,-304.5 1115.33,-304.5 1121.33,-310.5 1121.33,-316.5 1121.33,-316.5 1121.33,-345.5 1121.33,-345.5 1121.33,-351.5 1115.33,-357.5 1109.33,-357.5\"/>\n",
       "<text text-anchor=\"start\" x=\"1035.33\" y=\"-340.2\" font-family=\"Helvetica,sans-Serif\" font-size=\"14.00\">gini = 0.36</text>\n",
       "<text text-anchor=\"start\" x=\"1025.95\" y=\"-325.2\" font-family=\"Helvetica,sans-Serif\" font-size=\"14.00\">samples = 59</text>\n",
       "<text text-anchor=\"start\" x=\"1020.33\" y=\"-310.2\" font-family=\"Helvetica,sans-Serif\" font-size=\"14.00\">value = [45, 14]</text>\n",
       "</g>\n",
       "<!-- 18&#45;&gt;20 -->\n",
       "<g id=\"edge20\" class=\"edge\">\n",
       "<title>18&#45;&gt;20</title>\n",
       "<path fill=\"none\" stroke=\"black\" d=\"M969.31,-400.6C985.88,-388.94 1004.43,-375.89 1020.88,-364.32\"/>\n",
       "<polygon fill=\"black\" stroke=\"black\" points=\"1022.88,-367.19 1029.05,-358.58 1018.85,-361.47 1022.88,-367.19\"/>\n",
       "</g>\n",
       "</g>\n",
       "</svg>\n"
      ],
      "text/plain": [
       "<graphviz.sources.Source at 0x286b6fd10>"
      ]
     },
     "execution_count": 39,
     "metadata": {},
     "output_type": "execute_result"
    }
   ],
   "source": [
    "m = DecisionTreeClassifier(min_samples_leaf=50)\n",
    "m.fit(trn_x, trn_y)\n",
    "draw_tree(m, trn_x, size=12)\n"
   ]
  },
  {
   "cell_type": "code",
   "execution_count": 40,
   "metadata": {},
   "outputs": [
    {
     "data": {
      "text/plain": [
       "0.18385650224215247"
      ]
     },
     "execution_count": 40,
     "metadata": {},
     "output_type": "execute_result"
    }
   ],
   "source": [
    "# let's check the accuracy of this model\n",
    "# 0.18 better than our 0.225 OneR!\n",
    "mean_absolute_error(val_y, m.predict(val_x))"
   ]
  },
  {
   "cell_type": "markdown",
   "metadata": {},
   "source": [
    "### Benefits of Random Forests"
   ]
  },
  {
   "cell_type": "code",
   "execution_count": 41,
   "metadata": {},
   "outputs": [],
   "source": [
    "tst_df[cats] = tst_df[cats].apply(lambda x: x.cat.codes)\n",
    "tst_xs,_ = make_variables(tst_df)\n",
    "\n",
    "def subm(preds, suff):\n",
    "    tst_df['Survived'] = preds\n",
    "    sub_df = tst_df[['PassengerId','Survived']]\n",
    "    sub_df.to_csv(f'sub-{suff}.csv', index=False)\n",
    "\n",
    "subm(m.predict(tst_xs), 'tree')"
   ]
  },
  {
   "cell_type": "markdown",
   "metadata": {},
   "source": [
    "https://www.kaggle.com/competitions/titanic/submissions\n",
    "\n",
    "\n",
    "We got a score of 0.76 around the same a linear model, but it was muuuuch easier to do!"
   ]
  },
  {
   "cell_type": "markdown",
   "metadata": {},
   "source": [
    "\n",
    "- no need of normalization\n",
    "- categorification is easy\n",
    "- easier than linear model, no need to think about bias or not bias term"
   ]
  },
  {
   "cell_type": "markdown",
   "metadata": {},
   "source": [
    "# Random Forests"
   ]
  },
  {
   "cell_type": "markdown",
   "metadata": {},
   "source": [
    "Looking at our previous tree, we already have some leaf nodes with less than 50rows, that's not a lot of data. So more leaves are not the solutions. But what's next then?"
   ]
  },
  {
   "cell_type": "markdown",
   "metadata": {},
   "source": []
  },
  {
   "cell_type": "code",
   "execution_count": 42,
   "metadata": {},
   "outputs": [],
   "source": [
    "def create_tree(prop=0.75):\n",
    "    n = len(trn_y)\n",
    "    idxs = random.choice(n, int(n*prop))\n",
    "    return DecisionTreeClassifier(min_samples_leaf=5).fit(trn_x.iloc[idxs], trn_y.iloc[idxs])"
   ]
  },
  {
   "cell_type": "code",
   "execution_count": 43,
   "metadata": {},
   "outputs": [],
   "source": [
    "trees = [create_tree() for t in range(100)]"
   ]
  },
  {
   "cell_type": "code",
   "execution_count": 44,
   "metadata": {},
   "outputs": [
    {
     "data": {
      "text/plain": [
       "0.22748878923766816"
      ]
     },
     "execution_count": 44,
     "metadata": {},
     "output_type": "execute_result"
    }
   ],
   "source": [
    "# make each bag/model predict on the the validation/real set this time\n",
    "all_probs = [t.predict(val_x) for t in trees]\n",
    "\n",
    "# take their average\n",
    "avg_probs = np.stack(all_probs).mean(0)\n",
    "mean_absolute_error(val_y, avg_probs)\n",
    "\n",
    "# it works because lots of ucnorrelated random errors is zero???!"
   ]
  },
  {
   "cell_type": "markdown",
   "metadata": {},
   "source": [
    "Taking a random subset of the training set is not good enough.\n",
    "\n",
    "So we also pick a random subset of columns for each split\n",
    "\n",
    "RandomForestClassifier will do it for us"
   ]
  },
  {
   "cell_type": "code",
   "execution_count": 45,
   "metadata": {},
   "outputs": [
    {
     "data": {
      "text/plain": [
       "0.18834080717488788"
      ]
     },
     "execution_count": 45,
     "metadata": {},
     "output_type": "execute_result"
    }
   ],
   "source": [
    "from sklearn.ensemble import RandomForestClassifier\n",
    "\n",
    "rf = RandomForestClassifier(100, min_samples_leaf=5)\n",
    "rf.fit(trn_x, trn_y);\n",
    "mean_absolute_error(val_y, rf.predict(val_x))"
   ]
  },
  {
   "cell_type": "markdown",
   "metadata": {},
   "source": [
    "That's about the same as our single decision tree.\n",
    "Yup, sometimes more is not better!"
   ]
  },
  {
   "cell_type": "markdown",
   "metadata": {},
   "source": [
    "### Feature Importance"
   ]
  },
  {
   "cell_type": "code",
   "execution_count": 46,
   "metadata": {},
   "outputs": [
    {
     "data": {
      "image/png": "[encoded data removed]",
      "text/plain": [
       "<Figure size 640x480 with 1 Axes>"
      ]
     },
     "metadata": {},
     "output_type": "display_data"
    }
   ],
   "source": [
    "\n",
    "pd.DataFrame(dict(cols=trn_x.columns, imp=m.feature_importances_)).plot('cols', 'imp', 'barh');"
   ]
  },
  {
   "cell_type": "code",
   "execution_count": 47,
   "metadata": {},
   "outputs": [
    {
     "ename": "ValueError",
     "evalue": "Source file not found: ./first-steps-road-to-the-top-part-1.ipynb",
     "output_type": "error",
     "traceback": [
      "\u001b[0;31m---------------------------------------------------------------------------\u001b[0m",
      "\u001b[0;31mValueError\u001b[0m                                Traceback (most recent call last)",
      "Cell \u001b[0;32mIn[47], line 2\u001b[0m\n\u001b[1;32m      1\u001b[0m \u001b[38;5;28;01mif\u001b[39;00m \u001b[38;5;129;01mnot\u001b[39;00m iskaggle:\n\u001b[0;32m----> 2\u001b[0m     \u001b[43mpush_notebook\u001b[49m\u001b[43m(\u001b[49m\u001b[38;5;124;43m'\u001b[39;49m\u001b[38;5;124;43mjhoward\u001b[39;49m\u001b[38;5;124;43m'\u001b[39;49m\u001b[43m,\u001b[49m\u001b[43m \u001b[49m\u001b[38;5;124;43m'\u001b[39;49m\u001b[38;5;124;43mfirst-steps-road-to-the-top-part-1\u001b[39;49m\u001b[38;5;124;43m'\u001b[39;49m\u001b[43m,\u001b[49m\n\u001b[1;32m      3\u001b[0m \u001b[43m                  \u001b[49m\u001b[43mtitle\u001b[49m\u001b[38;5;241;43m=\u001b[39;49m\u001b[38;5;124;43m'\u001b[39;49m\u001b[38;5;124;43mFirst Steps: Road to the Top, Part 1\u001b[39;49m\u001b[38;5;124;43m'\u001b[39;49m\u001b[43m,\u001b[49m\n\u001b[1;32m      4\u001b[0m \u001b[43m                  \u001b[49m\u001b[43mfile\u001b[49m\u001b[38;5;241;43m=\u001b[39;49m\u001b[38;5;124;43m'\u001b[39;49m\u001b[38;5;124;43mfirst-steps-road-to-the-top-part-1.ipynb\u001b[39;49m\u001b[38;5;124;43m'\u001b[39;49m\u001b[43m,\u001b[49m\n\u001b[1;32m      5\u001b[0m \u001b[43m                  \u001b[49m\u001b[43mcompetition\u001b[49m\u001b[38;5;241;43m=\u001b[39;49m\u001b[43mcomp\u001b[49m\u001b[43m,\u001b[49m\u001b[43m \u001b[49m\u001b[43mprivate\u001b[49m\u001b[38;5;241;43m=\u001b[39;49m\u001b[38;5;28;43;01mFalse\u001b[39;49;00m\u001b[43m,\u001b[49m\u001b[43m \u001b[49m\u001b[43mgpu\u001b[49m\u001b[38;5;241;43m=\u001b[39;49m\u001b[38;5;28;43;01mTrue\u001b[39;49;00m\u001b[43m)\u001b[49m\n",
      "File \u001b[0;32m~/miniconda3/envs/fastai/lib/python3.11/site-packages/fastkaggle/core.py:73\u001b[0m, in \u001b[0;36mpush_notebook\u001b[0;34m(user, id, title, file, path, competition, private, gpu, internet, linked_datasets)\u001b[0m\n\u001b[1;32m     71\u001b[0m \u001b[38;5;28;01mwith\u001b[39;00m \u001b[38;5;28mopen\u001b[39m(path\u001b[38;5;241m/\u001b[39mnm, \u001b[38;5;124m'\u001b[39m\u001b[38;5;124mw\u001b[39m\u001b[38;5;124m'\u001b[39m) \u001b[38;5;28;01mas\u001b[39;00m f: json\u001b[38;5;241m.\u001b[39mdump(meta, f, indent\u001b[38;5;241m=\u001b[39m\u001b[38;5;241m2\u001b[39m)\n\u001b[1;32m     72\u001b[0m api \u001b[38;5;241m=\u001b[39m import_kaggle()\n\u001b[0;32m---> 73\u001b[0m \u001b[43mapi\u001b[49m\u001b[38;5;241;43m.\u001b[39;49m\u001b[43mkernels_push_cli\u001b[49m\u001b[43m(\u001b[49m\u001b[38;5;28;43mstr\u001b[39;49m\u001b[43m(\u001b[49m\u001b[43mpath\u001b[49m\u001b[43m)\u001b[49m\u001b[43m)\u001b[49m\n",
      "File \u001b[0;32m~/miniconda3/envs/fastai/lib/python3.11/site-packages/kaggle/api/kaggle_api_extended.py:2200\u001b[0m, in \u001b[0;36mKaggleApi.kernels_push_cli\u001b[0;34m(self, folder)\u001b[0m\n\u001b[1;32m   2197\u001b[0m \u001b[38;5;250m\u001b[39m\u001b[38;5;124;03m\"\"\" client wrapper for kernels_push, with same arguments.\u001b[39;00m\n\u001b[1;32m   2198\u001b[0m \u001b[38;5;124;03m\"\"\"\u001b[39;00m\n\u001b[1;32m   2199\u001b[0m folder \u001b[38;5;241m=\u001b[39m folder \u001b[38;5;129;01mor\u001b[39;00m os\u001b[38;5;241m.\u001b[39mgetcwd()\n\u001b[0;32m-> 2200\u001b[0m result \u001b[38;5;241m=\u001b[39m \u001b[38;5;28;43mself\u001b[39;49m\u001b[38;5;241;43m.\u001b[39;49m\u001b[43mkernels_push\u001b[49m\u001b[43m(\u001b[49m\u001b[43mfolder\u001b[49m\u001b[43m)\u001b[49m\n\u001b[1;32m   2202\u001b[0m \u001b[38;5;28;01mif\u001b[39;00m result \u001b[38;5;129;01mis\u001b[39;00m \u001b[38;5;28;01mNone\u001b[39;00m:\n\u001b[1;32m   2203\u001b[0m     \u001b[38;5;28mprint\u001b[39m(\u001b[38;5;124m'\u001b[39m\u001b[38;5;124mKernel push error: see previous output\u001b[39m\u001b[38;5;124m'\u001b[39m)\n",
      "File \u001b[0;32m~/miniconda3/envs/fastai/lib/python3.11/site-packages/kaggle/api/kaggle_api_extended.py:2100\u001b[0m, in \u001b[0;36mKaggleApi.kernels_push\u001b[0;34m(self, folder)\u001b[0m\n\u001b[1;32m   2098\u001b[0m code_file \u001b[38;5;241m=\u001b[39m os\u001b[38;5;241m.\u001b[39mpath\u001b[38;5;241m.\u001b[39mjoin(folder, code_path)\n\u001b[1;32m   2099\u001b[0m \u001b[38;5;28;01mif\u001b[39;00m \u001b[38;5;129;01mnot\u001b[39;00m os\u001b[38;5;241m.\u001b[39mpath\u001b[38;5;241m.\u001b[39misfile(code_file):\n\u001b[0;32m-> 2100\u001b[0m     \u001b[38;5;28;01mraise\u001b[39;00m \u001b[38;5;167;01mValueError\u001b[39;00m(\u001b[38;5;124m'\u001b[39m\u001b[38;5;124mSource file not found: \u001b[39m\u001b[38;5;124m'\u001b[39m \u001b[38;5;241m+\u001b[39m code_file)\n\u001b[1;32m   2102\u001b[0m slug \u001b[38;5;241m=\u001b[39m meta_data\u001b[38;5;241m.\u001b[39mget(\u001b[38;5;124m'\u001b[39m\u001b[38;5;124mid\u001b[39m\u001b[38;5;124m'\u001b[39m)\n\u001b[1;32m   2103\u001b[0m id_no \u001b[38;5;241m=\u001b[39m meta_data\u001b[38;5;241m.\u001b[39mget(\u001b[38;5;124m'\u001b[39m\u001b[38;5;124mid_no\u001b[39m\u001b[38;5;124m'\u001b[39m)\n",
      "\u001b[0;31mValueError\u001b[0m: Source file not found: ./first-steps-road-to-the-top-part-1.ipynb"
     ]
    }
   ],
   "source": [
    "if not iskaggle:\n",
    "    push_notebook('jhoward', 'first-steps-road-to-the-top-part-1',\n",
    "                  title='First Steps: Road to the Top, Part 1',\n",
    "                  file='first-steps-road-to-the-top-part-1.ipynb',\n",
    "                  competition=comp, private=False, gpu=True)"
   ]
  }
 ],
 "metadata": {
  "kernelspec": {
   "display_name": "fastai",
   "language": "python",
   "name": "python3"
  },
  "language_info": {
   "codemirror_mode": {
    "name": "ipython",
    "version": 3
   },
   "file_extension": ".py",
   "mimetype": "text/x-python",
   "name": "python",
   "nbconvert_exporter": "python",
   "pygments_lexer": "ipython3",
   "version": "3.11.8"
  }
 },
 "nbformat": 4,
 "nbformat_minor": 2
}
