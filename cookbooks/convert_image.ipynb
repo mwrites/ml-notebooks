{
 "cells": [
  {
   "cell_type": "code",
   "execution_count": 2,
   "metadata": {},
   "outputs": [],
   "source": [
    "from PIL import Image\n",
    "\n",
    "def webp_to_png(input_path, output_path):\n",
    "    # Open the WebP image\n",
    "    with Image.open(input_path) as img:\n",
    "        # Convert and save as PNG\n",
    "        img.save(output_path, 'PNG')\n",
    "\n",
    "# Usage\n",
    "webp_to_png('/Users/cactus/Downloads/image.webp', '/Users/cactus/Downloads/image.png')"
   ]
  },
  {
   "cell_type": "code",
   "execution_count": null,
   "metadata": {},
   "outputs": [],
   "source": []
  }
 ],
 "metadata": {
  "kernelspec": {
   "display_name": "base",
   "language": "python",
   "name": "python3"
  },
  "language_info": {
   "codemirror_mode": {
    "name": "ipython",
    "version": 3
   },
   "file_extension": ".py",
   "mimetype": "text/x-python",
   "name": "python",
   "nbconvert_exporter": "python",
   "pygments_lexer": "ipython3",
   "version": "3.12.2"
  }
 },
 "nbformat": 4,
 "nbformat_minor": 2
}
