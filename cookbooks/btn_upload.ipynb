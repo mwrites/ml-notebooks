{
 "cells": [
  {
   "cell_type": "code",
   "execution_count": 1,
   "metadata": {},
   "outputs": [],
   "source": [
    "from fastai.imports import *"
   ]
  },
  {
   "cell_type": "code",
   "execution_count": 2,
   "metadata": {},
   "outputs": [
    {
     "data": {
      "application/vnd.jupyter.widget-view+json": {
       "model_id": "23f919049d1f464887d8ebf63c0c694b",
       "version_major": 2,
       "version_minor": 0
      },
      "text/plain": [
       "FileUpload(value=(), description='Upload')"
      ]
     },
     "execution_count": 2,
     "metadata": {},
     "output_type": "execute_result"
    }
   ],
   "source": [
    "import ipywidgets as widgets\n",
    "\n",
    "btn_upload = widgets.FileUpload()\n",
    "btn_upload"
   ]
  },
  {
   "cell_type": "code",
   "execution_count": 3,
   "metadata": {},
   "outputs": [
    {
     "name": "stdout",
     "output_type": "stream",
     "text": [
      "NO FILES UPLOADED!\n"
     ]
    }
   ],
   "source": [
    "from fastai.vision.all import *\n",
    "import platform\n",
    "\n",
    "def get_latest_upload(btn_upload):\n",
    "    if not 'darwin' in platform.system().lower():\n",
    "        if btn_upload.data: return btn_upload.data[-1] \n",
    "    else:\n",
    "        if btn_upload.value: return btn_upload.value[-1].content.tobytes()\n",
    "    print(\"NO FILES UPLOADED!\")\n",
    "\n",
    "def show_uploaded_img(btn_upload):\n",
    "    data = get_latest_upload(btn_upload)\n",
    "    if data:\n",
    "        PILImage.create(data).show()\n",
    "\n",
    "show_uploaded_img(btn_upload)"
   ]
  }
 ],
 "metadata": {
  "kernelspec": {
   "display_name": "fastai",
   "language": "python",
   "name": "python3"
  },
  "language_info": {
   "codemirror_mode": {
    "name": "ipython",
    "version": 3
   },
   "file_extension": ".py",
   "mimetype": "text/x-python",
   "name": "python",
   "nbconvert_exporter": "python",
   "pygments_lexer": "ipython3",
   "version": "3.12.2"
  }
 },
 "nbformat": 4,
 "nbformat_minor": 2
}
