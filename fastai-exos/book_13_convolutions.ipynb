{
 "cells": [
  {
   "cell_type": "markdown",
   "metadata": {},
   "source": [
    "# [book](https://nbviewer.org/github/fastai/fastbook/blob/master/13_convolutions.ipynb)"
   ]
  },
  {
   "cell_type": "markdown",
   "metadata": {},
   "source": [
    "# [Good Article To Visualize Convolutions](https://medium.com/towards-data-science/intuitively-understanding-convolutions-for-deep-learning-1f6f42faee1)"
   ]
  },
  {
   "cell_type": "markdown",
   "metadata": {},
   "source": [
    "# [Useful Link For Visualization](https://ezyang.github.io/convolution-visualizer/)"
   ]
  },
  {
   "cell_type": "code",
   "execution_count": 612,
   "metadata": {},
   "outputs": [
    {
     "name": "stdout",
     "output_type": "stream",
     "text": [
      "Requirement already satisfied: kagtool in /Users/cactus/miniconda3/lib/python3.12/site-packages (12.0.2)\n",
      "Requirement already satisfied: kaggle in /Users/cactus/miniconda3/lib/python3.12/site-packages (1.6.14)\n",
      "Requirement already satisfied: fastai in /Users/cactus/miniconda3/lib/python3.12/site-packages (2.7.15)\n",
      "Requirement already satisfied: nbdev in /Users/cactus/miniconda3/lib/python3.12/site-packages (2.3.23)\n",
      "Requirement already satisfied: datasets in /Users/cactus/miniconda3/lib/python3.12/site-packages (2.19.1)\n",
      "Requirement already satisfied: six>=1.10 in /Users/cactus/miniconda3/lib/python3.12/site-packages (from kaggle) (1.16.0)\n",
      "Requirement already satisfied: certifi>=2023.7.22 in /Users/cactus/miniconda3/lib/python3.12/site-packages (from kaggle) (2024.2.2)\n",
      "Requirement already satisfied: python-dateutil in /Users/cactus/miniconda3/lib/python3.12/site-packages (from kaggle) (2.8.2)\n",
      "Requirement already satisfied: requests in /Users/cactus/miniconda3/lib/python3.12/site-packages (from kaggle) (2.31.0)\n",
      "Requirement already satisfied: tqdm in /Users/cactus/miniconda3/lib/python3.12/site-packages (from kaggle) (4.66.4)\n",
      "Requirement already satisfied: python-slugify in /Users/cactus/miniconda3/lib/python3.12/site-packages (from kaggle) (8.0.4)\n",
      "Requirement already satisfied: urllib3 in /Users/cactus/miniconda3/lib/python3.12/site-packages (from kaggle) (2.1.0)\n",
      "Requirement already satisfied: bleach in /Users/cactus/miniconda3/lib/python3.12/site-packages (from kaggle) (6.1.0)\n",
      "Requirement already satisfied: pip in /Users/cactus/miniconda3/lib/python3.12/site-packages (from fastai) (23.3.1)\n",
      "Requirement already satisfied: packaging in /Users/cactus/miniconda3/lib/python3.12/site-packages (from fastai) (23.2)\n",
      "Requirement already satisfied: fastdownload<2,>=0.0.5 in /Users/cactus/miniconda3/lib/python3.12/site-packages (from fastai) (0.0.7)\n",
      "Requirement already satisfied: fastcore<1.6,>=1.5.29 in /Users/cactus/miniconda3/lib/python3.12/site-packages (from fastai) (1.5.33)\n",
      "Requirement already satisfied: torchvision>=0.11 in /Users/cactus/miniconda3/lib/python3.12/site-packages (from fastai) (0.18.0)\n",
      "Requirement already satisfied: matplotlib in /Users/cactus/miniconda3/lib/python3.12/site-packages (from fastai) (3.8.4)\n",
      "Requirement already satisfied: pandas in /Users/cactus/miniconda3/lib/python3.12/site-packages (from fastai) (2.2.1)\n",
      "Requirement already satisfied: pyyaml in /Users/cactus/miniconda3/lib/python3.12/site-packages (from fastai) (6.0.1)\n",
      "Requirement already satisfied: fastprogress>=0.2.4 in /Users/cactus/miniconda3/lib/python3.12/site-packages (from fastai) (1.0.3)\n",
      "Requirement already satisfied: pillow>=9.0.0 in /Users/cactus/miniconda3/lib/python3.12/site-packages (from fastai) (10.3.0)\n",
      "Requirement already satisfied: scikit-learn in /Users/cactus/miniconda3/lib/python3.12/site-packages (from fastai) (1.4.2)\n",
      "Requirement already satisfied: scipy in /Users/cactus/miniconda3/lib/python3.12/site-packages (from fastai) (1.12.0)\n",
      "Requirement already satisfied: spacy<4 in /Users/cactus/miniconda3/lib/python3.12/site-packages (from fastai) (3.7.2)\n",
      "Requirement already satisfied: torch<2.4,>=1.10 in /Users/cactus/miniconda3/lib/python3.12/site-packages (from fastai) (2.3.0)\n",
      "Requirement already satisfied: execnb>=0.1.4 in /Users/cactus/miniconda3/lib/python3.12/site-packages (from nbdev) (0.1.6)\n",
      "Requirement already satisfied: astunparse in /Users/cactus/miniconda3/lib/python3.12/site-packages (from nbdev) (1.6.3)\n",
      "Requirement already satisfied: ghapi>=1.0.3 in /Users/cactus/miniconda3/lib/python3.12/site-packages (from nbdev) (1.0.5)\n",
      "Requirement already satisfied: watchdog in /Users/cactus/miniconda3/lib/python3.12/site-packages (from nbdev) (4.0.0)\n",
      "Requirement already satisfied: asttokens in /Users/cactus/miniconda3/lib/python3.12/site-packages (from nbdev) (2.4.1)\n",
      "Requirement already satisfied: filelock in /Users/cactus/miniconda3/lib/python3.12/site-packages (from datasets) (3.13.1)\n",
      "Requirement already satisfied: numpy>=1.17 in /Users/cactus/miniconda3/lib/python3.12/site-packages (from datasets) (1.26.4)\n",
      "Requirement already satisfied: pyarrow>=12.0.0 in /Users/cactus/miniconda3/lib/python3.12/site-packages (from datasets) (16.0.0)\n",
      "Requirement already satisfied: pyarrow-hotfix in /Users/cactus/miniconda3/lib/python3.12/site-packages (from datasets) (0.6)\n",
      "Requirement already satisfied: dill<0.3.9,>=0.3.0 in /Users/cactus/miniconda3/lib/python3.12/site-packages (from datasets) (0.3.8)\n",
      "Requirement already satisfied: xxhash in /Users/cactus/miniconda3/lib/python3.12/site-packages (from datasets) (3.4.1)\n",
      "Requirement already satisfied: multiprocess in /Users/cactus/miniconda3/lib/python3.12/site-packages (from datasets) (0.70.16)\n",
      "Requirement already satisfied: fsspec<=2024.3.1,>=2023.1.0 in /Users/cactus/miniconda3/lib/python3.12/site-packages (from fsspec[http]<=2024.3.1,>=2023.1.0->datasets) (2024.3.1)\n",
      "Requirement already satisfied: aiohttp in /Users/cactus/miniconda3/lib/python3.12/site-packages (from datasets) (3.9.5)\n",
      "Requirement already satisfied: huggingface-hub>=0.21.2 in /Users/cactus/miniconda3/lib/python3.12/site-packages (from datasets) (0.23.0)\n",
      "Requirement already satisfied: ipython in /Users/cactus/miniconda3/lib/python3.12/site-packages (from execnb>=0.1.4->nbdev) (8.22.2)\n",
      "Requirement already satisfied: aiosignal>=1.1.2 in /Users/cactus/miniconda3/lib/python3.12/site-packages (from aiohttp->datasets) (1.3.1)\n",
      "Requirement already satisfied: attrs>=17.3.0 in /Users/cactus/miniconda3/lib/python3.12/site-packages (from aiohttp->datasets) (23.2.0)\n",
      "Requirement already satisfied: frozenlist>=1.1.1 in /Users/cactus/miniconda3/lib/python3.12/site-packages (from aiohttp->datasets) (1.4.1)\n",
      "Requirement already satisfied: multidict<7.0,>=4.5 in /Users/cactus/miniconda3/lib/python3.12/site-packages (from aiohttp->datasets) (6.0.5)\n",
      "Requirement already satisfied: yarl<2.0,>=1.0 in /Users/cactus/miniconda3/lib/python3.12/site-packages (from aiohttp->datasets) (1.9.4)\n",
      "Requirement already satisfied: typing-extensions>=3.7.4.3 in /Users/cactus/miniconda3/lib/python3.12/site-packages (from huggingface-hub>=0.21.2->datasets) (4.9.0)\n",
      "Requirement already satisfied: charset-normalizer<4,>=2 in /Users/cactus/miniconda3/lib/python3.12/site-packages (from requests->kaggle) (2.0.4)\n",
      "Requirement already satisfied: idna<4,>=2.5 in /Users/cactus/miniconda3/lib/python3.12/site-packages (from requests->kaggle) (3.4)\n",
      "Requirement already satisfied: spacy-legacy<3.1.0,>=3.0.11 in /Users/cactus/miniconda3/lib/python3.12/site-packages (from spacy<4->fastai) (3.0.12)\n",
      "Requirement already satisfied: spacy-loggers<2.0.0,>=1.0.0 in /Users/cactus/miniconda3/lib/python3.12/site-packages (from spacy<4->fastai) (1.0.4)\n",
      "Requirement already satisfied: murmurhash<1.1.0,>=0.28.0 in /Users/cactus/miniconda3/lib/python3.12/site-packages (from spacy<4->fastai) (1.0.7)\n",
      "Requirement already satisfied: cymem<2.1.0,>=2.0.2 in /Users/cactus/miniconda3/lib/python3.12/site-packages (from spacy<4->fastai) (2.0.6)\n",
      "Requirement already satisfied: preshed<3.1.0,>=3.0.2 in /Users/cactus/miniconda3/lib/python3.12/site-packages (from spacy<4->fastai) (3.0.6)\n",
      "Requirement already satisfied: thinc<8.3.0,>=8.1.8 in /Users/cactus/miniconda3/lib/python3.12/site-packages (from spacy<4->fastai) (8.2.2)\n",
      "Requirement already satisfied: wasabi<1.2.0,>=0.9.1 in /Users/cactus/miniconda3/lib/python3.12/site-packages (from spacy<4->fastai) (0.9.1)\n",
      "Requirement already satisfied: srsly<3.0.0,>=2.4.3 in /Users/cactus/miniconda3/lib/python3.12/site-packages (from spacy<4->fastai) (2.4.8)\n",
      "Requirement already satisfied: catalogue<2.1.0,>=2.0.6 in /Users/cactus/miniconda3/lib/python3.12/site-packages (from spacy<4->fastai) (2.0.10)\n",
      "Requirement already satisfied: weasel<0.4.0,>=0.1.0 in /Users/cactus/miniconda3/lib/python3.12/site-packages (from spacy<4->fastai) (0.3.4)\n",
      "Requirement already satisfied: typer<0.10.0,>=0.3.0 in /Users/cactus/miniconda3/lib/python3.12/site-packages (from spacy<4->fastai) (0.9.0)\n",
      "Requirement already satisfied: smart-open<7.0.0,>=5.2.1 in /Users/cactus/miniconda3/lib/python3.12/site-packages (from spacy<4->fastai) (5.2.1)\n",
      "Requirement already satisfied: pydantic!=1.8,!=1.8.1,<3.0.0,>=1.7.4 in /Users/cactus/miniconda3/lib/python3.12/site-packages (from spacy<4->fastai) (2.5.3)\n",
      "Requirement already satisfied: jinja2 in /Users/cactus/miniconda3/lib/python3.12/site-packages (from spacy<4->fastai) (3.1.3)\n",
      "Requirement already satisfied: setuptools in /Users/cactus/miniconda3/lib/python3.12/site-packages (from spacy<4->fastai) (68.2.2)\n",
      "Requirement already satisfied: langcodes<4.0.0,>=3.2.0 in /Users/cactus/miniconda3/lib/python3.12/site-packages (from spacy<4->fastai) (3.3.0)\n",
      "Requirement already satisfied: sympy in /Users/cactus/miniconda3/lib/python3.12/site-packages (from torch<2.4,>=1.10->fastai) (1.12)\n",
      "Requirement already satisfied: networkx in /Users/cactus/miniconda3/lib/python3.12/site-packages (from torch<2.4,>=1.10->fastai) (3.1)\n",
      "Requirement already satisfied: wheel<1.0,>=0.23.0 in /Users/cactus/miniconda3/lib/python3.12/site-packages (from astunparse->nbdev) (0.41.2)\n",
      "Requirement already satisfied: webencodings in /Users/cactus/miniconda3/lib/python3.12/site-packages (from bleach->kaggle) (0.5.1)\n",
      "Requirement already satisfied: contourpy>=1.0.1 in /Users/cactus/miniconda3/lib/python3.12/site-packages (from matplotlib->fastai) (1.2.0)\n",
      "Requirement already satisfied: cycler>=0.10 in /Users/cactus/miniconda3/lib/python3.12/site-packages (from matplotlib->fastai) (0.11.0)\n",
      "Requirement already satisfied: fonttools>=4.22.0 in /Users/cactus/miniconda3/lib/python3.12/site-packages (from matplotlib->fastai) (4.51.0)\n",
      "Requirement already satisfied: kiwisolver>=1.3.1 in /Users/cactus/miniconda3/lib/python3.12/site-packages (from matplotlib->fastai) (1.4.4)\n",
      "Requirement already satisfied: pyparsing>=2.3.1 in /Users/cactus/miniconda3/lib/python3.12/site-packages (from matplotlib->fastai) (3.0.9)\n",
      "Requirement already satisfied: pytz>=2020.1 in /Users/cactus/miniconda3/lib/python3.12/site-packages (from pandas->fastai) (2024.1)\n",
      "Requirement already satisfied: tzdata>=2022.7 in /Users/cactus/miniconda3/lib/python3.12/site-packages (from pandas->fastai) (2023.3)\n",
      "Requirement already satisfied: text-unidecode>=1.3 in /Users/cactus/miniconda3/lib/python3.12/site-packages (from python-slugify->kaggle) (1.3)\n",
      "Requirement already satisfied: joblib>=1.2.0 in /Users/cactus/miniconda3/lib/python3.12/site-packages (from scikit-learn->fastai) (1.4.0)\n",
      "Requirement already satisfied: threadpoolctl>=2.0.0 in /Users/cactus/miniconda3/lib/python3.12/site-packages (from scikit-learn->fastai) (2.2.0)\n",
      "Requirement already satisfied: annotated-types>=0.4.0 in /Users/cactus/miniconda3/lib/python3.12/site-packages (from pydantic!=1.8,!=1.8.1,<3.0.0,>=1.7.4->spacy<4->fastai) (0.6.0)\n",
      "Requirement already satisfied: pydantic-core==2.14.6 in /Users/cactus/miniconda3/lib/python3.12/site-packages (from pydantic!=1.8,!=1.8.1,<3.0.0,>=1.7.4->spacy<4->fastai) (2.14.6)\n",
      "Requirement already satisfied: blis<0.8.0,>=0.7.8 in /Users/cactus/miniconda3/lib/python3.12/site-packages (from thinc<8.3.0,>=8.1.8->spacy<4->fastai) (0.7.11)\n",
      "Requirement already satisfied: confection<1.0.0,>=0.0.1 in /Users/cactus/miniconda3/lib/python3.12/site-packages (from thinc<8.3.0,>=8.1.8->spacy<4->fastai) (0.1.4)\n",
      "Requirement already satisfied: click<9.0.0,>=7.1.1 in /Users/cactus/miniconda3/lib/python3.12/site-packages (from typer<0.10.0,>=0.3.0->spacy<4->fastai) (8.1.7)\n",
      "Requirement already satisfied: cloudpathlib<0.17.0,>=0.7.0 in /Users/cactus/miniconda3/lib/python3.12/site-packages (from weasel<0.4.0,>=0.1.0->spacy<4->fastai) (0.16.0)\n",
      "Requirement already satisfied: decorator in /Users/cactus/miniconda3/lib/python3.12/site-packages (from ipython->execnb>=0.1.4->nbdev) (5.1.1)\n",
      "Requirement already satisfied: jedi>=0.16 in /Users/cactus/miniconda3/lib/python3.12/site-packages (from ipython->execnb>=0.1.4->nbdev) (0.19.1)\n",
      "Requirement already satisfied: matplotlib-inline in /Users/cactus/miniconda3/lib/python3.12/site-packages (from ipython->execnb>=0.1.4->nbdev) (0.1.7)\n",
      "Requirement already satisfied: prompt-toolkit<3.1.0,>=3.0.41 in /Users/cactus/miniconda3/lib/python3.12/site-packages (from ipython->execnb>=0.1.4->nbdev) (3.0.42)\n",
      "Requirement already satisfied: pygments>=2.4.0 in /Users/cactus/miniconda3/lib/python3.12/site-packages (from ipython->execnb>=0.1.4->nbdev) (2.15.1)\n",
      "Requirement already satisfied: stack-data in /Users/cactus/miniconda3/lib/python3.12/site-packages (from ipython->execnb>=0.1.4->nbdev) (0.6.2)\n",
      "Requirement already satisfied: traitlets>=5.13.0 in /Users/cactus/miniconda3/lib/python3.12/site-packages (from ipython->execnb>=0.1.4->nbdev) (5.14.3)\n",
      "Requirement already satisfied: pexpect>4.3 in /Users/cactus/miniconda3/lib/python3.12/site-packages (from ipython->execnb>=0.1.4->nbdev) (4.9.0)\n",
      "Requirement already satisfied: MarkupSafe>=2.0 in /Users/cactus/miniconda3/lib/python3.12/site-packages (from jinja2->spacy<4->fastai) (2.1.3)\n",
      "Requirement already satisfied: mpmath>=0.19 in /Users/cactus/miniconda3/lib/python3.12/site-packages (from sympy->torch<2.4,>=1.10->fastai) (1.3.0)\n",
      "Requirement already satisfied: parso<0.9.0,>=0.8.3 in /Users/cactus/miniconda3/lib/python3.12/site-packages (from jedi>=0.16->ipython->execnb>=0.1.4->nbdev) (0.8.4)\n",
      "Requirement already satisfied: ptyprocess>=0.5 in /Users/cactus/miniconda3/lib/python3.12/site-packages (from pexpect>4.3->ipython->execnb>=0.1.4->nbdev) (0.7.0)\n",
      "Requirement already satisfied: wcwidth in /Users/cactus/miniconda3/lib/python3.12/site-packages (from prompt-toolkit<3.1.0,>=3.0.41->ipython->execnb>=0.1.4->nbdev) (0.2.13)\n",
      "Requirement already satisfied: executing>=1.2.0 in /Users/cactus/miniconda3/lib/python3.12/site-packages (from stack-data->ipython->execnb>=0.1.4->nbdev) (2.0.1)\n",
      "Requirement already satisfied: pure-eval in /Users/cactus/miniconda3/lib/python3.12/site-packages (from stack-data->ipython->execnb>=0.1.4->nbdev) (0.2.2)\n",
      "^C\n",
      "\u001b[31mERROR: Operation cancelled by user\u001b[0m\u001b[31m\n",
      "\u001b[0m"
     ]
    }
   ],
   "source": [
    "dependencies = [\n",
    "    \"kagtool\",\n",
    "    \"kaggle\",\n",
    "    \"fastai\",\n",
    "    \"nbdev\",\n",
    "    \"datasets\"\n",
    "]\n",
    "\n",
    "!pip install -U {\" \".join(dependencies)}\n",
    "\n",
    "from fastai.imports import *"
   ]
  },
  {
   "cell_type": "code",
   "execution_count": 2,
   "metadata": {},
   "outputs": [],
   "source": [
    "import gc\n",
    "\n",
    "from fastai.imports import *\n",
    "from fastai.vision.all import *\n",
    "\n",
    "import matplotlib.pyplot as plt"
   ]
  },
  {
   "cell_type": "code",
   "execution_count": 3,
   "metadata": {},
   "outputs": [
    {
     "data": {
      "text/plain": [
       "'cpu'"
      ]
     },
     "execution_count": 3,
     "metadata": {},
     "output_type": "execute_result"
    }
   ],
   "source": [
    "device = \"cuda:0\" if torch.cuda.is_available() else \"cpu\"\n",
    "device"
   ]
  },
  {
   "cell_type": "markdown",
   "metadata": {},
   "source": [
    "### Loading An Image As A Tensor"
   ]
  },
  {
   "cell_type": "markdown",
   "metadata": {},
   "source": [
    "### Image With Color Channels"
   ]
  },
  {
   "cell_type": "code",
   "execution_count": null,
   "metadata": {},
   "outputs": [
    {
     "data": {
      "text/plain": [
       "(#3) [Path('/Users/cactus/.fastai/data/cifar10/test'),Path('/Users/cactus/.fastai/data/cifar10/labels.txt'),Path('/Users/cactus/.fastai/data/cifar10/train')]"
      ]
     },
     "execution_count": 91,
     "metadata": {},
     "output_type": "execute_result"
    }
   ],
   "source": [
    "cifar_path = untar_data(URLs.CIFAR)\n",
    "cifar_path.ls()"
   ]
  },
  {
   "cell_type": "code",
   "execution_count": null,
   "metadata": {},
   "outputs": [
    {
     "data": {
      "text/plain": [
       "<Axes: >"
      ]
     },
     "execution_count": 99,
     "metadata": {},
     "output_type": "execute_result"
    },
    {
     "data": {
      "image/png": "[encoded data removed]",
      "text/plain": [
       "<Figure size 100x100 with 1 Axes>"
      ]
     },
     "metadata": {},
     "output_type": "display_data"
    }
   ],
   "source": [
    "bird = Image.open(cifar_path/'train'/'bird'/'144_bird.png')\n",
    "show_image(bird)"
   ]
  },
  {
   "cell_type": "code",
   "execution_count": null,
   "metadata": {},
   "outputs": [
    {
     "data": {
      "text/plain": [
       "(32, 32)"
      ]
     },
     "execution_count": 104,
     "metadata": {},
     "output_type": "execute_result"
    }
   ],
   "source": [
    "bird.shape"
   ]
  },
  {
   "cell_type": "markdown",
   "metadata": {},
   "source": [
    "We can access the channel after transforming the PILImage into a numpy array"
   ]
  },
  {
   "cell_type": "code",
   "execution_count": null,
   "metadata": {},
   "outputs": [
    {
     "data": {
      "text/plain": [
       "(32, 32, 3)"
      ]
     },
     "execution_count": 103,
     "metadata": {},
     "output_type": "execute_result"
    }
   ],
   "source": [
    "np.array(bird).shape"
   ]
  },
  {
   "cell_type": "markdown",
   "metadata": {},
   "source": [
    "### Grayscale Images"
   ]
  },
  {
   "cell_type": "markdown",
   "metadata": {},
   "source": [
    "`Image.open` loads image as rank-3 tensors"
   ]
  },
  {
   "cell_type": "code",
   "execution_count": null,
   "metadata": {},
   "outputs": [
    {
     "data": {
      "text/plain": [
       "(#3) [Path('/Users/cactus/.fastai/data/mnist_sample/valid'),Path('/Users/cactus/.fastai/data/mnist_sample/labels.csv'),Path('/Users/cactus/.fastai/data/mnist_sample/train')]"
      ]
     },
     "execution_count": 106,
     "metadata": {},
     "output_type": "execute_result"
    }
   ],
   "source": [
    "path = untar_data(URLs.MNIST_SAMPLE)\n",
    "path.ls()"
   ]
  },
  {
   "cell_type": "code",
   "execution_count": null,
   "metadata": {},
   "outputs": [
    {
     "data": {
      "text/plain": [
       "<Axes: >"
      ]
     },
     "execution_count": 114,
     "metadata": {},
     "output_type": "execute_result"
    },
    {
     "data": {
      "image/png": "[encoded data removed]",
      "text/plain": [
       "<Figure size 100x100 with 1 Axes>"
      ]
     },
     "metadata": {},
     "output_type": "display_data"
    }
   ],
   "source": [
    "im3 = Image.open(path/'train'/'3'/'12.png')\n",
    "show_image(im3)"
   ]
  },
  {
   "cell_type": "markdown",
   "metadata": {},
   "source": [
    "Note the difference with the bird image, this image has no color channel, so it's actually a grayscale image"
   ]
  },
  {
   "cell_type": "code",
   "execution_count": null,
   "metadata": {},
   "outputs": [
    {
     "data": {
      "text/plain": [
       "(28, 28)"
      ]
     },
     "execution_count": 120,
     "metadata": {},
     "output_type": "execute_result"
    }
   ],
   "source": [
    "# be careful to do shape on the numpy array, not the image object\n",
    "np.array(im3).shape"
   ]
  },
  {
   "cell_type": "markdown",
   "metadata": {},
   "source": [
    "# Convolutions 101"
   ]
  },
  {
   "cell_type": "markdown",
   "metadata": {},
   "source": [
    "### A Kernel Is a Filter"
   ]
  },
  {
   "cell_type": "code",
   "execution_count": null,
   "metadata": {},
   "outputs": [],
   "source": [
    "top_edge = tensor([[-1,-1,-1],\n",
    "                   [ 0, 0, 0],\n",
    "                   [ 1, 1, 1]]).float()"
   ]
  },
  {
   "cell_type": "code",
   "execution_count": null,
   "metadata": {},
   "outputs": [
    {
     "data": {
      "text/plain": [
       "tensor([[-0., -0., -0.],\n",
       "        [0., 0., 0.],\n",
       "        [0., 0., 0.]])"
      ]
     },
     "execution_count": 122,
     "metadata": {},
     "output_type": "execute_result"
    }
   ],
   "source": [
    "im3_t = tensor(im3)\n",
    "im3_t[0:3,0:3] * top_edge"
   ]
  },
  {
   "cell_type": "code",
   "execution_count": null,
   "metadata": {},
   "outputs": [
    {
     "data": {
      "text/plain": [
       "tensor(0.)"
      ]
     },
     "execution_count": 123,
     "metadata": {},
     "output_type": "execute_result"
    }
   ],
   "source": [
    "(im3_t[0:3,0:3] * top_edge).sum()"
   ]
  },
  {
   "cell_type": "code",
   "execution_count": null,
   "metadata": {},
   "outputs": [
    {
     "data": {
      "text/html": [
       "<style type=\"text/css\">\n",
       "#T_64ffc_row0_col0, #T_64ffc_row0_col1, #T_64ffc_row0_col2, #T_64ffc_row0_col3, #T_64ffc_row0_col4, #T_64ffc_row0_col5, #T_64ffc_row0_col6, #T_64ffc_row0_col7, #T_64ffc_row0_col8, #T_64ffc_row0_col9, #T_64ffc_row0_col10, #T_64ffc_row0_col11, #T_64ffc_row0_col12, #T_64ffc_row0_col13, #T_64ffc_row0_col14, #T_64ffc_row0_col15, #T_64ffc_row0_col16, #T_64ffc_row0_col17, #T_64ffc_row0_col18, #T_64ffc_row0_col19, #T_64ffc_row1_col0, #T_64ffc_row1_col1, #T_64ffc_row1_col2, #T_64ffc_row1_col3, #T_64ffc_row1_col4, #T_64ffc_row1_col5, #T_64ffc_row1_col6, #T_64ffc_row1_col7, #T_64ffc_row1_col8, #T_64ffc_row1_col9, #T_64ffc_row1_col10, #T_64ffc_row1_col11, #T_64ffc_row1_col12, #T_64ffc_row1_col13, #T_64ffc_row1_col14, #T_64ffc_row1_col15, #T_64ffc_row1_col16, #T_64ffc_row1_col17, #T_64ffc_row1_col18, #T_64ffc_row1_col19, #T_64ffc_row2_col0, #T_64ffc_row2_col1, #T_64ffc_row2_col2, #T_64ffc_row2_col3, #T_64ffc_row2_col4, #T_64ffc_row2_col5, #T_64ffc_row2_col6, #T_64ffc_row2_col7, #T_64ffc_row2_col8, #T_64ffc_row2_col9, #T_64ffc_row2_col10, #T_64ffc_row2_col11, #T_64ffc_row2_col12, #T_64ffc_row2_col13, #T_64ffc_row2_col14, #T_64ffc_row2_col15, #T_64ffc_row2_col16, #T_64ffc_row2_col17, #T_64ffc_row2_col18, #T_64ffc_row2_col19, #T_64ffc_row3_col0, #T_64ffc_row3_col1, #T_64ffc_row3_col2, #T_64ffc_row3_col3, #T_64ffc_row3_col4, #T_64ffc_row3_col5, #T_64ffc_row3_col6, #T_64ffc_row3_col7, #T_64ffc_row3_col8, #T_64ffc_row3_col9, #T_64ffc_row3_col10, #T_64ffc_row3_col11, #T_64ffc_row3_col12, #T_64ffc_row3_col13, #T_64ffc_row3_col14, #T_64ffc_row3_col15, #T_64ffc_row3_col16, #T_64ffc_row3_col17, #T_64ffc_row3_col18, #T_64ffc_row3_col19, #T_64ffc_row4_col0, #T_64ffc_row4_col1, #T_64ffc_row4_col2, #T_64ffc_row4_col3, #T_64ffc_row4_col4, #T_64ffc_row4_col5, #T_64ffc_row4_col6, #T_64ffc_row4_col7, #T_64ffc_row4_col8, #T_64ffc_row4_col9, #T_64ffc_row4_col10, #T_64ffc_row4_col11, #T_64ffc_row4_col12, #T_64ffc_row4_col13, #T_64ffc_row4_col14, #T_64ffc_row4_col15, #T_64ffc_row4_col16, #T_64ffc_row4_col17, #T_64ffc_row4_col18, #T_64ffc_row4_col19, #T_64ffc_row5_col0, #T_64ffc_row5_col1, #T_64ffc_row5_col2, #T_64ffc_row5_col16, #T_64ffc_row5_col17, #T_64ffc_row5_col18, #T_64ffc_row5_col19, #T_64ffc_row6_col0, #T_64ffc_row6_col1, #T_64ffc_row6_col2, #T_64ffc_row6_col19, #T_64ffc_row7_col0, #T_64ffc_row7_col1, #T_64ffc_row7_col2, #T_64ffc_row7_col19, #T_64ffc_row8_col0, #T_64ffc_row8_col1, #T_64ffc_row8_col2, #T_64ffc_row8_col8, #T_64ffc_row8_col9, #T_64ffc_row8_col10, #T_64ffc_row8_col11, #T_64ffc_row8_col12, #T_64ffc_row8_col13, #T_64ffc_row8_col19, #T_64ffc_row9_col0, #T_64ffc_row9_col1, #T_64ffc_row9_col2, #T_64ffc_row9_col3, #T_64ffc_row9_col4, #T_64ffc_row9_col5, #T_64ffc_row9_col6, #T_64ffc_row9_col7, #T_64ffc_row9_col8, #T_64ffc_row9_col9, #T_64ffc_row9_col10, #T_64ffc_row9_col11, #T_64ffc_row9_col12, #T_64ffc_row9_col13, #T_64ffc_row9_col19 {\n",
       "  font-size: 6pt;\n",
       "  background-color: #ffffff;\n",
       "  color: #000000;\n",
       "}\n",
       "#T_64ffc_row5_col3, #T_64ffc_row8_col14 {\n",
       "  font-size: 6pt;\n",
       "  background-color: #f9f9f9;\n",
       "  color: #000000;\n",
       "}\n",
       "#T_64ffc_row5_col4 {\n",
       "  font-size: 6pt;\n",
       "  background-color: #b9b9b9;\n",
       "  color: #000000;\n",
       "}\n",
       "#T_64ffc_row5_col5 {\n",
       "  font-size: 6pt;\n",
       "  background-color: #c1c1c1;\n",
       "  color: #000000;\n",
       "}\n",
       "#T_64ffc_row5_col6 {\n",
       "  font-size: 6pt;\n",
       "  background-color: #858585;\n",
       "  color: #f1f1f1;\n",
       "}\n",
       "#T_64ffc_row5_col7, #T_64ffc_row5_col10, #T_64ffc_row5_col11, #T_64ffc_row5_col12, #T_64ffc_row5_col13 {\n",
       "  font-size: 6pt;\n",
       "  background-color: #777777;\n",
       "  color: #f1f1f1;\n",
       "}\n",
       "#T_64ffc_row5_col8 {\n",
       "  font-size: 6pt;\n",
       "  background-color: #090909;\n",
       "  color: #f1f1f1;\n",
       "}\n",
       "#T_64ffc_row5_col9 {\n",
       "  font-size: 6pt;\n",
       "  background-color: #5b5b5b;\n",
       "  color: #f1f1f1;\n",
       "}\n",
       "#T_64ffc_row5_col14 {\n",
       "  font-size: 6pt;\n",
       "  background-color: #919191;\n",
       "  color: #f1f1f1;\n",
       "}\n",
       "#T_64ffc_row5_col15 {\n",
       "  font-size: 6pt;\n",
       "  background-color: #e1e1e1;\n",
       "  color: #000000;\n",
       "}\n",
       "#T_64ffc_row6_col3 {\n",
       "  font-size: 6pt;\n",
       "  background-color: #727272;\n",
       "  color: #f1f1f1;\n",
       "}\n",
       "#T_64ffc_row6_col4, #T_64ffc_row6_col5, #T_64ffc_row6_col6, #T_64ffc_row6_col7, #T_64ffc_row6_col8, #T_64ffc_row6_col9, #T_64ffc_row6_col10, #T_64ffc_row6_col11, #T_64ffc_row6_col12, #T_64ffc_row6_col13, #T_64ffc_row6_col14, #T_64ffc_row7_col3, #T_64ffc_row7_col4, #T_64ffc_row7_col5, #T_64ffc_row7_col6, #T_64ffc_row7_col15, #T_64ffc_row7_col16, #T_64ffc_row7_col17, #T_64ffc_row8_col16, #T_64ffc_row8_col17, #T_64ffc_row8_col18, #T_64ffc_row9_col15, #T_64ffc_row9_col16 {\n",
       "  font-size: 6pt;\n",
       "  background-color: #000000;\n",
       "  color: #f1f1f1;\n",
       "}\n",
       "#T_64ffc_row6_col15 {\n",
       "  font-size: 6pt;\n",
       "  background-color: #020202;\n",
       "  color: #f1f1f1;\n",
       "}\n",
       "#T_64ffc_row6_col16 {\n",
       "  font-size: 6pt;\n",
       "  background-color: #363636;\n",
       "  color: #f1f1f1;\n",
       "}\n",
       "#T_64ffc_row6_col17 {\n",
       "  font-size: 6pt;\n",
       "  background-color: #9d9d9d;\n",
       "  color: #f1f1f1;\n",
       "}\n",
       "#T_64ffc_row6_col18 {\n",
       "  font-size: 6pt;\n",
       "  background-color: #dfdfdf;\n",
       "  color: #000000;\n",
       "}\n",
       "#T_64ffc_row7_col7 {\n",
       "  font-size: 6pt;\n",
       "  background-color: #161616;\n",
       "  color: #f1f1f1;\n",
       "}\n",
       "#T_64ffc_row7_col8, #T_64ffc_row7_col9, #T_64ffc_row7_col10, #T_64ffc_row7_col11, #T_64ffc_row7_col13 {\n",
       "  font-size: 6pt;\n",
       "  background-color: #535353;\n",
       "  color: #f1f1f1;\n",
       "}\n",
       "#T_64ffc_row7_col12 {\n",
       "  font-size: 6pt;\n",
       "  background-color: #7c7c7c;\n",
       "  color: #f1f1f1;\n",
       "}\n",
       "#T_64ffc_row7_col14 {\n",
       "  font-size: 6pt;\n",
       "  background-color: #3d3d3d;\n",
       "  color: #f1f1f1;\n",
       "}\n",
       "#T_64ffc_row7_col18 {\n",
       "  font-size: 6pt;\n",
       "  background-color: #999999;\n",
       "  color: #f1f1f1;\n",
       "}\n",
       "#T_64ffc_row8_col3 {\n",
       "  font-size: 6pt;\n",
       "  background-color: #eaeaea;\n",
       "  color: #000000;\n",
       "}\n",
       "#T_64ffc_row8_col4 {\n",
       "  font-size: 6pt;\n",
       "  background-color: #d0d0d0;\n",
       "  color: #000000;\n",
       "}\n",
       "#T_64ffc_row8_col5, #T_64ffc_row8_col6 {\n",
       "  font-size: 6pt;\n",
       "  background-color: #eeeeee;\n",
       "  color: #000000;\n",
       "}\n",
       "#T_64ffc_row8_col7 {\n",
       "  font-size: 6pt;\n",
       "  background-color: #f3f3f3;\n",
       "  color: #000000;\n",
       "}\n",
       "#T_64ffc_row8_col15 {\n",
       "  font-size: 6pt;\n",
       "  background-color: #232323;\n",
       "  color: #f1f1f1;\n",
       "}\n",
       "#T_64ffc_row9_col14 {\n",
       "  font-size: 6pt;\n",
       "  background-color: #c2c2c2;\n",
       "  color: #000000;\n",
       "}\n",
       "#T_64ffc_row9_col17 {\n",
       "  font-size: 6pt;\n",
       "  background-color: #080808;\n",
       "  color: #f1f1f1;\n",
       "}\n",
       "#T_64ffc_row9_col18 {\n",
       "  font-size: 6pt;\n",
       "  background-color: #c4c4c4;\n",
       "  color: #000000;\n",
       "}\n",
       "</style>\n",
       "<table id=\"T_64ffc\">\n",
       "  <thead>\n",
       "    <tr>\n",
       "      <th class=\"blank level0\" >&nbsp;</th>\n",
       "      <th id=\"T_64ffc_level0_col0\" class=\"col_heading level0 col0\" >0</th>\n",
       "      <th id=\"T_64ffc_level0_col1\" class=\"col_heading level0 col1\" >1</th>\n",
       "      <th id=\"T_64ffc_level0_col2\" class=\"col_heading level0 col2\" >2</th>\n",
       "      <th id=\"T_64ffc_level0_col3\" class=\"col_heading level0 col3\" >3</th>\n",
       "      <th id=\"T_64ffc_level0_col4\" class=\"col_heading level0 col4\" >4</th>\n",
       "      <th id=\"T_64ffc_level0_col5\" class=\"col_heading level0 col5\" >5</th>\n",
       "      <th id=\"T_64ffc_level0_col6\" class=\"col_heading level0 col6\" >6</th>\n",
       "      <th id=\"T_64ffc_level0_col7\" class=\"col_heading level0 col7\" >7</th>\n",
       "      <th id=\"T_64ffc_level0_col8\" class=\"col_heading level0 col8\" >8</th>\n",
       "      <th id=\"T_64ffc_level0_col9\" class=\"col_heading level0 col9\" >9</th>\n",
       "      <th id=\"T_64ffc_level0_col10\" class=\"col_heading level0 col10\" >10</th>\n",
       "      <th id=\"T_64ffc_level0_col11\" class=\"col_heading level0 col11\" >11</th>\n",
       "      <th id=\"T_64ffc_level0_col12\" class=\"col_heading level0 col12\" >12</th>\n",
       "      <th id=\"T_64ffc_level0_col13\" class=\"col_heading level0 col13\" >13</th>\n",
       "      <th id=\"T_64ffc_level0_col14\" class=\"col_heading level0 col14\" >14</th>\n",
       "      <th id=\"T_64ffc_level0_col15\" class=\"col_heading level0 col15\" >15</th>\n",
       "      <th id=\"T_64ffc_level0_col16\" class=\"col_heading level0 col16\" >16</th>\n",
       "      <th id=\"T_64ffc_level0_col17\" class=\"col_heading level0 col17\" >17</th>\n",
       "      <th id=\"T_64ffc_level0_col18\" class=\"col_heading level0 col18\" >18</th>\n",
       "      <th id=\"T_64ffc_level0_col19\" class=\"col_heading level0 col19\" >19</th>\n",
       "    </tr>\n",
       "  </thead>\n",
       "  <tbody>\n",
       "    <tr>\n",
       "      <th id=\"T_64ffc_level0_row0\" class=\"row_heading level0 row0\" >0</th>\n",
       "      <td id=\"T_64ffc_row0_col0\" class=\"data row0 col0\" >0</td>\n",
       "      <td id=\"T_64ffc_row0_col1\" class=\"data row0 col1\" >0</td>\n",
       "      <td id=\"T_64ffc_row0_col2\" class=\"data row0 col2\" >0</td>\n",
       "      <td id=\"T_64ffc_row0_col3\" class=\"data row0 col3\" >0</td>\n",
       "      <td id=\"T_64ffc_row0_col4\" class=\"data row0 col4\" >0</td>\n",
       "      <td id=\"T_64ffc_row0_col5\" class=\"data row0 col5\" >0</td>\n",
       "      <td id=\"T_64ffc_row0_col6\" class=\"data row0 col6\" >0</td>\n",
       "      <td id=\"T_64ffc_row0_col7\" class=\"data row0 col7\" >0</td>\n",
       "      <td id=\"T_64ffc_row0_col8\" class=\"data row0 col8\" >0</td>\n",
       "      <td id=\"T_64ffc_row0_col9\" class=\"data row0 col9\" >0</td>\n",
       "      <td id=\"T_64ffc_row0_col10\" class=\"data row0 col10\" >0</td>\n",
       "      <td id=\"T_64ffc_row0_col11\" class=\"data row0 col11\" >0</td>\n",
       "      <td id=\"T_64ffc_row0_col12\" class=\"data row0 col12\" >0</td>\n",
       "      <td id=\"T_64ffc_row0_col13\" class=\"data row0 col13\" >0</td>\n",
       "      <td id=\"T_64ffc_row0_col14\" class=\"data row0 col14\" >0</td>\n",
       "      <td id=\"T_64ffc_row0_col15\" class=\"data row0 col15\" >0</td>\n",
       "      <td id=\"T_64ffc_row0_col16\" class=\"data row0 col16\" >0</td>\n",
       "      <td id=\"T_64ffc_row0_col17\" class=\"data row0 col17\" >0</td>\n",
       "      <td id=\"T_64ffc_row0_col18\" class=\"data row0 col18\" >0</td>\n",
       "      <td id=\"T_64ffc_row0_col19\" class=\"data row0 col19\" >0</td>\n",
       "    </tr>\n",
       "    <tr>\n",
       "      <th id=\"T_64ffc_level0_row1\" class=\"row_heading level0 row1\" >1</th>\n",
       "      <td id=\"T_64ffc_row1_col0\" class=\"data row1 col0\" >0</td>\n",
       "      <td id=\"T_64ffc_row1_col1\" class=\"data row1 col1\" >0</td>\n",
       "      <td id=\"T_64ffc_row1_col2\" class=\"data row1 col2\" >0</td>\n",
       "      <td id=\"T_64ffc_row1_col3\" class=\"data row1 col3\" >0</td>\n",
       "      <td id=\"T_64ffc_row1_col4\" class=\"data row1 col4\" >0</td>\n",
       "      <td id=\"T_64ffc_row1_col5\" class=\"data row1 col5\" >0</td>\n",
       "      <td id=\"T_64ffc_row1_col6\" class=\"data row1 col6\" >0</td>\n",
       "      <td id=\"T_64ffc_row1_col7\" class=\"data row1 col7\" >0</td>\n",
       "      <td id=\"T_64ffc_row1_col8\" class=\"data row1 col8\" >0</td>\n",
       "      <td id=\"T_64ffc_row1_col9\" class=\"data row1 col9\" >0</td>\n",
       "      <td id=\"T_64ffc_row1_col10\" class=\"data row1 col10\" >0</td>\n",
       "      <td id=\"T_64ffc_row1_col11\" class=\"data row1 col11\" >0</td>\n",
       "      <td id=\"T_64ffc_row1_col12\" class=\"data row1 col12\" >0</td>\n",
       "      <td id=\"T_64ffc_row1_col13\" class=\"data row1 col13\" >0</td>\n",
       "      <td id=\"T_64ffc_row1_col14\" class=\"data row1 col14\" >0</td>\n",
       "      <td id=\"T_64ffc_row1_col15\" class=\"data row1 col15\" >0</td>\n",
       "      <td id=\"T_64ffc_row1_col16\" class=\"data row1 col16\" >0</td>\n",
       "      <td id=\"T_64ffc_row1_col17\" class=\"data row1 col17\" >0</td>\n",
       "      <td id=\"T_64ffc_row1_col18\" class=\"data row1 col18\" >0</td>\n",
       "      <td id=\"T_64ffc_row1_col19\" class=\"data row1 col19\" >0</td>\n",
       "    </tr>\n",
       "    <tr>\n",
       "      <th id=\"T_64ffc_level0_row2\" class=\"row_heading level0 row2\" >2</th>\n",
       "      <td id=\"T_64ffc_row2_col0\" class=\"data row2 col0\" >0</td>\n",
       "      <td id=\"T_64ffc_row2_col1\" class=\"data row2 col1\" >0</td>\n",
       "      <td id=\"T_64ffc_row2_col2\" class=\"data row2 col2\" >0</td>\n",
       "      <td id=\"T_64ffc_row2_col3\" class=\"data row2 col3\" >0</td>\n",
       "      <td id=\"T_64ffc_row2_col4\" class=\"data row2 col4\" >0</td>\n",
       "      <td id=\"T_64ffc_row2_col5\" class=\"data row2 col5\" >0</td>\n",
       "      <td id=\"T_64ffc_row2_col6\" class=\"data row2 col6\" >0</td>\n",
       "      <td id=\"T_64ffc_row2_col7\" class=\"data row2 col7\" >0</td>\n",
       "      <td id=\"T_64ffc_row2_col8\" class=\"data row2 col8\" >0</td>\n",
       "      <td id=\"T_64ffc_row2_col9\" class=\"data row2 col9\" >0</td>\n",
       "      <td id=\"T_64ffc_row2_col10\" class=\"data row2 col10\" >0</td>\n",
       "      <td id=\"T_64ffc_row2_col11\" class=\"data row2 col11\" >0</td>\n",
       "      <td id=\"T_64ffc_row2_col12\" class=\"data row2 col12\" >0</td>\n",
       "      <td id=\"T_64ffc_row2_col13\" class=\"data row2 col13\" >0</td>\n",
       "      <td id=\"T_64ffc_row2_col14\" class=\"data row2 col14\" >0</td>\n",
       "      <td id=\"T_64ffc_row2_col15\" class=\"data row2 col15\" >0</td>\n",
       "      <td id=\"T_64ffc_row2_col16\" class=\"data row2 col16\" >0</td>\n",
       "      <td id=\"T_64ffc_row2_col17\" class=\"data row2 col17\" >0</td>\n",
       "      <td id=\"T_64ffc_row2_col18\" class=\"data row2 col18\" >0</td>\n",
       "      <td id=\"T_64ffc_row2_col19\" class=\"data row2 col19\" >0</td>\n",
       "    </tr>\n",
       "    <tr>\n",
       "      <th id=\"T_64ffc_level0_row3\" class=\"row_heading level0 row3\" >3</th>\n",
       "      <td id=\"T_64ffc_row3_col0\" class=\"data row3 col0\" >0</td>\n",
       "      <td id=\"T_64ffc_row3_col1\" class=\"data row3 col1\" >0</td>\n",
       "      <td id=\"T_64ffc_row3_col2\" class=\"data row3 col2\" >0</td>\n",
       "      <td id=\"T_64ffc_row3_col3\" class=\"data row3 col3\" >0</td>\n",
       "      <td id=\"T_64ffc_row3_col4\" class=\"data row3 col4\" >0</td>\n",
       "      <td id=\"T_64ffc_row3_col5\" class=\"data row3 col5\" >0</td>\n",
       "      <td id=\"T_64ffc_row3_col6\" class=\"data row3 col6\" >0</td>\n",
       "      <td id=\"T_64ffc_row3_col7\" class=\"data row3 col7\" >0</td>\n",
       "      <td id=\"T_64ffc_row3_col8\" class=\"data row3 col8\" >0</td>\n",
       "      <td id=\"T_64ffc_row3_col9\" class=\"data row3 col9\" >0</td>\n",
       "      <td id=\"T_64ffc_row3_col10\" class=\"data row3 col10\" >0</td>\n",
       "      <td id=\"T_64ffc_row3_col11\" class=\"data row3 col11\" >0</td>\n",
       "      <td id=\"T_64ffc_row3_col12\" class=\"data row3 col12\" >0</td>\n",
       "      <td id=\"T_64ffc_row3_col13\" class=\"data row3 col13\" >0</td>\n",
       "      <td id=\"T_64ffc_row3_col14\" class=\"data row3 col14\" >0</td>\n",
       "      <td id=\"T_64ffc_row3_col15\" class=\"data row3 col15\" >0</td>\n",
       "      <td id=\"T_64ffc_row3_col16\" class=\"data row3 col16\" >0</td>\n",
       "      <td id=\"T_64ffc_row3_col17\" class=\"data row3 col17\" >0</td>\n",
       "      <td id=\"T_64ffc_row3_col18\" class=\"data row3 col18\" >0</td>\n",
       "      <td id=\"T_64ffc_row3_col19\" class=\"data row3 col19\" >0</td>\n",
       "    </tr>\n",
       "    <tr>\n",
       "      <th id=\"T_64ffc_level0_row4\" class=\"row_heading level0 row4\" >4</th>\n",
       "      <td id=\"T_64ffc_row4_col0\" class=\"data row4 col0\" >0</td>\n",
       "      <td id=\"T_64ffc_row4_col1\" class=\"data row4 col1\" >0</td>\n",
       "      <td id=\"T_64ffc_row4_col2\" class=\"data row4 col2\" >0</td>\n",
       "      <td id=\"T_64ffc_row4_col3\" class=\"data row4 col3\" >0</td>\n",
       "      <td id=\"T_64ffc_row4_col4\" class=\"data row4 col4\" >0</td>\n",
       "      <td id=\"T_64ffc_row4_col5\" class=\"data row4 col5\" >0</td>\n",
       "      <td id=\"T_64ffc_row4_col6\" class=\"data row4 col6\" >0</td>\n",
       "      <td id=\"T_64ffc_row4_col7\" class=\"data row4 col7\" >0</td>\n",
       "      <td id=\"T_64ffc_row4_col8\" class=\"data row4 col8\" >0</td>\n",
       "      <td id=\"T_64ffc_row4_col9\" class=\"data row4 col9\" >0</td>\n",
       "      <td id=\"T_64ffc_row4_col10\" class=\"data row4 col10\" >0</td>\n",
       "      <td id=\"T_64ffc_row4_col11\" class=\"data row4 col11\" >0</td>\n",
       "      <td id=\"T_64ffc_row4_col12\" class=\"data row4 col12\" >0</td>\n",
       "      <td id=\"T_64ffc_row4_col13\" class=\"data row4 col13\" >0</td>\n",
       "      <td id=\"T_64ffc_row4_col14\" class=\"data row4 col14\" >0</td>\n",
       "      <td id=\"T_64ffc_row4_col15\" class=\"data row4 col15\" >0</td>\n",
       "      <td id=\"T_64ffc_row4_col16\" class=\"data row4 col16\" >0</td>\n",
       "      <td id=\"T_64ffc_row4_col17\" class=\"data row4 col17\" >0</td>\n",
       "      <td id=\"T_64ffc_row4_col18\" class=\"data row4 col18\" >0</td>\n",
       "      <td id=\"T_64ffc_row4_col19\" class=\"data row4 col19\" >0</td>\n",
       "    </tr>\n",
       "    <tr>\n",
       "      <th id=\"T_64ffc_level0_row5\" class=\"row_heading level0 row5\" >5</th>\n",
       "      <td id=\"T_64ffc_row5_col0\" class=\"data row5 col0\" >0</td>\n",
       "      <td id=\"T_64ffc_row5_col1\" class=\"data row5 col1\" >0</td>\n",
       "      <td id=\"T_64ffc_row5_col2\" class=\"data row5 col2\" >0</td>\n",
       "      <td id=\"T_64ffc_row5_col3\" class=\"data row5 col3\" >12</td>\n",
       "      <td id=\"T_64ffc_row5_col4\" class=\"data row5 col4\" >99</td>\n",
       "      <td id=\"T_64ffc_row5_col5\" class=\"data row5 col5\" >91</td>\n",
       "      <td id=\"T_64ffc_row5_col6\" class=\"data row5 col6\" >142</td>\n",
       "      <td id=\"T_64ffc_row5_col7\" class=\"data row5 col7\" >155</td>\n",
       "      <td id=\"T_64ffc_row5_col8\" class=\"data row5 col8\" >246</td>\n",
       "      <td id=\"T_64ffc_row5_col9\" class=\"data row5 col9\" >182</td>\n",
       "      <td id=\"T_64ffc_row5_col10\" class=\"data row5 col10\" >155</td>\n",
       "      <td id=\"T_64ffc_row5_col11\" class=\"data row5 col11\" >155</td>\n",
       "      <td id=\"T_64ffc_row5_col12\" class=\"data row5 col12\" >155</td>\n",
       "      <td id=\"T_64ffc_row5_col13\" class=\"data row5 col13\" >155</td>\n",
       "      <td id=\"T_64ffc_row5_col14\" class=\"data row5 col14\" >131</td>\n",
       "      <td id=\"T_64ffc_row5_col15\" class=\"data row5 col15\" >52</td>\n",
       "      <td id=\"T_64ffc_row5_col16\" class=\"data row5 col16\" >0</td>\n",
       "      <td id=\"T_64ffc_row5_col17\" class=\"data row5 col17\" >0</td>\n",
       "      <td id=\"T_64ffc_row5_col18\" class=\"data row5 col18\" >0</td>\n",
       "      <td id=\"T_64ffc_row5_col19\" class=\"data row5 col19\" >0</td>\n",
       "    </tr>\n",
       "    <tr>\n",
       "      <th id=\"T_64ffc_level0_row6\" class=\"row_heading level0 row6\" >6</th>\n",
       "      <td id=\"T_64ffc_row6_col0\" class=\"data row6 col0\" >0</td>\n",
       "      <td id=\"T_64ffc_row6_col1\" class=\"data row6 col1\" >0</td>\n",
       "      <td id=\"T_64ffc_row6_col2\" class=\"data row6 col2\" >0</td>\n",
       "      <td id=\"T_64ffc_row6_col3\" class=\"data row6 col3\" >138</td>\n",
       "      <td id=\"T_64ffc_row6_col4\" class=\"data row6 col4\" >254</td>\n",
       "      <td id=\"T_64ffc_row6_col5\" class=\"data row6 col5\" >254</td>\n",
       "      <td id=\"T_64ffc_row6_col6\" class=\"data row6 col6\" >254</td>\n",
       "      <td id=\"T_64ffc_row6_col7\" class=\"data row6 col7\" >254</td>\n",
       "      <td id=\"T_64ffc_row6_col8\" class=\"data row6 col8\" >254</td>\n",
       "      <td id=\"T_64ffc_row6_col9\" class=\"data row6 col9\" >254</td>\n",
       "      <td id=\"T_64ffc_row6_col10\" class=\"data row6 col10\" >254</td>\n",
       "      <td id=\"T_64ffc_row6_col11\" class=\"data row6 col11\" >254</td>\n",
       "      <td id=\"T_64ffc_row6_col12\" class=\"data row6 col12\" >254</td>\n",
       "      <td id=\"T_64ffc_row6_col13\" class=\"data row6 col13\" >254</td>\n",
       "      <td id=\"T_64ffc_row6_col14\" class=\"data row6 col14\" >254</td>\n",
       "      <td id=\"T_64ffc_row6_col15\" class=\"data row6 col15\" >252</td>\n",
       "      <td id=\"T_64ffc_row6_col16\" class=\"data row6 col16\" >210</td>\n",
       "      <td id=\"T_64ffc_row6_col17\" class=\"data row6 col17\" >122</td>\n",
       "      <td id=\"T_64ffc_row6_col18\" class=\"data row6 col18\" >33</td>\n",
       "      <td id=\"T_64ffc_row6_col19\" class=\"data row6 col19\" >0</td>\n",
       "    </tr>\n",
       "    <tr>\n",
       "      <th id=\"T_64ffc_level0_row7\" class=\"row_heading level0 row7\" >7</th>\n",
       "      <td id=\"T_64ffc_row7_col0\" class=\"data row7 col0\" >0</td>\n",
       "      <td id=\"T_64ffc_row7_col1\" class=\"data row7 col1\" >0</td>\n",
       "      <td id=\"T_64ffc_row7_col2\" class=\"data row7 col2\" >0</td>\n",
       "      <td id=\"T_64ffc_row7_col3\" class=\"data row7 col3\" >220</td>\n",
       "      <td id=\"T_64ffc_row7_col4\" class=\"data row7 col4\" >254</td>\n",
       "      <td id=\"T_64ffc_row7_col5\" class=\"data row7 col5\" >254</td>\n",
       "      <td id=\"T_64ffc_row7_col6\" class=\"data row7 col6\" >254</td>\n",
       "      <td id=\"T_64ffc_row7_col7\" class=\"data row7 col7\" >235</td>\n",
       "      <td id=\"T_64ffc_row7_col8\" class=\"data row7 col8\" >189</td>\n",
       "      <td id=\"T_64ffc_row7_col9\" class=\"data row7 col9\" >189</td>\n",
       "      <td id=\"T_64ffc_row7_col10\" class=\"data row7 col10\" >189</td>\n",
       "      <td id=\"T_64ffc_row7_col11\" class=\"data row7 col11\" >189</td>\n",
       "      <td id=\"T_64ffc_row7_col12\" class=\"data row7 col12\" >150</td>\n",
       "      <td id=\"T_64ffc_row7_col13\" class=\"data row7 col13\" >189</td>\n",
       "      <td id=\"T_64ffc_row7_col14\" class=\"data row7 col14\" >205</td>\n",
       "      <td id=\"T_64ffc_row7_col15\" class=\"data row7 col15\" >254</td>\n",
       "      <td id=\"T_64ffc_row7_col16\" class=\"data row7 col16\" >254</td>\n",
       "      <td id=\"T_64ffc_row7_col17\" class=\"data row7 col17\" >254</td>\n",
       "      <td id=\"T_64ffc_row7_col18\" class=\"data row7 col18\" >75</td>\n",
       "      <td id=\"T_64ffc_row7_col19\" class=\"data row7 col19\" >0</td>\n",
       "    </tr>\n",
       "    <tr>\n",
       "      <th id=\"T_64ffc_level0_row8\" class=\"row_heading level0 row8\" >8</th>\n",
       "      <td id=\"T_64ffc_row8_col0\" class=\"data row8 col0\" >0</td>\n",
       "      <td id=\"T_64ffc_row8_col1\" class=\"data row8 col1\" >0</td>\n",
       "      <td id=\"T_64ffc_row8_col2\" class=\"data row8 col2\" >0</td>\n",
       "      <td id=\"T_64ffc_row8_col3\" class=\"data row8 col3\" >35</td>\n",
       "      <td id=\"T_64ffc_row8_col4\" class=\"data row8 col4\" >74</td>\n",
       "      <td id=\"T_64ffc_row8_col5\" class=\"data row8 col5\" >35</td>\n",
       "      <td id=\"T_64ffc_row8_col6\" class=\"data row8 col6\" >35</td>\n",
       "      <td id=\"T_64ffc_row8_col7\" class=\"data row8 col7\" >25</td>\n",
       "      <td id=\"T_64ffc_row8_col8\" class=\"data row8 col8\" >0</td>\n",
       "      <td id=\"T_64ffc_row8_col9\" class=\"data row8 col9\" >0</td>\n",
       "      <td id=\"T_64ffc_row8_col10\" class=\"data row8 col10\" >0</td>\n",
       "      <td id=\"T_64ffc_row8_col11\" class=\"data row8 col11\" >0</td>\n",
       "      <td id=\"T_64ffc_row8_col12\" class=\"data row8 col12\" >0</td>\n",
       "      <td id=\"T_64ffc_row8_col13\" class=\"data row8 col13\" >0</td>\n",
       "      <td id=\"T_64ffc_row8_col14\" class=\"data row8 col14\" >13</td>\n",
       "      <td id=\"T_64ffc_row8_col15\" class=\"data row8 col15\" >224</td>\n",
       "      <td id=\"T_64ffc_row8_col16\" class=\"data row8 col16\" >254</td>\n",
       "      <td id=\"T_64ffc_row8_col17\" class=\"data row8 col17\" >254</td>\n",
       "      <td id=\"T_64ffc_row8_col18\" class=\"data row8 col18\" >153</td>\n",
       "      <td id=\"T_64ffc_row8_col19\" class=\"data row8 col19\" >0</td>\n",
       "    </tr>\n",
       "    <tr>\n",
       "      <th id=\"T_64ffc_level0_row9\" class=\"row_heading level0 row9\" >9</th>\n",
       "      <td id=\"T_64ffc_row9_col0\" class=\"data row9 col0\" >0</td>\n",
       "      <td id=\"T_64ffc_row9_col1\" class=\"data row9 col1\" >0</td>\n",
       "      <td id=\"T_64ffc_row9_col2\" class=\"data row9 col2\" >0</td>\n",
       "      <td id=\"T_64ffc_row9_col3\" class=\"data row9 col3\" >0</td>\n",
       "      <td id=\"T_64ffc_row9_col4\" class=\"data row9 col4\" >0</td>\n",
       "      <td id=\"T_64ffc_row9_col5\" class=\"data row9 col5\" >0</td>\n",
       "      <td id=\"T_64ffc_row9_col6\" class=\"data row9 col6\" >0</td>\n",
       "      <td id=\"T_64ffc_row9_col7\" class=\"data row9 col7\" >0</td>\n",
       "      <td id=\"T_64ffc_row9_col8\" class=\"data row9 col8\" >0</td>\n",
       "      <td id=\"T_64ffc_row9_col9\" class=\"data row9 col9\" >0</td>\n",
       "      <td id=\"T_64ffc_row9_col10\" class=\"data row9 col10\" >0</td>\n",
       "      <td id=\"T_64ffc_row9_col11\" class=\"data row9 col11\" >0</td>\n",
       "      <td id=\"T_64ffc_row9_col12\" class=\"data row9 col12\" >0</td>\n",
       "      <td id=\"T_64ffc_row9_col13\" class=\"data row9 col13\" >0</td>\n",
       "      <td id=\"T_64ffc_row9_col14\" class=\"data row9 col14\" >90</td>\n",
       "      <td id=\"T_64ffc_row9_col15\" class=\"data row9 col15\" >254</td>\n",
       "      <td id=\"T_64ffc_row9_col16\" class=\"data row9 col16\" >254</td>\n",
       "      <td id=\"T_64ffc_row9_col17\" class=\"data row9 col17\" >247</td>\n",
       "      <td id=\"T_64ffc_row9_col18\" class=\"data row9 col18\" >53</td>\n",
       "      <td id=\"T_64ffc_row9_col19\" class=\"data row9 col19\" >0</td>\n",
       "    </tr>\n",
       "  </tbody>\n",
       "</table>\n"
      ],
      "text/plain": [
       "<pandas.io.formats.style.Styler at 0x32886c5c0>"
      ]
     },
     "execution_count": 124,
     "metadata": {},
     "output_type": "execute_result"
    }
   ],
   "source": [
    "df = pd.DataFrame(im3_t[:10,:20])\n",
    "df.style.set_properties(**{'font-size':'6pt'}).background_gradient('Greys')"
   ]
  },
  {
   "cell_type": "code",
   "execution_count": null,
   "metadata": {},
   "outputs": [
    {
     "data": {
      "text/plain": [
       "tensor([[ -0.,  -0.,  -0.],\n",
       "        [  0.,   0.,   0.],\n",
       "        [254., 254., 254.]])"
      ]
     },
     "execution_count": 129,
     "metadata": {},
     "output_type": "execute_result"
    }
   ],
   "source": [
    "# there's a top edge around cell (4,6)\n",
    "im3_t[4:7,6:9] * top_edge"
   ]
  },
  {
   "cell_type": "code",
   "execution_count": null,
   "metadata": {},
   "outputs": [
    {
     "data": {
      "text/plain": [
       "tensor(762.)"
      ]
     },
     "execution_count": 130,
     "metadata": {},
     "output_type": "execute_result"
    }
   ],
   "source": [
    "# we do a sum to know if there's a top edge, the bigger the number the higher the probability\n",
    "(im3_t[4:7,6:9] * top_edge).sum()"
   ]
  },
  {
   "cell_type": "code",
   "execution_count": null,
   "metadata": {},
   "outputs": [
    {
     "data": {
      "text/plain": [
       "tensor([[-254.,  -75.,   -0.],\n",
       "        [   0.,    0.,    0.],\n",
       "        [ 247.,   53.,    0.]])"
      ]
     },
     "execution_count": 127,
     "metadata": {},
     "output_type": "execute_result"
    }
   ],
   "source": [
    "# There's a right edge at cell 8,18. What does that give us?:\n",
    "im3_t[7:10,17:20] * top_edge"
   ]
  },
  {
   "cell_type": "code",
   "execution_count": null,
   "metadata": {},
   "outputs": [
    {
     "data": {
      "text/plain": [
       "tensor(-29.)"
      ]
     },
     "execution_count": 131,
     "metadata": {},
     "output_type": "execute_result"
    }
   ],
   "source": [
    "# that's not a top edge, so we got a low number\n",
    "(im3_t[7:10,17:20] * top_edge).sum()"
   ]
  },
  {
   "cell_type": "markdown",
   "metadata": {},
   "source": [
    "### Applying A Kernel (Mask) To The Whole Image"
   ]
  },
  {
   "cell_type": "markdown",
   "metadata": {},
   "source": [
    "That was cool, but we had to tell the computer where to detect the edge, first let's refactor our code to apply a kernel anywhere"
   ]
  },
  {
   "cell_type": "code",
   "execution_count": null,
   "metadata": {},
   "outputs": [],
   "source": [
    "def apply_kernel(row, col, kernel):\n",
    "    return (im3_t[row-1:row+2,col-1:col+2] * kernel).sum()"
   ]
  },
  {
   "cell_type": "code",
   "execution_count": null,
   "metadata": {},
   "outputs": [
    {
     "data": {
      "text/plain": [
       "tensor(762.)"
      ]
     },
     "execution_count": 16,
     "metadata": {},
     "output_type": "execute_result"
    }
   ],
   "source": [
    "apply_kernel(5,7,top_edge)"
   ]
  },
  {
   "cell_type": "code",
   "execution_count": null,
   "metadata": {},
   "outputs": [
    {
     "name": "stdout",
     "output_type": "stream",
     "text": [
      "The size of tensor a (0) must match the size of tensor b (3) at non-singleton dimension 1\n"
     ]
    }
   ],
   "source": [
    "# we can't apply a kernel at the very edge,\n",
    "# because we don't have enough pixels,\n",
    "# we will see how to solve this with padding later\n",
    "try:\n",
    "    apply_kernel(0,0,top_edge)\n",
    "except Exception as e:\n",
    "    print(e)"
   ]
  },
  {
   "cell_type": "code",
   "execution_count": null,
   "metadata": {},
   "outputs": [
    {
     "data": {
      "text/plain": [
       "tensor(0.)"
      ]
     },
     "execution_count": 18,
     "metadata": {},
     "output_type": "execute_result"
    }
   ],
   "source": [
    "apply_kernel(1,1,top_edge)"
   ]
  },
  {
   "cell_type": "markdown",
   "metadata": {},
   "source": [
    "### Convolution = Applying The Kernel In A Sliding Window Fashion"
   ]
  },
  {
   "cell_type": "code",
   "execution_count": null,
   "metadata": {},
   "outputs": [],
   "source": [
    "def my_convolution(rng, filter):\n",
    "    return tensor([[apply_kernel(i,j,filter) for j in rng] for i in rng])"
   ]
  },
  {
   "cell_type": "code",
   "execution_count": null,
   "metadata": {},
   "outputs": [
    {
     "data": {
      "text/plain": [
       "<Axes: >"
      ]
     },
     "execution_count": 137,
     "metadata": {},
     "output_type": "execute_result"
    },
    {
     "data": {
      "image/png": "[encoded data removed]",
      "text/plain": [
       "<Figure size 100x100 with 1 Axes>"
      ]
     },
     "metadata": {},
     "output_type": "display_data"
    }
   ],
   "source": [
    "# apply top-edge kernel to whole image, again we can't go to the every edge, but we will solve this later\n",
    "rng = range(1,27)\n",
    "top_edge3_convo = my_convolution(rng, filter=top_edge)\n",
    "show_image(top_edge3_convo)"
   ]
  },
  {
   "cell_type": "code",
   "execution_count": null,
   "metadata": {},
   "outputs": [
    {
     "data": {
      "image/png": "[encoded data removed]",
      "text/plain": [
       "<Figure size 100x100 with 1 Axes>"
      ]
     },
     "metadata": {},
     "output_type": "display_data"
    }
   ],
   "source": [
    "left_edge = tensor([[-1,0,1],\n",
    "                    [-1,0,1],\n",
    "                    [-1,0,1]]).float()\n",
    "\n",
    "left_edge3 = my_convolution(rng, filter=left_edge)\n",
    "\n",
    "show_image(left_edge3);"
   ]
  },
  {
   "cell_type": "markdown",
   "metadata": {},
   "source": [
    "As you can see, applying different kernels to the same images result in different convolutions\n",
    "> or more simply different filters give different images!"
   ]
  },
  {
   "cell_type": "markdown",
   "metadata": {},
   "source": [
    "# Using Conv2D"
   ]
  },
  {
   "cell_type": "markdown",
   "metadata": {},
   "source": [
    "### Let's work with a real batch of data instead of a single image"
   ]
  },
  {
   "cell_type": "code",
   "execution_count": null,
   "metadata": {},
   "outputs": [
    {
     "data": {
      "text/plain": [
       "torch.Size([64, 1, 28, 28])"
      ]
     },
     "execution_count": 140,
     "metadata": {},
     "output_type": "execute_result"
    }
   ],
   "source": [
    "mnist = DataBlock((ImageBlock(cls=PILImageBW), CategoryBlock), \n",
    "                  get_items=get_image_files, \n",
    "                  splitter=GrandparentSplitter(),\n",
    "                  get_y=parent_label)\n",
    "\n",
    "dls = mnist.dataloaders(path)\n",
    "xb,yb = first(dls.valid)\n",
    "xb.shape"
   ]
  },
  {
   "cell_type": "code",
   "execution_count": null,
   "metadata": {},
   "outputs": [],
   "source": [
    "xb,yb = to_cpu(xb),to_cpu(yb)"
   ]
  },
  {
   "cell_type": "code",
   "execution_count": null,
   "metadata": {},
   "outputs": [
    {
     "name": "stdout",
     "output_type": "stream",
     "text": [
      "\u001b[0;31mDocstring:\u001b[0m\n",
      "conv2d(input, weight, bias=None, stride=1, padding=0, dilation=1, groups=1) -> Tensor\n",
      "\n",
      "Applies a 2D convolution over an input image composed of several input\n",
      "planes.\n",
      "\n",
      "This operator supports :ref:`TensorFloat32<tf32_on_ampere>`.\n",
      "\n",
      "See :class:`~torch.nn.Conv2d` for details and output shape.\n",
      "\n",
      "Note:\n",
      "    In some circumstances when given tensors on a CUDA device and using CuDNN, this operator may select a nondeterministic algorithm to increase performance. If this is undesirable, you can try to make the operation deterministic (potentially at a performance cost) by setting ``torch.backends.cudnn.deterministic = True``. See :doc:`/notes/randomness` for more information.\n",
      "\n",
      "Note:\n",
      "    This operator supports complex data types i.e. ``complex32, complex64, complex128``.\n",
      "\n",
      "\n",
      "Args:\n",
      "    input: input tensor of shape :math:`(\\text{minibatch} , \\text{in\\_channels} , iH , iW)`\n",
      "    weight: filters of shape :math:`(\\text{out\\_channels} , \\frac{\\text{in\\_channels}}{\\text{groups}} , kH , kW)`\n",
      "    bias: optional bias tensor of shape :math:`(\\text{out\\_channels})`. Default: ``None``\n",
      "    stride: the stride of the convolving kernel. Can be a single number or a\n",
      "      tuple `(sH, sW)`. Default: 1\n",
      "    padding: implicit paddings on both sides of the input. Can be a string {'valid', 'same'},\n",
      "      single number or a tuple `(padH, padW)`. Default: 0\n",
      "      ``padding='valid'`` is the same as no padding. ``padding='same'`` pads\n",
      "      the input so the output has the same shape as the input. However, this mode\n",
      "      doesn't support any stride values other than 1.\n",
      "\n",
      "      .. warning::\n",
      "          For ``padding='same'``, if the ``weight`` is even-length and\n",
      "          ``dilation`` is odd in any dimension, a full :func:`pad` operation\n",
      "          may be needed internally. Lowering performance.\n",
      "\n",
      "    dilation: the spacing between kernel elements. Can be a single number or\n",
      "      a tuple `(dH, dW)`. Default: 1\n",
      "    groups: split input into groups, both :math:`\\text{in\\_channels}` and :math:`\\text{out\\_channels}`\n",
      "      should be divisible by the number of groups. Default: 1\n",
      "\n",
      "Examples::\n",
      "\n",
      "    >>> # With square kernels and equal stride\n",
      "    >>> filters = torch.randn(8, 4, 3, 3)\n",
      "    >>> inputs = torch.randn(1, 4, 5, 5)\n",
      "    >>> F.conv2d(inputs, filters, padding=1)\n",
      "\u001b[0;31mType:\u001b[0m      builtin_function_or_method"
     ]
    }
   ],
   "source": [
    "F.conv2d??"
   ]
  },
  {
   "cell_type": "markdown",
   "metadata": {},
   "source": [
    "### Why Conv2d Expects a Rank-4 Tensor - NCHW"
   ]
  },
  {
   "cell_type": "markdown",
   "metadata": {},
   "source": [
    "__F.conv2d expects a rank-4 tensor because...__:\n",
    "- it can apply multiple kernels at the same time! so list of kernels (channels?)\n",
    "- it can apply those kernels on a whole batch at the same time!"
   ]
  },
  {
   "cell_type": "code",
   "execution_count": null,
   "metadata": {},
   "outputs": [
    {
     "data": {
      "text/plain": [
       "torch.Size([64, 1, 28, 28])"
      ]
     },
     "execution_count": 428,
     "metadata": {},
     "output_type": "execute_result"
    }
   ],
   "source": [
    "# So F.conv2d needs a batch of images\n",
    "# Input should be of format N(batch) * C * H * W\n",
    "xb.shape\n",
    "# perfect we already got what we want"
   ]
  },
  {
   "cell_type": "code",
   "execution_count": null,
   "metadata": {},
   "outputs": [
    {
     "data": {
      "text/plain": [
       "torch.Size([2, 3, 3])"
      ]
     },
     "execution_count": 429,
     "metadata": {},
     "output_type": "execute_result"
    }
   ],
   "source": [
    "# Let's make a list of kernels to apply instead of just one kernel\n",
    "right_edge = left_edge.flip(dims=[1])\n",
    "\n",
    "vertical_edges = torch.stack([left_edge, right_edge])\n",
    "vertical_edges.shape"
   ]
  },
  {
   "cell_type": "code",
   "execution_count": null,
   "metadata": {},
   "outputs": [
    {
     "name": "stdout",
     "output_type": "stream",
     "text": [
      "expected stride to be a single integer value or a list of 1 values to match the convolution dimensions, but got stride=[1, 1]\n"
     ]
    }
   ],
   "source": [
    "try:\n",
    "    F.conv2d(xb, vertical_edges)\n",
    "except Exception as e:\n",
    "    print(e)"
   ]
  },
  {
   "cell_type": "code",
   "execution_count": null,
   "metadata": {},
   "outputs": [
    {
     "data": {
      "text/plain": [
       "torch.Size([2, 1, 3, 3])"
      ]
     },
     "execution_count": 431,
     "metadata": {},
     "output_type": "execute_result"
    }
   ],
   "source": [
    "# Kernel (so the weight) should be of format C_out * C_in * H * W\n",
    "# channel_in    = should match the channel of the input\n",
    "# channel_out   = is the number of filters we want to apply\n",
    "vertical_edges.unsqueeze(1).shape"
   ]
  },
  {
   "cell_type": "code",
   "execution_count": null,
   "metadata": {},
   "outputs": [
    {
     "data": {
      "text/plain": [
       "torch.Size([64, 2, 26, 26])"
      ]
     },
     "execution_count": 433,
     "metadata": {},
     "output_type": "execute_result"
    }
   ],
   "source": [
    "batch_features = F.conv2d(xb, vertical_edges.unsqueeze(1))\n",
    "batch_features.shape\n",
    "# why is the 2nd dimension 2? Because we applied 2 filters! (vertical edges = 2)"
   ]
  },
  {
   "cell_type": "markdown",
   "metadata": {},
   "source": [
    "### F.conv2d Outputs a Batch Of Filters!"
   ]
  },
  {
   "cell_type": "code",
   "execution_count": null,
   "metadata": {},
   "outputs": [
    {
     "data": {
      "image/png": "[encoded data removed]",
      "text/plain": [
       "<Figure size 100x100 with 1 Axes>"
      ]
     },
     "metadata": {},
     "output_type": "display_data"
    }
   ],
   "source": [
    "# Let's switch color to grayscale to better see what's going on\n",
    "plt.rc('image', cmap='Greys')\n",
    "\n",
    "# looking at example 64, we access the first output channel for the left edge\n",
    "show_image(batch_features[2][0]);"
   ]
  },
  {
   "cell_type": "markdown",
   "metadata": {},
   "source": [
    "### Changing The Number Of Output Channels"
   ]
  },
  {
   "cell_type": "markdown",
   "metadata": {},
   "source": [
    "- What if we wanted to have 1 output channel instead of two?\n",
    "- What if we wanted to have 1 filter not 2"
   ]
  },
  {
   "cell_type": "code",
   "execution_count": null,
   "metadata": {},
   "outputs": [
    {
     "data": {
      "text/plain": [
       "torch.Size([1, 1, 3, 3])"
      ]
     },
     "execution_count": 281,
     "metadata": {},
     "output_type": "execute_result"
    }
   ],
   "source": [
    "# 1. Even if we want one kernel, we need to make a list of 1 kernel, cuz that's what conv2d wants\n",
    "# 2. We need to make sure the channel is the same as the input's channel (it was 1 so let's use 1 too)\n",
    "left_edge.unsqueeze(0).unsqueeze(0).shape"
   ]
  },
  {
   "cell_type": "markdown",
   "metadata": {},
   "source": [
    "### How Does It Work With Colors?"
   ]
  },
  {
   "cell_type": "code",
   "execution_count": null,
   "metadata": {},
   "outputs": [
    {
     "data": {
      "text/plain": [
       "torch.Size([32, 32, 3])"
      ]
     },
     "execution_count": 351,
     "metadata": {},
     "output_type": "execute_result"
    }
   ],
   "source": [
    "tensor(Image.open(cifar_path/'train'/'bird'/'144_bird.png')).shape"
   ]
  },
  {
   "cell_type": "code",
   "execution_count": null,
   "metadata": {},
   "outputs": [
    {
     "data": {
      "text/plain": [
       "(torch.Size([3, 32, 32]), <Axes: >)"
      ]
     },
     "execution_count": 352,
     "metadata": {},
     "output_type": "execute_result"
    },
    {
     "data": {
      "image/png": "[encoded data removed]",
      "text/plain": [
       "<Figure size 100x100 with 1 Axes>"
      ]
     },
     "metadata": {},
     "output_type": "display_data"
    }
   ],
   "source": [
    "# # we need NCHW format\n",
    "# bird = bird.permute(2,0,1).unsqueeze(-1)\n",
    "# bird.shape\n",
    "\n",
    "# or just use fastai image2tensor\n",
    "bird = image2tensor(Image.open(cifar_path/'train'/'bird'/'144_bird.png'))\n",
    "bird.shape, show_image(bird)"
   ]
  },
  {
   "cell_type": "code",
   "execution_count": null,
   "metadata": {},
   "outputs": [
    {
     "data": {
      "image/png": "[encoded data removed]",
      "text/plain": [
       "<Figure size 900x300 with 3 Axes>"
      ]
     },
     "metadata": {},
     "output_type": "display_data"
    }
   ],
   "source": [
    "_,axs = subplots(1,3)\n",
    "for b,ax,color in zip(bird,axs,('Reds','Greens','Blues')):\n",
    "    show_image(b, ax=ax, cmap=color)"
   ]
  },
  {
   "cell_type": "code",
   "execution_count": null,
   "metadata": {},
   "outputs": [
    {
     "data": {
      "text/plain": [
       "torch.Size([3, 1, 3, 3])"
      ]
     },
     "execution_count": 354,
     "metadata": {},
     "output_type": "execute_result"
    }
   ],
   "source": [
    "# Define a left-edge detection kernel\n",
    "left_kernel = torch.tensor([[-1, 0, 1],\n",
    "                            [-1, 0, 1],\n",
    "                            [-1, 0, 1]]).float().unsqueeze(0).unsqueeze(0)\n",
    "\n",
    "# Since our input has 3 channels, we need 3 kernels, one for each input channel\n",
    "# Here we repeat the kernel for each channel\n",
    "left_kernel = left_kernel.repeat(3, 1, 1, 1)  # Now the shape is (3, 1, 3, 3)\n",
    "left_kernel.shape"
   ]
  },
  {
   "cell_type": "code",
   "execution_count": null,
   "metadata": {},
   "outputs": [
    {
     "data": {
      "text/plain": [
       "torch.Size([6, 1, 3, 3])"
      ]
     },
     "execution_count": 399,
     "metadata": {},
     "output_type": "execute_result"
    }
   ],
   "source": [
    "vertical_edges.unsqueeze(1).repeat(3, 1, 1, 1).shape"
   ]
  },
  {
   "cell_type": "code",
   "execution_count": null,
   "metadata": {},
   "outputs": [],
   "source": [
    "try:\n",
    "    features = F.conv2d(bird, vertical_edges.unsqueeze(1).repeat(3, 1, 1, 1), padding=1, groups=3)\n",
    "    features.shape\n",
    "except Exception as e:\n",
    "    print(e)"
   ]
  },
  {
   "cell_type": "code",
   "execution_count": null,
   "metadata": {},
   "outputs": [
    {
     "data": {
      "text/plain": [
       "torch.Size([3, 32, 32])"
      ]
     },
     "execution_count": 404,
     "metadata": {},
     "output_type": "execute_result"
    }
   ],
   "source": [
    "bird = bird.float() / 255\n",
    "features = F.conv2d(bird, left_kernel, padding=1, groups=3)\n",
    "features.shape"
   ]
  },
  {
   "cell_type": "code",
   "execution_count": null,
   "metadata": {},
   "outputs": [
    {
     "data": {
      "image/png": "[encoded data removed]",
      "text/plain": [
       "<Figure size 100x100 with 1 Axes>"
      ]
     },
     "metadata": {},
     "output_type": "display_data"
    }
   ],
   "source": [
    "\n",
    "# looking at example 64, we access the first output channel for the left edge\n",
    "show_image(features[0]);"
   ]
  },
  {
   "cell_type": "markdown",
   "metadata": {},
   "source": [
    "Not very illustrative, but basically we got the left edge filter applied to each channel of the image"
   ]
  },
  {
   "cell_type": "code",
   "execution_count": null,
   "metadata": {},
   "outputs": [
    {
     "data": {
      "image/png": "[encoded data removed]",
      "text/plain": [
       "<Figure size 900x300 with 3 Axes>"
      ]
     },
     "metadata": {},
     "output_type": "display_data"
    }
   ],
   "source": [
    "_,axs = subplots(1,3)\n",
    "for b,ax,color in zip(features,axs,('Reds','Greens','Blues')):\n",
    "    show_image(b, ax=ax, cmap=color)"
   ]
  },
  {
   "cell_type": "markdown",
   "metadata": {},
   "source": [
    "# Understanding Striding And Padding"
   ]
  },
  {
   "cell_type": "markdown",
   "metadata": {},
   "source": [
    "### Padding"
   ]
  },
  {
   "cell_type": "code",
   "execution_count": null,
   "metadata": {},
   "outputs": [
    {
     "data": {
      "text/plain": [
       "torch.Size([64, 1, 28, 28])"
      ]
     },
     "execution_count": 434,
     "metadata": {},
     "output_type": "execute_result"
    }
   ],
   "source": [
    "# recap of the input shape\n",
    "xb.shape"
   ]
  },
  {
   "cell_type": "code",
   "execution_count": null,
   "metadata": {},
   "outputs": [
    {
     "data": {
      "text/plain": [
       "torch.Size([64, 2, 26, 26])"
      ]
     },
     "execution_count": 436,
     "metadata": {},
     "output_type": "execute_result"
    }
   ],
   "source": [
    "F.conv2d(xb, vertical_edges.unsqueeze(1)).shape"
   ]
  },
  {
   "cell_type": "markdown",
   "metadata": {},
   "source": [
    "why does the result shrink?\n",
    "- The kernel can only slide so much in the image, to find out how many times it can slide you do `width - kernel_sz = slide_times`\n",
    "- For example `28 - 3 = 25 times`\n",
    "- But we are talking about intervals here, we want to know how many positions can the kernel be in, it can be in `25 + 1 (starting position)` so 26\n",
    "- Boom answer is 26!"
   ]
  },
  {
   "cell_type": "markdown",
   "metadata": {},
   "source": [
    "What if we add padding?"
   ]
  },
  {
   "cell_type": "code",
   "execution_count": null,
   "metadata": {},
   "outputs": [
    {
     "data": {
      "text/plain": [
       "torch.Size([64, 2, 28, 28])"
      ]
     },
     "execution_count": 439,
     "metadata": {},
     "output_type": "execute_result"
    }
   ],
   "source": [
    "F.conv2d(xb, vertical_edges.unsqueeze(1), padding=1).shape"
   ]
  },
  {
   "cell_type": "markdown",
   "metadata": {},
   "source": [
    "The calcul is exactly the same, but with padding we effectively made the image bigger:\n",
    "- We 1 padding to each side so `28 + (2*1padding)`, image is now `30` instead of 28\n",
    "- Same calculation as before `30 - 3 (kernel size) + 1 = 28\n",
    "- Boom answer is 28!"
   ]
  },
  {
   "cell_type": "markdown",
   "metadata": {},
   "source": [
    "the usual padding is 1, and the usual kernel size is 3"
   ]
  },
  {
   "cell_type": "markdown",
   "metadata": {},
   "source": [
    "### Stride"
   ]
  },
  {
   "cell_type": "markdown",
   "metadata": {},
   "source": [
    "Stride let us downsample the image, the simplest way to understand this, is imagining doing many conv with strides, this will give u a collection of images that are smaller and smaller and smaller, like thumbnails!"
   ]
  },
  {
   "cell_type": "markdown",
   "metadata": {},
   "source": [
    "stride 1 is the default, so it also reduces the image because the kernel is kinda mapping a higher dimension into a smaller dimension"
   ]
  },
  {
   "cell_type": "code",
   "execution_count": null,
   "metadata": {},
   "outputs": [
    {
     "data": {
      "text/plain": [
       "torch.Size([64, 2, 28, 28])"
      ]
     },
     "execution_count": 444,
     "metadata": {},
     "output_type": "execute_result"
    }
   ],
   "source": [
    "F.conv2d(xb, vertical_edges.unsqueeze(1), padding=1, stride=1).shape"
   ]
  },
  {
   "cell_type": "markdown",
   "metadata": {},
   "source": [
    "what if we do stride 2?"
   ]
  },
  {
   "cell_type": "code",
   "execution_count": null,
   "metadata": {},
   "outputs": [
    {
     "data": {
      "text/plain": [
       "torch.Size([64, 2, 14, 14])"
      ]
     },
     "execution_count": 445,
     "metadata": {},
     "output_type": "execute_result"
    }
   ],
   "source": [
    "F.conv2d(xb, vertical_edges.unsqueeze(1), padding=1, stride=2).shape"
   ]
  },
  {
   "cell_type": "markdown",
   "metadata": {},
   "source": [
    "stride 2 are useful for decreasing the size of the output, it's usually what we are looking for in our model, we want to compress information"
   ]
  },
  {
   "cell_type": "markdown",
   "metadata": {},
   "source": [
    "stride 3"
   ]
  },
  {
   "cell_type": "code",
   "execution_count": null,
   "metadata": {},
   "outputs": [
    {
     "data": {
      "text/plain": [
       "torch.Size([64, 2, 10, 10])"
      ]
     },
     "execution_count": 446,
     "metadata": {},
     "output_type": "execute_result"
    }
   ],
   "source": [
    "F.conv2d(xb, vertical_edges.unsqueeze(1), padding=1, stride=3).shape"
   ]
  },
  {
   "cell_type": "markdown",
   "metadata": {},
   "source": [
    "# Neural Net To Recognize If It's a 7 or not"
   ]
  },
  {
   "cell_type": "code",
   "execution_count": null,
   "metadata": {},
   "outputs": [
    {
     "data": {
      "text/plain": [
       "Sequential(\n",
       "  (0): Linear(in_features=784, out_features=30, bias=True)\n",
       "  (1): ReLU()\n",
       "  (2): Linear(in_features=30, out_features=1, bias=True)\n",
       ")"
      ]
     },
     "execution_count": 449,
     "metadata": {},
     "output_type": "execute_result"
    }
   ],
   "source": [
    "input_pixels = 28*28\n",
    "hidden_size = 30\n",
    "# note that we have 1 output class for now\n",
    "output_classes = 1\n",
    "\n",
    "simple_net = nn.Sequential(\n",
    "    nn.Linear(input_pixels, hidden_size),\n",
    "    nn.ReLU(),\n",
    "    nn.Linear(hidden_size, output_classes)\n",
    ")\n",
    "simple_net"
   ]
  },
  {
   "cell_type": "markdown",
   "metadata": {},
   "source": [
    "# CNN To Recognize If It's a 7 or not"
   ]
  },
  {
   "cell_type": "code",
   "execution_count": null,
   "metadata": {},
   "outputs": [
    {
     "data": {
      "text/plain": [
       "Sequential(\n",
       "  (0): Conv2d(1, 30, kernel_size=(3, 3), stride=(1, 1), padding=(1, 1))\n",
       "  (1): ReLU()\n",
       "  (2): Conv2d(30, 1, kernel_size=(3, 3), stride=(1, 1), padding=(1, 1))\n",
       ")"
      ]
     },
     "execution_count": 455,
     "metadata": {},
     "output_type": "execute_result"
    }
   ],
   "source": [
    "# note that we don't have input size!!!!\n",
    "hidden_size = 30\n",
    "# note that we have 1 output class for now\n",
    "output_classes = 1\n",
    "\n",
    "broken_cnn = sequential(\n",
    "    nn.Conv2d(1, hidden_size, kernel_size=3, padding=1),\n",
    "    nn.ReLU(),\n",
    "    nn.Conv2d(hidden_size, 1, kernel_size=3, padding=1)\n",
    ")\n",
    "broken_cnn"
   ]
  },
  {
   "cell_type": "markdown",
   "metadata": {},
   "source": [
    "### How many weight is there per layer?"
   ]
  },
  {
   "cell_type": "code",
   "execution_count": null,
   "metadata": {},
   "outputs": [
    {
     "data": {
      "text/plain": [
       "(torch.Size([30, 1, 3, 3]), torch.Size([30]))"
      ]
     },
     "execution_count": 459,
     "metadata": {},
     "output_type": "execute_result"
    }
   ],
   "source": [
    "broken_cnn[0].weight.shape, broken_cnn[0].bias.shape"
   ]
  },
  {
   "cell_type": "code",
   "execution_count": null,
   "metadata": {},
   "outputs": [
    {
     "data": {
      "text/plain": [
       "300"
      ]
     },
     "execution_count": 461,
     "metadata": {},
     "output_type": "execute_result"
    }
   ],
   "source": [
    "# so that's \n",
    "30 * 1 * 3 * 3 + 30"
   ]
  },
  {
   "cell_type": "markdown",
   "metadata": {},
   "source": [
    "### How To Go From Convolutions Layers To Classification Activation?"
   ]
  },
  {
   "cell_type": "markdown",
   "metadata": {},
   "source": [
    "Let's see what happens if we pass our data through our model"
   ]
  },
  {
   "cell_type": "code",
   "execution_count": null,
   "metadata": {},
   "outputs": [
    {
     "data": {
      "text/plain": [
       "(torch.Size([64, 1, 28, 28]), torch.Size([64, 1, 28, 28]))"
      ]
     },
     "execution_count": 462,
     "metadata": {},
     "output_type": "execute_result"
    }
   ],
   "source": [
    "xb.shape, broken_cnn(xb).shape"
   ]
  },
  {
   "cell_type": "markdown",
   "metadata": {},
   "source": [
    "It give us an image for each image!!! That's not what we want...\n",
    "\n",
    "We want to do classification, so we should end up with a single number per image, we need to compress information from the input to the final layers of the model\n",
    "\n",
    "We need a single output activation per image, not a 28x28 map of activations"
   ]
  },
  {
   "cell_type": "markdown",
   "metadata": {},
   "source": [
    "- We can solve the compressing by using stride 2 convolutions, they will help us reduce the dimensions at each layer\n",
    "- we need to use enough stride-2 convolutions so that the final layer size is 1"
   ]
  },
  {
   "cell_type": "code",
   "execution_count": null,
   "metadata": {},
   "outputs": [],
   "source": [
    "def conv(inputs_channels, output_channels, kernel_size=3, act=True):\n",
    "    res = nn.Conv2d(inputs_channels, output_channels, stride=2, kernel_size=kernel_size, padding=kernel_size//2)\n",
    "    if act: res = nn.Sequential(res, nn.ReLU())\n",
    "    return res"
   ]
  },
  {
   "cell_type": "markdown",
   "metadata": {},
   "source": [
    "- How do you decide number of inputs and outputs?\n",
    "- What's the activation map at each layer, how many weights will we have?"
   ]
  },
  {
   "cell_type": "markdown",
   "metadata": {},
   "source": [
    "How do you decide number of inputs and outputs? Inputs:\n",
    "- our inputs has one channel, it's grayscale, so we use the same value of 1\n",
    "- For the outputs, we can just decide by ourselves how many weights we want per cell\n",
    "- It's the same thing as saying beachin each cell we want 4 latent factors\n",
    "- Then as we go one, the next layer will take as inputs the outputs of the previous layer"
   ]
  },
  {
   "cell_type": "markdown",
   "metadata": {},
   "source": [
    "__Why do we need to double the number of weights at each layer?__"
   ]
  },
  {
   "cell_type": "markdown",
   "metadata": {},
   "source": [
    "There are two ways to interpret this:\n",
    "- First way: as we reduce spatial dimension, we want to find more meaningful and abstract features, for example if in the first layer we want to detect edges and stuff, the latter kernel maybe don't even look for physical features but try to interpret pixels in terms of latent factors, in terms of texture, concepts, types of objects, maybe even emotion or connotation, who knows!\n",
    "- Second way: yes we reduce the amount of cells a convo layer sees as it slides through the result of the preceding layer, but it also means, the convo layer is effectively seeing more of the input at once, it slides less because the inputs is smaller, so it sees more, and because it sees more it goes back to the first point 👆 it should interpret more?"
   ]
  },
  {
   "cell_type": "code",
   "execution_count": null,
   "metadata": {},
   "outputs": [
    {
     "data": {
      "text/plain": [
       "Sequential(\n",
       "  (0): Sequential(\n",
       "    (0): Conv2d(1, 4, kernel_size=(3, 3), stride=(2, 2), padding=(1, 1))\n",
       "    (1): ReLU()\n",
       "  )\n",
       "  (1): Sequential(\n",
       "    (0): Conv2d(4, 8, kernel_size=(3, 3), stride=(2, 2), padding=(1, 1))\n",
       "    (1): ReLU()\n",
       "  )\n",
       "  (2): Sequential(\n",
       "    (0): Conv2d(8, 16, kernel_size=(3, 3), stride=(2, 2), padding=(1, 1))\n",
       "    (1): ReLU()\n",
       "  )\n",
       "  (3): Sequential(\n",
       "    (0): Conv2d(16, 32, kernel_size=(3, 3), stride=(2, 2), padding=(1, 1))\n",
       "    (1): ReLU()\n",
       "  )\n",
       "  (4): Conv2d(32, 2, kernel_size=(3, 3), stride=(2, 2), padding=(1, 1))\n",
       "  (5): fastai.layers.Flatten(full=False)\n",
       ")"
      ]
     },
     "execution_count": 477,
     "metadata": {},
     "output_type": "execute_result"
    }
   ],
   "source": [
    "simple_cnn = sequential(\n",
    "    # activation map / features map / convolution = same meaning!\n",
    "    conv(1, 4),                 # after this, activation map = 28x28/stride2, so 14x14  = 196 cells\n",
    "    conv(4, 8),                 # after this, activation map = 14x14/stride2, so 7x7    = 49 cells\n",
    "    conv(8, 16),                # after this, activation map = 4x4                      = 16 cells\n",
    "    conv(16, 32),               # after this, activation map = 2x2                      = 4 cells\n",
    "    conv(32, 2, act=False),     # after this, activation map = 1x1, why don't we do output=1?\n",
    "    Flatten(),\n",
    ")\n",
    "simple_cnn"
   ]
  },
  {
   "cell_type": "markdown",
   "metadata": {},
   "source": []
  },
  {
   "cell_type": "code",
   "execution_count": null,
   "metadata": {},
   "outputs": [
    {
     "data": {
      "text/plain": [
       "torch.Size([64, 1])"
      ]
     },
     "execution_count": 467,
     "metadata": {},
     "output_type": "execute_result"
    }
   ],
   "source": [
    "simple_cnn(xb).shape\n",
    "# that's better! we end up with a single classification"
   ]
  },
  {
   "cell_type": "code",
   "execution_count": null,
   "metadata": {},
   "outputs": [
    {
     "data": {
      "text/plain": [
       "Sequential(\n",
       "  (0): Sequential(\n",
       "    (0): Conv2d(1, 4, kernel_size=(3, 3), stride=(2, 2), padding=(1, 1))\n",
       "    (1): ReLU()\n",
       "  )\n",
       "  (1): Sequential(\n",
       "    (0): Conv2d(4, 8, kernel_size=(3, 3), stride=(2, 2), padding=(1, 1))\n",
       "    (1): ReLU()\n",
       "  )\n",
       "  (2): Sequential(\n",
       "    (0): Conv2d(8, 16, kernel_size=(3, 3), stride=(2, 2), padding=(1, 1))\n",
       "    (1): ReLU()\n",
       "  )\n",
       "  (3): Sequential(\n",
       "    (0): Conv2d(16, 32, kernel_size=(3, 3), stride=(2, 2), padding=(1, 1))\n",
       "    (1): ReLU()\n",
       "  )\n",
       "  (4): Conv2d(32, 2, kernel_size=(3, 3), stride=(2, 2), padding=(1, 1))\n",
       "  (5): fastai.layers.Flatten(full=False)\n",
       ")"
      ]
     },
     "execution_count": 478,
     "metadata": {},
     "output_type": "execute_result"
    }
   ],
   "source": [
    "learn = Learner(dls, simple_cnn, loss_func=F.cross_entropy, metrics=accuracy)\n",
    "learn.model"
   ]
  },
  {
   "cell_type": "code",
   "execution_count": null,
   "metadata": {},
   "outputs": [
    {
     "data": {
      "text/html": [
       "\n",
       "<style>\n",
       "    /* Turns off some styling */\n",
       "    progress {\n",
       "        /* gets rid of default border in Firefox and Opera. */\n",
       "        border: none;\n",
       "        /* Needs to be in here for Safari polyfill so background images work as expected. */\n",
       "        background-size: auto;\n",
       "    }\n",
       "    progress:not([value]), progress:not([value])::-webkit-progress-bar {\n",
       "        background: repeating-linear-gradient(45deg, #7e7e7e, #7e7e7e 10px, #5c5c5c 10px, #5c5c5c 20px);\n",
       "    }\n",
       "    .progress-bar-interrupted, .progress-bar-interrupted::-webkit-progress-bar {\n",
       "        background: #F44336;\n",
       "    }\n",
       "</style>\n"
      ],
      "text/plain": [
       "<IPython.core.display.HTML object>"
      ]
     },
     "metadata": {},
     "output_type": "display_data"
    },
    {
     "data": {
      "text/html": [
       "<table border=\"1\" class=\"dataframe\">\n",
       "  <thead>\n",
       "    <tr style=\"text-align: left;\">\n",
       "      <th>epoch</th>\n",
       "      <th>train_loss</th>\n",
       "      <th>valid_loss</th>\n",
       "      <th>accuracy</th>\n",
       "      <th>time</th>\n",
       "    </tr>\n",
       "  </thead>\n",
       "  <tbody>\n",
       "    <tr>\n",
       "      <td>0</td>\n",
       "      <td>0.061414</td>\n",
       "      <td>0.030110</td>\n",
       "      <td>0.987733</td>\n",
       "      <td>00:09</td>\n",
       "    </tr>\n",
       "    <tr>\n",
       "      <td>1</td>\n",
       "      <td>0.019491</td>\n",
       "      <td>0.016924</td>\n",
       "      <td>0.994603</td>\n",
       "      <td>00:09</td>\n",
       "    </tr>\n",
       "  </tbody>\n",
       "</table>"
      ],
      "text/plain": [
       "<IPython.core.display.HTML object>"
      ]
     },
     "metadata": {},
     "output_type": "display_data"
    }
   ],
   "source": [
    "learn.fit_one_cycle(2, 0.01)"
   ]
  },
  {
   "cell_type": "markdown",
   "metadata": {},
   "source": [
    "# Understanding Weights and Activations in a CNN"
   ]
  },
  {
   "cell_type": "markdown",
   "metadata": {},
   "source": [
    "### Weights"
   ]
  },
  {
   "cell_type": "markdown",
   "metadata": {},
   "source": [
    "__The weight are independent of the inputs size__"
   ]
  },
  {
   "cell_type": "markdown",
   "metadata": {},
   "source": [
    "To recap that's our model"
   ]
  },
  {
   "cell_type": "code",
   "execution_count": null,
   "metadata": {},
   "outputs": [
    {
     "data": {
      "text/plain": [
       "Sequential(\n",
       "  (0): Sequential(\n",
       "    (0): Conv2d(1, 4, kernel_size=(3, 3), stride=(2, 2), padding=(1, 1))\n",
       "    (1): ReLU()\n",
       "  )\n",
       "  (1): Sequential(\n",
       "    (0): Conv2d(4, 8, kernel_size=(3, 3), stride=(2, 2), padding=(1, 1))\n",
       "    (1): ReLU()\n",
       "  )\n",
       "  (2): Sequential(\n",
       "    (0): Conv2d(8, 16, kernel_size=(3, 3), stride=(2, 2), padding=(1, 1))\n",
       "    (1): ReLU()\n",
       "  )\n",
       "  (3): Sequential(\n",
       "    (0): Conv2d(16, 32, kernel_size=(3, 3), stride=(2, 2), padding=(1, 1))\n",
       "    (1): ReLU()\n",
       "  )\n",
       "  (4): Conv2d(32, 2, kernel_size=(3, 3), stride=(2, 2), padding=(1, 1))\n",
       "  (5): fastai.layers.Flatten(full=False)\n",
       ")"
      ]
     },
     "execution_count": 481,
     "metadata": {},
     "output_type": "execute_result"
    }
   ],
   "source": [
    "learn.model"
   ]
  },
  {
   "cell_type": "markdown",
   "metadata": {},
   "source": [
    "Let's take a look at how many weights there are in the first layer"
   ]
  },
  {
   "cell_type": "code",
   "execution_count": null,
   "metadata": {},
   "outputs": [
    {
     "data": {
      "text/plain": [
       "(torch.Size([4, 1, 3, 3]), torch.Size([4]))"
      ]
     },
     "execution_count": 520,
     "metadata": {},
     "output_type": "execute_result"
    }
   ],
   "source": [
    "learn.model[0][0].weight.shape, learn.model[0][0].bias.shape"
   ]
  },
  {
   "cell_type": "code",
   "execution_count": null,
   "metadata": {},
   "outputs": [
    {
     "data": {
      "text/plain": [
       "40"
      ]
     },
     "execution_count": 494,
     "metadata": {},
     "output_type": "execute_result"
    }
   ],
   "source": [
    "(4 * 1 * 3 * 3) + 4"
   ]
  },
  {
   "cell_type": "markdown",
   "metadata": {},
   "source": [
    "So the `number of weights = weights_wanted/output_channels/features * input_channels * kernel_size + bias`"
   ]
  },
  {
   "cell_type": "markdown",
   "metadata": {},
   "source": [
    "### Activations"
   ]
  },
  {
   "cell_type": "markdown",
   "metadata": {},
   "source": [
    "__The activations depend on the input size!__"
   ]
  },
  {
   "cell_type": "markdown",
   "metadata": {},
   "source": [
    "Let's recap our model"
   ]
  },
  {
   "cell_type": "code",
   "execution_count": null,
   "metadata": {},
   "outputs": [
    {
     "data": {
      "text/html": [
       "\n",
       "<style>\n",
       "    /* Turns off some styling */\n",
       "    progress {\n",
       "        /* gets rid of default border in Firefox and Opera. */\n",
       "        border: none;\n",
       "        /* Needs to be in here for Safari polyfill so background images work as expected. */\n",
       "        background-size: auto;\n",
       "    }\n",
       "    progress:not([value]), progress:not([value])::-webkit-progress-bar {\n",
       "        background: repeating-linear-gradient(45deg, #7e7e7e, #7e7e7e 10px, #5c5c5c 10px, #5c5c5c 20px);\n",
       "    }\n",
       "    .progress-bar-interrupted, .progress-bar-interrupted::-webkit-progress-bar {\n",
       "        background: #F44336;\n",
       "    }\n",
       "</style>\n"
      ],
      "text/plain": [
       "<IPython.core.display.HTML object>"
      ]
     },
     "metadata": {},
     "output_type": "display_data"
    },
    {
     "data": {
      "text/html": [],
      "text/plain": [
       "<IPython.core.display.HTML object>"
      ]
     },
     "metadata": {},
     "output_type": "display_data"
    },
    {
     "data": {
      "text/plain": [
       "Sequential (Input shape: 64 x 1 x 28 x 28)\n",
       "============================================================================\n",
       "Layer (type)         Output Shape         Param #    Trainable \n",
       "============================================================================\n",
       "                     64 x 4 x 14 x 14    \n",
       "Conv2d                                    40         True      \n",
       "ReLU                                                           \n",
       "____________________________________________________________________________\n",
       "                     64 x 8 x 7 x 7      \n",
       "Conv2d                                    296        True      \n",
       "ReLU                                                           \n",
       "____________________________________________________________________________\n",
       "                     64 x 16 x 4 x 4     \n",
       "Conv2d                                    1168       True      \n",
       "ReLU                                                           \n",
       "____________________________________________________________________________\n",
       "                     64 x 32 x 2 x 2     \n",
       "Conv2d                                    4640       True      \n",
       "ReLU                                                           \n",
       "____________________________________________________________________________\n",
       "                     64 x 2 x 1 x 1      \n",
       "Conv2d                                    578        True      \n",
       "____________________________________________________________________________\n",
       "                     64 x 2              \n",
       "Flatten                                                        \n",
       "____________________________________________________________________________\n",
       "\n",
       "Total params: 6,722\n",
       "Total trainable params: 6,722\n",
       "Total non-trainable params: 0\n",
       "\n",
       "Optimizer used: <function Adam at 0x314b79d00>\n",
       "Loss function: <function cross_entropy at 0x30bc08c20>\n",
       "\n",
       "Model unfrozen\n",
       "\n",
       "Callbacks:\n",
       "  - TrainEvalCallback\n",
       "  - CastToTensor\n",
       "  - Recorder\n",
       "  - ProgressCallback"
      ]
     },
     "execution_count": 522,
     "metadata": {},
     "output_type": "execute_result"
    }
   ],
   "source": [
    "learn.summary()"
   ]
  },
  {
   "cell_type": "markdown",
   "metadata": {},
   "source": [
    "What does the output of the first layer represent?\n",
    "\n",
    "It's the size of the convolutions, so it's the activations"
   ]
  },
  {
   "cell_type": "markdown",
   "metadata": {},
   "source": [
    "Why is the output shape 64 x 4 x 14 x 14?"
   ]
  },
  {
   "cell_type": "markdown",
   "metadata": {},
   "source": [
    "This is the input"
   ]
  },
  {
   "cell_type": "code",
   "execution_count": null,
   "metadata": {},
   "outputs": [
    {
     "data": {
      "text/plain": [
       "torch.Size([64, 1, 28, 28])"
      ]
     },
     "execution_count": 493,
     "metadata": {},
     "output_type": "execute_result"
    }
   ],
   "source": [
    "dls.one_batch()[0].shape"
   ]
  },
  {
   "cell_type": "markdown",
   "metadata": {},
   "source": [
    "And this is the kernel"
   ]
  },
  {
   "cell_type": "code",
   "execution_count": null,
   "metadata": {},
   "outputs": [
    {
     "data": {
      "text/plain": [
       "Conv2d(1, 4, kernel_size=(3, 3), stride=(2, 2), padding=(1, 1))"
      ]
     },
     "execution_count": 489,
     "metadata": {},
     "output_type": "execute_result"
    }
   ],
   "source": [
    "learn.model[0][0]"
   ]
  },
  {
   "cell_type": "markdown",
   "metadata": {},
   "source": [
    "So we got:"
   ]
  },
  {
   "cell_type": "code",
   "execution_count": null,
   "metadata": {},
   "outputs": [
    {
     "name": "stdout",
     "output_type": "stream",
     "text": [
      "input_size = 28\n",
      "stride = 2\n"
     ]
    }
   ],
   "source": [
    "stride = learn.model[0][0].stride[0]\n",
    "# kernel_size = learn.model[0][0].kernel_size[0]\n",
    "input_size = dls.one_batch()[0].shape[-1]\n",
    "print('input_size =', input_size)\n",
    "print('stride =', stride)"
   ]
  },
  {
   "cell_type": "code",
   "execution_count": null,
   "metadata": {},
   "outputs": [
    {
     "data": {
      "text/plain": [
       "14"
      ]
     },
     "execution_count": 508,
     "metadata": {},
     "output_type": "execute_result"
    }
   ],
   "source": [
    "#To know what is the size of the output (activation) we need to:\n",
    "input_size // stride"
   ]
  },
  {
   "cell_type": "code",
   "execution_count": null,
   "metadata": {},
   "outputs": [
    {
     "data": {
      "text/plain": [
       "196"
      ]
     },
     "execution_count": 510,
     "metadata": {},
     "output_type": "execute_result"
    }
   ],
   "source": [
    "14 * 14\n",
    "# so the first layer got 196 activations!"
   ]
  },
  {
   "cell_type": "markdown",
   "metadata": {},
   "source": [
    "### Recap"
   ]
  },
  {
   "cell_type": "code",
   "execution_count": null,
   "metadata": {},
   "outputs": [
    {
     "data": {
      "text/html": [
       "<div>\n",
       "<style scoped>\n",
       "    .dataframe tbody tr th:only-of-type {\n",
       "        vertical-align: middle;\n",
       "    }\n",
       "\n",
       "    .dataframe tbody tr th {\n",
       "        vertical-align: top;\n",
       "    }\n",
       "\n",
       "    .dataframe thead th {\n",
       "        text-align: right;\n",
       "    }\n",
       "</style>\n",
       "<table border=\"1\" class=\"dataframe\">\n",
       "  <thead>\n",
       "    <tr style=\"text-align: right;\">\n",
       "      <th></th>\n",
       "      <th>Layer</th>\n",
       "      <th>Weights</th>\n",
       "      <th>Conv Size</th>\n",
       "      <th>Activation Cells</th>\n",
       "      <th>Multiplications</th>\n",
       "    </tr>\n",
       "  </thead>\n",
       "  <tbody>\n",
       "    <tr>\n",
       "      <th>0</th>\n",
       "      <td>Layer 1</td>\n",
       "      <td>40</td>\n",
       "      <td>14</td>\n",
       "      <td>196</td>\n",
       "      <td>31360</td>\n",
       "    </tr>\n",
       "    <tr>\n",
       "      <th>1</th>\n",
       "      <td>Layer 2</td>\n",
       "      <td>296</td>\n",
       "      <td>7</td>\n",
       "      <td>49</td>\n",
       "      <td>58016</td>\n",
       "    </tr>\n",
       "    <tr>\n",
       "      <th>2</th>\n",
       "      <td>Layer 3</td>\n",
       "      <td>1168</td>\n",
       "      <td>4</td>\n",
       "      <td>16</td>\n",
       "      <td>57232</td>\n",
       "    </tr>\n",
       "    <tr>\n",
       "      <th>3</th>\n",
       "      <td>Layer 4</td>\n",
       "      <td>4640</td>\n",
       "      <td>2</td>\n",
       "      <td>4</td>\n",
       "      <td>74240</td>\n",
       "    </tr>\n",
       "    <tr>\n",
       "      <th>4</th>\n",
       "      <td>Layer 5</td>\n",
       "      <td>578</td>\n",
       "      <td>1</td>\n",
       "      <td>1</td>\n",
       "      <td>2312</td>\n",
       "    </tr>\n",
       "  </tbody>\n",
       "</table>\n",
       "</div>"
      ],
      "text/plain": [
       "     Layer  Weights  Conv Size  Activation Cells  Multiplications\n",
       "0  Layer 1       40         14               196            31360\n",
       "1  Layer 2      296          7                49            58016\n",
       "2  Layer 3     1168          4                16            57232\n",
       "3  Layer 4     4640          2                 4            74240\n",
       "4  Layer 5      578          1                 1             2312"
      ]
     },
     "execution_count": 580,
     "metadata": {},
     "output_type": "execute_result"
    }
   ],
   "source": [
    "import numpy as np\n",
    "import pandas as pd\n",
    "\n",
    "def display_learn_model_stats(learn):\n",
    "    # Initialize the data dictionary\n",
    "    data = {\n",
    "        'Layer': [],\n",
    "        'Weights': [],\n",
    "        'Conv Size': [],\n",
    "        'Activation Cells': [],\n",
    "        'Multiplications': []\n",
    "    }\n",
    "\n",
    "    # Get initial conv_size from the data loader\n",
    "    conv_size = dls.one_batch()[0].shape[-1]\n",
    "\n",
    "    # Store the previous activation cells, initialized to the input size\n",
    "    prev_activation_cells = conv_size ** 2\n",
    "\n",
    "    # Iterate through the model layers\n",
    "    for i, layer in enumerate(learn.model.children()):\n",
    "        # Check if the layer is a Sequential or Conv2d\n",
    "        if isinstance(layer, nn.Sequential):\n",
    "            conv_layer = layer[0]\n",
    "        elif isinstance(layer, nn.Conv2d):\n",
    "            conv_layer = layer\n",
    "        else:\n",
    "            continue\n",
    "        \n",
    "        if not isinstance(conv_layer, nn.Conv2d):\n",
    "            continue\n",
    "        \n",
    "        layer_name = f'Layer {i+1}'\n",
    "        data['Layer'].append(layer_name)\n",
    "        \n",
    "        # Calculate weights (number of parameters in the convolutional layer)\n",
    "        weights = np.prod(conv_layer.weight.shape) + conv_layer.bias.shape[0]\n",
    "        data['Weights'].append(weights)\n",
    "        \n",
    "        # Update conv_size based on the current layer parameters\n",
    "        kernel_size = conv_layer.kernel_size[0]\n",
    "        stride = conv_layer.stride[0]\n",
    "        padding = conv_layer.padding[0]\n",
    "        \n",
    "        conv_size = (conv_size - kernel_size + 2 * padding) // stride + 1\n",
    "        data['Conv Size'].append(conv_size)\n",
    "        \n",
    "        # Calculate activation cells (number of cells in the feature map)\n",
    "        activation_cells = conv_size ** 2\n",
    "        data['Activation Cells'].append(activation_cells)\n",
    "        \n",
    "        # Calculate multiplications\n",
    "        multiplications = weights * prev_activation_cells\n",
    "        data['Multiplications'].append(multiplications)\n",
    "        \n",
    "        # Update prev_activation_cells for the next iteration\n",
    "        prev_activation_cells = activation_cells\n",
    "\n",
    "    # Create a DataFrame from the data dictionary\n",
    "    return pd.DataFrame(data)\n",
    "\n",
    "\n",
    "display_learn_model_stats(learn)"
   ]
  },
  {
   "cell_type": "markdown",
   "metadata": {},
   "source": [
    "# Getting Real - a CNN to classify 10 digits"
   ]
  },
  {
   "cell_type": "code",
   "execution_count": null,
   "metadata": {},
   "outputs": [],
   "source": [
    "path = untar_data(URLs.MNIST)"
   ]
  },
  {
   "cell_type": "code",
   "execution_count": null,
   "metadata": {},
   "outputs": [],
   "source": [
    "Path.BASE_PATH = path"
   ]
  },
  {
   "cell_type": "code",
   "execution_count": null,
   "metadata": {},
   "outputs": [
    {
     "data": {
      "text/plain": [
       "(#3) [Path('.DS_Store'),Path('training'),Path('testing')]"
      ]
     },
     "execution_count": 583,
     "metadata": {},
     "output_type": "execute_result"
    }
   ],
   "source": [
    "path.ls()"
   ]
  },
  {
   "cell_type": "code",
   "execution_count": null,
   "metadata": {},
   "outputs": [],
   "source": [
    "def get_dls(bs=64):\n",
    "    return DataBlock(\n",
    "        blocks=(ImageBlock(cls=PILImageBW), CategoryBlock), \n",
    "        get_items=get_image_files, \n",
    "        splitter=GrandparentSplitter('training','testing'),\n",
    "        get_y=parent_label,\n",
    "        batch_tfms=Normalize()\n",
    "    ).dataloaders(path, bs=bs)\n",
    "\n",
    "dls = get_dls()"
   ]
  },
  {
   "cell_type": "code",
   "execution_count": null,
   "metadata": {},
   "outputs": [
    {
     "data": {
      "image/png": "[encoded data removed]",
      "text/plain": [
       "<Figure size 400x400 with 9 Axes>"
      ]
     },
     "metadata": {},
     "output_type": "display_data"
    }
   ],
   "source": [
    "dls.show_batch(max_n=9, figsize=(4,4))"
   ]
  },
  {
   "cell_type": "code",
   "execution_count": 722,
   "metadata": {},
   "outputs": [],
   "source": [
    "def conv(ni, nf, ks=3, act=True):\n",
    "    layers = [nn.Conv2d(ni, nf, stride=2, kernel_size=ks, padding=ks//2)]\n",
    "    if act: layers.append(nn.ReLU())\n",
    "    layers.append(nn.BatchNorm2d(nf))\n",
    "    return nn.Sequential(*layers)"
   ]
  },
  {
   "cell_type": "code",
   "execution_count": 723,
   "metadata": {},
   "outputs": [],
   "source": [
    "def simple_cnn():\n",
    "    return sequential(\n",
    "        conv(1 ,8, ks=5),        #next inputs = 14x14\n",
    "        conv(8 ,16),             #next inputs = 7x7\n",
    "        conv(16,32),             #next inputs = 4x4\n",
    "        conv(32,64),             #next inputs = 2x2\n",
    "        conv(64,10, act=False),  #next inputs = 1x1\n",
    "        Flatten(),\n",
    "    )"
   ]
  },
  {
   "cell_type": "code",
   "execution_count": 724,
   "metadata": {},
   "outputs": [
    {
     "data": {
      "text/html": [
       "\n",
       "<style>\n",
       "    /* Turns off some styling */\n",
       "    progress {\n",
       "        /* gets rid of default border in Firefox and Opera. */\n",
       "        border: none;\n",
       "        /* Needs to be in here for Safari polyfill so background images work as expected. */\n",
       "        background-size: auto;\n",
       "    }\n",
       "    progress:not([value]), progress:not([value])::-webkit-progress-bar {\n",
       "        background: repeating-linear-gradient(45deg, #7e7e7e, #7e7e7e 10px, #5c5c5c 10px, #5c5c5c 20px);\n",
       "    }\n",
       "    .progress-bar-interrupted, .progress-bar-interrupted::-webkit-progress-bar {\n",
       "        background: #F44336;\n",
       "    }\n",
       "</style>\n"
      ],
      "text/plain": [
       "<IPython.core.display.HTML object>"
      ]
     },
     "metadata": {},
     "output_type": "display_data"
    },
    {
     "data": {
      "text/html": [
       "<table border=\"1\" class=\"dataframe\">\n",
       "  <thead>\n",
       "    <tr style=\"text-align: left;\">\n",
       "      <th>epoch</th>\n",
       "      <th>train_loss</th>\n",
       "      <th>valid_loss</th>\n",
       "      <th>accuracy</th>\n",
       "      <th>time</th>\n",
       "    </tr>\n",
       "  </thead>\n",
       "  <tbody>\n",
       "    <tr>\n",
       "      <td>0</td>\n",
       "      <td>0.099620</td>\n",
       "      <td>0.060225</td>\n",
       "      <td>0.982500</td>\n",
       "      <td>00:56</td>\n",
       "    </tr>\n",
       "    <tr>\n",
       "      <td>1</td>\n",
       "      <td>0.058493</td>\n",
       "      <td>0.038122</td>\n",
       "      <td>0.988400</td>\n",
       "      <td>00:59</td>\n",
       "    </tr>\n",
       "    <tr>\n",
       "      <td>2</td>\n",
       "      <td>0.028171</td>\n",
       "      <td>0.028618</td>\n",
       "      <td>0.991800</td>\n",
       "      <td>00:56</td>\n",
       "    </tr>\n",
       "  </tbody>\n",
       "</table>"
      ],
      "text/plain": [
       "<IPython.core.display.HTML object>"
      ]
     },
     "metadata": {},
     "output_type": "display_data"
    }
   ],
   "source": [
    "learn = Learner(dls, simple_cnn(), loss_func=F.cross_entropy,\n",
    "                    metrics=accuracy, cbs=ActivationStats(with_hist=True))\n",
    "learn.fit_one_cycle(3, 1e-2)"
   ]
  },
  {
   "cell_type": "markdown",
   "metadata": {},
   "source": []
  }
 ],
 "metadata": {
  "kernelspec": {
   "display_name": "fastai",
   "language": "python",
   "name": "python3"
  },
  "language_info": {
   "codemirror_mode": {
    "name": "ipython",
    "version": 3
   },
   "file_extension": ".py",
   "mimetype": "text/x-python",
   "name": "python",
   "nbconvert_exporter": "python",
   "pygments_lexer": "ipython3",
   "version": "3.12.2"
  }
 },
 "nbformat": 4,
 "nbformat_minor": 2
}
