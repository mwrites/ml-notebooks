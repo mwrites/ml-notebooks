{
 "cells": [
  {
   "cell_type": "markdown",
   "metadata": {},
   "source": [
    "# Understanding the intuition behind these mathematical functions"
   ]
  },
  {
   "cell_type": "markdown",
   "metadata": {},
   "source": [
    "The goal is not to understand the formula but rather what effect does using this or that function do to our data, when should I use which one?\n",
    "\n",
    "What are the hints that tell me to use sigmoid or log, etc."
   ]
  },
  {
   "cell_type": "markdown",
   "metadata": {},
   "source": [
    "can you translate sigmoid function into code? into a mapping function?\n",
    "\n",
    "\n",
    "- bouding is easy to understand if value > LIMIT then value = 0\n",
    "- how about S curve, how does the non linear rate of change help capture complex relationships?"
   ]
  },
  {
   "cell_type": "markdown",
   "metadata": {},
   "source": [
    "can you translate log function in to code? into a mapping function?\n",
    "- what are the key properties of this function?\n",
    "- what are the hints to use logs"
   ]
  },
  {
   "cell_type": "markdown",
   "metadata": {},
   "source": [
    "USE INTERACT TO UNDERSTAND?! USE A VIDEO/GIF?"
   ]
  },
  {
   "cell_type": "markdown",
   "metadata": {},
   "source": [
    "You need to think about a function as something dynamic, as a toboggan!!!"
   ]
  },
  {
   "cell_type": "markdown",
   "metadata": {},
   "source": [
    "Every function are mapping/transform function?"
   ]
  },
  {
   "cell_type": "markdown",
   "metadata": {},
   "source": []
  }
 ],
 "metadata": {
  "language_info": {
   "name": "python"
  }
 },
 "nbformat": 4,
 "nbformat_minor": 2
}
