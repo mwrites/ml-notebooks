{
 "cells": [
  {
   "cell_type": "markdown",
   "metadata": {},
   "source": [
    "# [book](https://nbviewer.org/github/fastai/fastbook/blob/master/13_convolutions.ipynb)"
   ]
  },
  {
   "cell_type": "code",
   "execution_count": 4,
   "metadata": {},
   "outputs": [
    {
     "name": "stdout",
     "output_type": "stream",
     "text": [
      "Requirement already satisfied: kagtool in /Users/cactus/miniconda3/lib/python3.12/site-packages (12.0.2)\n",
      "Requirement already satisfied: kaggle in /Users/cactus/miniconda3/lib/python3.12/site-packages (1.6.12)\n",
      "Requirement already satisfied: fastai in /Users/cactus/miniconda3/lib/python3.12/site-packages (2.7.15)\n",
      "Requirement already satisfied: nbdev in /Users/cactus/miniconda3/lib/python3.12/site-packages (2.3.20)\n",
      "Requirement already satisfied: datasets in /Users/cactus/miniconda3/lib/python3.12/site-packages (2.19.1)\n",
      "Requirement already satisfied: six>=1.10 in /Users/cactus/miniconda3/lib/python3.12/site-packages (from kaggle) (1.16.0)\n",
      "Requirement already satisfied: certifi>=2023.7.22 in /Users/cactus/miniconda3/lib/python3.12/site-packages (from kaggle) (2024.2.2)\n",
      "Requirement already satisfied: python-dateutil in /Users/cactus/miniconda3/lib/python3.12/site-packages (from kaggle) (2.8.2)\n",
      "Requirement already satisfied: requests in /Users/cactus/miniconda3/lib/python3.12/site-packages (from kaggle) (2.31.0)\n",
      "Requirement already satisfied: tqdm in /Users/cactus/miniconda3/lib/python3.12/site-packages (from kaggle) (4.66.4)\n",
      "Requirement already satisfied: python-slugify in /Users/cactus/miniconda3/lib/python3.12/site-packages (from kaggle) (8.0.4)\n",
      "Requirement already satisfied: urllib3 in /Users/cactus/miniconda3/lib/python3.12/site-packages (from kaggle) (2.1.0)\n",
      "Requirement already satisfied: bleach in /Users/cactus/miniconda3/lib/python3.12/site-packages (from kaggle) (6.1.0)\n",
      "Requirement already satisfied: pip in /Users/cactus/miniconda3/lib/python3.12/site-packages (from fastai) (23.3.1)\n",
      "Requirement already satisfied: packaging in /Users/cactus/miniconda3/lib/python3.12/site-packages (from fastai) (23.2)\n",
      "Requirement already satisfied: fastdownload<2,>=0.0.5 in /Users/cactus/miniconda3/lib/python3.12/site-packages (from fastai) (0.0.7)\n",
      "Requirement already satisfied: fastcore<1.6,>=1.5.29 in /Users/cactus/miniconda3/lib/python3.12/site-packages (from fastai) (1.5.33)\n",
      "Requirement already satisfied: torchvision>=0.11 in /Users/cactus/miniconda3/lib/python3.12/site-packages (from fastai) (0.18.0)\n",
      "Requirement already satisfied: matplotlib in /Users/cactus/miniconda3/lib/python3.12/site-packages (from fastai) (3.8.4)\n",
      "Requirement already satisfied: pandas in /Users/cactus/miniconda3/lib/python3.12/site-packages (from fastai) (2.2.1)\n",
      "Requirement already satisfied: pyyaml in /Users/cactus/miniconda3/lib/python3.12/site-packages (from fastai) (6.0.1)\n",
      "Requirement already satisfied: fastprogress>=0.2.4 in /Users/cactus/miniconda3/lib/python3.12/site-packages (from fastai) (1.0.3)\n",
      "Requirement already satisfied: pillow>=9.0.0 in /Users/cactus/miniconda3/lib/python3.12/site-packages (from fastai) (10.3.0)\n",
      "Requirement already satisfied: scikit-learn in /Users/cactus/miniconda3/lib/python3.12/site-packages (from fastai) (1.4.2)\n",
      "Requirement already satisfied: scipy in /Users/cactus/miniconda3/lib/python3.12/site-packages (from fastai) (1.12.0)\n",
      "Requirement already satisfied: spacy<4 in /Users/cactus/miniconda3/lib/python3.12/site-packages (from fastai) (3.7.2)\n",
      "Requirement already satisfied: torch<2.4,>=1.10 in /Users/cactus/miniconda3/lib/python3.12/site-packages (from fastai) (2.3.0)\n",
      "Requirement already satisfied: ipywidgets<=8.0.4 in /Users/cactus/miniconda3/lib/python3.12/site-packages (from nbdev) (8.0.4)\n",
      "Requirement already satisfied: execnb>=0.1.4 in /Users/cactus/miniconda3/lib/python3.12/site-packages (from nbdev) (0.1.6)\n",
      "Requirement already satisfied: astunparse in /Users/cactus/miniconda3/lib/python3.12/site-packages (from nbdev) (1.6.3)\n",
      "Requirement already satisfied: ghapi>=1.0.3 in /Users/cactus/miniconda3/lib/python3.12/site-packages (from nbdev) (1.0.5)\n",
      "Requirement already satisfied: watchdog in /Users/cactus/miniconda3/lib/python3.12/site-packages (from nbdev) (4.0.0)\n",
      "Requirement already satisfied: asttokens in /Users/cactus/miniconda3/lib/python3.12/site-packages (from nbdev) (2.4.1)\n",
      "Requirement already satisfied: filelock in /Users/cactus/miniconda3/lib/python3.12/site-packages (from datasets) (3.13.1)\n",
      "Requirement already satisfied: numpy>=1.17 in /Users/cactus/miniconda3/lib/python3.12/site-packages (from datasets) (1.26.4)\n",
      "Requirement already satisfied: pyarrow>=12.0.0 in /Users/cactus/miniconda3/lib/python3.12/site-packages (from datasets) (16.0.0)\n",
      "Requirement already satisfied: pyarrow-hotfix in /Users/cactus/miniconda3/lib/python3.12/site-packages (from datasets) (0.6)\n",
      "Requirement already satisfied: dill<0.3.9,>=0.3.0 in /Users/cactus/miniconda3/lib/python3.12/site-packages (from datasets) (0.3.8)\n",
      "Requirement already satisfied: xxhash in /Users/cactus/miniconda3/lib/python3.12/site-packages (from datasets) (3.4.1)\n",
      "Requirement already satisfied: multiprocess in /Users/cactus/miniconda3/lib/python3.12/site-packages (from datasets) (0.70.16)\n",
      "Requirement already satisfied: fsspec<=2024.3.1,>=2023.1.0 in /Users/cactus/miniconda3/lib/python3.12/site-packages (from fsspec[http]<=2024.3.1,>=2023.1.0->datasets) (2024.3.1)\n",
      "Requirement already satisfied: aiohttp in /Users/cactus/miniconda3/lib/python3.12/site-packages (from datasets) (3.9.5)\n",
      "Requirement already satisfied: huggingface-hub>=0.21.2 in /Users/cactus/miniconda3/lib/python3.12/site-packages (from datasets) (0.23.0)\n",
      "Requirement already satisfied: ipython in /Users/cactus/miniconda3/lib/python3.12/site-packages (from execnb>=0.1.4->nbdev) (8.22.2)\n",
      "Requirement already satisfied: aiosignal>=1.1.2 in /Users/cactus/miniconda3/lib/python3.12/site-packages (from aiohttp->datasets) (1.3.1)\n",
      "Requirement already satisfied: attrs>=17.3.0 in /Users/cactus/miniconda3/lib/python3.12/site-packages (from aiohttp->datasets) (23.2.0)\n",
      "Requirement already satisfied: frozenlist>=1.1.1 in /Users/cactus/miniconda3/lib/python3.12/site-packages (from aiohttp->datasets) (1.4.1)\n",
      "Requirement already satisfied: multidict<7.0,>=4.5 in /Users/cactus/miniconda3/lib/python3.12/site-packages (from aiohttp->datasets) (6.0.5)\n",
      "Requirement already satisfied: yarl<2.0,>=1.0 in /Users/cactus/miniconda3/lib/python3.12/site-packages (from aiohttp->datasets) (1.9.4)\n",
      "Requirement already satisfied: typing-extensions>=3.7.4.3 in /Users/cactus/miniconda3/lib/python3.12/site-packages (from huggingface-hub>=0.21.2->datasets) (4.9.0)\n",
      "Requirement already satisfied: ipykernel>=4.5.1 in /Users/cactus/miniconda3/lib/python3.12/site-packages (from ipywidgets<=8.0.4->nbdev) (6.29.3)\n",
      "Requirement already satisfied: traitlets>=4.3.1 in /Users/cactus/miniconda3/lib/python3.12/site-packages (from ipywidgets<=8.0.4->nbdev) (5.14.3)\n",
      "Requirement already satisfied: widgetsnbextension~=4.0 in /Users/cactus/miniconda3/lib/python3.12/site-packages (from ipywidgets<=8.0.4->nbdev) (4.0.10)\n",
      "Requirement already satisfied: jupyterlab-widgets~=3.0 in /Users/cactus/miniconda3/lib/python3.12/site-packages (from ipywidgets<=8.0.4->nbdev) (3.0.10)\n",
      "Requirement already satisfied: charset-normalizer<4,>=2 in /Users/cactus/miniconda3/lib/python3.12/site-packages (from requests->kaggle) (2.0.4)\n",
      "Requirement already satisfied: idna<4,>=2.5 in /Users/cactus/miniconda3/lib/python3.12/site-packages (from requests->kaggle) (3.4)\n",
      "Requirement already satisfied: spacy-legacy<3.1.0,>=3.0.11 in /Users/cactus/miniconda3/lib/python3.12/site-packages (from spacy<4->fastai) (3.0.12)\n",
      "Requirement already satisfied: spacy-loggers<2.0.0,>=1.0.0 in /Users/cactus/miniconda3/lib/python3.12/site-packages (from spacy<4->fastai) (1.0.4)\n",
      "Requirement already satisfied: murmurhash<1.1.0,>=0.28.0 in /Users/cactus/miniconda3/lib/python3.12/site-packages (from spacy<4->fastai) (1.0.7)\n",
      "Requirement already satisfied: cymem<2.1.0,>=2.0.2 in /Users/cactus/miniconda3/lib/python3.12/site-packages (from spacy<4->fastai) (2.0.6)\n",
      "Requirement already satisfied: preshed<3.1.0,>=3.0.2 in /Users/cactus/miniconda3/lib/python3.12/site-packages (from spacy<4->fastai) (3.0.6)\n",
      "Requirement already satisfied: thinc<8.3.0,>=8.1.8 in /Users/cactus/miniconda3/lib/python3.12/site-packages (from spacy<4->fastai) (8.2.2)\n",
      "Requirement already satisfied: wasabi<1.2.0,>=0.9.1 in /Users/cactus/miniconda3/lib/python3.12/site-packages (from spacy<4->fastai) (0.9.1)\n",
      "Requirement already satisfied: srsly<3.0.0,>=2.4.3 in /Users/cactus/miniconda3/lib/python3.12/site-packages (from spacy<4->fastai) (2.4.8)\n",
      "Requirement already satisfied: catalogue<2.1.0,>=2.0.6 in /Users/cactus/miniconda3/lib/python3.12/site-packages (from spacy<4->fastai) (2.0.10)\n",
      "Requirement already satisfied: weasel<0.4.0,>=0.1.0 in /Users/cactus/miniconda3/lib/python3.12/site-packages (from spacy<4->fastai) (0.3.4)\n",
      "Requirement already satisfied: typer<0.10.0,>=0.3.0 in /Users/cactus/miniconda3/lib/python3.12/site-packages (from spacy<4->fastai) (0.9.0)\n",
      "Requirement already satisfied: smart-open<7.0.0,>=5.2.1 in /Users/cactus/miniconda3/lib/python3.12/site-packages (from spacy<4->fastai) (5.2.1)\n",
      "Requirement already satisfied: pydantic!=1.8,!=1.8.1,<3.0.0,>=1.7.4 in /Users/cactus/miniconda3/lib/python3.12/site-packages (from spacy<4->fastai) (2.5.3)\n",
      "Requirement already satisfied: jinja2 in /Users/cactus/miniconda3/lib/python3.12/site-packages (from spacy<4->fastai) (3.1.3)\n",
      "Requirement already satisfied: setuptools in /Users/cactus/miniconda3/lib/python3.12/site-packages (from spacy<4->fastai) (68.2.2)\n",
      "Requirement already satisfied: langcodes<4.0.0,>=3.2.0 in /Users/cactus/miniconda3/lib/python3.12/site-packages (from spacy<4->fastai) (3.3.0)\n",
      "Requirement already satisfied: sympy in /Users/cactus/miniconda3/lib/python3.12/site-packages (from torch<2.4,>=1.10->fastai) (1.12)\n",
      "Requirement already satisfied: networkx in /Users/cactus/miniconda3/lib/python3.12/site-packages (from torch<2.4,>=1.10->fastai) (3.1)\n",
      "Requirement already satisfied: wheel<1.0,>=0.23.0 in /Users/cactus/miniconda3/lib/python3.12/site-packages (from astunparse->nbdev) (0.41.2)\n",
      "Requirement already satisfied: webencodings in /Users/cactus/miniconda3/lib/python3.12/site-packages (from bleach->kaggle) (0.5.1)\n",
      "Requirement already satisfied: contourpy>=1.0.1 in /Users/cactus/miniconda3/lib/python3.12/site-packages (from matplotlib->fastai) (1.2.0)\n",
      "Requirement already satisfied: cycler>=0.10 in /Users/cactus/miniconda3/lib/python3.12/site-packages (from matplotlib->fastai) (0.11.0)\n",
      "Requirement already satisfied: fonttools>=4.22.0 in /Users/cactus/miniconda3/lib/python3.12/site-packages (from matplotlib->fastai) (4.51.0)\n",
      "Requirement already satisfied: kiwisolver>=1.3.1 in /Users/cactus/miniconda3/lib/python3.12/site-packages (from matplotlib->fastai) (1.4.4)\n",
      "Requirement already satisfied: pyparsing>=2.3.1 in /Users/cactus/miniconda3/lib/python3.12/site-packages (from matplotlib->fastai) (3.0.9)\n",
      "Requirement already satisfied: pytz>=2020.1 in /Users/cactus/miniconda3/lib/python3.12/site-packages (from pandas->fastai) (2024.1)\n",
      "Requirement already satisfied: tzdata>=2022.7 in /Users/cactus/miniconda3/lib/python3.12/site-packages (from pandas->fastai) (2023.3)\n",
      "Requirement already satisfied: text-unidecode>=1.3 in /Users/cactus/miniconda3/lib/python3.12/site-packages (from python-slugify->kaggle) (1.3)\n",
      "Requirement already satisfied: joblib>=1.2.0 in /Users/cactus/miniconda3/lib/python3.12/site-packages (from scikit-learn->fastai) (1.4.0)\n",
      "Requirement already satisfied: threadpoolctl>=2.0.0 in /Users/cactus/miniconda3/lib/python3.12/site-packages (from scikit-learn->fastai) (2.2.0)\n",
      "Requirement already satisfied: appnope in /Users/cactus/miniconda3/lib/python3.12/site-packages (from ipykernel>=4.5.1->ipywidgets<=8.0.4->nbdev) (0.1.4)\n",
      "Requirement already satisfied: comm>=0.1.1 in /Users/cactus/miniconda3/lib/python3.12/site-packages (from ipykernel>=4.5.1->ipywidgets<=8.0.4->nbdev) (0.2.2)\n",
      "Requirement already satisfied: debugpy>=1.6.5 in /Users/cactus/miniconda3/lib/python3.12/site-packages (from ipykernel>=4.5.1->ipywidgets<=8.0.4->nbdev) (1.6.7)\n",
      "Requirement already satisfied: jupyter-client>=6.1.12 in /Users/cactus/miniconda3/lib/python3.12/site-packages (from ipykernel>=4.5.1->ipywidgets<=8.0.4->nbdev) (8.6.1)\n",
      "Requirement already satisfied: jupyter-core!=5.0.*,>=4.12 in /Users/cactus/miniconda3/lib/python3.12/site-packages (from ipykernel>=4.5.1->ipywidgets<=8.0.4->nbdev) (5.7.2)\n",
      "Requirement already satisfied: matplotlib-inline>=0.1 in /Users/cactus/miniconda3/lib/python3.12/site-packages (from ipykernel>=4.5.1->ipywidgets<=8.0.4->nbdev) (0.1.7)\n",
      "Requirement already satisfied: nest-asyncio in /Users/cactus/miniconda3/lib/python3.12/site-packages (from ipykernel>=4.5.1->ipywidgets<=8.0.4->nbdev) (1.6.0)\n",
      "Requirement already satisfied: psutil in /Users/cactus/miniconda3/lib/python3.12/site-packages (from ipykernel>=4.5.1->ipywidgets<=8.0.4->nbdev) (5.9.8)\n",
      "Requirement already satisfied: pyzmq>=24 in /Users/cactus/miniconda3/lib/python3.12/site-packages (from ipykernel>=4.5.1->ipywidgets<=8.0.4->nbdev) (25.1.1)\n",
      "Requirement already satisfied: tornado>=6.1 in /Users/cactus/miniconda3/lib/python3.12/site-packages (from ipykernel>=4.5.1->ipywidgets<=8.0.4->nbdev) (6.3.3)\n",
      "Requirement already satisfied: decorator in /Users/cactus/miniconda3/lib/python3.12/site-packages (from ipython->execnb>=0.1.4->nbdev) (5.1.1)\n",
      "Requirement already satisfied: jedi>=0.16 in /Users/cactus/miniconda3/lib/python3.12/site-packages (from ipython->execnb>=0.1.4->nbdev) (0.19.1)\n",
      "Requirement already satisfied: prompt-toolkit<3.1.0,>=3.0.41 in /Users/cactus/miniconda3/lib/python3.12/site-packages (from ipython->execnb>=0.1.4->nbdev) (3.0.42)\n",
      "Requirement already satisfied: pygments>=2.4.0 in /Users/cactus/miniconda3/lib/python3.12/site-packages (from ipython->execnb>=0.1.4->nbdev) (2.15.1)\n",
      "Requirement already satisfied: stack-data in /Users/cactus/miniconda3/lib/python3.12/site-packages (from ipython->execnb>=0.1.4->nbdev) (0.6.2)\n",
      "Requirement already satisfied: pexpect>4.3 in /Users/cactus/miniconda3/lib/python3.12/site-packages (from ipython->execnb>=0.1.4->nbdev) (4.9.0)\n",
      "Requirement already satisfied: annotated-types>=0.4.0 in /Users/cactus/miniconda3/lib/python3.12/site-packages (from pydantic!=1.8,!=1.8.1,<3.0.0,>=1.7.4->spacy<4->fastai) (0.6.0)\n",
      "Requirement already satisfied: pydantic-core==2.14.6 in /Users/cactus/miniconda3/lib/python3.12/site-packages (from pydantic!=1.8,!=1.8.1,<3.0.0,>=1.7.4->spacy<4->fastai) (2.14.6)\n",
      "Requirement already satisfied: blis<0.8.0,>=0.7.8 in /Users/cactus/miniconda3/lib/python3.12/site-packages (from thinc<8.3.0,>=8.1.8->spacy<4->fastai) (0.7.11)\n",
      "Requirement already satisfied: confection<1.0.0,>=0.0.1 in /Users/cactus/miniconda3/lib/python3.12/site-packages (from thinc<8.3.0,>=8.1.8->spacy<4->fastai) (0.1.4)\n",
      "Requirement already satisfied: click<9.0.0,>=7.1.1 in /Users/cactus/miniconda3/lib/python3.12/site-packages (from typer<0.10.0,>=0.3.0->spacy<4->fastai) (8.1.7)\n",
      "Requirement already satisfied: cloudpathlib<0.17.0,>=0.7.0 in /Users/cactus/miniconda3/lib/python3.12/site-packages (from weasel<0.4.0,>=0.1.0->spacy<4->fastai) (0.16.0)\n",
      "Requirement already satisfied: MarkupSafe>=2.0 in /Users/cactus/miniconda3/lib/python3.12/site-packages (from jinja2->spacy<4->fastai) (2.1.3)\n",
      "Requirement already satisfied: mpmath>=0.19 in /Users/cactus/miniconda3/lib/python3.12/site-packages (from sympy->torch<2.4,>=1.10->fastai) (1.3.0)\n",
      "Requirement already satisfied: parso<0.9.0,>=0.8.3 in /Users/cactus/miniconda3/lib/python3.12/site-packages (from jedi>=0.16->ipython->execnb>=0.1.4->nbdev) (0.8.4)\n",
      "Requirement already satisfied: platformdirs>=2.5 in /Users/cactus/miniconda3/lib/python3.12/site-packages (from jupyter-core!=5.0.*,>=4.12->ipykernel>=4.5.1->ipywidgets<=8.0.4->nbdev) (3.10.0)\n",
      "Requirement already satisfied: ptyprocess>=0.5 in /Users/cactus/miniconda3/lib/python3.12/site-packages (from pexpect>4.3->ipython->execnb>=0.1.4->nbdev) (0.7.0)\n",
      "Requirement already satisfied: wcwidth in /Users/cactus/miniconda3/lib/python3.12/site-packages (from prompt-toolkit<3.1.0,>=3.0.41->ipython->execnb>=0.1.4->nbdev) (0.2.13)\n",
      "Requirement already satisfied: executing>=1.2.0 in /Users/cactus/miniconda3/lib/python3.12/site-packages (from stack-data->ipython->execnb>=0.1.4->nbdev) (2.0.1)\n",
      "Requirement already satisfied: pure-eval in /Users/cactus/miniconda3/lib/python3.12/site-packages (from stack-data->ipython->execnb>=0.1.4->nbdev) (0.2.2)\n"
     ]
    }
   ],
   "source": [
    "dependencies = [\n",
    "    \"kagtool\",\n",
    "    \"kaggle\",\n",
    "    \"fastai\",\n",
    "    \"nbdev\",\n",
    "    \"datasets\"\n",
    "]\n",
    "\n",
    "!pip install -U {\" \".join(dependencies)}\n",
    "\n",
    "from fastai.imports import *"
   ]
  },
  {
   "cell_type": "code",
   "execution_count": 81,
   "metadata": {},
   "outputs": [],
   "source": [
    "import gc\n",
    "\n",
    "from fastai.imports import *\n",
    "import torch\n",
    "from fastai.vision.all import *\n",
    "\n",
    "import matplotlib.pyplot as plt\n",
    "\n",
    "matplotlib.rc('image', cmap='Greys')"
   ]
  },
  {
   "cell_type": "markdown",
   "metadata": {},
   "source": [
    "# Convolutions 101"
   ]
  },
  {
   "cell_type": "code",
   "execution_count": 82,
   "metadata": {},
   "outputs": [],
   "source": [
    "top_edge = tensor([[-1,-1,-1],\n",
    "                   [ 0, 0, 0],\n",
    "                   [ 1, 1, 1]]).float()"
   ]
  },
  {
   "cell_type": "code",
   "execution_count": 83,
   "metadata": {},
   "outputs": [],
   "source": [
    "path = untar_data(URLs.MNIST_SAMPLE)"
   ]
  },
  {
   "cell_type": "code",
   "execution_count": 84,
   "metadata": {},
   "outputs": [
    {
     "data": {
      "image/png": "[encoded data removed]",
      "text/plain": [
       "<Figure size 100x100 with 1 Axes>"
      ]
     },
     "metadata": {},
     "output_type": "display_data"
    }
   ],
   "source": [
    "im3 = Image.open(path/'train'/'3'/'12.png')\n",
    "show_image(im3);"
   ]
  },
  {
   "cell_type": "code",
   "execution_count": 85,
   "metadata": {},
   "outputs": [
    {
     "data": {
      "text/plain": [
       "(28, 28)"
      ]
     },
     "execution_count": 85,
     "metadata": {},
     "output_type": "execute_result"
    }
   ],
   "source": [
    "im3.shape"
   ]
  },
  {
   "cell_type": "code",
   "execution_count": 86,
   "metadata": {},
   "outputs": [
    {
     "data": {
      "text/plain": [
       "tensor([[-0., -0., -0.],\n",
       "        [0., 0., 0.],\n",
       "        [0., 0., 0.]])"
      ]
     },
     "execution_count": 86,
     "metadata": {},
     "output_type": "execute_result"
    }
   ],
   "source": [
    "im3_t = tensor(im3)\n",
    "im3_t[0:3,0:3] * top_edge"
   ]
  },
  {
   "cell_type": "code",
   "execution_count": 87,
   "metadata": {},
   "outputs": [
    {
     "data": {
      "text/plain": [
       "tensor(0.)"
      ]
     },
     "execution_count": 87,
     "metadata": {},
     "output_type": "execute_result"
    }
   ],
   "source": [
    "(im3_t[0:3,0:3] * top_edge).sum()"
   ]
  },
  {
   "cell_type": "code",
   "execution_count": 88,
   "metadata": {},
   "outputs": [
    {
     "data": {
      "text/html": [
       "<style type=\"text/css\">\n",
       "#T_69791_row0_col0, #T_69791_row0_col1, #T_69791_row0_col2, #T_69791_row0_col3, #T_69791_row0_col4, #T_69791_row0_col5, #T_69791_row0_col6, #T_69791_row0_col7, #T_69791_row0_col8, #T_69791_row0_col9, #T_69791_row0_col10, #T_69791_row0_col11, #T_69791_row0_col12, #T_69791_row0_col13, #T_69791_row0_col14, #T_69791_row0_col15, #T_69791_row0_col16, #T_69791_row0_col17, #T_69791_row0_col18, #T_69791_row0_col19, #T_69791_row1_col0, #T_69791_row1_col1, #T_69791_row1_col2, #T_69791_row1_col3, #T_69791_row1_col4, #T_69791_row1_col5, #T_69791_row1_col6, #T_69791_row1_col7, #T_69791_row1_col8, #T_69791_row1_col9, #T_69791_row1_col10, #T_69791_row1_col11, #T_69791_row1_col12, #T_69791_row1_col13, #T_69791_row1_col14, #T_69791_row1_col15, #T_69791_row1_col16, #T_69791_row1_col17, #T_69791_row1_col18, #T_69791_row1_col19, #T_69791_row2_col0, #T_69791_row2_col1, #T_69791_row2_col2, #T_69791_row2_col3, #T_69791_row2_col4, #T_69791_row2_col5, #T_69791_row2_col6, #T_69791_row2_col7, #T_69791_row2_col8, #T_69791_row2_col9, #T_69791_row2_col10, #T_69791_row2_col11, #T_69791_row2_col12, #T_69791_row2_col13, #T_69791_row2_col14, #T_69791_row2_col15, #T_69791_row2_col16, #T_69791_row2_col17, #T_69791_row2_col18, #T_69791_row2_col19, #T_69791_row3_col0, #T_69791_row3_col1, #T_69791_row3_col2, #T_69791_row3_col3, #T_69791_row3_col4, #T_69791_row3_col5, #T_69791_row3_col6, #T_69791_row3_col7, #T_69791_row3_col8, #T_69791_row3_col9, #T_69791_row3_col10, #T_69791_row3_col11, #T_69791_row3_col12, #T_69791_row3_col13, #T_69791_row3_col14, #T_69791_row3_col15, #T_69791_row3_col16, #T_69791_row3_col17, #T_69791_row3_col18, #T_69791_row3_col19, #T_69791_row4_col0, #T_69791_row4_col1, #T_69791_row4_col2, #T_69791_row4_col3, #T_69791_row4_col4, #T_69791_row4_col5, #T_69791_row4_col6, #T_69791_row4_col7, #T_69791_row4_col8, #T_69791_row4_col9, #T_69791_row4_col10, #T_69791_row4_col11, #T_69791_row4_col12, #T_69791_row4_col13, #T_69791_row4_col14, #T_69791_row4_col15, #T_69791_row4_col16, #T_69791_row4_col17, #T_69791_row4_col18, #T_69791_row4_col19, #T_69791_row5_col0, #T_69791_row5_col1, #T_69791_row5_col2, #T_69791_row5_col16, #T_69791_row5_col17, #T_69791_row5_col18, #T_69791_row5_col19, #T_69791_row6_col0, #T_69791_row6_col1, #T_69791_row6_col2, #T_69791_row6_col19, #T_69791_row7_col0, #T_69791_row7_col1, #T_69791_row7_col2, #T_69791_row7_col19, #T_69791_row8_col0, #T_69791_row8_col1, #T_69791_row8_col2, #T_69791_row8_col8, #T_69791_row8_col9, #T_69791_row8_col10, #T_69791_row8_col11, #T_69791_row8_col12, #T_69791_row8_col13, #T_69791_row8_col19, #T_69791_row9_col0, #T_69791_row9_col1, #T_69791_row9_col2, #T_69791_row9_col3, #T_69791_row9_col4, #T_69791_row9_col5, #T_69791_row9_col6, #T_69791_row9_col7, #T_69791_row9_col8, #T_69791_row9_col9, #T_69791_row9_col10, #T_69791_row9_col11, #T_69791_row9_col12, #T_69791_row9_col13, #T_69791_row9_col19 {\n",
       "  font-size: 6pt;\n",
       "  background-color: #ffffff;\n",
       "  color: #000000;\n",
       "}\n",
       "#T_69791_row5_col3, #T_69791_row8_col14 {\n",
       "  font-size: 6pt;\n",
       "  background-color: #f9f9f9;\n",
       "  color: #000000;\n",
       "}\n",
       "#T_69791_row5_col4 {\n",
       "  font-size: 6pt;\n",
       "  background-color: #b9b9b9;\n",
       "  color: #000000;\n",
       "}\n",
       "#T_69791_row5_col5 {\n",
       "  font-size: 6pt;\n",
       "  background-color: #c1c1c1;\n",
       "  color: #000000;\n",
       "}\n",
       "#T_69791_row5_col6 {\n",
       "  font-size: 6pt;\n",
       "  background-color: #858585;\n",
       "  color: #f1f1f1;\n",
       "}\n",
       "#T_69791_row5_col7, #T_69791_row5_col10, #T_69791_row5_col11, #T_69791_row5_col12, #T_69791_row5_col13 {\n",
       "  font-size: 6pt;\n",
       "  background-color: #777777;\n",
       "  color: #f1f1f1;\n",
       "}\n",
       "#T_69791_row5_col8 {\n",
       "  font-size: 6pt;\n",
       "  background-color: #090909;\n",
       "  color: #f1f1f1;\n",
       "}\n",
       "#T_69791_row5_col9 {\n",
       "  font-size: 6pt;\n",
       "  background-color: #5b5b5b;\n",
       "  color: #f1f1f1;\n",
       "}\n",
       "#T_69791_row5_col14 {\n",
       "  font-size: 6pt;\n",
       "  background-color: #919191;\n",
       "  color: #f1f1f1;\n",
       "}\n",
       "#T_69791_row5_col15 {\n",
       "  font-size: 6pt;\n",
       "  background-color: #e1e1e1;\n",
       "  color: #000000;\n",
       "}\n",
       "#T_69791_row6_col3 {\n",
       "  font-size: 6pt;\n",
       "  background-color: #727272;\n",
       "  color: #f1f1f1;\n",
       "}\n",
       "#T_69791_row6_col4, #T_69791_row6_col5, #T_69791_row6_col6, #T_69791_row6_col7, #T_69791_row6_col8, #T_69791_row6_col9, #T_69791_row6_col10, #T_69791_row6_col11, #T_69791_row6_col12, #T_69791_row6_col13, #T_69791_row6_col14, #T_69791_row7_col3, #T_69791_row7_col4, #T_69791_row7_col5, #T_69791_row7_col6, #T_69791_row7_col15, #T_69791_row7_col16, #T_69791_row7_col17, #T_69791_row8_col16, #T_69791_row8_col17, #T_69791_row8_col18, #T_69791_row9_col15, #T_69791_row9_col16 {\n",
       "  font-size: 6pt;\n",
       "  background-color: #000000;\n",
       "  color: #f1f1f1;\n",
       "}\n",
       "#T_69791_row6_col15 {\n",
       "  font-size: 6pt;\n",
       "  background-color: #020202;\n",
       "  color: #f1f1f1;\n",
       "}\n",
       "#T_69791_row6_col16 {\n",
       "  font-size: 6pt;\n",
       "  background-color: #363636;\n",
       "  color: #f1f1f1;\n",
       "}\n",
       "#T_69791_row6_col17 {\n",
       "  font-size: 6pt;\n",
       "  background-color: #9d9d9d;\n",
       "  color: #f1f1f1;\n",
       "}\n",
       "#T_69791_row6_col18 {\n",
       "  font-size: 6pt;\n",
       "  background-color: #dfdfdf;\n",
       "  color: #000000;\n",
       "}\n",
       "#T_69791_row7_col7 {\n",
       "  font-size: 6pt;\n",
       "  background-color: #161616;\n",
       "  color: #f1f1f1;\n",
       "}\n",
       "#T_69791_row7_col8, #T_69791_row7_col9, #T_69791_row7_col10, #T_69791_row7_col11, #T_69791_row7_col13 {\n",
       "  font-size: 6pt;\n",
       "  background-color: #535353;\n",
       "  color: #f1f1f1;\n",
       "}\n",
       "#T_69791_row7_col12 {\n",
       "  font-size: 6pt;\n",
       "  background-color: #7c7c7c;\n",
       "  color: #f1f1f1;\n",
       "}\n",
       "#T_69791_row7_col14 {\n",
       "  font-size: 6pt;\n",
       "  background-color: #3d3d3d;\n",
       "  color: #f1f1f1;\n",
       "}\n",
       "#T_69791_row7_col18 {\n",
       "  font-size: 6pt;\n",
       "  background-color: #999999;\n",
       "  color: #f1f1f1;\n",
       "}\n",
       "#T_69791_row8_col3 {\n",
       "  font-size: 6pt;\n",
       "  background-color: #eaeaea;\n",
       "  color: #000000;\n",
       "}\n",
       "#T_69791_row8_col4 {\n",
       "  font-size: 6pt;\n",
       "  background-color: #d0d0d0;\n",
       "  color: #000000;\n",
       "}\n",
       "#T_69791_row8_col5, #T_69791_row8_col6 {\n",
       "  font-size: 6pt;\n",
       "  background-color: #eeeeee;\n",
       "  color: #000000;\n",
       "}\n",
       "#T_69791_row8_col7 {\n",
       "  font-size: 6pt;\n",
       "  background-color: #f3f3f3;\n",
       "  color: #000000;\n",
       "}\n",
       "#T_69791_row8_col15 {\n",
       "  font-size: 6pt;\n",
       "  background-color: #232323;\n",
       "  color: #f1f1f1;\n",
       "}\n",
       "#T_69791_row9_col14 {\n",
       "  font-size: 6pt;\n",
       "  background-color: #c2c2c2;\n",
       "  color: #000000;\n",
       "}\n",
       "#T_69791_row9_col17 {\n",
       "  font-size: 6pt;\n",
       "  background-color: #080808;\n",
       "  color: #f1f1f1;\n",
       "}\n",
       "#T_69791_row9_col18 {\n",
       "  font-size: 6pt;\n",
       "  background-color: #c4c4c4;\n",
       "  color: #000000;\n",
       "}\n",
       "</style>\n",
       "<table id=\"T_69791\">\n",
       "  <thead>\n",
       "    <tr>\n",
       "      <th class=\"blank level0\" >&nbsp;</th>\n",
       "      <th id=\"T_69791_level0_col0\" class=\"col_heading level0 col0\" >0</th>\n",
       "      <th id=\"T_69791_level0_col1\" class=\"col_heading level0 col1\" >1</th>\n",
       "      <th id=\"T_69791_level0_col2\" class=\"col_heading level0 col2\" >2</th>\n",
       "      <th id=\"T_69791_level0_col3\" class=\"col_heading level0 col3\" >3</th>\n",
       "      <th id=\"T_69791_level0_col4\" class=\"col_heading level0 col4\" >4</th>\n",
       "      <th id=\"T_69791_level0_col5\" class=\"col_heading level0 col5\" >5</th>\n",
       "      <th id=\"T_69791_level0_col6\" class=\"col_heading level0 col6\" >6</th>\n",
       "      <th id=\"T_69791_level0_col7\" class=\"col_heading level0 col7\" >7</th>\n",
       "      <th id=\"T_69791_level0_col8\" class=\"col_heading level0 col8\" >8</th>\n",
       "      <th id=\"T_69791_level0_col9\" class=\"col_heading level0 col9\" >9</th>\n",
       "      <th id=\"T_69791_level0_col10\" class=\"col_heading level0 col10\" >10</th>\n",
       "      <th id=\"T_69791_level0_col11\" class=\"col_heading level0 col11\" >11</th>\n",
       "      <th id=\"T_69791_level0_col12\" class=\"col_heading level0 col12\" >12</th>\n",
       "      <th id=\"T_69791_level0_col13\" class=\"col_heading level0 col13\" >13</th>\n",
       "      <th id=\"T_69791_level0_col14\" class=\"col_heading level0 col14\" >14</th>\n",
       "      <th id=\"T_69791_level0_col15\" class=\"col_heading level0 col15\" >15</th>\n",
       "      <th id=\"T_69791_level0_col16\" class=\"col_heading level0 col16\" >16</th>\n",
       "      <th id=\"T_69791_level0_col17\" class=\"col_heading level0 col17\" >17</th>\n",
       "      <th id=\"T_69791_level0_col18\" class=\"col_heading level0 col18\" >18</th>\n",
       "      <th id=\"T_69791_level0_col19\" class=\"col_heading level0 col19\" >19</th>\n",
       "    </tr>\n",
       "  </thead>\n",
       "  <tbody>\n",
       "    <tr>\n",
       "      <th id=\"T_69791_level0_row0\" class=\"row_heading level0 row0\" >0</th>\n",
       "      <td id=\"T_69791_row0_col0\" class=\"data row0 col0\" >0</td>\n",
       "      <td id=\"T_69791_row0_col1\" class=\"data row0 col1\" >0</td>\n",
       "      <td id=\"T_69791_row0_col2\" class=\"data row0 col2\" >0</td>\n",
       "      <td id=\"T_69791_row0_col3\" class=\"data row0 col3\" >0</td>\n",
       "      <td id=\"T_69791_row0_col4\" class=\"data row0 col4\" >0</td>\n",
       "      <td id=\"T_69791_row0_col5\" class=\"data row0 col5\" >0</td>\n",
       "      <td id=\"T_69791_row0_col6\" class=\"data row0 col6\" >0</td>\n",
       "      <td id=\"T_69791_row0_col7\" class=\"data row0 col7\" >0</td>\n",
       "      <td id=\"T_69791_row0_col8\" class=\"data row0 col8\" >0</td>\n",
       "      <td id=\"T_69791_row0_col9\" class=\"data row0 col9\" >0</td>\n",
       "      <td id=\"T_69791_row0_col10\" class=\"data row0 col10\" >0</td>\n",
       "      <td id=\"T_69791_row0_col11\" class=\"data row0 col11\" >0</td>\n",
       "      <td id=\"T_69791_row0_col12\" class=\"data row0 col12\" >0</td>\n",
       "      <td id=\"T_69791_row0_col13\" class=\"data row0 col13\" >0</td>\n",
       "      <td id=\"T_69791_row0_col14\" class=\"data row0 col14\" >0</td>\n",
       "      <td id=\"T_69791_row0_col15\" class=\"data row0 col15\" >0</td>\n",
       "      <td id=\"T_69791_row0_col16\" class=\"data row0 col16\" >0</td>\n",
       "      <td id=\"T_69791_row0_col17\" class=\"data row0 col17\" >0</td>\n",
       "      <td id=\"T_69791_row0_col18\" class=\"data row0 col18\" >0</td>\n",
       "      <td id=\"T_69791_row0_col19\" class=\"data row0 col19\" >0</td>\n",
       "    </tr>\n",
       "    <tr>\n",
       "      <th id=\"T_69791_level0_row1\" class=\"row_heading level0 row1\" >1</th>\n",
       "      <td id=\"T_69791_row1_col0\" class=\"data row1 col0\" >0</td>\n",
       "      <td id=\"T_69791_row1_col1\" class=\"data row1 col1\" >0</td>\n",
       "      <td id=\"T_69791_row1_col2\" class=\"data row1 col2\" >0</td>\n",
       "      <td id=\"T_69791_row1_col3\" class=\"data row1 col3\" >0</td>\n",
       "      <td id=\"T_69791_row1_col4\" class=\"data row1 col4\" >0</td>\n",
       "      <td id=\"T_69791_row1_col5\" class=\"data row1 col5\" >0</td>\n",
       "      <td id=\"T_69791_row1_col6\" class=\"data row1 col6\" >0</td>\n",
       "      <td id=\"T_69791_row1_col7\" class=\"data row1 col7\" >0</td>\n",
       "      <td id=\"T_69791_row1_col8\" class=\"data row1 col8\" >0</td>\n",
       "      <td id=\"T_69791_row1_col9\" class=\"data row1 col9\" >0</td>\n",
       "      <td id=\"T_69791_row1_col10\" class=\"data row1 col10\" >0</td>\n",
       "      <td id=\"T_69791_row1_col11\" class=\"data row1 col11\" >0</td>\n",
       "      <td id=\"T_69791_row1_col12\" class=\"data row1 col12\" >0</td>\n",
       "      <td id=\"T_69791_row1_col13\" class=\"data row1 col13\" >0</td>\n",
       "      <td id=\"T_69791_row1_col14\" class=\"data row1 col14\" >0</td>\n",
       "      <td id=\"T_69791_row1_col15\" class=\"data row1 col15\" >0</td>\n",
       "      <td id=\"T_69791_row1_col16\" class=\"data row1 col16\" >0</td>\n",
       "      <td id=\"T_69791_row1_col17\" class=\"data row1 col17\" >0</td>\n",
       "      <td id=\"T_69791_row1_col18\" class=\"data row1 col18\" >0</td>\n",
       "      <td id=\"T_69791_row1_col19\" class=\"data row1 col19\" >0</td>\n",
       "    </tr>\n",
       "    <tr>\n",
       "      <th id=\"T_69791_level0_row2\" class=\"row_heading level0 row2\" >2</th>\n",
       "      <td id=\"T_69791_row2_col0\" class=\"data row2 col0\" >0</td>\n",
       "      <td id=\"T_69791_row2_col1\" class=\"data row2 col1\" >0</td>\n",
       "      <td id=\"T_69791_row2_col2\" class=\"data row2 col2\" >0</td>\n",
       "      <td id=\"T_69791_row2_col3\" class=\"data row2 col3\" >0</td>\n",
       "      <td id=\"T_69791_row2_col4\" class=\"data row2 col4\" >0</td>\n",
       "      <td id=\"T_69791_row2_col5\" class=\"data row2 col5\" >0</td>\n",
       "      <td id=\"T_69791_row2_col6\" class=\"data row2 col6\" >0</td>\n",
       "      <td id=\"T_69791_row2_col7\" class=\"data row2 col7\" >0</td>\n",
       "      <td id=\"T_69791_row2_col8\" class=\"data row2 col8\" >0</td>\n",
       "      <td id=\"T_69791_row2_col9\" class=\"data row2 col9\" >0</td>\n",
       "      <td id=\"T_69791_row2_col10\" class=\"data row2 col10\" >0</td>\n",
       "      <td id=\"T_69791_row2_col11\" class=\"data row2 col11\" >0</td>\n",
       "      <td id=\"T_69791_row2_col12\" class=\"data row2 col12\" >0</td>\n",
       "      <td id=\"T_69791_row2_col13\" class=\"data row2 col13\" >0</td>\n",
       "      <td id=\"T_69791_row2_col14\" class=\"data row2 col14\" >0</td>\n",
       "      <td id=\"T_69791_row2_col15\" class=\"data row2 col15\" >0</td>\n",
       "      <td id=\"T_69791_row2_col16\" class=\"data row2 col16\" >0</td>\n",
       "      <td id=\"T_69791_row2_col17\" class=\"data row2 col17\" >0</td>\n",
       "      <td id=\"T_69791_row2_col18\" class=\"data row2 col18\" >0</td>\n",
       "      <td id=\"T_69791_row2_col19\" class=\"data row2 col19\" >0</td>\n",
       "    </tr>\n",
       "    <tr>\n",
       "      <th id=\"T_69791_level0_row3\" class=\"row_heading level0 row3\" >3</th>\n",
       "      <td id=\"T_69791_row3_col0\" class=\"data row3 col0\" >0</td>\n",
       "      <td id=\"T_69791_row3_col1\" class=\"data row3 col1\" >0</td>\n",
       "      <td id=\"T_69791_row3_col2\" class=\"data row3 col2\" >0</td>\n",
       "      <td id=\"T_69791_row3_col3\" class=\"data row3 col3\" >0</td>\n",
       "      <td id=\"T_69791_row3_col4\" class=\"data row3 col4\" >0</td>\n",
       "      <td id=\"T_69791_row3_col5\" class=\"data row3 col5\" >0</td>\n",
       "      <td id=\"T_69791_row3_col6\" class=\"data row3 col6\" >0</td>\n",
       "      <td id=\"T_69791_row3_col7\" class=\"data row3 col7\" >0</td>\n",
       "      <td id=\"T_69791_row3_col8\" class=\"data row3 col8\" >0</td>\n",
       "      <td id=\"T_69791_row3_col9\" class=\"data row3 col9\" >0</td>\n",
       "      <td id=\"T_69791_row3_col10\" class=\"data row3 col10\" >0</td>\n",
       "      <td id=\"T_69791_row3_col11\" class=\"data row3 col11\" >0</td>\n",
       "      <td id=\"T_69791_row3_col12\" class=\"data row3 col12\" >0</td>\n",
       "      <td id=\"T_69791_row3_col13\" class=\"data row3 col13\" >0</td>\n",
       "      <td id=\"T_69791_row3_col14\" class=\"data row3 col14\" >0</td>\n",
       "      <td id=\"T_69791_row3_col15\" class=\"data row3 col15\" >0</td>\n",
       "      <td id=\"T_69791_row3_col16\" class=\"data row3 col16\" >0</td>\n",
       "      <td id=\"T_69791_row3_col17\" class=\"data row3 col17\" >0</td>\n",
       "      <td id=\"T_69791_row3_col18\" class=\"data row3 col18\" >0</td>\n",
       "      <td id=\"T_69791_row3_col19\" class=\"data row3 col19\" >0</td>\n",
       "    </tr>\n",
       "    <tr>\n",
       "      <th id=\"T_69791_level0_row4\" class=\"row_heading level0 row4\" >4</th>\n",
       "      <td id=\"T_69791_row4_col0\" class=\"data row4 col0\" >0</td>\n",
       "      <td id=\"T_69791_row4_col1\" class=\"data row4 col1\" >0</td>\n",
       "      <td id=\"T_69791_row4_col2\" class=\"data row4 col2\" >0</td>\n",
       "      <td id=\"T_69791_row4_col3\" class=\"data row4 col3\" >0</td>\n",
       "      <td id=\"T_69791_row4_col4\" class=\"data row4 col4\" >0</td>\n",
       "      <td id=\"T_69791_row4_col5\" class=\"data row4 col5\" >0</td>\n",
       "      <td id=\"T_69791_row4_col6\" class=\"data row4 col6\" >0</td>\n",
       "      <td id=\"T_69791_row4_col7\" class=\"data row4 col7\" >0</td>\n",
       "      <td id=\"T_69791_row4_col8\" class=\"data row4 col8\" >0</td>\n",
       "      <td id=\"T_69791_row4_col9\" class=\"data row4 col9\" >0</td>\n",
       "      <td id=\"T_69791_row4_col10\" class=\"data row4 col10\" >0</td>\n",
       "      <td id=\"T_69791_row4_col11\" class=\"data row4 col11\" >0</td>\n",
       "      <td id=\"T_69791_row4_col12\" class=\"data row4 col12\" >0</td>\n",
       "      <td id=\"T_69791_row4_col13\" class=\"data row4 col13\" >0</td>\n",
       "      <td id=\"T_69791_row4_col14\" class=\"data row4 col14\" >0</td>\n",
       "      <td id=\"T_69791_row4_col15\" class=\"data row4 col15\" >0</td>\n",
       "      <td id=\"T_69791_row4_col16\" class=\"data row4 col16\" >0</td>\n",
       "      <td id=\"T_69791_row4_col17\" class=\"data row4 col17\" >0</td>\n",
       "      <td id=\"T_69791_row4_col18\" class=\"data row4 col18\" >0</td>\n",
       "      <td id=\"T_69791_row4_col19\" class=\"data row4 col19\" >0</td>\n",
       "    </tr>\n",
       "    <tr>\n",
       "      <th id=\"T_69791_level0_row5\" class=\"row_heading level0 row5\" >5</th>\n",
       "      <td id=\"T_69791_row5_col0\" class=\"data row5 col0\" >0</td>\n",
       "      <td id=\"T_69791_row5_col1\" class=\"data row5 col1\" >0</td>\n",
       "      <td id=\"T_69791_row5_col2\" class=\"data row5 col2\" >0</td>\n",
       "      <td id=\"T_69791_row5_col3\" class=\"data row5 col3\" >12</td>\n",
       "      <td id=\"T_69791_row5_col4\" class=\"data row5 col4\" >99</td>\n",
       "      <td id=\"T_69791_row5_col5\" class=\"data row5 col5\" >91</td>\n",
       "      <td id=\"T_69791_row5_col6\" class=\"data row5 col6\" >142</td>\n",
       "      <td id=\"T_69791_row5_col7\" class=\"data row5 col7\" >155</td>\n",
       "      <td id=\"T_69791_row5_col8\" class=\"data row5 col8\" >246</td>\n",
       "      <td id=\"T_69791_row5_col9\" class=\"data row5 col9\" >182</td>\n",
       "      <td id=\"T_69791_row5_col10\" class=\"data row5 col10\" >155</td>\n",
       "      <td id=\"T_69791_row5_col11\" class=\"data row5 col11\" >155</td>\n",
       "      <td id=\"T_69791_row5_col12\" class=\"data row5 col12\" >155</td>\n",
       "      <td id=\"T_69791_row5_col13\" class=\"data row5 col13\" >155</td>\n",
       "      <td id=\"T_69791_row5_col14\" class=\"data row5 col14\" >131</td>\n",
       "      <td id=\"T_69791_row5_col15\" class=\"data row5 col15\" >52</td>\n",
       "      <td id=\"T_69791_row5_col16\" class=\"data row5 col16\" >0</td>\n",
       "      <td id=\"T_69791_row5_col17\" class=\"data row5 col17\" >0</td>\n",
       "      <td id=\"T_69791_row5_col18\" class=\"data row5 col18\" >0</td>\n",
       "      <td id=\"T_69791_row5_col19\" class=\"data row5 col19\" >0</td>\n",
       "    </tr>\n",
       "    <tr>\n",
       "      <th id=\"T_69791_level0_row6\" class=\"row_heading level0 row6\" >6</th>\n",
       "      <td id=\"T_69791_row6_col0\" class=\"data row6 col0\" >0</td>\n",
       "      <td id=\"T_69791_row6_col1\" class=\"data row6 col1\" >0</td>\n",
       "      <td id=\"T_69791_row6_col2\" class=\"data row6 col2\" >0</td>\n",
       "      <td id=\"T_69791_row6_col3\" class=\"data row6 col3\" >138</td>\n",
       "      <td id=\"T_69791_row6_col4\" class=\"data row6 col4\" >254</td>\n",
       "      <td id=\"T_69791_row6_col5\" class=\"data row6 col5\" >254</td>\n",
       "      <td id=\"T_69791_row6_col6\" class=\"data row6 col6\" >254</td>\n",
       "      <td id=\"T_69791_row6_col7\" class=\"data row6 col7\" >254</td>\n",
       "      <td id=\"T_69791_row6_col8\" class=\"data row6 col8\" >254</td>\n",
       "      <td id=\"T_69791_row6_col9\" class=\"data row6 col9\" >254</td>\n",
       "      <td id=\"T_69791_row6_col10\" class=\"data row6 col10\" >254</td>\n",
       "      <td id=\"T_69791_row6_col11\" class=\"data row6 col11\" >254</td>\n",
       "      <td id=\"T_69791_row6_col12\" class=\"data row6 col12\" >254</td>\n",
       "      <td id=\"T_69791_row6_col13\" class=\"data row6 col13\" >254</td>\n",
       "      <td id=\"T_69791_row6_col14\" class=\"data row6 col14\" >254</td>\n",
       "      <td id=\"T_69791_row6_col15\" class=\"data row6 col15\" >252</td>\n",
       "      <td id=\"T_69791_row6_col16\" class=\"data row6 col16\" >210</td>\n",
       "      <td id=\"T_69791_row6_col17\" class=\"data row6 col17\" >122</td>\n",
       "      <td id=\"T_69791_row6_col18\" class=\"data row6 col18\" >33</td>\n",
       "      <td id=\"T_69791_row6_col19\" class=\"data row6 col19\" >0</td>\n",
       "    </tr>\n",
       "    <tr>\n",
       "      <th id=\"T_69791_level0_row7\" class=\"row_heading level0 row7\" >7</th>\n",
       "      <td id=\"T_69791_row7_col0\" class=\"data row7 col0\" >0</td>\n",
       "      <td id=\"T_69791_row7_col1\" class=\"data row7 col1\" >0</td>\n",
       "      <td id=\"T_69791_row7_col2\" class=\"data row7 col2\" >0</td>\n",
       "      <td id=\"T_69791_row7_col3\" class=\"data row7 col3\" >220</td>\n",
       "      <td id=\"T_69791_row7_col4\" class=\"data row7 col4\" >254</td>\n",
       "      <td id=\"T_69791_row7_col5\" class=\"data row7 col5\" >254</td>\n",
       "      <td id=\"T_69791_row7_col6\" class=\"data row7 col6\" >254</td>\n",
       "      <td id=\"T_69791_row7_col7\" class=\"data row7 col7\" >235</td>\n",
       "      <td id=\"T_69791_row7_col8\" class=\"data row7 col8\" >189</td>\n",
       "      <td id=\"T_69791_row7_col9\" class=\"data row7 col9\" >189</td>\n",
       "      <td id=\"T_69791_row7_col10\" class=\"data row7 col10\" >189</td>\n",
       "      <td id=\"T_69791_row7_col11\" class=\"data row7 col11\" >189</td>\n",
       "      <td id=\"T_69791_row7_col12\" class=\"data row7 col12\" >150</td>\n",
       "      <td id=\"T_69791_row7_col13\" class=\"data row7 col13\" >189</td>\n",
       "      <td id=\"T_69791_row7_col14\" class=\"data row7 col14\" >205</td>\n",
       "      <td id=\"T_69791_row7_col15\" class=\"data row7 col15\" >254</td>\n",
       "      <td id=\"T_69791_row7_col16\" class=\"data row7 col16\" >254</td>\n",
       "      <td id=\"T_69791_row7_col17\" class=\"data row7 col17\" >254</td>\n",
       "      <td id=\"T_69791_row7_col18\" class=\"data row7 col18\" >75</td>\n",
       "      <td id=\"T_69791_row7_col19\" class=\"data row7 col19\" >0</td>\n",
       "    </tr>\n",
       "    <tr>\n",
       "      <th id=\"T_69791_level0_row8\" class=\"row_heading level0 row8\" >8</th>\n",
       "      <td id=\"T_69791_row8_col0\" class=\"data row8 col0\" >0</td>\n",
       "      <td id=\"T_69791_row8_col1\" class=\"data row8 col1\" >0</td>\n",
       "      <td id=\"T_69791_row8_col2\" class=\"data row8 col2\" >0</td>\n",
       "      <td id=\"T_69791_row8_col3\" class=\"data row8 col3\" >35</td>\n",
       "      <td id=\"T_69791_row8_col4\" class=\"data row8 col4\" >74</td>\n",
       "      <td id=\"T_69791_row8_col5\" class=\"data row8 col5\" >35</td>\n",
       "      <td id=\"T_69791_row8_col6\" class=\"data row8 col6\" >35</td>\n",
       "      <td id=\"T_69791_row8_col7\" class=\"data row8 col7\" >25</td>\n",
       "      <td id=\"T_69791_row8_col8\" class=\"data row8 col8\" >0</td>\n",
       "      <td id=\"T_69791_row8_col9\" class=\"data row8 col9\" >0</td>\n",
       "      <td id=\"T_69791_row8_col10\" class=\"data row8 col10\" >0</td>\n",
       "      <td id=\"T_69791_row8_col11\" class=\"data row8 col11\" >0</td>\n",
       "      <td id=\"T_69791_row8_col12\" class=\"data row8 col12\" >0</td>\n",
       "      <td id=\"T_69791_row8_col13\" class=\"data row8 col13\" >0</td>\n",
       "      <td id=\"T_69791_row8_col14\" class=\"data row8 col14\" >13</td>\n",
       "      <td id=\"T_69791_row8_col15\" class=\"data row8 col15\" >224</td>\n",
       "      <td id=\"T_69791_row8_col16\" class=\"data row8 col16\" >254</td>\n",
       "      <td id=\"T_69791_row8_col17\" class=\"data row8 col17\" >254</td>\n",
       "      <td id=\"T_69791_row8_col18\" class=\"data row8 col18\" >153</td>\n",
       "      <td id=\"T_69791_row8_col19\" class=\"data row8 col19\" >0</td>\n",
       "    </tr>\n",
       "    <tr>\n",
       "      <th id=\"T_69791_level0_row9\" class=\"row_heading level0 row9\" >9</th>\n",
       "      <td id=\"T_69791_row9_col0\" class=\"data row9 col0\" >0</td>\n",
       "      <td id=\"T_69791_row9_col1\" class=\"data row9 col1\" >0</td>\n",
       "      <td id=\"T_69791_row9_col2\" class=\"data row9 col2\" >0</td>\n",
       "      <td id=\"T_69791_row9_col3\" class=\"data row9 col3\" >0</td>\n",
       "      <td id=\"T_69791_row9_col4\" class=\"data row9 col4\" >0</td>\n",
       "      <td id=\"T_69791_row9_col5\" class=\"data row9 col5\" >0</td>\n",
       "      <td id=\"T_69791_row9_col6\" class=\"data row9 col6\" >0</td>\n",
       "      <td id=\"T_69791_row9_col7\" class=\"data row9 col7\" >0</td>\n",
       "      <td id=\"T_69791_row9_col8\" class=\"data row9 col8\" >0</td>\n",
       "      <td id=\"T_69791_row9_col9\" class=\"data row9 col9\" >0</td>\n",
       "      <td id=\"T_69791_row9_col10\" class=\"data row9 col10\" >0</td>\n",
       "      <td id=\"T_69791_row9_col11\" class=\"data row9 col11\" >0</td>\n",
       "      <td id=\"T_69791_row9_col12\" class=\"data row9 col12\" >0</td>\n",
       "      <td id=\"T_69791_row9_col13\" class=\"data row9 col13\" >0</td>\n",
       "      <td id=\"T_69791_row9_col14\" class=\"data row9 col14\" >90</td>\n",
       "      <td id=\"T_69791_row9_col15\" class=\"data row9 col15\" >254</td>\n",
       "      <td id=\"T_69791_row9_col16\" class=\"data row9 col16\" >254</td>\n",
       "      <td id=\"T_69791_row9_col17\" class=\"data row9 col17\" >247</td>\n",
       "      <td id=\"T_69791_row9_col18\" class=\"data row9 col18\" >53</td>\n",
       "      <td id=\"T_69791_row9_col19\" class=\"data row9 col19\" >0</td>\n",
       "    </tr>\n",
       "  </tbody>\n",
       "</table>\n"
      ],
      "text/plain": [
       "<pandas.io.formats.style.Styler at 0x2b99ea630>"
      ]
     },
     "execution_count": 88,
     "metadata": {},
     "output_type": "execute_result"
    }
   ],
   "source": [
    "df = pd.DataFrame(im3_t[:10,:20])\n",
    "df.style.set_properties(**{'font-size':'6pt'}).background_gradient('Greys')"
   ]
  },
  {
   "cell_type": "code",
   "execution_count": 89,
   "metadata": {},
   "outputs": [
    {
     "data": {
      "text/plain": [
       "tensor([[ -0.,  -0.,  -0.],\n",
       "        [  0.,   0.,   0.],\n",
       "        [254., 254., 254.]])"
      ]
     },
     "execution_count": 89,
     "metadata": {},
     "output_type": "execute_result"
    }
   ],
   "source": [
    "im3_t[4:7,6:9] * top_edge"
   ]
  },
  {
   "cell_type": "code",
   "execution_count": 90,
   "metadata": {},
   "outputs": [
    {
     "data": {
      "text/plain": [
       "tensor(762.)"
      ]
     },
     "execution_count": 90,
     "metadata": {},
     "output_type": "execute_result"
    }
   ],
   "source": [
    "(im3_t[4:7,6:9] * top_edge).sum()"
   ]
  },
  {
   "cell_type": "code",
   "execution_count": 91,
   "metadata": {},
   "outputs": [
    {
     "data": {
      "text/plain": [
       "tensor([[-254.,  -75.,   -0.],\n",
       "        [   0.,    0.,    0.],\n",
       "        [ 247.,   53.,    0.]])"
      ]
     },
     "execution_count": 91,
     "metadata": {},
     "output_type": "execute_result"
    }
   ],
   "source": [
    "# There's a right edge at cell 8,18. What does that give us?:\n",
    "im3_t[7:10,17:20] * top_edge"
   ]
  },
  {
   "cell_type": "code",
   "execution_count": 92,
   "metadata": {},
   "outputs": [
    {
     "data": {
      "text/plain": [
       "tensor(-29.)"
      ]
     },
     "execution_count": 92,
     "metadata": {},
     "output_type": "execute_result"
    }
   ],
   "source": [
    "(im3_t[7:10,17:20] * top_edge).sum()"
   ]
  },
  {
   "cell_type": "code",
   "execution_count": 93,
   "metadata": {},
   "outputs": [],
   "source": [
    "def apply_kernel(row, col, kernel):\n",
    "    return (im3_t[row-1:row+2,col-1:col+2] * kernel).sum()"
   ]
  },
  {
   "cell_type": "code",
   "execution_count": 94,
   "metadata": {},
   "outputs": [
    {
     "data": {
      "text/plain": [
       "tensor(762.)"
      ]
     },
     "execution_count": 94,
     "metadata": {},
     "output_type": "execute_result"
    }
   ],
   "source": [
    "apply_kernel(5,7,top_edge)"
   ]
  },
  {
   "cell_type": "code",
   "execution_count": 95,
   "metadata": {},
   "outputs": [
    {
     "name": "stdout",
     "output_type": "stream",
     "text": [
      "The size of tensor a (0) must match the size of tensor b (3) at non-singleton dimension 1\n"
     ]
    }
   ],
   "source": [
    "try:\n",
    "    apply_kernel(0,0,top_edge)\n",
    "except Exception as e:\n",
    "    print(e)"
   ]
  },
  {
   "cell_type": "code",
   "execution_count": 96,
   "metadata": {},
   "outputs": [
    {
     "data": {
      "text/plain": [
       "tensor(0.)"
      ]
     },
     "execution_count": 96,
     "metadata": {},
     "output_type": "execute_result"
    }
   ],
   "source": [
    "apply_kernel(1,1,top_edge)"
   ]
  },
  {
   "cell_type": "code",
   "execution_count": 97,
   "metadata": {},
   "outputs": [
    {
     "data": {
      "image/png": "[encoded data removed]",
      "text/plain": [
       "<Figure size 100x100 with 1 Axes>"
      ]
     },
     "metadata": {},
     "output_type": "display_data"
    }
   ],
   "source": [
    "# apply top-edge kernel to whole image\n",
    "rng = range(1,27)\n",
    "top_edge3 = tensor([[apply_kernel(i,j,top_edge) for j in rng] for i in rng])\n",
    "\n",
    "show_image(top_edge3);"
   ]
  },
  {
   "cell_type": "code",
   "execution_count": 98,
   "metadata": {},
   "outputs": [
    {
     "data": {
      "image/png": "[encoded data removed]",
      "text/plain": [
       "<Figure size 100x100 with 1 Axes>"
      ]
     },
     "metadata": {},
     "output_type": "display_data"
    }
   ],
   "source": [
    "left_edge = tensor([[-1,0,1],\n",
    "                    [-1,0,1],\n",
    "                    [-1,0,1]]).float()\n",
    "\n",
    "left_edge3 = tensor([[apply_kernel(i,j,left_edge) for j in rng] for i in rng])\n",
    "\n",
    "show_image(left_edge3);"
   ]
  },
  {
   "cell_type": "code",
   "execution_count": 99,
   "metadata": {},
   "outputs": [
    {
     "data": {
      "text/plain": [
       "(torch.Size([4, 3, 3]),\n",
       " tensor([[[-1.,  0.,  1.],\n",
       "          [-1.,  0.,  1.],\n",
       "          [-1.,  0.,  1.]],\n",
       " \n",
       "         [[-1., -1., -1.],\n",
       "          [ 0.,  0.,  0.],\n",
       "          [ 1.,  1.,  1.]],\n",
       " \n",
       "         [[ 0., -1.,  1.],\n",
       "          [-1.,  1.,  0.],\n",
       "          [ 1.,  0.,  0.]],\n",
       " \n",
       "         [[ 1., -1.,  0.],\n",
       "          [ 0.,  1., -1.],\n",
       "          [ 0.,  0.,  1.]]]))"
      ]
     },
     "execution_count": 99,
     "metadata": {},
     "output_type": "execute_result"
    }
   ],
   "source": [
    "diag1_edge = tensor([[ 0,-1, 1],\n",
    "                     [-1, 1, 0],\n",
    "                     [ 1, 0, 0]]).float()\n",
    "diag2_edge = tensor([[ 1,-1, 0],\n",
    "                     [ 0, 1,-1],\n",
    "                     [ 0, 0, 1]]).float()\n",
    "\n",
    "edge_kernels = torch.stack([left_edge, top_edge, diag1_edge, diag2_edge])\n",
    "edge_kernels.shape, edge_kernels"
   ]
  },
  {
   "cell_type": "code",
   "execution_count": 100,
   "metadata": {},
   "outputs": [
    {
     "data": {
      "image/png": "[encoded data removed]",
      "text/plain": [
       "<Figure size 100x100 with 1 Axes>"
      ]
     },
     "metadata": {},
     "output_type": "display_data"
    }
   ],
   "source": [
    "edge = tensor([[apply_kernel(i,j,edge_kernels) for j in rng] for i in rng])\n",
    "show_image(edge);"
   ]
  },
  {
   "cell_type": "markdown",
   "metadata": {},
   "source": [
    "# Let's Work On The Training Data Now"
   ]
  },
  {
   "cell_type": "code",
   "execution_count": 101,
   "metadata": {},
   "outputs": [
    {
     "data": {
      "text/plain": [
       "torch.Size([64, 1, 28, 28])"
      ]
     },
     "execution_count": 101,
     "metadata": {},
     "output_type": "execute_result"
    }
   ],
   "source": [
    "mnist = DataBlock((ImageBlock(cls=PILImageBW), CategoryBlock), \n",
    "                  get_items=get_image_files, \n",
    "                  splitter=GrandparentSplitter(),\n",
    "                  get_y=parent_label)\n",
    "\n",
    "dls = mnist.dataloaders(path)\n",
    "xb,yb = first(dls.valid)\n",
    "xb.shape"
   ]
  },
  {
   "cell_type": "code",
   "execution_count": 26,
   "metadata": {},
   "outputs": [],
   "source": [
    "xb,yb = to_cpu(xb),to_cpu(yb)"
   ]
  },
  {
   "cell_type": "code",
   "execution_count": 27,
   "metadata": {},
   "outputs": [
    {
     "data": {
      "text/plain": [
       "torch.Size([2, 3, 3])"
      ]
     },
     "execution_count": 27,
     "metadata": {},
     "output_type": "execute_result"
    }
   ],
   "source": [
    "right_edge = tensor([[1, 0, -1],\n",
    "                    [ 1, 0, -1],\n",
    "                    [ 1, 0, -1]]).float()\n",
    "\n",
    "vertical_edges = torch.stack([top_edge, right_edge])\n",
    "vertical_edges.shape"
   ]
  },
  {
   "cell_type": "code",
   "execution_count": 28,
   "metadata": {},
   "outputs": [
    {
     "data": {
      "text/plain": [
       "torch.Size([64, 2, 28, 28])"
      ]
     },
     "execution_count": 28,
     "metadata": {},
     "output_type": "execute_result"
    }
   ],
   "source": [
    "batch_features = F.conv2d(xb, vertical_edges.unsqueeze(1), padding=1)\n",
    "batch_features.shape"
   ]
  },
  {
   "cell_type": "code",
   "execution_count": 29,
   "metadata": {},
   "outputs": [
    {
     "data": {
      "image/png": "[encoded data removed]",
      "text/plain": [
       "<Figure size 100x100 with 1 Axes>"
      ]
     },
     "metadata": {},
     "output_type": "display_data"
    }
   ],
   "source": [
    "# looking at example 64\n",
    "show_image(batch_features[63,0]);"
   ]
  },
  {
   "cell_type": "markdown",
   "metadata": {},
   "source": [
    "# Neural Net To Recognize If It's a 7 or not"
   ]
  },
  {
   "cell_type": "code",
   "execution_count": 61,
   "metadata": {},
   "outputs": [
    {
     "data": {
      "text/plain": [
       "Sequential(\n",
       "  (0): Linear(in_features=784, out_features=30, bias=True)\n",
       "  (1): ReLU()\n",
       "  (2): Linear(in_features=30, out_features=1, bias=True)\n",
       ")"
      ]
     },
     "execution_count": 61,
     "metadata": {},
     "output_type": "execute_result"
    }
   ],
   "source": [
    "input_pixels = 28*28\n",
    "hidden_size = 30\n",
    "simple_net = nn.Sequential(\n",
    "    nn.Linear(input_pixels,hidden_size),\n",
    "    nn.ReLU(),\n",
    "    nn.Linear(hidden_size,1)\n",
    ")\n",
    "simple_net"
   ]
  },
  {
   "cell_type": "markdown",
   "metadata": {},
   "source": [
    "# CNN To Recognize If It's a 7 or not"
   ]
  },
  {
   "cell_type": "code",
   "execution_count": 62,
   "metadata": {},
   "outputs": [
    {
     "data": {
      "text/plain": [
       "Sequential(\n",
       "  (0): Conv2d(1, 30, kernel_size=(3, 3), stride=(1, 1), padding=(1, 1))\n",
       "  (1): ReLU()\n",
       "  (2): Conv2d(30, 1, kernel_size=(3, 3), stride=(1, 1), padding=(1, 1))\n",
       ")"
      ]
     },
     "execution_count": 62,
     "metadata": {},
     "output_type": "execute_result"
    }
   ],
   "source": [
    "input_size = 1\n",
    "broken_cnn = sequential(\n",
    "    nn.Conv2d(input_size,hidden_size, kernel_size=3, padding=1),\n",
    "    nn.ReLU(),\n",
    "    nn.Conv2d(hidden_size,1, kernel_size=3, padding=1)\n",
    ")\n",
    "broken_cnn"
   ]
  },
  {
   "cell_type": "markdown",
   "metadata": {},
   "source": [
    "### From 784 pixels to input size = 1?"
   ]
  },
  {
   "cell_type": "markdown",
   "metadata": {},
   "source": [
    "### How To Go From Convolutions Layers To Classification Activation?"
   ]
  },
  {
   "cell_type": "code",
   "execution_count": 48,
   "metadata": {},
   "outputs": [
    {
     "data": {
      "text/plain": [
       "torch.Size([64, 1, 28, 28])"
      ]
     },
     "execution_count": 48,
     "metadata": {},
     "output_type": "execute_result"
    }
   ],
   "source": [
    "broken_cnn(xb).shape"
   ]
  },
  {
   "cell_type": "markdown",
   "metadata": {},
   "source": [
    "- that's not something we can use to do classification, we didn't compress any information from the input to the output\n",
    "- we need a single ouput activation per image, not a 28x28 map of activations"
   ]
  },
  {
   "cell_type": "markdown",
   "metadata": {},
   "source": [
    "- we need every convolutions to reduce the dimensions\n",
    "- we need to use enough stride-2 convolutions so that the final layer size is 1"
   ]
  },
  {
   "cell_type": "code",
   "execution_count": 65,
   "metadata": {},
   "outputs": [],
   "source": [
    "def conv(inputs_channels, output_channels, kernel_size=3, act=True):\n",
    "    res = nn.Conv2d(inputs_channels, output_channels, stride=2, kernel_size=kernel_size, padding=kernel_size//2)\n",
    "    if act: res = nn.Sequential(res, nn.ReLU())\n",
    "    return res"
   ]
  },
  {
   "cell_type": "code",
   "execution_count": 66,
   "metadata": {},
   "outputs": [
    {
     "data": {
      "text/plain": [
       "Sequential(\n",
       "  (0): Sequential(\n",
       "    (0): Conv2d(1, 4, kernel_size=(3, 3), stride=(2, 2), padding=(1, 1))\n",
       "    (1): ReLU()\n",
       "  )\n",
       "  (1): Sequential(\n",
       "    (0): Conv2d(4, 8, kernel_size=(3, 3), stride=(2, 2), padding=(1, 1))\n",
       "    (1): ReLU()\n",
       "  )\n",
       "  (2): Sequential(\n",
       "    (0): Conv2d(8, 16, kernel_size=(3, 3), stride=(2, 2), padding=(1, 1))\n",
       "    (1): ReLU()\n",
       "  )\n",
       "  (3): Sequential(\n",
       "    (0): Conv2d(16, 32, kernel_size=(3, 3), stride=(2, 2), padding=(1, 1))\n",
       "    (1): ReLU()\n",
       "  )\n",
       "  (4): Conv2d(32, 1, kernel_size=(3, 3), stride=(2, 2), padding=(1, 1))\n",
       "  (5): fastai.layers.Flatten(full=False)\n",
       ")"
      ]
     },
     "execution_count": 66,
     "metadata": {},
     "output_type": "execute_result"
    }
   ],
   "source": [
    "simple_cnn = sequential(\n",
    "    conv(1 ,4),            # *2     activation map size = 14x14\n",
    "    conv(4 ,8),            # *2     activation map size = 7x7\n",
    "    conv(8 ,16),           # *2     activation map size = 4x4\n",
    "    conv(16,32),           # *2     activation map size = 2x2\n",
    "    conv(32,1, act=False), # we need to recognize if it's a 7 or not\n",
    "    Flatten(),\n",
    ")\n",
    "simple_cnn"
   ]
  },
  {
   "cell_type": "markdown",
   "metadata": {},
   "source": []
  },
  {
   "cell_type": "code",
   "execution_count": 67,
   "metadata": {},
   "outputs": [
    {
     "data": {
      "text/plain": [
       "torch.Size([64, 1])"
      ]
     },
     "execution_count": 67,
     "metadata": {},
     "output_type": "execute_result"
    }
   ],
   "source": [
    "simple_cnn(xb).shape"
   ]
  },
  {
   "cell_type": "code",
   "execution_count": 68,
   "metadata": {},
   "outputs": [
    {
     "data": {
      "text/html": [
       "\n",
       "<style>\n",
       "    /* Turns off some styling */\n",
       "    progress {\n",
       "        /* gets rid of default border in Firefox and Opera. */\n",
       "        border: none;\n",
       "        /* Needs to be in here for Safari polyfill so background images work as expected. */\n",
       "        background-size: auto;\n",
       "    }\n",
       "    progress:not([value]), progress:not([value])::-webkit-progress-bar {\n",
       "        background: repeating-linear-gradient(45deg, #7e7e7e, #7e7e7e 10px, #5c5c5c 10px, #5c5c5c 20px);\n",
       "    }\n",
       "    .progress-bar-interrupted, .progress-bar-interrupted::-webkit-progress-bar {\n",
       "        background: #F44336;\n",
       "    }\n",
       "</style>\n"
      ],
      "text/plain": [
       "<IPython.core.display.HTML object>"
      ]
     },
     "metadata": {},
     "output_type": "display_data"
    },
    {
     "data": {
      "text/html": [],
      "text/plain": [
       "<IPython.core.display.HTML object>"
      ]
     },
     "metadata": {},
     "output_type": "display_data"
    },
    {
     "data": {
      "text/plain": [
       "Sequential (Input shape: 64 x 1 x 28 x 28)\n",
       "============================================================================\n",
       "Layer (type)         Output Shape         Param #    Trainable \n",
       "============================================================================\n",
       "                     64 x 4 x 14 x 14    \n",
       "Conv2d                                    40         True      \n",
       "ReLU                                                           \n",
       "____________________________________________________________________________\n",
       "                     64 x 8 x 7 x 7      \n",
       "Conv2d                                    296        True      \n",
       "ReLU                                                           \n",
       "____________________________________________________________________________\n",
       "                     64 x 16 x 4 x 4     \n",
       "Conv2d                                    1168       True      \n",
       "ReLU                                                           \n",
       "____________________________________________________________________________\n",
       "                     64 x 32 x 2 x 2     \n",
       "Conv2d                                    4640       True      \n",
       "ReLU                                                           \n",
       "____________________________________________________________________________\n",
       "                     64 x 1 x 1 x 1      \n",
       "Conv2d                                    289        True      \n",
       "____________________________________________________________________________\n",
       "                     64 x 1              \n",
       "Flatten                                                        \n",
       "____________________________________________________________________________\n",
       "\n",
       "Total params: 6,433\n",
       "Total trainable params: 6,433\n",
       "Total non-trainable params: 0\n",
       "\n",
       "Optimizer used: <function Adam at 0x2a35a4b80>\n",
       "Loss function: <function cross_entropy at 0x28f615760>\n",
       "\n",
       "Callbacks:\n",
       "  - TrainEvalCallback\n",
       "  - CastToTensor\n",
       "  - Recorder\n",
       "  - ProgressCallback"
      ]
     },
     "execution_count": 68,
     "metadata": {},
     "output_type": "execute_result"
    }
   ],
   "source": [
    "learn = Learner(dls, simple_cnn, loss_func=F.cross_entropy, metrics=accuracy)\n",
    "learn.summary()"
   ]
  },
  {
   "cell_type": "code",
   "execution_count": 69,
   "metadata": {},
   "outputs": [
    {
     "data": {
      "text/html": [
       "\n",
       "<style>\n",
       "    /* Turns off some styling */\n",
       "    progress {\n",
       "        /* gets rid of default border in Firefox and Opera. */\n",
       "        border: none;\n",
       "        /* Needs to be in here for Safari polyfill so background images work as expected. */\n",
       "        background-size: auto;\n",
       "    }\n",
       "    progress:not([value]), progress:not([value])::-webkit-progress-bar {\n",
       "        background: repeating-linear-gradient(45deg, #7e7e7e, #7e7e7e 10px, #5c5c5c 10px, #5c5c5c 20px);\n",
       "    }\n",
       "    .progress-bar-interrupted, .progress-bar-interrupted::-webkit-progress-bar {\n",
       "        background: #F44336;\n",
       "    }\n",
       "</style>\n"
      ],
      "text/plain": [
       "<IPython.core.display.HTML object>"
      ]
     },
     "metadata": {},
     "output_type": "display_data"
    },
    {
     "data": {
      "text/html": [
       "<table border=\"1\" class=\"dataframe\">\n",
       "  <thead>\n",
       "    <tr style=\"text-align: left;\">\n",
       "      <th>epoch</th>\n",
       "      <th>train_loss</th>\n",
       "      <th>valid_loss</th>\n",
       "      <th>accuracy</th>\n",
       "      <th>time</th>\n",
       "    </tr>\n",
       "  </thead>\n",
       "  <tbody>\n",
       "    <tr>\n",
       "      <td>0</td>\n",
       "      <td>0.000000</td>\n",
       "      <td>0.000000</td>\n",
       "      <td>0.495584</td>\n",
       "      <td>00:10</td>\n",
       "    </tr>\n",
       "    <tr>\n",
       "      <td>1</td>\n",
       "      <td>0.000000</td>\n",
       "      <td>0.000000</td>\n",
       "      <td>0.495584</td>\n",
       "      <td>00:08</td>\n",
       "    </tr>\n",
       "  </tbody>\n",
       "</table>"
      ],
      "text/plain": [
       "<IPython.core.display.HTML object>"
      ]
     },
     "metadata": {},
     "output_type": "display_data"
    }
   ],
   "source": [
    "learn.fit_one_cycle(2, 0.01)"
   ]
  },
  {
   "cell_type": "code",
   "execution_count": 70,
   "metadata": {},
   "outputs": [],
   "source": [
    "# Understanding Convolution Arithmetic"
   ]
  },
  {
   "cell_type": "code",
   "execution_count": 71,
   "metadata": {},
   "outputs": [
    {
     "data": {
      "text/plain": [
       "Sequential(\n",
       "  (0): Conv2d(1, 4, kernel_size=(3, 3), stride=(2, 2), padding=(1, 1))\n",
       "  (1): ReLU()\n",
       ")"
      ]
     },
     "execution_count": 71,
     "metadata": {},
     "output_type": "execute_result"
    }
   ],
   "source": [
    "m = learn.model[0]\n",
    "m"
   ]
  },
  {
   "cell_type": "code",
   "execution_count": 60,
   "metadata": {},
   "outputs": [
    {
     "data": {
      "text/plain": [
       "torch.Size([4, 1, 3, 3])"
      ]
     },
     "execution_count": 60,
     "metadata": {},
     "output_type": "execute_result"
    }
   ],
   "source": [
    "m[0].weight.shape"
   ]
  },
  {
   "cell_type": "markdown",
   "metadata": {},
   "source": [
    "# Receiptive Fields"
   ]
  },
  {
   "cell_type": "markdown",
   "metadata": {},
   "source": [
    "# Recognize All 10 Digits"
   ]
  },
  {
   "cell_type": "code",
   "execution_count": 73,
   "metadata": {},
   "outputs": [],
   "source": [
    "path = untar_data(URLs.MNIST)"
   ]
  },
  {
   "cell_type": "code",
   "execution_count": 74,
   "metadata": {},
   "outputs": [],
   "source": [
    "Path.BASE_PATH = path"
   ]
  },
  {
   "cell_type": "code",
   "execution_count": 75,
   "metadata": {},
   "outputs": [
    {
     "data": {
      "text/plain": [
       "(#3) [Path('.DS_Store'),Path('training'),Path('testing')]"
      ]
     },
     "execution_count": 75,
     "metadata": {},
     "output_type": "execute_result"
    }
   ],
   "source": [
    "path.ls()"
   ]
  },
  {
   "cell_type": "code",
   "execution_count": 76,
   "metadata": {},
   "outputs": [],
   "source": [
    "def get_dls(bs=64):\n",
    "    return DataBlock(\n",
    "        blocks=(ImageBlock(cls=PILImageBW), CategoryBlock), \n",
    "        get_items=get_image_files, \n",
    "        splitter=GrandparentSplitter('training','testing'),\n",
    "        get_y=parent_label,\n",
    "        batch_tfms=Normalize()\n",
    "    ).dataloaders(path, bs=bs)\n",
    "\n",
    "dls = get_dls()"
   ]
  },
  {
   "cell_type": "code",
   "execution_count": 77,
   "metadata": {},
   "outputs": [],
   "source": [
    "def get_dls(bs=64):\n",
    "    return DataBlock(\n",
    "        blocks=(ImageBlock(cls=PILImageBW), CategoryBlock), \n",
    "        get_items=get_image_files, \n",
    "        splitter=GrandparentSplitter('training','testing'),\n",
    "        get_y=parent_label,\n",
    "        batch_tfms=Normalize()\n",
    "    ).dataloaders(path, bs=bs)\n",
    "\n",
    "dls = get_dls()"
   ]
  },
  {
   "cell_type": "code",
   "execution_count": 78,
   "metadata": {},
   "outputs": [
    {
     "data": {
      "image/png": "[encoded data removed]",
      "text/plain": [
       "<Figure size 400x400 with 9 Axes>"
      ]
     },
     "metadata": {},
     "output_type": "display_data"
    }
   ],
   "source": [
    "dls.show_batch(max_n=9, figsize=(4,4))"
   ]
  },
  {
   "cell_type": "code",
   "execution_count": 102,
   "metadata": {},
   "outputs": [],
   "source": [
    "def conv(ni, nf, ks=3, act=True):\n",
    "    res = nn.Conv2d(ni, nf, stride=2, kernel_size=ks, padding=ks//2)\n",
    "    if act: res = nn.Sequential(res, nn.ReLU())\n",
    "    return res"
   ]
  },
  {
   "cell_type": "code",
   "execution_count": 103,
   "metadata": {},
   "outputs": [],
   "source": [
    "def simple_cnn():\n",
    "    return sequential(\n",
    "        conv(1 ,8, ks=5),        #14x14\n",
    "        conv(8 ,16),             #7x7\n",
    "        conv(16,32),             #4x4\n",
    "        conv(32,64),             #2x2\n",
    "        conv(64,10, act=False),  #1x1\n",
    "        Flatten(),\n",
    "    )"
   ]
  },
  {
   "cell_type": "markdown",
   "metadata": {},
   "source": [
    "# 1 Cycle Training"
   ]
  },
  {
   "cell_type": "code",
   "execution_count": 104,
   "metadata": {},
   "outputs": [],
   "source": [
    "from fastai.callback.hook import *"
   ]
  },
  {
   "cell_type": "code",
   "execution_count": 113,
   "metadata": {},
   "outputs": [],
   "source": [
    "def fit(epochs=1):\n",
    "    learn = Learner(dls, simple_cnn(), loss_func=F.cross_entropy,\n",
    "                    metrics=accuracy, cbs=ActivationStats(with_hist=True))\n",
    "    learn.fit(epochs, 0.06)\n",
    "    return learn"
   ]
  },
  {
   "cell_type": "code",
   "execution_count": 114,
   "metadata": {},
   "outputs": [
    {
     "data": {
      "text/html": [
       "\n",
       "<style>\n",
       "    /* Turns off some styling */\n",
       "    progress {\n",
       "        /* gets rid of default border in Firefox and Opera. */\n",
       "        border: none;\n",
       "        /* Needs to be in here for Safari polyfill so background images work as expected. */\n",
       "        background-size: auto;\n",
       "    }\n",
       "    progress:not([value]), progress:not([value])::-webkit-progress-bar {\n",
       "        background: repeating-linear-gradient(45deg, #7e7e7e, #7e7e7e 10px, #5c5c5c 10px, #5c5c5c 20px);\n",
       "    }\n",
       "    .progress-bar-interrupted, .progress-bar-interrupted::-webkit-progress-bar {\n",
       "        background: #F44336;\n",
       "    }\n",
       "</style>\n"
      ],
      "text/plain": [
       "<IPython.core.display.HTML object>"
      ]
     },
     "metadata": {},
     "output_type": "display_data"
    },
    {
     "data": {
      "text/html": [
       "<table border=\"1\" class=\"dataframe\">\n",
       "  <thead>\n",
       "    <tr style=\"text-align: left;\">\n",
       "      <th>epoch</th>\n",
       "      <th>train_loss</th>\n",
       "      <th>valid_loss</th>\n",
       "      <th>accuracy</th>\n",
       "      <th>time</th>\n",
       "    </tr>\n",
       "  </thead>\n",
       "  <tbody>\n",
       "    <tr>\n",
       "      <td>0</td>\n",
       "      <td>0.713204</td>\n",
       "      <td>0.693857</td>\n",
       "      <td>0.504416</td>\n",
       "      <td>00:09</td>\n",
       "    </tr>\n",
       "  </tbody>\n",
       "</table>"
      ],
      "text/plain": [
       "<IPython.core.display.HTML object>"
      ]
     },
     "metadata": {},
     "output_type": "display_data"
    }
   ],
   "source": [
    "learn = fit()"
   ]
  },
  {
   "cell_type": "code",
   "execution_count": 115,
   "metadata": {},
   "outputs": [
    {
     "data": {
      "image/png": "[encoded data removed]",
      "text/plain": [
       "<Figure size 1200x300 with 3 Axes>"
      ]
     },
     "metadata": {},
     "output_type": "display_data"
    }
   ],
   "source": [
    "learn.activation_stats.plot_layer_stats(0)"
   ]
  },
  {
   "cell_type": "code",
   "execution_count": 116,
   "metadata": {},
   "outputs": [
    {
     "data": {
      "image/png": "[encoded data removed]",
      "text/plain": [
       "<Figure size 1200x300 with 3 Axes>"
      ]
     },
     "metadata": {},
     "output_type": "display_data"
    }
   ],
   "source": [
    "learn.activation_stats.plot_layer_stats(-2)"
   ]
  },
  {
   "cell_type": "code",
   "execution_count": 117,
   "metadata": {},
   "outputs": [
    {
     "data": {
      "text/html": [
       "\n",
       "<style>\n",
       "    /* Turns off some styling */\n",
       "    progress {\n",
       "        /* gets rid of default border in Firefox and Opera. */\n",
       "        border: none;\n",
       "        /* Needs to be in here for Safari polyfill so background images work as expected. */\n",
       "        background-size: auto;\n",
       "    }\n",
       "    progress:not([value]), progress:not([value])::-webkit-progress-bar {\n",
       "        background: repeating-linear-gradient(45deg, #7e7e7e, #7e7e7e 10px, #5c5c5c 10px, #5c5c5c 20px);\n",
       "    }\n",
       "    .progress-bar-interrupted, .progress-bar-interrupted::-webkit-progress-bar {\n",
       "        background: #F44336;\n",
       "    }\n",
       "</style>\n"
      ],
      "text/plain": [
       "<IPython.core.display.HTML object>"
      ]
     },
     "metadata": {},
     "output_type": "display_data"
    },
    {
     "data": {
      "text/html": [
       "<table border=\"1\" class=\"dataframe\">\n",
       "  <thead>\n",
       "    <tr style=\"text-align: left;\">\n",
       "      <th>epoch</th>\n",
       "      <th>train_loss</th>\n",
       "      <th>valid_loss</th>\n",
       "      <th>accuracy</th>\n",
       "      <th>time</th>\n",
       "    </tr>\n",
       "  </thead>\n",
       "  <tbody>\n",
       "    <tr>\n",
       "      <td>0</td>\n",
       "      <td>0.059675</td>\n",
       "      <td>0.029038</td>\n",
       "      <td>0.991168</td>\n",
       "      <td>00:08</td>\n",
       "    </tr>\n",
       "  </tbody>\n",
       "</table>"
      ],
      "text/plain": [
       "<IPython.core.display.HTML object>"
      ]
     },
     "metadata": {},
     "output_type": "display_data"
    }
   ],
   "source": [
    "def fit_one_cycle(epochs=1, lr=0.06):\n",
    "    learn = Learner(dls, simple_cnn(), loss_func=F.cross_entropy,\n",
    "                    metrics=accuracy, cbs=ActivationStats(with_hist=True))\n",
    "    learn.fit_one_cycle(epochs, lr)\n",
    "    return learn\n",
    "learn = fit_one_cycle()"
   ]
  },
  {
   "cell_type": "code",
   "execution_count": 120,
   "metadata": {},
   "outputs": [
    {
     "data": {
      "image/png": "[encoded data removed]",
      "text/plain": [
       "<Figure size 1200x400 with 2 Axes>"
      ]
     },
     "metadata": {},
     "output_type": "display_data"
    }
   ],
   "source": [
    "learn.recorder.plot_sched()"
   ]
  },
  {
   "cell_type": "code",
   "execution_count": 121,
   "metadata": {},
   "outputs": [
    {
     "data": {
      "image/png": "[encoded data removed]",
      "text/plain": [
       "<Figure size 1200x300 with 3 Axes>"
      ]
     },
     "metadata": {},
     "output_type": "display_data"
    }
   ],
   "source": [
    "learn.activation_stats.plot_layer_stats(-2)"
   ]
  },
  {
   "cell_type": "code",
   "execution_count": 125,
   "metadata": {},
   "outputs": [
    {
     "data": {
      "image/png": "[encoded data removed]",
      "text/plain": [
       "<Figure size 1000x500 with 1 Axes>"
      ]
     },
     "metadata": {},
     "output_type": "display_data"
    }
   ],
   "source": [
    "learn.activation_stats.color_dim(-2)"
   ]
  },
  {
   "cell_type": "markdown",
   "metadata": {},
   "source": [
    "# BatchNorm"
   ]
  },
  {
   "cell_type": "code",
   "execution_count": 127,
   "metadata": {},
   "outputs": [],
   "source": [
    "def conv(ni, nf, ks=3, act=True):\n",
    "    layers = [nn.Conv2d(ni, nf, stride=2, kernel_size=ks, padding=ks//2)]\n",
    "    if act: layers.append(nn.ReLU())\n",
    "    layers.append(nn.BatchNorm2d(nf))\n",
    "    return nn.Sequential(*layers)"
   ]
  },
  {
   "cell_type": "code",
   "execution_count": 129,
   "metadata": {},
   "outputs": [
    {
     "data": {
      "text/html": [
       "\n",
       "<style>\n",
       "    /* Turns off some styling */\n",
       "    progress {\n",
       "        /* gets rid of default border in Firefox and Opera. */\n",
       "        border: none;\n",
       "        /* Needs to be in here for Safari polyfill so background images work as expected. */\n",
       "        background-size: auto;\n",
       "    }\n",
       "    progress:not([value]), progress:not([value])::-webkit-progress-bar {\n",
       "        background: repeating-linear-gradient(45deg, #7e7e7e, #7e7e7e 10px, #5c5c5c 10px, #5c5c5c 20px);\n",
       "    }\n",
       "    .progress-bar-interrupted, .progress-bar-interrupted::-webkit-progress-bar {\n",
       "        background: #F44336;\n",
       "    }\n",
       "</style>\n"
      ],
      "text/plain": [
       "<IPython.core.display.HTML object>"
      ]
     },
     "metadata": {},
     "output_type": "display_data"
    },
    {
     "data": {
      "text/html": [
       "<table border=\"1\" class=\"dataframe\">\n",
       "  <thead>\n",
       "    <tr style=\"text-align: left;\">\n",
       "      <th>epoch</th>\n",
       "      <th>train_loss</th>\n",
       "      <th>valid_loss</th>\n",
       "      <th>accuracy</th>\n",
       "      <th>time</th>\n",
       "    </tr>\n",
       "  </thead>\n",
       "  <tbody>\n",
       "    <tr>\n",
       "      <td>0</td>\n",
       "      <td>0.074640</td>\n",
       "      <td>0.031428</td>\n",
       "      <td>0.996075</td>\n",
       "      <td>00:11</td>\n",
       "    </tr>\n",
       "  </tbody>\n",
       "</table>"
      ],
      "text/plain": [
       "<IPython.core.display.HTML object>"
      ]
     },
     "metadata": {},
     "output_type": "display_data"
    }
   ],
   "source": [
    "learn = fit_one_cycle()"
   ]
  },
  {
   "cell_type": "code",
   "execution_count": 138,
   "metadata": {},
   "outputs": [
    {
     "data": {
      "image/png": "[encoded data removed]",
      "text/plain": [
       "<Figure size 1000x500 with 1 Axes>"
      ]
     },
     "metadata": {},
     "output_type": "display_data"
    }
   ],
   "source": [
    "learn.activation_stats.color_dim(-2)"
   ]
  },
  {
   "cell_type": "code",
   "execution_count": 130,
   "metadata": {},
   "outputs": [
    {
     "data": {
      "image/png": "[encoded data removed]",
      "text/plain": [
       "<Figure size 1000x500 with 1 Axes>"
      ]
     },
     "metadata": {},
     "output_type": "display_data"
    }
   ],
   "source": [
    "learn.activation_stats.color_dim(-4)"
   ]
  },
  {
   "cell_type": "code",
   "execution_count": 131,
   "metadata": {},
   "outputs": [
    {
     "data": {
      "text/html": [
       "\n",
       "<style>\n",
       "    /* Turns off some styling */\n",
       "    progress {\n",
       "        /* gets rid of default border in Firefox and Opera. */\n",
       "        border: none;\n",
       "        /* Needs to be in here for Safari polyfill so background images work as expected. */\n",
       "        background-size: auto;\n",
       "    }\n",
       "    progress:not([value]), progress:not([value])::-webkit-progress-bar {\n",
       "        background: repeating-linear-gradient(45deg, #7e7e7e, #7e7e7e 10px, #5c5c5c 10px, #5c5c5c 20px);\n",
       "    }\n",
       "    .progress-bar-interrupted, .progress-bar-interrupted::-webkit-progress-bar {\n",
       "        background: #F44336;\n",
       "    }\n",
       "</style>\n"
      ],
      "text/plain": [
       "<IPython.core.display.HTML object>"
      ]
     },
     "metadata": {},
     "output_type": "display_data"
    },
    {
     "data": {
      "text/html": [
       "<table border=\"1\" class=\"dataframe\">\n",
       "  <thead>\n",
       "    <tr style=\"text-align: left;\">\n",
       "      <th>epoch</th>\n",
       "      <th>train_loss</th>\n",
       "      <th>valid_loss</th>\n",
       "      <th>accuracy</th>\n",
       "      <th>time</th>\n",
       "    </tr>\n",
       "  </thead>\n",
       "  <tbody>\n",
       "    <tr>\n",
       "      <td>0</td>\n",
       "      <td>0.132635</td>\n",
       "      <td>0.032047</td>\n",
       "      <td>0.994603</td>\n",
       "      <td>00:12</td>\n",
       "    </tr>\n",
       "    <tr>\n",
       "      <td>1</td>\n",
       "      <td>0.024963</td>\n",
       "      <td>0.029659</td>\n",
       "      <td>0.993131</td>\n",
       "      <td>00:13</td>\n",
       "    </tr>\n",
       "    <tr>\n",
       "      <td>2</td>\n",
       "      <td>0.017522</td>\n",
       "      <td>0.016292</td>\n",
       "      <td>0.995093</td>\n",
       "      <td>00:12</td>\n",
       "    </tr>\n",
       "    <tr>\n",
       "      <td>3</td>\n",
       "      <td>0.008110</td>\n",
       "      <td>0.010125</td>\n",
       "      <td>0.997547</td>\n",
       "      <td>00:12</td>\n",
       "    </tr>\n",
       "    <tr>\n",
       "      <td>4</td>\n",
       "      <td>0.002722</td>\n",
       "      <td>0.006954</td>\n",
       "      <td>0.998528</td>\n",
       "      <td>00:11</td>\n",
       "    </tr>\n",
       "  </tbody>\n",
       "</table>"
      ],
      "text/plain": [
       "<IPython.core.display.HTML object>"
      ]
     },
     "metadata": {},
     "output_type": "display_data"
    }
   ],
   "source": [
    "learn = fit_one_cycle(5, lr=0.1)"
   ]
  },
  {
   "cell_type": "code",
   "execution_count": 137,
   "metadata": {},
   "outputs": [
    {
     "data": {
      "image/png": "[encoded data removed]",
      "text/plain": [
       "<Figure size 1000x500 with 1 Axes>"
      ]
     },
     "metadata": {},
     "output_type": "display_data"
    }
   ],
   "source": [
    "learn.activation_stats.color_dim(-4)"
   ]
  },
  {
   "cell_type": "code",
   "execution_count": null,
   "metadata": {},
   "outputs": [],
   "source": []
  }
 ],
 "metadata": {
  "kernelspec": {
   "display_name": "fastai",
   "language": "python",
   "name": "python3"
  },
  "language_info": {
   "codemirror_mode": {
    "name": "ipython",
    "version": 3
   },
   "file_extension": ".py",
   "mimetype": "text/x-python",
   "name": "python",
   "nbconvert_exporter": "python",
   "pygments_lexer": "ipython3",
   "version": "3.12.2"
  }
 },
 "nbformat": 4,
 "nbformat_minor": 2
}
