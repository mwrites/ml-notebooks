{
 "cells": [
  {
   "cell_type": "code",
   "execution_count": 11,
   "metadata": {},
   "outputs": [],
   "source": [
    "import numpy as np"
   ]
  },
  {
   "cell_type": "markdown",
   "metadata": {},
   "source": [
    "[pretty good stuff](https://www.coursera.org/learn/neural-networks-deep-learning/programming/isoAV/python-basics-with-numpy/lab?path=%2Fnotebooks%2Frelease%2FW2A1%2FPython_Basics_with_Numpy.ipynb)"
   ]
  },
  {
   "cell_type": "markdown",
   "metadata": {},
   "source": [
    "### Reading A numpy array"
   ]
  },
  {
   "cell_type": "code",
   "execution_count": 22,
   "metadata": {},
   "outputs": [
    {
     "name": "stdout",
     "output_type": "stream",
     "text": [
      "this is (3rows, 1col)\n",
      " [[0.78436938]\n",
      " [0.48953956]\n",
      " [0.94293467]] \n",
      "\n",
      "this is (1row, 3cols)\n",
      " [[0.12853985 0.13496332 0.85478158]] \n",
      "\n",
      "this is (2👇, 5👉)\n",
      " [[0.81648584 0.91135709 0.95729418 0.4767533  0.44996772]\n",
      " [0.82237153 0.16632911 0.82893767 0.34223751 0.03992044]] \n",
      "\n",
      "this is (2 down, 5 to the right)\n",
      " [[0.47991905 0.3815944  0.1137041  0.78917916 0.98449819]\n",
      " [0.75141238 0.53828016 0.97326227 0.27957884 0.55484147]] \n",
      "\n"
     ]
    }
   ],
   "source": [
    "# (m, n)\n",
    "# (rows, columns)\n",
    "x = np.random.rand(3, 1)\n",
    "print(\"this is (3rows, 1col)\\n\", x, \"\\n\")\n",
    "\n",
    "x = np.random.rand(1, 3)\n",
    "print(\"this is (1row, 3cols)\\n\", x, \"\\n\")\n",
    "\n",
    "# think (down, then right)\n",
    "x = np.random.rand(2, 5)\n",
    "print(\"this is (2👇, 5👉)\\n\", x, \"\\n\")\n",
    "\n",
    "# think (down, then right)\n",
    "x = np.random.rand(2, 5)\n",
    "print(\"this is (2 down, 5 to the right)\\n\", x, \"\\n\")"
   ]
  },
  {
   "cell_type": "markdown",
   "metadata": {},
   "source": [
    "### Axis"
   ]
  },
  {
   "cell_type": "code",
   "execution_count": 44,
   "metadata": {},
   "outputs": [
    {
     "name": "stdout",
     "output_type": "stream",
     "text": [
      "[[ 1  2  3  4]\n",
      " [11 12 13 14]] \n",
      "\n",
      "sum by going 👇\n",
      " [12 14 16 18] \n",
      "'\n",
      "sum by to the 👉\n",
      " [10 50] \n",
      "\n"
     ]
    }
   ],
   "source": [
    "import numpy as np\n",
    "x = np.array([\n",
    "    [ 1,  2, 3, 4],\n",
    "    [ 11,  12,  13, 14],\n",
    "])\n",
    "print(x, \"\\n\")\n",
    "\n",
    "# axis means \"sum along the axis\", keyword is along\n",
    "# axis 0 = sum by going down\n",
    "# axis 1 = sum by going to the right\n",
    "print('sum by going 👇\\n', x.sum(axis=0), \"\\n'\")\n",
    "\n",
    "print('sum by to the 👉\\n', x.sum(axis=1), \"\\n\")"
   ]
  },
  {
   "cell_type": "code",
   "execution_count": 47,
   "metadata": {},
   "outputs": [
    {
     "data": {
      "text/plain": [
       "(4,)"
      ]
     },
     "execution_count": 47,
     "metadata": {},
     "output_type": "execute_result"
    }
   ],
   "source": [
    "x = np.random.rand(4, 5)\n",
    "y = np.sum(x, axis=1)\n",
    "y.shape"
   ]
  },
  {
   "cell_type": "markdown",
   "metadata": {},
   "source": [
    "# Multiplications"
   ]
  },
  {
   "cell_type": "code",
   "execution_count": 87,
   "metadata": {},
   "outputs": [
    {
     "data": {
      "text/plain": [
       "(3, 2)"
      ]
     },
     "execution_count": 87,
     "metadata": {},
     "output_type": "execute_result"
    }
   ],
   "source": [
    "A = np.ones((3, 3))\n",
    "\n",
    "B = np.array([[5, 6],\n",
    "              [7, 8],\n",
    "              [7, 8]])\n",
    "\n",
    "C = A @ B\n",
    "\n",
    "\n",
    "# 1.\tMatrix  A  has shape (m, n)\n",
    "# 2.\tMatrix  B  has shape (n, p)\n",
    "# 3.    Matrix C  will have shape (m, p)\n",
    "\n",
    "C.shape"
   ]
  }
 ],
 "metadata": {
  "kernelspec": {
   "display_name": "base",
   "language": "python",
   "name": "python3"
  },
  "language_info": {
   "codemirror_mode": {
    "name": "ipython",
    "version": 3
   },
   "file_extension": ".py",
   "mimetype": "text/x-python",
   "name": "python",
   "nbconvert_exporter": "python",
   "pygments_lexer": "ipython3",
   "version": "3.12.2"
  }
 },
 "nbformat": 4,
 "nbformat_minor": 2
}
