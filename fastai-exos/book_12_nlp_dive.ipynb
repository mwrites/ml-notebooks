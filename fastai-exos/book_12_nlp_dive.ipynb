{
 "cells": [
  {
   "cell_type": "markdown",
   "metadata": {},
   "source": [
    "# [book](https://nbviewer.org/github/fastai/fastbook/blob/master/12_nlp_dive.ipynb)"
   ]
  },
  {
   "cell_type": "code",
   "execution_count": 90,
   "metadata": {},
   "outputs": [
    {
     "name": "stdout",
     "output_type": "stream",
     "text": [
      "Requirement already satisfied: fastai in /Users/cactus/miniconda3/lib/python3.12/site-packages (2.7.15)\n",
      "Requirement already satisfied: nbdev in /Users/cactus/miniconda3/lib/python3.12/site-packages (2.3.20)\n",
      "Collecting nbdev\n",
      "  Downloading nbdev-2.3.21-py3-none-any.whl.metadata (10 kB)\n",
      "Requirement already satisfied: datasets in /Users/cactus/miniconda3/lib/python3.12/site-packages (2.19.1)\n",
      "Requirement already satisfied: pip in /Users/cactus/miniconda3/lib/python3.12/site-packages (from fastai) (23.3.1)\n",
      "Requirement already satisfied: packaging in /Users/cactus/miniconda3/lib/python3.12/site-packages (from fastai) (23.2)\n",
      "Requirement already satisfied: fastdownload<2,>=0.0.5 in /Users/cactus/miniconda3/lib/python3.12/site-packages (from fastai) (0.0.7)\n",
      "Requirement already satisfied: fastcore<1.6,>=1.5.29 in /Users/cactus/miniconda3/lib/python3.12/site-packages (from fastai) (1.5.33)\n",
      "Requirement already satisfied: torchvision>=0.11 in /Users/cactus/miniconda3/lib/python3.12/site-packages (from fastai) (0.18.0)\n",
      "Requirement already satisfied: matplotlib in /Users/cactus/miniconda3/lib/python3.12/site-packages (from fastai) (3.8.4)\n",
      "Requirement already satisfied: pandas in /Users/cactus/miniconda3/lib/python3.12/site-packages (from fastai) (2.2.1)\n",
      "Requirement already satisfied: requests in /Users/cactus/miniconda3/lib/python3.12/site-packages (from fastai) (2.31.0)\n",
      "Requirement already satisfied: pyyaml in /Users/cactus/miniconda3/lib/python3.12/site-packages (from fastai) (6.0.1)\n",
      "Requirement already satisfied: fastprogress>=0.2.4 in /Users/cactus/miniconda3/lib/python3.12/site-packages (from fastai) (1.0.3)\n",
      "Requirement already satisfied: pillow>=9.0.0 in /Users/cactus/miniconda3/lib/python3.12/site-packages (from fastai) (10.3.0)\n",
      "Requirement already satisfied: scikit-learn in /Users/cactus/miniconda3/lib/python3.12/site-packages (from fastai) (1.4.2)\n",
      "Requirement already satisfied: scipy in /Users/cactus/miniconda3/lib/python3.12/site-packages (from fastai) (1.12.0)\n",
      "Requirement already satisfied: spacy<4 in /Users/cactus/miniconda3/lib/python3.12/site-packages (from fastai) (3.7.2)\n",
      "Requirement already satisfied: torch<2.4,>=1.10 in /Users/cactus/miniconda3/lib/python3.12/site-packages (from fastai) (2.3.0)\n",
      "Requirement already satisfied: execnb>=0.1.4 in /Users/cactus/miniconda3/lib/python3.12/site-packages (from nbdev) (0.1.6)\n",
      "Requirement already satisfied: astunparse in /Users/cactus/miniconda3/lib/python3.12/site-packages (from nbdev) (1.6.3)\n",
      "Requirement already satisfied: ghapi>=1.0.3 in /Users/cactus/miniconda3/lib/python3.12/site-packages (from nbdev) (1.0.5)\n",
      "Requirement already satisfied: watchdog in /Users/cactus/miniconda3/lib/python3.12/site-packages (from nbdev) (4.0.0)\n",
      "Requirement already satisfied: asttokens in /Users/cactus/miniconda3/lib/python3.12/site-packages (from nbdev) (2.4.1)\n",
      "Requirement already satisfied: filelock in /Users/cactus/miniconda3/lib/python3.12/site-packages (from datasets) (3.13.1)\n",
      "Requirement already satisfied: numpy>=1.17 in /Users/cactus/miniconda3/lib/python3.12/site-packages (from datasets) (1.26.4)\n",
      "Requirement already satisfied: pyarrow>=12.0.0 in /Users/cactus/miniconda3/lib/python3.12/site-packages (from datasets) (16.0.0)\n",
      "Requirement already satisfied: pyarrow-hotfix in /Users/cactus/miniconda3/lib/python3.12/site-packages (from datasets) (0.6)\n",
      "Requirement already satisfied: dill<0.3.9,>=0.3.0 in /Users/cactus/miniconda3/lib/python3.12/site-packages (from datasets) (0.3.8)\n",
      "Requirement already satisfied: tqdm>=4.62.1 in /Users/cactus/miniconda3/lib/python3.12/site-packages (from datasets) (4.66.4)\n",
      "Requirement already satisfied: xxhash in /Users/cactus/miniconda3/lib/python3.12/site-packages (from datasets) (3.4.1)\n",
      "Requirement already satisfied: multiprocess in /Users/cactus/miniconda3/lib/python3.12/site-packages (from datasets) (0.70.16)\n",
      "Requirement already satisfied: fsspec<=2024.3.1,>=2023.1.0 in /Users/cactus/miniconda3/lib/python3.12/site-packages (from fsspec[http]<=2024.3.1,>=2023.1.0->datasets) (2024.3.1)\n",
      "Requirement already satisfied: aiohttp in /Users/cactus/miniconda3/lib/python3.12/site-packages (from datasets) (3.9.5)\n",
      "Requirement already satisfied: huggingface-hub>=0.21.2 in /Users/cactus/miniconda3/lib/python3.12/site-packages (from datasets) (0.23.0)\n",
      "Requirement already satisfied: ipython in /Users/cactus/miniconda3/lib/python3.12/site-packages (from execnb>=0.1.4->nbdev) (8.22.2)\n",
      "Requirement already satisfied: aiosignal>=1.1.2 in /Users/cactus/miniconda3/lib/python3.12/site-packages (from aiohttp->datasets) (1.3.1)\n",
      "Requirement already satisfied: attrs>=17.3.0 in /Users/cactus/miniconda3/lib/python3.12/site-packages (from aiohttp->datasets) (23.2.0)\n",
      "Requirement already satisfied: frozenlist>=1.1.1 in /Users/cactus/miniconda3/lib/python3.12/site-packages (from aiohttp->datasets) (1.4.1)\n",
      "Requirement already satisfied: multidict<7.0,>=4.5 in /Users/cactus/miniconda3/lib/python3.12/site-packages (from aiohttp->datasets) (6.0.5)\n",
      "Requirement already satisfied: yarl<2.0,>=1.0 in /Users/cactus/miniconda3/lib/python3.12/site-packages (from aiohttp->datasets) (1.9.4)\n",
      "Requirement already satisfied: typing-extensions>=3.7.4.3 in /Users/cactus/miniconda3/lib/python3.12/site-packages (from huggingface-hub>=0.21.2->datasets) (4.9.0)\n",
      "Requirement already satisfied: charset-normalizer<4,>=2 in /Users/cactus/miniconda3/lib/python3.12/site-packages (from requests->fastai) (2.0.4)\n",
      "Requirement already satisfied: idna<4,>=2.5 in /Users/cactus/miniconda3/lib/python3.12/site-packages (from requests->fastai) (3.4)\n",
      "Requirement already satisfied: urllib3<3,>=1.21.1 in /Users/cactus/miniconda3/lib/python3.12/site-packages (from requests->fastai) (2.1.0)\n",
      "Requirement already satisfied: certifi>=2017.4.17 in /Users/cactus/miniconda3/lib/python3.12/site-packages (from requests->fastai) (2024.2.2)\n",
      "Requirement already satisfied: spacy-legacy<3.1.0,>=3.0.11 in /Users/cactus/miniconda3/lib/python3.12/site-packages (from spacy<4->fastai) (3.0.12)\n",
      "Requirement already satisfied: spacy-loggers<2.0.0,>=1.0.0 in /Users/cactus/miniconda3/lib/python3.12/site-packages (from spacy<4->fastai) (1.0.4)\n",
      "Requirement already satisfied: murmurhash<1.1.0,>=0.28.0 in /Users/cactus/miniconda3/lib/python3.12/site-packages (from spacy<4->fastai) (1.0.7)\n",
      "Requirement already satisfied: cymem<2.1.0,>=2.0.2 in /Users/cactus/miniconda3/lib/python3.12/site-packages (from spacy<4->fastai) (2.0.6)\n",
      "Requirement already satisfied: preshed<3.1.0,>=3.0.2 in /Users/cactus/miniconda3/lib/python3.12/site-packages (from spacy<4->fastai) (3.0.6)\n",
      "Requirement already satisfied: thinc<8.3.0,>=8.1.8 in /Users/cactus/miniconda3/lib/python3.12/site-packages (from spacy<4->fastai) (8.2.2)\n",
      "Requirement already satisfied: wasabi<1.2.0,>=0.9.1 in /Users/cactus/miniconda3/lib/python3.12/site-packages (from spacy<4->fastai) (0.9.1)\n",
      "Requirement already satisfied: srsly<3.0.0,>=2.4.3 in /Users/cactus/miniconda3/lib/python3.12/site-packages (from spacy<4->fastai) (2.4.8)\n",
      "Requirement already satisfied: catalogue<2.1.0,>=2.0.6 in /Users/cactus/miniconda3/lib/python3.12/site-packages (from spacy<4->fastai) (2.0.10)\n",
      "Requirement already satisfied: weasel<0.4.0,>=0.1.0 in /Users/cactus/miniconda3/lib/python3.12/site-packages (from spacy<4->fastai) (0.3.4)\n",
      "Requirement already satisfied: typer<0.10.0,>=0.3.0 in /Users/cactus/miniconda3/lib/python3.12/site-packages (from spacy<4->fastai) (0.9.0)\n",
      "Requirement already satisfied: smart-open<7.0.0,>=5.2.1 in /Users/cactus/miniconda3/lib/python3.12/site-packages (from spacy<4->fastai) (5.2.1)\n",
      "Requirement already satisfied: pydantic!=1.8,!=1.8.1,<3.0.0,>=1.7.4 in /Users/cactus/miniconda3/lib/python3.12/site-packages (from spacy<4->fastai) (2.5.3)\n",
      "Requirement already satisfied: jinja2 in /Users/cactus/miniconda3/lib/python3.12/site-packages (from spacy<4->fastai) (3.1.3)\n",
      "Requirement already satisfied: setuptools in /Users/cactus/miniconda3/lib/python3.12/site-packages (from spacy<4->fastai) (68.2.2)\n",
      "Requirement already satisfied: langcodes<4.0.0,>=3.2.0 in /Users/cactus/miniconda3/lib/python3.12/site-packages (from spacy<4->fastai) (3.3.0)\n",
      "Requirement already satisfied: sympy in /Users/cactus/miniconda3/lib/python3.12/site-packages (from torch<2.4,>=1.10->fastai) (1.12)\n",
      "Requirement already satisfied: networkx in /Users/cactus/miniconda3/lib/python3.12/site-packages (from torch<2.4,>=1.10->fastai) (3.1)\n",
      "Requirement already satisfied: six>=1.12.0 in /Users/cactus/miniconda3/lib/python3.12/site-packages (from asttokens->nbdev) (1.16.0)\n",
      "Requirement already satisfied: wheel<1.0,>=0.23.0 in /Users/cactus/miniconda3/lib/python3.12/site-packages (from astunparse->nbdev) (0.41.2)\n",
      "Requirement already satisfied: contourpy>=1.0.1 in /Users/cactus/miniconda3/lib/python3.12/site-packages (from matplotlib->fastai) (1.2.0)\n",
      "Requirement already satisfied: cycler>=0.10 in /Users/cactus/miniconda3/lib/python3.12/site-packages (from matplotlib->fastai) (0.11.0)\n",
      "Requirement already satisfied: fonttools>=4.22.0 in /Users/cactus/miniconda3/lib/python3.12/site-packages (from matplotlib->fastai) (4.51.0)\n",
      "Requirement already satisfied: kiwisolver>=1.3.1 in /Users/cactus/miniconda3/lib/python3.12/site-packages (from matplotlib->fastai) (1.4.4)\n",
      "Requirement already satisfied: pyparsing>=2.3.1 in /Users/cactus/miniconda3/lib/python3.12/site-packages (from matplotlib->fastai) (3.0.9)\n",
      "Requirement already satisfied: python-dateutil>=2.7 in /Users/cactus/miniconda3/lib/python3.12/site-packages (from matplotlib->fastai) (2.8.2)\n",
      "Requirement already satisfied: pytz>=2020.1 in /Users/cactus/miniconda3/lib/python3.12/site-packages (from pandas->fastai) (2024.1)\n",
      "Requirement already satisfied: tzdata>=2022.7 in /Users/cactus/miniconda3/lib/python3.12/site-packages (from pandas->fastai) (2023.3)\n",
      "Requirement already satisfied: joblib>=1.2.0 in /Users/cactus/miniconda3/lib/python3.12/site-packages (from scikit-learn->fastai) (1.4.0)\n",
      "Requirement already satisfied: threadpoolctl>=2.0.0 in /Users/cactus/miniconda3/lib/python3.12/site-packages (from scikit-learn->fastai) (2.2.0)\n",
      "Requirement already satisfied: annotated-types>=0.4.0 in /Users/cactus/miniconda3/lib/python3.12/site-packages (from pydantic!=1.8,!=1.8.1,<3.0.0,>=1.7.4->spacy<4->fastai) (0.6.0)\n",
      "Requirement already satisfied: pydantic-core==2.14.6 in /Users/cactus/miniconda3/lib/python3.12/site-packages (from pydantic!=1.8,!=1.8.1,<3.0.0,>=1.7.4->spacy<4->fastai) (2.14.6)\n",
      "Requirement already satisfied: blis<0.8.0,>=0.7.8 in /Users/cactus/miniconda3/lib/python3.12/site-packages (from thinc<8.3.0,>=8.1.8->spacy<4->fastai) (0.7.11)\n",
      "Requirement already satisfied: confection<1.0.0,>=0.0.1 in /Users/cactus/miniconda3/lib/python3.12/site-packages (from thinc<8.3.0,>=8.1.8->spacy<4->fastai) (0.1.4)\n",
      "Requirement already satisfied: click<9.0.0,>=7.1.1 in /Users/cactus/miniconda3/lib/python3.12/site-packages (from typer<0.10.0,>=0.3.0->spacy<4->fastai) (8.1.7)\n",
      "Requirement already satisfied: cloudpathlib<0.17.0,>=0.7.0 in /Users/cactus/miniconda3/lib/python3.12/site-packages (from weasel<0.4.0,>=0.1.0->spacy<4->fastai) (0.16.0)\n",
      "Requirement already satisfied: decorator in /Users/cactus/miniconda3/lib/python3.12/site-packages (from ipython->execnb>=0.1.4->nbdev) (5.1.1)\n",
      "Requirement already satisfied: jedi>=0.16 in /Users/cactus/miniconda3/lib/python3.12/site-packages (from ipython->execnb>=0.1.4->nbdev) (0.19.1)\n",
      "Requirement already satisfied: matplotlib-inline in /Users/cactus/miniconda3/lib/python3.12/site-packages (from ipython->execnb>=0.1.4->nbdev) (0.1.7)\n",
      "Requirement already satisfied: prompt-toolkit<3.1.0,>=3.0.41 in /Users/cactus/miniconda3/lib/python3.12/site-packages (from ipython->execnb>=0.1.4->nbdev) (3.0.42)\n",
      "Requirement already satisfied: pygments>=2.4.0 in /Users/cactus/miniconda3/lib/python3.12/site-packages (from ipython->execnb>=0.1.4->nbdev) (2.15.1)\n",
      "Requirement already satisfied: stack-data in /Users/cactus/miniconda3/lib/python3.12/site-packages (from ipython->execnb>=0.1.4->nbdev) (0.6.2)\n",
      "Requirement already satisfied: traitlets>=5.13.0 in /Users/cactus/miniconda3/lib/python3.12/site-packages (from ipython->execnb>=0.1.4->nbdev) (5.14.3)\n",
      "Requirement already satisfied: pexpect>4.3 in /Users/cactus/miniconda3/lib/python3.12/site-packages (from ipython->execnb>=0.1.4->nbdev) (4.9.0)\n",
      "Requirement already satisfied: MarkupSafe>=2.0 in /Users/cactus/miniconda3/lib/python3.12/site-packages (from jinja2->spacy<4->fastai) (2.1.3)\n",
      "Requirement already satisfied: mpmath>=0.19 in /Users/cactus/miniconda3/lib/python3.12/site-packages (from sympy->torch<2.4,>=1.10->fastai) (1.3.0)\n",
      "Requirement already satisfied: parso<0.9.0,>=0.8.3 in /Users/cactus/miniconda3/lib/python3.12/site-packages (from jedi>=0.16->ipython->execnb>=0.1.4->nbdev) (0.8.4)\n",
      "Requirement already satisfied: ptyprocess>=0.5 in /Users/cactus/miniconda3/lib/python3.12/site-packages (from pexpect>4.3->ipython->execnb>=0.1.4->nbdev) (0.7.0)\n",
      "Requirement already satisfied: wcwidth in /Users/cactus/miniconda3/lib/python3.12/site-packages (from prompt-toolkit<3.1.0,>=3.0.41->ipython->execnb>=0.1.4->nbdev) (0.2.13)\n",
      "Requirement already satisfied: executing>=1.2.0 in /Users/cactus/miniconda3/lib/python3.12/site-packages (from stack-data->ipython->execnb>=0.1.4->nbdev) (2.0.1)\n",
      "Requirement already satisfied: pure-eval in /Users/cactus/miniconda3/lib/python3.12/site-packages (from stack-data->ipython->execnb>=0.1.4->nbdev) (0.2.2)\n",
      "Downloading nbdev-2.3.21-py3-none-any.whl (67 kB)\n",
      "\u001b[2K   \u001b[90m━━━━━━━━━━━━━━━━━━━━━━━━━━━━━━━━━━━━━━━━\u001b[0m \u001b[32m67.1/67.1 kB\u001b[0m \u001b[31m1.6 MB/s\u001b[0m eta \u001b[36m0:00:00\u001b[0m-:--:--\u001b[0m\n",
      "\u001b[?25hInstalling collected packages: nbdev\n",
      "  Attempting uninstall: nbdev\n",
      "    Found existing installation: nbdev 2.3.20\n",
      "    Uninstalling nbdev-2.3.20:\n",
      "      Successfully uninstalled nbdev-2.3.20\n",
      "Successfully installed nbdev-2.3.21\n"
     ]
    }
   ],
   "source": [
    "dependencies = [\n",
    "    \"fastai\",\n",
    "    \"nbdev\",\n",
    "    \"datasets\"\n",
    "]\n",
    "\n",
    "!pip install -U {\" \".join(dependencies)}\n",
    "\n",
    "from fastai.imports import *"
   ]
  },
  {
   "cell_type": "code",
   "execution_count": 91,
   "metadata": {},
   "outputs": [
    {
     "data": {
      "text/plain": [
       "(#2) [Path('train.txt'),Path('valid.txt')]"
      ]
     },
     "execution_count": 91,
     "metadata": {},
     "output_type": "execute_result"
    }
   ],
   "source": [
    "from fastai.imports import *\n",
    "from fastai.text.all import *\n",
    "path = untar_data(URLs.HUMAN_NUMBERS)\n",
    "Path.BASE_PATH = path\n",
    "path.ls()"
   ]
  },
  {
   "cell_type": "markdown",
   "metadata": {},
   "source": [
    "# Helpers"
   ]
  },
  {
   "cell_type": "code",
   "execution_count": 92,
   "metadata": {},
   "outputs": [],
   "source": [
    "import pandas as pd\n",
    "\n",
    "results_df = pd.DataFrame(columns=[''])\n",
    "\n",
    "def track_results(experiment_name, result, reset=False):\n",
    "    global results_df\n",
    "    if reset:\n",
    "        results_df = pd.DataFrame(columns=[''])\n",
    "    if hasattr(result, '__dict__') and '__str__' in result.__dict__:\n",
    "        results_df.loc[experiment_name] = result\n",
    "    else:\n",
    "        results_df.loc[experiment_name] = repr(result)\n",
    "    return results_df"
   ]
  },
  {
   "cell_type": "code",
   "execution_count": 93,
   "metadata": {},
   "outputs": [],
   "source": [
    "import torch\n",
    "import gc\n",
    "\n",
    "def report_gpu():\n",
    "    print(torch.cuda.list_gpu_processes())\n",
    "    gc.collect()\n",
    "    torch.cuda.empty_cache()"
   ]
  },
  {
   "cell_type": "code",
   "execution_count": 94,
   "metadata": {},
   "outputs": [],
   "source": [
    "def get_device_type():\n",
    "    return 'cpu' if 'darwin' in platform.system().lower() else 'cuda'"
   ]
  },
  {
   "cell_type": "code",
   "execution_count": 95,
   "metadata": {},
   "outputs": [
    {
     "data": {
      "text/plain": [
       "'cpu'"
      ]
     },
     "execution_count": 95,
     "metadata": {},
     "output_type": "execute_result"
    }
   ],
   "source": [
    "device = \"cuda\" if torch.cuda.is_available() else \"cpu\"\n",
    "device"
   ]
  },
  {
   "cell_type": "markdown",
   "metadata": {},
   "source": [
    "# Preprocessing"
   ]
  },
  {
   "cell_type": "code",
   "execution_count": 96,
   "metadata": {},
   "outputs": [
    {
     "data": {
      "text/plain": [
       "(#9998) ['one \\n','two \\n','three \\n','four \\n','five \\n','six \\n','seven \\n','eight \\n','nine \\n','ten \\n'...]"
      ]
     },
     "execution_count": 96,
     "metadata": {},
     "output_type": "execute_result"
    }
   ],
   "source": [
    "lines = L()\n",
    "with open(path/'train.txt') as f: lines += L(*f.readlines())\n",
    "with open(path/'valid.txt') as f: lines += L(*f.readlines())\n",
    "lines"
   ]
  },
  {
   "cell_type": "code",
   "execution_count": 97,
   "metadata": {},
   "outputs": [
    {
     "data": {
      "text/plain": [
       "(365478,\n",
       " 'one . two . three . four . five . six . seven . eight . nine . ten . eleven . twelve . thirteen . fo')"
      ]
     },
     "execution_count": 97,
     "metadata": {},
     "output_type": "execute_result"
    }
   ],
   "source": [
    "text = ' . '.join([l.strip() for l in lines])\n",
    "len(text), text[:100]"
   ]
  },
  {
   "cell_type": "markdown",
   "metadata": {},
   "source": [
    "### Tokenize"
   ]
  },
  {
   "cell_type": "code",
   "execution_count": 98,
   "metadata": {},
   "outputs": [
    {
     "data": {
      "text/plain": [
       "['one', '.', 'two', '.', 'three', '.', 'four', '.', 'five', '.']"
      ]
     },
     "execution_count": 98,
     "metadata": {},
     "output_type": "execute_result"
    }
   ],
   "source": [
    "# tokenize\n",
    "tokens = text.split(' ')\n",
    "tokens[:10]"
   ]
  },
  {
   "cell_type": "markdown",
   "metadata": {},
   "source": [
    "### Numericalize"
   ]
  },
  {
   "cell_type": "code",
   "execution_count": 99,
   "metadata": {},
   "outputs": [
    {
     "data": {
      "text/plain": [
       "(#30) ['one','.','two','three','four','five','six','seven','eight','nine'...]"
      ]
     },
     "execution_count": 99,
     "metadata": {},
     "output_type": "execute_result"
    }
   ],
   "source": [
    "vocab = L(*tokens).unique()\n",
    "vocab"
   ]
  },
  {
   "cell_type": "code",
   "execution_count": 100,
   "metadata": {},
   "outputs": [
    {
     "data": {
      "text/plain": [
       "(#63095) [0,1,2,1,3,1,4,1,5,1...]"
      ]
     },
     "execution_count": 100,
     "metadata": {},
     "output_type": "execute_result"
    }
   ],
   "source": [
    "# numericalize\n",
    "def my_numericalize(tokens):\n",
    "    word2idx = {w:i for i,w in enumerate(vocab)}\n",
    "    return L(word2idx[i] for i in tokens)\n",
    "nums = my_numericalize(tokens)\n",
    "nums"
   ]
  },
  {
   "cell_type": "markdown",
   "metadata": {},
   "source": [
    "# DataLoader for new Task -  Predicting The 4th Word"
   ]
  },
  {
   "cell_type": "markdown",
   "metadata": {},
   "source": [
    "### Independent and Dependent Variable"
   ]
  },
  {
   "cell_type": "code",
   "execution_count": 101,
   "metadata": {},
   "outputs": [
    {
     "data": {
      "text/plain": [
       "(#21031) [(['one', '.', 'two'], '.'),(['.', 'three', '.'], 'four'),(['four', '.', 'five'], '.'),(['.', 'six', '.'], 'seven'),(['seven', '.', 'eight'], '.'),(['.', 'nine', '.'], 'ten'),(['ten', '.', 'eleven'], '.'),(['.', 'twelve', '.'], 'thirteen'),(['thirteen', '.', 'fourteen'], '.'),(['.', 'fifteen', '.'], 'sixteen')...]"
      ]
     },
     "execution_count": 101,
     "metadata": {},
     "output_type": "execute_result"
    }
   ],
   "source": [
    "# independent variables = 3 tokens\n",
    "# dependent variable = 4th token\n",
    "\n",
    "L((tokens[i:i+3], tokens[i+3]) for i in range(0,len(tokens)-4,3))"
   ]
  },
  {
   "cell_type": "code",
   "execution_count": 102,
   "metadata": {},
   "outputs": [
    {
     "data": {
      "text/plain": [
       "(#21031) [(tensor([0, 1, 2]), 1),(tensor([1, 3, 1]), 4),(tensor([4, 1, 5]), 1),(tensor([1, 6, 1]), 7),(tensor([7, 1, 8]), 1),(tensor([1, 9, 1]), 10),(tensor([10,  1, 11]), 1),(tensor([ 1, 12,  1]), 13),(tensor([13,  1, 14]), 1),(tensor([ 1, 15,  1]), 16)...]"
      ]
     },
     "execution_count": 102,
     "metadata": {},
     "output_type": "execute_result"
    }
   ],
   "source": [
    "# numericalize\n",
    "seqs = L((tensor(nums[i:i+3]), nums[i+3]) for i in range(0,len(nums)-4,3))\n",
    "seqs"
   ]
  },
  {
   "cell_type": "markdown",
   "metadata": {},
   "source": [
    "### DataLoader"
   ]
  },
  {
   "cell_type": "code",
   "execution_count": 103,
   "metadata": {},
   "outputs": [
    {
     "data": {
      "text/plain": [
       "{tuple: [torch.Tensor, torch.Tensor]}"
      ]
     },
     "execution_count": 103,
     "metadata": {},
     "output_type": "execute_result"
    }
   ],
   "source": [
    "bs = 64\n",
    "split = int(len(seqs) * 0.8)\n",
    "dls = DataLoaders.from_dsets(seqs[:split], seqs[split:], bs=64, shuffle=False)\n",
    "explode_types(dls.one_batch())"
   ]
  },
  {
   "cell_type": "markdown",
   "metadata": {},
   "source": [
    "### Fixing `show_batch()`"
   ]
  },
  {
   "cell_type": "code",
   "execution_count": 104,
   "metadata": {},
   "outputs": [
    {
     "data": {
      "text/html": [
       "<table border=\"1\" class=\"dataframe\">\n",
       "  <thead>\n",
       "    <tr style=\"text-align: right;\">\n",
       "      <th></th>\n",
       "      <th>text</th>\n",
       "      <th>target</th>\n",
       "    </tr>\n",
       "  </thead>\n",
       "  <tbody>\n",
       "    <tr>\n",
       "      <th>0</th>\n",
       "      <td>one . two</td>\n",
       "      <td>.</td>\n",
       "    </tr>\n",
       "    <tr>\n",
       "      <th>1</th>\n",
       "      <td>. three .</td>\n",
       "      <td>four</td>\n",
       "    </tr>\n",
       "    <tr>\n",
       "      <th>2</th>\n",
       "      <td>four . five</td>\n",
       "      <td>.</td>\n",
       "    </tr>\n",
       "    <tr>\n",
       "      <th>3</th>\n",
       "      <td>. six .</td>\n",
       "      <td>seven</td>\n",
       "    </tr>\n",
       "    <tr>\n",
       "      <th>4</th>\n",
       "      <td>seven . eight</td>\n",
       "      <td>.</td>\n",
       "    </tr>\n",
       "  </tbody>\n",
       "</table>"
      ],
      "text/plain": [
       "<IPython.core.display.HTML object>"
      ]
     },
     "metadata": {},
     "output_type": "display_data"
    }
   ],
   "source": [
    "# we need to create a new version of show_batch\n",
    "# that knows how to handle our new type\n",
    "@typedispatch\n",
    "def show_batch(x:(Tensor,Tensor), y, samples, ctxs=None, max_n=10, trunc_at=150, **kwargs):\n",
    "    if ctxs is None: ctxs = get_empty_df(min(len(samples), max_n))\n",
    "    for i,ctx in enumerate(ctxs):\n",
    "        ctx['text'] = ' '.join([vocab[o] for o in samples[i][0]])\n",
    "        ctx['target'] = vocab[samples[i][1]]\n",
    "        if i == max_n: break\n",
    "    display_df(pd.DataFrame(ctxs))\n",
    "\n",
    "dls.show_batch(max_n=5)"
   ]
  },
  {
   "cell_type": "markdown",
   "metadata": {},
   "source": [
    "# RNN Basics"
   ]
  },
  {
   "cell_type": "markdown",
   "metadata": {},
   "source": [
    "### PyTorch Model Module"
   ]
  },
  {
   "cell_type": "code",
   "execution_count": 105,
   "metadata": {},
   "outputs": [
    {
     "data": {
      "text/plain": [
       "Embedding(30, 50)"
      ]
     },
     "execution_count": 105,
     "metadata": {},
     "output_type": "execute_result"
    }
   ],
   "source": [
    "emb = nn.Embedding(len(vocab), 50)\n",
    "emb"
   ]
  },
  {
   "cell_type": "code",
   "execution_count": 106,
   "metadata": {},
   "outputs": [
    {
     "data": {
      "text/plain": [
       "(torch.Size([64, 3]), torch.Size([64]))"
      ]
     },
     "execution_count": 106,
     "metadata": {},
     "output_type": "execute_result"
    }
   ],
   "source": [
    "train_x, train_y = dls.one_batch()\n",
    "train_x.shape, train_y.shape"
   ]
  },
  {
   "cell_type": "code",
   "execution_count": 107,
   "metadata": {},
   "outputs": [
    {
     "data": {
      "text/plain": [
       "torch.Size([64, 3, 50])"
      ]
     },
     "execution_count": 107,
     "metadata": {},
     "output_type": "execute_result"
    }
   ],
   "source": [
    "emb(train_x).shape"
   ]
  },
  {
   "cell_type": "code",
   "execution_count": 108,
   "metadata": {},
   "outputs": [
    {
     "data": {
      "text/plain": [
       "torch.Size([64])"
      ]
     },
     "execution_count": 108,
     "metadata": {},
     "output_type": "execute_result"
    }
   ],
   "source": [
    "train_x[:,0].shape"
   ]
  },
  {
   "cell_type": "code",
   "execution_count": 116,
   "metadata": {},
   "outputs": [
    {
     "data": {
      "text/plain": [
       "LMModel1(\n",
       "  (input_to_embed): Embedding(30, 50)\n",
       "  (embed_to_hidden): Linear(in_features=50, out_features=50, bias=True)\n",
       "  (hidden_to_output): Linear(in_features=50, out_features=30, bias=True)\n",
       ")"
      ]
     },
     "execution_count": 116,
     "metadata": {},
     "output_type": "execute_result"
    }
   ],
   "source": [
    "class LMModel1(Module):\n",
    "    def __init__(self, vocab_sz, n_hidden):\n",
    "        # embedding layer for input -> embedding\n",
    "        self.input_to_embed = nn.Embedding(vocab_sz, n_hidden) # out=number of latent factors\n",
    "\n",
    "        # next word activation\n",
    "        self.embed_to_hidden = nn.Linear(n_hidden, n_hidden) # out=number of hidden\n",
    "\n",
    "        # final layer to predict the well.. the final thing\n",
    "        self.hidden_to_output = nn.Linear(n_hidden, vocab_sz) # out=number of classes\n",
    "\n",
    "    def forward(self, x):        \n",
    "        # let's just focus on one single row (same logic for the 64 items of the batch)\n",
    "\n",
    "        # FOR THE FIRST TOKEN\n",
    "        # 1. create embedding for 1st token\n",
    "        first_tok_embed = self.input_to_embed(x[:,0])\n",
    "        # 2. feed the embedding to the hidden layer,\n",
    "        # (when we move from layer to layer we want a ReLU)\n",
    "        h = F.relu(self.embed_to_hidden(first_tok_embed))\n",
    "        print(h.shape)\n",
    "\n",
    "        # FOR THE SECOND TOKEN\n",
    "        # 1. concatenate the 1st layer's activation + 2nd token embedding \n",
    "        h = h + self.input_to_embed(x[:,1])\n",
    "        # 2. feed that to the hidden layer\n",
    "        h = F.relu(self.embed_to_hidden(h))\n",
    "        print(h.shape)\n",
    "\n",
    "        # FOR THE THIRD WORD\n",
    "        # 1. concatenate the 2nd layer's activation + 3rd token embedding\n",
    "        h = h + self.input_to_embed(x[:,2])\n",
    "\n",
    "        # 2. feed that to the hidden layer\n",
    "        h = F.relu(self.embed_to_hidden(h))\n",
    "        print(h.shape)\n",
    "\n",
    "        # Finally, we feed that whole thing to the output layer    \n",
    "        return self.hidden_to_output(h)\n",
    "    \n",
    "model = LMModel1(len(vocab), 50)\n",
    "model\n",
    "        "
   ]
  },
  {
   "cell_type": "markdown",
   "metadata": {},
   "source": [
    "Important thing to notice here, is that in the forward pass, all layers work with the _same weight matrix_"
   ]
  },
  {
   "cell_type": "code",
   "execution_count": 117,
   "metadata": {},
   "outputs": [
    {
     "name": "stdout",
     "output_type": "stream",
     "text": [
      "torch.Size([64, 50])\n",
      "torch.Size([64, 50])\n",
      "torch.Size([64, 50])\n"
     ]
    },
    {
     "data": {
      "text/plain": [
       "torch.Size([64, 30])"
      ]
     },
     "execution_count": 117,
     "metadata": {},
     "output_type": "execute_result"
    }
   ],
   "source": [
    "model(train_x).shape"
   ]
  },
  {
   "cell_type": "code",
   "execution_count": 110,
   "metadata": {},
   "outputs": [
    {
     "name": "stdout",
     "output_type": "stream",
     "text": [
      "LMModel1(\n",
      "  (input_to_embed): Embedding(30, 50)\n",
      "  (embed_to_hidden): Linear(in_features=50, out_features=50, bias=True)\n",
      "  (hidden_to_output): Linear(in_features=50, out_features=30, bias=True)\n",
      ")\n"
     ]
    },
    {
     "data": {
      "text/html": [
       "\n",
       "<style>\n",
       "    /* Turns off some styling */\n",
       "    progress {\n",
       "        /* gets rid of default border in Firefox and Opera. */\n",
       "        border: none;\n",
       "        /* Needs to be in here for Safari polyfill so background images work as expected. */\n",
       "        background-size: auto;\n",
       "    }\n",
       "    progress:not([value]), progress:not([value])::-webkit-progress-bar {\n",
       "        background: repeating-linear-gradient(45deg, #7e7e7e, #7e7e7e 10px, #5c5c5c 10px, #5c5c5c 20px);\n",
       "    }\n",
       "    .progress-bar-interrupted, .progress-bar-interrupted::-webkit-progress-bar {\n",
       "        background: #F44336;\n",
       "    }\n",
       "</style>\n"
      ],
      "text/plain": [
       "<IPython.core.display.HTML object>"
      ]
     },
     "metadata": {},
     "output_type": "display_data"
    },
    {
     "data": {
      "text/html": [
       "<table border=\"1\" class=\"dataframe\">\n",
       "  <thead>\n",
       "    <tr style=\"text-align: left;\">\n",
       "      <th>epoch</th>\n",
       "      <th>train_loss</th>\n",
       "      <th>valid_loss</th>\n",
       "      <th>accuracy</th>\n",
       "      <th>time</th>\n",
       "    </tr>\n",
       "  </thead>\n",
       "  <tbody>\n",
       "    <tr>\n",
       "      <td>0</td>\n",
       "      <td>1.962035</td>\n",
       "      <td>1.991906</td>\n",
       "      <td>0.467792</td>\n",
       "      <td>00:00</td>\n",
       "    </tr>\n",
       "    <tr>\n",
       "      <td>1</td>\n",
       "      <td>1.419731</td>\n",
       "      <td>1.764018</td>\n",
       "      <td>0.482529</td>\n",
       "      <td>00:00</td>\n",
       "    </tr>\n",
       "    <tr>\n",
       "      <td>2</td>\n",
       "      <td>1.403957</td>\n",
       "      <td>1.687602</td>\n",
       "      <td>0.493701</td>\n",
       "      <td>00:00</td>\n",
       "    </tr>\n",
       "    <tr>\n",
       "      <td>3</td>\n",
       "      <td>1.371382</td>\n",
       "      <td>1.650378</td>\n",
       "      <td>0.484431</td>\n",
       "      <td>00:00</td>\n",
       "    </tr>\n",
       "  </tbody>\n",
       "</table>"
      ],
      "text/plain": [
       "<IPython.core.display.HTML object>"
      ]
     },
     "metadata": {},
     "output_type": "display_data"
    },
    {
     "name": "stdout",
     "output_type": "stream",
     "text": [
      "torch.Size([64, 50])\n",
      "torch.Size([64, 50])\n",
      "torch.Size([64, 50])\n",
      "torch.Size([64, 50])\n",
      "torch.Size([64, 50])\n",
      "torch.Size([64, 50])\n",
      "torch.Size([64, 50])\n",
      "torch.Size([64, 50])\n",
      "torch.Size([64, 50])\n",
      "torch.Size([64, 50])\n",
      "torch.Size([64, 50])\n",
      "torch.Size([64, 50])\n",
      "torch.Size([64, 50])\n",
      "torch.Size([64, 50])\n",
      "torch.Size([64, 50])\n",
      "torch.Size([64, 50])\n",
      "torch.Size([64, 50])\n",
      "torch.Size([64, 50])\n",
      "torch.Size([64, 50])\n",
      "torch.Size([64, 50])\n",
      "torch.Size([64, 50])\n",
      "torch.Size([64, 50])\n",
      "torch.Size([64, 50])\n",
      "torch.Size([64, 50])\n",
      "torch.Size([64, 50])\n",
      "torch.Size([64, 50])\n",
      "torch.Size([64, 50])\n",
      "torch.Size([64, 50])\n",
      "torch.Size([64, 50])\n",
      "torch.Size([64, 50])\n",
      "torch.Size([64, 50])\n",
      "torch.Size([64, 50])\n",
      "torch.Size([64, 50])\n",
      "torch.Size([64, 50])\n",
      "torch.Size([64, 50])\n",
      "torch.Size([64, 50])\n",
      "torch.Size([64, 50])\n",
      "torch.Size([64, 50])\n",
      "torch.Size([64, 50])\n",
      "torch.Size([64, 50])\n",
      "torch.Size([64, 50])\n",
      "torch.Size([64, 50])\n",
      "torch.Size([64, 50])\n",
      "torch.Size([64, 50])\n",
      "torch.Size([64, 50])\n",
      "torch.Size([64, 50])\n",
      "torch.Size([64, 50])\n",
      "torch.Size([64, 50])\n",
      "torch.Size([64, 50])\n",
      "torch.Size([64, 50])\n",
      "torch.Size([64, 50])\n",
      "torch.Size([64, 50])\n",
      "torch.Size([64, 50])\n",
      "torch.Size([64, 50])\n",
      "torch.Size([64, 50])\n",
      "torch.Size([64, 50])\n",
      "torch.Size([64, 50])\n",
      "torch.Size([64, 50])\n",
      "torch.Size([64, 50])\n",
      "torch.Size([64, 50])\n",
      "torch.Size([64, 50])\n",
      "torch.Size([64, 50])\n",
      "torch.Size([64, 50])\n",
      "torch.Size([64, 50])\n",
      "torch.Size([64, 50])\n",
      "torch.Size([64, 50])\n",
      "torch.Size([64, 50])\n",
      "torch.Size([64, 50])\n",
      "torch.Size([64, 50])\n",
      "torch.Size([64, 50])\n",
      "torch.Size([64, 50])\n",
      "torch.Size([64, 50])\n",
      "torch.Size([64, 50])\n",
      "torch.Size([64, 50])\n",
      "torch.Size([64, 50])\n",
      "torch.Size([64, 50])\n",
      "torch.Size([64, 50])\n",
      "torch.Size([64, 50])\n",
      "torch.Size([64, 50])\n",
      "torch.Size([64, 50])\n",
      "torch.Size([64, 50])\n",
      "torch.Size([64, 50])\n",
      "torch.Size([64, 50])\n",
      "torch.Size([64, 50])\n",
      "torch.Size([64, 50])\n",
      "torch.Size([64, 50])\n",
      "torch.Size([64, 50])\n",
      "torch.Size([64, 50])\n",
      "torch.Size([64, 50])\n",
      "torch.Size([64, 50])\n",
      "torch.Size([64, 50])\n",
      "torch.Size([64, 50])\n",
      "torch.Size([64, 50])\n",
      "torch.Size([64, 50])\n",
      "torch.Size([64, 50])\n",
      "torch.Size([64, 50])\n",
      "torch.Size([64, 50])\n",
      "torch.Size([64, 50])\n",
      "torch.Size([64, 50])\n",
      "torch.Size([64, 50])\n",
      "torch.Size([64, 50])\n",
      "torch.Size([64, 50])\n",
      "torch.Size([64, 50])\n",
      "torch.Size([64, 50])\n",
      "torch.Size([64, 50])\n",
      "torch.Size([64, 50])\n",
      "torch.Size([64, 50])\n",
      "torch.Size([64, 50])\n",
      "torch.Size([64, 50])\n",
      "torch.Size([64, 50])\n",
      "torch.Size([64, 50])\n",
      "torch.Size([64, 50])\n",
      "torch.Size([64, 50])\n",
      "torch.Size([64, 50])\n",
      "torch.Size([64, 50])\n",
      "torch.Size([64, 50])\n",
      "torch.Size([64, 50])\n",
      "torch.Size([64, 50])\n",
      "torch.Size([64, 50])\n",
      "torch.Size([64, 50])\n",
      "torch.Size([64, 50])\n",
      "torch.Size([64, 50])\n",
      "torch.Size([64, 50])\n",
      "torch.Size([64, 50])\n",
      "torch.Size([64, 50])\n",
      "torch.Size([64, 50])\n",
      "torch.Size([64, 50])\n",
      "torch.Size([64, 50])\n",
      "torch.Size([64, 50])\n",
      "torch.Size([64, 50])\n",
      "torch.Size([64, 50])\n",
      "torch.Size([64, 50])\n",
      "torch.Size([64, 50])\n",
      "torch.Size([64, 50])\n",
      "torch.Size([64, 50])\n",
      "torch.Size([64, 50])\n",
      "torch.Size([64, 50])\n",
      "torch.Size([64, 50])\n",
      "torch.Size([64, 50])\n",
      "torch.Size([64, 50])\n",
      "torch.Size([64, 50])\n",
      "torch.Size([64, 50])\n",
      "torch.Size([64, 50])\n",
      "torch.Size([64, 50])\n",
      "torch.Size([64, 50])\n",
      "torch.Size([64, 50])\n",
      "torch.Size([64, 50])\n",
      "torch.Size([64, 50])\n",
      "torch.Size([64, 50])\n",
      "torch.Size([64, 50])\n",
      "torch.Size([64, 50])\n",
      "torch.Size([64, 50])\n",
      "torch.Size([64, 50])\n",
      "torch.Size([64, 50])\n",
      "torch.Size([64, 50])\n",
      "torch.Size([64, 50])\n",
      "torch.Size([64, 50])\n",
      "torch.Size([64, 50])\n",
      "torch.Size([64, 50])\n",
      "torch.Size([64, 50])\n",
      "torch.Size([64, 50])\n",
      "torch.Size([64, 50])\n",
      "torch.Size([64, 50])\n",
      "torch.Size([64, 50])\n",
      "torch.Size([64, 50])\n",
      "torch.Size([64, 50])\n",
      "torch.Size([64, 50])\n",
      "torch.Size([64, 50])\n",
      "torch.Size([64, 50])\n",
      "torch.Size([64, 50])\n",
      "torch.Size([64, 50])\n",
      "torch.Size([64, 50])\n",
      "torch.Size([64, 50])\n",
      "torch.Size([64, 50])\n",
      "torch.Size([64, 50])\n",
      "torch.Size([64, 50])\n",
      "torch.Size([64, 50])\n",
      "torch.Size([64, 50])\n",
      "torch.Size([64, 50])\n",
      "torch.Size([64, 50])\n",
      "torch.Size([64, 50])\n",
      "torch.Size([64, 50])\n",
      "torch.Size([64, 50])\n",
      "torch.Size([64, 50])\n",
      "torch.Size([64, 50])\n",
      "torch.Size([64, 50])\n",
      "torch.Size([64, 50])\n",
      "torch.Size([64, 50])\n",
      "torch.Size([64, 50])\n",
      "torch.Size([64, 50])\n",
      "torch.Size([64, 50])\n",
      "torch.Size([64, 50])\n",
      "torch.Size([64, 50])\n",
      "torch.Size([64, 50])\n",
      "torch.Size([64, 50])\n",
      "torch.Size([64, 50])\n",
      "torch.Size([64, 50])\n",
      "torch.Size([64, 50])\n",
      "torch.Size([64, 50])\n",
      "torch.Size([64, 50])\n",
      "torch.Size([64, 50])\n",
      "torch.Size([64, 50])\n",
      "torch.Size([64, 50])\n",
      "torch.Size([64, 50])\n",
      "torch.Size([64, 50])\n",
      "torch.Size([64, 50])\n",
      "torch.Size([64, 50])\n",
      "torch.Size([64, 50])\n",
      "torch.Size([64, 50])\n",
      "torch.Size([64, 50])\n",
      "torch.Size([64, 50])\n",
      "torch.Size([64, 50])\n",
      "torch.Size([64, 50])\n",
      "torch.Size([64, 50])\n",
      "torch.Size([64, 50])\n",
      "torch.Size([64, 50])\n",
      "torch.Size([64, 50])\n",
      "torch.Size([64, 50])\n",
      "torch.Size([64, 50])\n",
      "torch.Size([64, 50])\n",
      "torch.Size([64, 50])\n",
      "torch.Size([64, 50])\n",
      "torch.Size([64, 50])\n",
      "torch.Size([64, 50])\n",
      "torch.Size([64, 50])\n",
      "torch.Size([64, 50])\n",
      "torch.Size([64, 50])\n",
      "torch.Size([64, 50])\n",
      "torch.Size([64, 50])\n",
      "torch.Size([64, 50])\n",
      "torch.Size([64, 50])\n",
      "torch.Size([64, 50])\n",
      "torch.Size([64, 50])\n",
      "torch.Size([64, 50])\n",
      "torch.Size([64, 50])\n",
      "torch.Size([64, 50])\n",
      "torch.Size([64, 50])\n",
      "torch.Size([64, 50])\n",
      "torch.Size([64, 50])\n",
      "torch.Size([64, 50])\n",
      "torch.Size([64, 50])\n",
      "torch.Size([64, 50])\n",
      "torch.Size([64, 50])\n",
      "torch.Size([64, 50])\n",
      "torch.Size([64, 50])\n",
      "torch.Size([64, 50])\n",
      "torch.Size([64, 50])\n",
      "torch.Size([64, 50])\n",
      "torch.Size([64, 50])\n",
      "torch.Size([64, 50])\n",
      "torch.Size([64, 50])\n",
      "torch.Size([64, 50])\n",
      "torch.Size([64, 50])\n",
      "torch.Size([64, 50])\n",
      "torch.Size([64, 50])\n",
      "torch.Size([64, 50])\n",
      "torch.Size([64, 50])\n",
      "torch.Size([64, 50])\n",
      "torch.Size([64, 50])\n",
      "torch.Size([64, 50])\n",
      "torch.Size([64, 50])\n",
      "torch.Size([64, 50])\n",
      "torch.Size([64, 50])\n",
      "torch.Size([64, 50])\n",
      "torch.Size([64, 50])\n",
      "torch.Size([64, 50])\n",
      "torch.Size([64, 50])\n",
      "torch.Size([64, 50])\n",
      "torch.Size([64, 50])\n",
      "torch.Size([64, 50])\n",
      "torch.Size([64, 50])\n",
      "torch.Size([64, 50])\n",
      "torch.Size([64, 50])\n",
      "torch.Size([64, 50])\n",
      "torch.Size([64, 50])\n",
      "torch.Size([64, 50])\n",
      "torch.Size([64, 50])\n",
      "torch.Size([64, 50])\n",
      "torch.Size([64, 50])\n",
      "torch.Size([64, 50])\n",
      "torch.Size([64, 50])\n",
      "torch.Size([64, 50])\n",
      "torch.Size([64, 50])\n",
      "torch.Size([64, 50])\n",
      "torch.Size([64, 50])\n",
      "torch.Size([64, 50])\n",
      "torch.Size([64, 50])\n",
      "torch.Size([64, 50])\n",
      "torch.Size([64, 50])\n",
      "torch.Size([64, 50])\n",
      "torch.Size([64, 50])\n",
      "torch.Size([64, 50])\n",
      "torch.Size([64, 50])\n",
      "torch.Size([64, 50])\n",
      "torch.Size([64, 50])\n",
      "torch.Size([64, 50])\n",
      "torch.Size([64, 50])\n",
      "torch.Size([64, 50])\n",
      "torch.Size([64, 50])\n",
      "torch.Size([64, 50])\n",
      "torch.Size([64, 50])\n",
      "torch.Size([64, 50])\n",
      "torch.Size([64, 50])\n",
      "torch.Size([64, 50])\n",
      "torch.Size([64, 50])\n",
      "torch.Size([64, 50])\n",
      "torch.Size([64, 50])\n",
      "torch.Size([64, 50])\n",
      "torch.Size([64, 50])\n",
      "torch.Size([64, 50])\n",
      "torch.Size([64, 50])\n",
      "torch.Size([64, 50])\n",
      "torch.Size([64, 50])\n",
      "torch.Size([64, 50])\n",
      "torch.Size([64, 50])\n",
      "torch.Size([64, 50])\n",
      "torch.Size([64, 50])\n",
      "torch.Size([64, 50])\n",
      "torch.Size([64, 50])\n",
      "torch.Size([64, 50])\n",
      "torch.Size([64, 50])\n",
      "torch.Size([64, 50])\n",
      "torch.Size([64, 50])\n",
      "torch.Size([64, 50])\n",
      "torch.Size([64, 50])\n",
      "torch.Size([64, 50])\n",
      "torch.Size([64, 50])\n",
      "torch.Size([47, 50])\n",
      "torch.Size([64, 50])\n",
      "torch.Size([64, 50])\n",
      "torch.Size([64, 50])\n",
      "torch.Size([64, 50])\n",
      "torch.Size([64, 50])\n",
      "torch.Size([64, 50])\n",
      "torch.Size([64, 50])\n",
      "torch.Size([64, 50])\n",
      "torch.Size([64, 50])\n",
      "torch.Size([64, 50])\n",
      "torch.Size([64, 50])\n",
      "torch.Size([64, 50])\n",
      "torch.Size([64, 50])\n",
      "torch.Size([64, 50])\n",
      "torch.Size([64, 50])\n",
      "torch.Size([64, 50])\n",
      "torch.Size([64, 50])\n",
      "torch.Size([64, 50])\n",
      "torch.Size([64, 50])\n",
      "torch.Size([64, 50])\n",
      "torch.Size([64, 50])\n",
      "torch.Size([64, 50])\n",
      "torch.Size([64, 50])\n",
      "torch.Size([64, 50])\n",
      "torch.Size([64, 50])\n",
      "torch.Size([64, 50])\n",
      "torch.Size([64, 50])\n",
      "torch.Size([64, 50])\n",
      "torch.Size([64, 50])\n",
      "torch.Size([64, 50])\n",
      "torch.Size([64, 50])\n",
      "torch.Size([64, 50])\n",
      "torch.Size([64, 50])\n",
      "torch.Size([64, 50])\n",
      "torch.Size([64, 50])\n",
      "torch.Size([64, 50])\n",
      "torch.Size([64, 50])\n",
      "torch.Size([64, 50])\n",
      "torch.Size([64, 50])\n",
      "torch.Size([64, 50])\n",
      "torch.Size([64, 50])\n",
      "torch.Size([64, 50])\n",
      "torch.Size([64, 50])\n",
      "torch.Size([64, 50])\n",
      "torch.Size([64, 50])\n",
      "torch.Size([64, 50])\n",
      "torch.Size([64, 50])\n",
      "torch.Size([64, 50])\n",
      "torch.Size([64, 50])\n",
      "torch.Size([64, 50])\n",
      "torch.Size([64, 50])\n",
      "torch.Size([64, 50])\n",
      "torch.Size([64, 50])\n",
      "torch.Size([64, 50])\n",
      "torch.Size([64, 50])\n",
      "torch.Size([64, 50])\n",
      "torch.Size([64, 50])\n",
      "torch.Size([64, 50])\n",
      "torch.Size([64, 50])\n",
      "torch.Size([64, 50])\n",
      "torch.Size([64, 50])\n",
      "torch.Size([64, 50])\n",
      "torch.Size([64, 50])\n",
      "torch.Size([64, 50])\n",
      "torch.Size([64, 50])\n",
      "torch.Size([64, 50])\n",
      "torch.Size([64, 50])\n",
      "torch.Size([64, 50])\n",
      "torch.Size([64, 50])\n",
      "torch.Size([64, 50])\n",
      "torch.Size([64, 50])\n",
      "torch.Size([64, 50])\n",
      "torch.Size([64, 50])\n",
      "torch.Size([64, 50])\n",
      "torch.Size([64, 50])\n",
      "torch.Size([64, 50])\n",
      "torch.Size([64, 50])\n",
      "torch.Size([64, 50])\n",
      "torch.Size([64, 50])\n",
      "torch.Size([64, 50])\n",
      "torch.Size([64, 50])\n",
      "torch.Size([64, 50])\n",
      "torch.Size([64, 50])\n",
      "torch.Size([64, 50])\n",
      "torch.Size([64, 50])\n",
      "torch.Size([64, 50])\n",
      "torch.Size([64, 50])\n",
      "torch.Size([64, 50])\n",
      "torch.Size([64, 50])\n",
      "torch.Size([64, 50])\n",
      "torch.Size([64, 50])\n",
      "torch.Size([64, 50])\n",
      "torch.Size([64, 50])\n",
      "torch.Size([64, 50])\n",
      "torch.Size([64, 50])\n",
      "torch.Size([64, 50])\n",
      "torch.Size([64, 50])\n",
      "torch.Size([64, 50])\n",
      "torch.Size([64, 50])\n",
      "torch.Size([64, 50])\n",
      "torch.Size([64, 50])\n",
      "torch.Size([64, 50])\n",
      "torch.Size([64, 50])\n",
      "torch.Size([64, 50])\n",
      "torch.Size([64, 50])\n",
      "torch.Size([64, 50])\n",
      "torch.Size([64, 50])\n",
      "torch.Size([64, 50])\n",
      "torch.Size([64, 50])\n",
      "torch.Size([64, 50])\n",
      "torch.Size([64, 50])\n",
      "torch.Size([64, 50])\n",
      "torch.Size([64, 50])\n",
      "torch.Size([64, 50])\n",
      "torch.Size([64, 50])\n",
      "torch.Size([64, 50])\n",
      "torch.Size([64, 50])\n",
      "torch.Size([64, 50])\n",
      "torch.Size([64, 50])\n",
      "torch.Size([64, 50])\n",
      "torch.Size([64, 50])\n",
      "torch.Size([64, 50])\n",
      "torch.Size([64, 50])\n",
      "torch.Size([64, 50])\n",
      "torch.Size([64, 50])\n",
      "torch.Size([64, 50])\n",
      "torch.Size([64, 50])\n",
      "torch.Size([64, 50])\n",
      "torch.Size([64, 50])\n",
      "torch.Size([64, 50])\n",
      "torch.Size([64, 50])\n",
      "torch.Size([64, 50])\n",
      "torch.Size([64, 50])\n",
      "torch.Size([64, 50])\n",
      "torch.Size([64, 50])\n",
      "torch.Size([64, 50])\n",
      "torch.Size([64, 50])\n",
      "torch.Size([64, 50])\n",
      "torch.Size([64, 50])\n",
      "torch.Size([64, 50])\n",
      "torch.Size([64, 50])\n",
      "torch.Size([64, 50])\n",
      "torch.Size([64, 50])\n",
      "torch.Size([64, 50])\n",
      "torch.Size([64, 50])\n",
      "torch.Size([64, 50])\n",
      "torch.Size([64, 50])\n",
      "torch.Size([64, 50])\n",
      "torch.Size([64, 50])\n",
      "torch.Size([64, 50])\n",
      "torch.Size([64, 50])\n",
      "torch.Size([64, 50])\n",
      "torch.Size([64, 50])\n",
      "torch.Size([64, 50])\n",
      "torch.Size([64, 50])\n",
      "torch.Size([64, 50])\n",
      "torch.Size([64, 50])\n",
      "torch.Size([64, 50])\n",
      "torch.Size([64, 50])\n",
      "torch.Size([64, 50])\n",
      "torch.Size([64, 50])\n",
      "torch.Size([64, 50])\n",
      "torch.Size([64, 50])\n",
      "torch.Size([64, 50])\n",
      "torch.Size([64, 50])\n",
      "torch.Size([64, 50])\n",
      "torch.Size([64, 50])\n",
      "torch.Size([64, 50])\n",
      "torch.Size([64, 50])\n",
      "torch.Size([64, 50])\n",
      "torch.Size([64, 50])\n",
      "torch.Size([64, 50])\n",
      "torch.Size([64, 50])\n",
      "torch.Size([64, 50])\n",
      "torch.Size([64, 50])\n",
      "torch.Size([64, 50])\n",
      "torch.Size([64, 50])\n",
      "torch.Size([64, 50])\n",
      "torch.Size([64, 50])\n",
      "torch.Size([64, 50])\n",
      "torch.Size([64, 50])\n",
      "torch.Size([64, 50])\n",
      "torch.Size([64, 50])\n",
      "torch.Size([64, 50])\n",
      "torch.Size([64, 50])\n",
      "torch.Size([64, 50])\n",
      "torch.Size([64, 50])\n",
      "torch.Size([64, 50])\n",
      "torch.Size([64, 50])\n",
      "torch.Size([64, 50])\n",
      "torch.Size([64, 50])\n",
      "torch.Size([64, 50])\n",
      "torch.Size([64, 50])\n",
      "torch.Size([64, 50])\n",
      "torch.Size([64, 50])\n",
      "torch.Size([64, 50])\n",
      "torch.Size([64, 50])\n",
      "torch.Size([64, 50])\n",
      "torch.Size([64, 50])\n",
      "torch.Size([64, 50])\n",
      "torch.Size([64, 50])\n",
      "torch.Size([64, 50])\n",
      "torch.Size([64, 50])\n",
      "torch.Size([64, 50])\n",
      "torch.Size([64, 50])\n",
      "torch.Size([64, 50])\n",
      "torch.Size([64, 50])\n",
      "torch.Size([64, 50])\n",
      "torch.Size([64, 50])\n",
      "torch.Size([64, 50])\n",
      "torch.Size([64, 50])\n",
      "torch.Size([64, 50])\n",
      "torch.Size([64, 50])\n",
      "torch.Size([64, 50])\n",
      "torch.Size([64, 50])\n",
      "torch.Size([64, 50])\n",
      "torch.Size([64, 50])\n",
      "torch.Size([64, 50])\n",
      "torch.Size([64, 50])\n",
      "torch.Size([64, 50])\n",
      "torch.Size([64, 50])\n",
      "torch.Size([64, 50])\n",
      "torch.Size([64, 50])\n",
      "torch.Size([64, 50])\n",
      "torch.Size([64, 50])\n",
      "torch.Size([64, 50])\n",
      "torch.Size([64, 50])\n",
      "torch.Size([64, 50])\n",
      "torch.Size([64, 50])\n",
      "torch.Size([64, 50])\n",
      "torch.Size([64, 50])\n",
      "torch.Size([64, 50])\n",
      "torch.Size([64, 50])\n",
      "torch.Size([64, 50])\n",
      "torch.Size([64, 50])\n",
      "torch.Size([64, 50])\n",
      "torch.Size([64, 50])\n",
      "torch.Size([64, 50])\n",
      "torch.Size([64, 50])\n",
      "torch.Size([64, 50])\n",
      "torch.Size([64, 50])\n",
      "torch.Size([64, 50])\n",
      "torch.Size([64, 50])\n",
      "torch.Size([64, 50])\n",
      "torch.Size([64, 50])\n",
      "torch.Size([64, 50])\n",
      "torch.Size([64, 50])\n",
      "torch.Size([64, 50])\n",
      "torch.Size([64, 50])\n",
      "torch.Size([64, 50])\n",
      "torch.Size([64, 50])\n",
      "torch.Size([64, 50])\n",
      "torch.Size([64, 50])\n",
      "torch.Size([64, 50])\n",
      "torch.Size([64, 50])\n",
      "torch.Size([64, 50])\n",
      "torch.Size([64, 50])\n",
      "torch.Size([64, 50])\n",
      "torch.Size([64, 50])\n",
      "torch.Size([64, 50])\n",
      "torch.Size([64, 50])\n",
      "torch.Size([64, 50])\n",
      "torch.Size([64, 50])\n",
      "torch.Size([64, 50])\n",
      "torch.Size([64, 50])\n",
      "torch.Size([64, 50])\n",
      "torch.Size([64, 50])\n",
      "torch.Size([64, 50])\n",
      "torch.Size([64, 50])\n",
      "torch.Size([64, 50])\n",
      "torch.Size([64, 50])\n",
      "torch.Size([64, 50])\n",
      "torch.Size([64, 50])\n",
      "torch.Size([64, 50])\n",
      "torch.Size([64, 50])\n",
      "torch.Size([64, 50])\n",
      "torch.Size([64, 50])\n",
      "torch.Size([64, 50])\n",
      "torch.Size([64, 50])\n",
      "torch.Size([64, 50])\n",
      "torch.Size([64, 50])\n",
      "torch.Size([64, 50])\n",
      "torch.Size([64, 50])\n",
      "torch.Size([64, 50])\n",
      "torch.Size([64, 50])\n",
      "torch.Size([64, 50])\n",
      "torch.Size([64, 50])\n",
      "torch.Size([64, 50])\n",
      "torch.Size([64, 50])\n",
      "torch.Size([64, 50])\n",
      "torch.Size([64, 50])\n",
      "torch.Size([64, 50])\n",
      "torch.Size([64, 50])\n",
      "torch.Size([64, 50])\n",
      "torch.Size([64, 50])\n",
      "torch.Size([64, 50])\n",
      "torch.Size([64, 50])\n",
      "torch.Size([64, 50])\n",
      "torch.Size([64, 50])\n",
      "torch.Size([64, 50])\n",
      "torch.Size([64, 50])\n",
      "torch.Size([64, 50])\n",
      "torch.Size([64, 50])\n",
      "torch.Size([64, 50])\n",
      "torch.Size([64, 50])\n",
      "torch.Size([64, 50])\n",
      "torch.Size([64, 50])\n",
      "torch.Size([64, 50])\n",
      "torch.Size([64, 50])\n",
      "torch.Size([64, 50])\n",
      "torch.Size([64, 50])\n",
      "torch.Size([64, 50])\n",
      "torch.Size([64, 50])\n",
      "torch.Size([64, 50])\n",
      "torch.Size([64, 50])\n",
      "torch.Size([64, 50])\n",
      "torch.Size([64, 50])\n",
      "torch.Size([64, 50])\n",
      "torch.Size([64, 50])\n",
      "torch.Size([64, 50])\n",
      "torch.Size([64, 50])\n",
      "torch.Size([64, 50])\n",
      "torch.Size([64, 50])\n",
      "torch.Size([64, 50])\n",
      "torch.Size([64, 50])\n",
      "torch.Size([64, 50])\n",
      "torch.Size([64, 50])\n",
      "torch.Size([47, 50])\n",
      "torch.Size([64, 50])\n",
      "torch.Size([64, 50])\n",
      "torch.Size([64, 50])\n",
      "torch.Size([64, 50])\n",
      "torch.Size([64, 50])\n",
      "torch.Size([64, 50])\n",
      "torch.Size([64, 50])\n",
      "torch.Size([64, 50])\n",
      "torch.Size([64, 50])\n",
      "torch.Size([64, 50])\n",
      "torch.Size([64, 50])\n",
      "torch.Size([64, 50])\n",
      "torch.Size([64, 50])\n",
      "torch.Size([64, 50])\n",
      "torch.Size([64, 50])\n",
      "torch.Size([64, 50])\n",
      "torch.Size([64, 50])\n",
      "torch.Size([64, 50])\n",
      "torch.Size([64, 50])\n",
      "torch.Size([64, 50])\n",
      "torch.Size([64, 50])\n",
      "torch.Size([64, 50])\n",
      "torch.Size([64, 50])\n",
      "torch.Size([64, 50])\n",
      "torch.Size([64, 50])\n",
      "torch.Size([64, 50])\n",
      "torch.Size([64, 50])\n",
      "torch.Size([64, 50])\n",
      "torch.Size([64, 50])\n",
      "torch.Size([64, 50])\n",
      "torch.Size([64, 50])\n",
      "torch.Size([64, 50])\n",
      "torch.Size([64, 50])\n",
      "torch.Size([64, 50])\n",
      "torch.Size([64, 50])\n",
      "torch.Size([64, 50])\n",
      "torch.Size([64, 50])\n",
      "torch.Size([64, 50])\n",
      "torch.Size([64, 50])\n",
      "torch.Size([64, 50])\n",
      "torch.Size([64, 50])\n",
      "torch.Size([64, 50])\n",
      "torch.Size([64, 50])\n",
      "torch.Size([64, 50])\n",
      "torch.Size([64, 50])\n",
      "torch.Size([64, 50])\n",
      "torch.Size([64, 50])\n",
      "torch.Size([64, 50])\n",
      "torch.Size([64, 50])\n",
      "torch.Size([64, 50])\n",
      "torch.Size([64, 50])\n",
      "torch.Size([64, 50])\n",
      "torch.Size([64, 50])\n",
      "torch.Size([64, 50])\n",
      "torch.Size([64, 50])\n",
      "torch.Size([64, 50])\n",
      "torch.Size([64, 50])\n",
      "torch.Size([64, 50])\n",
      "torch.Size([64, 50])\n",
      "torch.Size([64, 50])\n",
      "torch.Size([64, 50])\n",
      "torch.Size([64, 50])\n",
      "torch.Size([64, 50])\n",
      "torch.Size([64, 50])\n",
      "torch.Size([64, 50])\n",
      "torch.Size([64, 50])\n",
      "torch.Size([64, 50])\n",
      "torch.Size([64, 50])\n",
      "torch.Size([64, 50])\n",
      "torch.Size([64, 50])\n",
      "torch.Size([64, 50])\n",
      "torch.Size([64, 50])\n",
      "torch.Size([64, 50])\n",
      "torch.Size([64, 50])\n",
      "torch.Size([64, 50])\n",
      "torch.Size([64, 50])\n",
      "torch.Size([64, 50])\n",
      "torch.Size([64, 50])\n",
      "torch.Size([64, 50])\n",
      "torch.Size([64, 50])\n",
      "torch.Size([64, 50])\n",
      "torch.Size([64, 50])\n",
      "torch.Size([64, 50])\n",
      "torch.Size([64, 50])\n",
      "torch.Size([64, 50])\n",
      "torch.Size([64, 50])\n",
      "torch.Size([64, 50])\n",
      "torch.Size([64, 50])\n",
      "torch.Size([64, 50])\n",
      "torch.Size([64, 50])\n",
      "torch.Size([64, 50])\n",
      "torch.Size([64, 50])\n",
      "torch.Size([64, 50])\n",
      "torch.Size([64, 50])\n",
      "torch.Size([64, 50])\n",
      "torch.Size([64, 50])\n",
      "torch.Size([64, 50])\n",
      "torch.Size([64, 50])\n",
      "torch.Size([64, 50])\n",
      "torch.Size([64, 50])\n",
      "torch.Size([64, 50])\n",
      "torch.Size([64, 50])\n",
      "torch.Size([64, 50])\n",
      "torch.Size([64, 50])\n",
      "torch.Size([64, 50])\n",
      "torch.Size([64, 50])\n",
      "torch.Size([64, 50])\n",
      "torch.Size([64, 50])\n",
      "torch.Size([64, 50])\n",
      "torch.Size([64, 50])\n",
      "torch.Size([64, 50])\n",
      "torch.Size([64, 50])\n",
      "torch.Size([64, 50])\n",
      "torch.Size([64, 50])\n",
      "torch.Size([64, 50])\n",
      "torch.Size([64, 50])\n",
      "torch.Size([64, 50])\n",
      "torch.Size([64, 50])\n",
      "torch.Size([64, 50])\n",
      "torch.Size([64, 50])\n",
      "torch.Size([64, 50])\n",
      "torch.Size([64, 50])\n",
      "torch.Size([64, 50])\n",
      "torch.Size([64, 50])\n",
      "torch.Size([64, 50])\n",
      "torch.Size([64, 50])\n",
      "torch.Size([64, 50])\n",
      "torch.Size([64, 50])\n",
      "torch.Size([64, 50])\n",
      "torch.Size([64, 50])\n",
      "torch.Size([64, 50])\n",
      "torch.Size([64, 50])\n",
      "torch.Size([64, 50])\n",
      "torch.Size([64, 50])\n",
      "torch.Size([64, 50])\n",
      "torch.Size([64, 50])\n",
      "torch.Size([64, 50])\n",
      "torch.Size([64, 50])\n",
      "torch.Size([64, 50])\n",
      "torch.Size([64, 50])\n",
      "torch.Size([64, 50])\n",
      "torch.Size([64, 50])\n",
      "torch.Size([64, 50])\n",
      "torch.Size([64, 50])\n",
      "torch.Size([64, 50])\n",
      "torch.Size([64, 50])\n",
      "torch.Size([64, 50])\n",
      "torch.Size([64, 50])\n",
      "torch.Size([64, 50])\n",
      "torch.Size([64, 50])\n",
      "torch.Size([64, 50])\n",
      "torch.Size([64, 50])\n",
      "torch.Size([64, 50])\n",
      "torch.Size([64, 50])\n",
      "torch.Size([64, 50])\n",
      "torch.Size([64, 50])\n",
      "torch.Size([64, 50])\n",
      "torch.Size([64, 50])\n",
      "torch.Size([64, 50])\n",
      "torch.Size([64, 50])\n",
      "torch.Size([64, 50])\n",
      "torch.Size([64, 50])\n",
      "torch.Size([64, 50])\n",
      "torch.Size([64, 50])\n",
      "torch.Size([64, 50])\n",
      "torch.Size([64, 50])\n",
      "torch.Size([64, 50])\n",
      "torch.Size([64, 50])\n",
      "torch.Size([64, 50])\n",
      "torch.Size([64, 50])\n",
      "torch.Size([64, 50])\n",
      "torch.Size([64, 50])\n",
      "torch.Size([64, 50])\n",
      "torch.Size([64, 50])\n",
      "torch.Size([64, 50])\n",
      "torch.Size([64, 50])\n",
      "torch.Size([64, 50])\n",
      "torch.Size([64, 50])\n",
      "torch.Size([64, 50])\n",
      "torch.Size([64, 50])\n",
      "torch.Size([64, 50])\n",
      "torch.Size([64, 50])\n",
      "torch.Size([64, 50])\n",
      "torch.Size([64, 50])\n",
      "torch.Size([64, 50])\n",
      "torch.Size([64, 50])\n",
      "torch.Size([64, 50])\n",
      "torch.Size([64, 50])\n",
      "torch.Size([64, 50])\n",
      "torch.Size([64, 50])\n",
      "torch.Size([64, 50])\n",
      "torch.Size([64, 50])\n",
      "torch.Size([64, 50])\n",
      "torch.Size([64, 50])\n",
      "torch.Size([64, 50])\n",
      "torch.Size([64, 50])\n",
      "torch.Size([64, 50])\n",
      "torch.Size([64, 50])\n",
      "torch.Size([64, 50])\n",
      "torch.Size([64, 50])\n",
      "torch.Size([64, 50])\n",
      "torch.Size([64, 50])\n",
      "torch.Size([64, 50])\n",
      "torch.Size([64, 50])\n",
      "torch.Size([64, 50])\n",
      "torch.Size([64, 50])\n",
      "torch.Size([64, 50])\n",
      "torch.Size([64, 50])\n",
      "torch.Size([64, 50])\n",
      "torch.Size([64, 50])\n",
      "torch.Size([64, 50])\n",
      "torch.Size([64, 50])\n",
      "torch.Size([64, 50])\n",
      "torch.Size([64, 50])\n",
      "torch.Size([64, 50])\n",
      "torch.Size([64, 50])\n",
      "torch.Size([64, 50])\n",
      "torch.Size([64, 50])\n",
      "torch.Size([64, 50])\n",
      "torch.Size([64, 50])\n",
      "torch.Size([64, 50])\n",
      "torch.Size([64, 50])\n",
      "torch.Size([64, 50])\n",
      "torch.Size([64, 50])\n",
      "torch.Size([64, 50])\n",
      "torch.Size([64, 50])\n",
      "torch.Size([64, 50])\n",
      "torch.Size([64, 50])\n",
      "torch.Size([64, 50])\n",
      "torch.Size([64, 50])\n",
      "torch.Size([64, 50])\n",
      "torch.Size([64, 50])\n",
      "torch.Size([64, 50])\n",
      "torch.Size([64, 50])\n",
      "torch.Size([64, 50])\n",
      "torch.Size([64, 50])\n",
      "torch.Size([64, 50])\n",
      "torch.Size([64, 50])\n",
      "torch.Size([64, 50])\n",
      "torch.Size([64, 50])\n",
      "torch.Size([64, 50])\n",
      "torch.Size([64, 50])\n",
      "torch.Size([64, 50])\n",
      "torch.Size([64, 50])\n",
      "torch.Size([64, 50])\n",
      "torch.Size([64, 50])\n",
      "torch.Size([64, 50])\n",
      "torch.Size([64, 50])\n",
      "torch.Size([64, 50])\n",
      "torch.Size([64, 50])\n",
      "torch.Size([64, 50])\n",
      "torch.Size([64, 50])\n",
      "torch.Size([64, 50])\n",
      "torch.Size([64, 50])\n",
      "torch.Size([64, 50])\n",
      "torch.Size([64, 50])\n",
      "torch.Size([64, 50])\n",
      "torch.Size([64, 50])\n",
      "torch.Size([64, 50])\n",
      "torch.Size([64, 50])\n",
      "torch.Size([64, 50])\n",
      "torch.Size([64, 50])\n",
      "torch.Size([64, 50])\n",
      "torch.Size([64, 50])\n",
      "torch.Size([64, 50])\n",
      "torch.Size([64, 50])\n",
      "torch.Size([64, 50])\n",
      "torch.Size([64, 50])\n",
      "torch.Size([64, 50])\n",
      "torch.Size([64, 50])\n",
      "torch.Size([64, 50])\n",
      "torch.Size([64, 50])\n",
      "torch.Size([64, 50])\n",
      "torch.Size([64, 50])\n",
      "torch.Size([64, 50])\n",
      "torch.Size([64, 50])\n",
      "torch.Size([64, 50])\n",
      "torch.Size([64, 50])\n",
      "torch.Size([64, 50])\n",
      "torch.Size([64, 50])\n",
      "torch.Size([64, 50])\n",
      "torch.Size([64, 50])\n",
      "torch.Size([64, 50])\n",
      "torch.Size([64, 50])\n",
      "torch.Size([64, 50])\n",
      "torch.Size([64, 50])\n",
      "torch.Size([64, 50])\n",
      "torch.Size([64, 50])\n",
      "torch.Size([64, 50])\n",
      "torch.Size([64, 50])\n",
      "torch.Size([64, 50])\n",
      "torch.Size([64, 50])\n",
      "torch.Size([64, 50])\n",
      "torch.Size([64, 50])\n",
      "torch.Size([64, 50])\n",
      "torch.Size([64, 50])\n",
      "torch.Size([64, 50])\n",
      "torch.Size([64, 50])\n",
      "torch.Size([64, 50])\n",
      "torch.Size([64, 50])\n",
      "torch.Size([64, 50])\n",
      "torch.Size([64, 50])\n",
      "torch.Size([64, 50])\n",
      "torch.Size([64, 50])\n",
      "torch.Size([64, 50])\n",
      "torch.Size([64, 50])\n",
      "torch.Size([64, 50])\n",
      "torch.Size([64, 50])\n",
      "torch.Size([64, 50])\n",
      "torch.Size([64, 50])\n",
      "torch.Size([64, 50])\n",
      "torch.Size([64, 50])\n",
      "torch.Size([64, 50])\n",
      "torch.Size([64, 50])\n",
      "torch.Size([64, 50])\n",
      "torch.Size([64, 50])\n",
      "torch.Size([64, 50])\n",
      "torch.Size([64, 50])\n",
      "torch.Size([64, 50])\n",
      "torch.Size([64, 50])\n",
      "torch.Size([64, 50])\n",
      "torch.Size([64, 50])\n",
      "torch.Size([64, 50])\n",
      "torch.Size([64, 50])\n",
      "torch.Size([64, 50])\n",
      "torch.Size([64, 50])\n",
      "torch.Size([64, 50])\n",
      "torch.Size([47, 50])\n",
      "torch.Size([64, 50])\n",
      "torch.Size([64, 50])\n",
      "torch.Size([64, 50])\n",
      "torch.Size([64, 50])\n",
      "torch.Size([64, 50])\n",
      "torch.Size([64, 50])\n",
      "torch.Size([64, 50])\n",
      "torch.Size([64, 50])\n",
      "torch.Size([64, 50])\n",
      "torch.Size([64, 50])\n",
      "torch.Size([64, 50])\n",
      "torch.Size([64, 50])\n",
      "torch.Size([64, 50])\n",
      "torch.Size([64, 50])\n",
      "torch.Size([64, 50])\n",
      "torch.Size([64, 50])\n",
      "torch.Size([64, 50])\n",
      "torch.Size([64, 50])\n",
      "torch.Size([64, 50])\n",
      "torch.Size([64, 50])\n",
      "torch.Size([64, 50])\n",
      "torch.Size([64, 50])\n",
      "torch.Size([64, 50])\n",
      "torch.Size([64, 50])\n",
      "torch.Size([64, 50])\n",
      "torch.Size([64, 50])\n",
      "torch.Size([64, 50])\n",
      "torch.Size([64, 50])\n",
      "torch.Size([64, 50])\n",
      "torch.Size([64, 50])\n",
      "torch.Size([64, 50])\n",
      "torch.Size([64, 50])\n",
      "torch.Size([64, 50])\n",
      "torch.Size([64, 50])\n",
      "torch.Size([64, 50])\n",
      "torch.Size([64, 50])\n",
      "torch.Size([64, 50])\n",
      "torch.Size([64, 50])\n",
      "torch.Size([64, 50])\n",
      "torch.Size([64, 50])\n",
      "torch.Size([64, 50])\n",
      "torch.Size([64, 50])\n",
      "torch.Size([64, 50])\n",
      "torch.Size([64, 50])\n",
      "torch.Size([64, 50])\n",
      "torch.Size([64, 50])\n",
      "torch.Size([64, 50])\n",
      "torch.Size([64, 50])\n",
      "torch.Size([64, 50])\n",
      "torch.Size([64, 50])\n",
      "torch.Size([64, 50])\n",
      "torch.Size([64, 50])\n",
      "torch.Size([64, 50])\n",
      "torch.Size([64, 50])\n",
      "torch.Size([64, 50])\n",
      "torch.Size([64, 50])\n",
      "torch.Size([64, 50])\n",
      "torch.Size([64, 50])\n",
      "torch.Size([64, 50])\n",
      "torch.Size([64, 50])\n",
      "torch.Size([64, 50])\n",
      "torch.Size([64, 50])\n",
      "torch.Size([64, 50])\n",
      "torch.Size([64, 50])\n",
      "torch.Size([64, 50])\n",
      "torch.Size([64, 50])\n",
      "torch.Size([64, 50])\n",
      "torch.Size([64, 50])\n",
      "torch.Size([64, 50])\n",
      "torch.Size([64, 50])\n",
      "torch.Size([64, 50])\n",
      "torch.Size([64, 50])\n",
      "torch.Size([64, 50])\n",
      "torch.Size([64, 50])\n",
      "torch.Size([64, 50])\n",
      "torch.Size([64, 50])\n",
      "torch.Size([64, 50])\n",
      "torch.Size([64, 50])\n",
      "torch.Size([64, 50])\n",
      "torch.Size([64, 50])\n",
      "torch.Size([64, 50])\n",
      "torch.Size([64, 50])\n",
      "torch.Size([64, 50])\n",
      "torch.Size([64, 50])\n",
      "torch.Size([64, 50])\n",
      "torch.Size([64, 50])\n",
      "torch.Size([64, 50])\n",
      "torch.Size([64, 50])\n",
      "torch.Size([64, 50])\n",
      "torch.Size([64, 50])\n",
      "torch.Size([64, 50])\n",
      "torch.Size([64, 50])\n",
      "torch.Size([64, 50])\n",
      "torch.Size([64, 50])\n",
      "torch.Size([64, 50])\n",
      "torch.Size([64, 50])\n",
      "torch.Size([64, 50])\n",
      "torch.Size([64, 50])\n",
      "torch.Size([64, 50])\n",
      "torch.Size([64, 50])\n",
      "torch.Size([64, 50])\n",
      "torch.Size([64, 50])\n",
      "torch.Size([64, 50])\n",
      "torch.Size([64, 50])\n",
      "torch.Size([64, 50])\n",
      "torch.Size([64, 50])\n",
      "torch.Size([64, 50])\n",
      "torch.Size([64, 50])\n",
      "torch.Size([64, 50])\n",
      "torch.Size([64, 50])\n",
      "torch.Size([64, 50])\n",
      "torch.Size([64, 50])\n",
      "torch.Size([64, 50])\n",
      "torch.Size([64, 50])\n",
      "torch.Size([64, 50])\n",
      "torch.Size([64, 50])\n",
      "torch.Size([64, 50])\n",
      "torch.Size([64, 50])\n",
      "torch.Size([64, 50])\n",
      "torch.Size([64, 50])\n",
      "torch.Size([64, 50])\n",
      "torch.Size([64, 50])\n",
      "torch.Size([64, 50])\n",
      "torch.Size([64, 50])\n",
      "torch.Size([64, 50])\n",
      "torch.Size([64, 50])\n",
      "torch.Size([64, 50])\n",
      "torch.Size([64, 50])\n",
      "torch.Size([64, 50])\n",
      "torch.Size([64, 50])\n",
      "torch.Size([64, 50])\n",
      "torch.Size([64, 50])\n",
      "torch.Size([64, 50])\n",
      "torch.Size([64, 50])\n",
      "torch.Size([64, 50])\n",
      "torch.Size([64, 50])\n",
      "torch.Size([64, 50])\n",
      "torch.Size([64, 50])\n",
      "torch.Size([64, 50])\n",
      "torch.Size([64, 50])\n",
      "torch.Size([64, 50])\n",
      "torch.Size([64, 50])\n",
      "torch.Size([64, 50])\n",
      "torch.Size([64, 50])\n",
      "torch.Size([64, 50])\n",
      "torch.Size([64, 50])\n",
      "torch.Size([64, 50])\n",
      "torch.Size([64, 50])\n",
      "torch.Size([64, 50])\n",
      "torch.Size([64, 50])\n",
      "torch.Size([64, 50])\n",
      "torch.Size([64, 50])\n",
      "torch.Size([64, 50])\n",
      "torch.Size([64, 50])\n",
      "torch.Size([64, 50])\n",
      "torch.Size([64, 50])\n",
      "torch.Size([64, 50])\n",
      "torch.Size([64, 50])\n",
      "torch.Size([64, 50])\n",
      "torch.Size([64, 50])\n",
      "torch.Size([64, 50])\n",
      "torch.Size([64, 50])\n",
      "torch.Size([64, 50])\n",
      "torch.Size([64, 50])\n",
      "torch.Size([64, 50])\n",
      "torch.Size([64, 50])\n",
      "torch.Size([64, 50])\n",
      "torch.Size([64, 50])\n",
      "torch.Size([64, 50])\n",
      "torch.Size([64, 50])\n",
      "torch.Size([64, 50])\n",
      "torch.Size([64, 50])\n",
      "torch.Size([64, 50])\n",
      "torch.Size([64, 50])\n",
      "torch.Size([64, 50])\n",
      "torch.Size([64, 50])\n",
      "torch.Size([64, 50])\n",
      "torch.Size([64, 50])\n",
      "torch.Size([64, 50])\n",
      "torch.Size([64, 50])\n",
      "torch.Size([64, 50])\n",
      "torch.Size([64, 50])\n",
      "torch.Size([64, 50])\n",
      "torch.Size([64, 50])\n",
      "torch.Size([64, 50])\n",
      "torch.Size([64, 50])\n",
      "torch.Size([64, 50])\n",
      "torch.Size([64, 50])\n",
      "torch.Size([64, 50])\n",
      "torch.Size([64, 50])\n",
      "torch.Size([64, 50])\n",
      "torch.Size([64, 50])\n",
      "torch.Size([64, 50])\n",
      "torch.Size([64, 50])\n",
      "torch.Size([64, 50])\n",
      "torch.Size([64, 50])\n",
      "torch.Size([64, 50])\n",
      "torch.Size([64, 50])\n",
      "torch.Size([64, 50])\n",
      "torch.Size([64, 50])\n",
      "torch.Size([64, 50])\n",
      "torch.Size([64, 50])\n",
      "torch.Size([64, 50])\n",
      "torch.Size([64, 50])\n",
      "torch.Size([64, 50])\n",
      "torch.Size([64, 50])\n",
      "torch.Size([64, 50])\n",
      "torch.Size([64, 50])\n",
      "torch.Size([64, 50])\n",
      "torch.Size([64, 50])\n",
      "torch.Size([64, 50])\n",
      "torch.Size([64, 50])\n",
      "torch.Size([64, 50])\n",
      "torch.Size([64, 50])\n",
      "torch.Size([64, 50])\n",
      "torch.Size([64, 50])\n",
      "torch.Size([64, 50])\n",
      "torch.Size([64, 50])\n",
      "torch.Size([64, 50])\n",
      "torch.Size([64, 50])\n",
      "torch.Size([64, 50])\n",
      "torch.Size([64, 50])\n",
      "torch.Size([64, 50])\n",
      "torch.Size([64, 50])\n",
      "torch.Size([64, 50])\n",
      "torch.Size([64, 50])\n",
      "torch.Size([64, 50])\n",
      "torch.Size([64, 50])\n",
      "torch.Size([64, 50])\n",
      "torch.Size([64, 50])\n",
      "torch.Size([64, 50])\n",
      "torch.Size([64, 50])\n",
      "torch.Size([64, 50])\n",
      "torch.Size([64, 50])\n",
      "torch.Size([64, 50])\n",
      "torch.Size([64, 50])\n",
      "torch.Size([64, 50])\n",
      "torch.Size([64, 50])\n",
      "torch.Size([64, 50])\n",
      "torch.Size([64, 50])\n",
      "torch.Size([64, 50])\n",
      "torch.Size([64, 50])\n",
      "torch.Size([64, 50])\n",
      "torch.Size([64, 50])\n",
      "torch.Size([64, 50])\n",
      "torch.Size([64, 50])\n",
      "torch.Size([64, 50])\n",
      "torch.Size([64, 50])\n",
      "torch.Size([64, 50])\n",
      "torch.Size([64, 50])\n",
      "torch.Size([64, 50])\n",
      "torch.Size([64, 50])\n",
      "torch.Size([64, 50])\n",
      "torch.Size([64, 50])\n",
      "torch.Size([64, 50])\n",
      "torch.Size([64, 50])\n",
      "torch.Size([64, 50])\n",
      "torch.Size([64, 50])\n",
      "torch.Size([64, 50])\n",
      "torch.Size([64, 50])\n",
      "torch.Size([64, 50])\n",
      "torch.Size([64, 50])\n",
      "torch.Size([64, 50])\n",
      "torch.Size([64, 50])\n",
      "torch.Size([64, 50])\n",
      "torch.Size([64, 50])\n",
      "torch.Size([64, 50])\n",
      "torch.Size([64, 50])\n",
      "torch.Size([64, 50])\n",
      "torch.Size([64, 50])\n",
      "torch.Size([64, 50])\n",
      "torch.Size([64, 50])\n",
      "torch.Size([64, 50])\n",
      "torch.Size([64, 50])\n",
      "torch.Size([64, 50])\n",
      "torch.Size([64, 50])\n",
      "torch.Size([64, 50])\n",
      "torch.Size([64, 50])\n",
      "torch.Size([64, 50])\n",
      "torch.Size([64, 50])\n",
      "torch.Size([64, 50])\n",
      "torch.Size([64, 50])\n",
      "torch.Size([64, 50])\n",
      "torch.Size([64, 50])\n",
      "torch.Size([64, 50])\n",
      "torch.Size([64, 50])\n",
      "torch.Size([64, 50])\n",
      "torch.Size([64, 50])\n",
      "torch.Size([64, 50])\n",
      "torch.Size([64, 50])\n",
      "torch.Size([64, 50])\n",
      "torch.Size([64, 50])\n",
      "torch.Size([64, 50])\n",
      "torch.Size([64, 50])\n",
      "torch.Size([64, 50])\n",
      "torch.Size([64, 50])\n",
      "torch.Size([64, 50])\n",
      "torch.Size([64, 50])\n",
      "torch.Size([64, 50])\n",
      "torch.Size([64, 50])\n",
      "torch.Size([64, 50])\n",
      "torch.Size([64, 50])\n",
      "torch.Size([64, 50])\n",
      "torch.Size([64, 50])\n",
      "torch.Size([64, 50])\n",
      "torch.Size([64, 50])\n",
      "torch.Size([64, 50])\n",
      "torch.Size([64, 50])\n",
      "torch.Size([64, 50])\n",
      "torch.Size([64, 50])\n",
      "torch.Size([64, 50])\n",
      "torch.Size([64, 50])\n",
      "torch.Size([64, 50])\n",
      "torch.Size([64, 50])\n",
      "torch.Size([64, 50])\n",
      "torch.Size([64, 50])\n",
      "torch.Size([64, 50])\n",
      "torch.Size([64, 50])\n",
      "torch.Size([64, 50])\n",
      "torch.Size([64, 50])\n",
      "torch.Size([64, 50])\n",
      "torch.Size([64, 50])\n",
      "torch.Size([64, 50])\n",
      "torch.Size([64, 50])\n",
      "torch.Size([64, 50])\n",
      "torch.Size([64, 50])\n",
      "torch.Size([64, 50])\n",
      "torch.Size([47, 50])\n"
     ]
    }
   ],
   "source": [
    "learn = Learner(dls, model, loss_func=F.cross_entropy, \n",
    "                metrics=accuracy)\n",
    "print(learn.model)\n",
    "learn.fit_one_cycle(4, 1e-3)"
   ]
  },
  {
   "cell_type": "code",
   "execution_count": 21,
   "metadata": {},
   "outputs": [
    {
     "data": {
      "text/html": [
       "\n",
       "<style>\n",
       "    /* Turns off some styling */\n",
       "    progress {\n",
       "        /* gets rid of default border in Firefox and Opera. */\n",
       "        border: none;\n",
       "        /* Needs to be in here for Safari polyfill so background images work as expected. */\n",
       "        background-size: auto;\n",
       "    }\n",
       "    progress:not([value]), progress:not([value])::-webkit-progress-bar {\n",
       "        background: repeating-linear-gradient(45deg, #7e7e7e, #7e7e7e 10px, #5c5c5c 10px, #5c5c5c 20px);\n",
       "    }\n",
       "    .progress-bar-interrupted, .progress-bar-interrupted::-webkit-progress-bar {\n",
       "        background: #F44336;\n",
       "    }\n",
       "</style>\n"
      ],
      "text/plain": [
       "<IPython.core.display.HTML object>"
      ]
     },
     "metadata": {},
     "output_type": "display_data"
    },
    {
     "data": {
      "text/html": [
       "<table border=\"1\" class=\"dataframe\">\n",
       "  <thead>\n",
       "    <tr style=\"text-align: left;\">\n",
       "      <th>epoch</th>\n",
       "      <th>train_loss</th>\n",
       "      <th>valid_loss</th>\n",
       "      <th>accuracy</th>\n",
       "      <th>time</th>\n",
       "    </tr>\n",
       "  </thead>\n",
       "  <tbody>\n",
       "    <tr>\n",
       "      <td>0</td>\n",
       "      <td>1.998725</td>\n",
       "      <td>1.954713</td>\n",
       "      <td>0.459948</td>\n",
       "      <td>00:08</td>\n",
       "    </tr>\n",
       "    <tr>\n",
       "      <td>1</td>\n",
       "      <td>1.446180</td>\n",
       "      <td>1.811411</td>\n",
       "      <td>0.467792</td>\n",
       "      <td>00:08</td>\n",
       "    </tr>\n",
       "    <tr>\n",
       "      <td>2</td>\n",
       "      <td>1.453498</td>\n",
       "      <td>1.674811</td>\n",
       "      <td>0.486095</td>\n",
       "      <td>00:08</td>\n",
       "    </tr>\n",
       "    <tr>\n",
       "      <td>3</td>\n",
       "      <td>1.409633</td>\n",
       "      <td>1.659829</td>\n",
       "      <td>0.488947</td>\n",
       "      <td>00:08</td>\n",
       "    </tr>\n",
       "  </tbody>\n",
       "</table>"
      ],
      "text/plain": [
       "<IPython.core.display.HTML object>"
      ]
     },
     "metadata": {},
     "output_type": "display_data"
    }
   ],
   "source": []
  },
  {
   "cell_type": "markdown",
   "metadata": {},
   "source": [
    "is it bad or good accuracy? Let's check what a model, that predict us the most common token, would give us as accuracy"
   ]
  },
  {
   "cell_type": "code",
   "execution_count": 22,
   "metadata": {},
   "outputs": [
    {
     "data": {
      "text/plain": [
       "(tensor(29), 'thousand', 0.15165200855716662)"
      ]
     },
     "execution_count": 22,
     "metadata": {},
     "output_type": "execute_result"
    }
   ],
   "source": [
    "n,counts = 0,torch.zeros(len(vocab))\n",
    "for x,y in dls.valid:\n",
    "    n += y.shape[0]\n",
    "    for i in range_of(vocab): counts[i] += (y==i).long().sum()\n",
    "idx = torch.argmax(counts)\n",
    "idx, vocab[idx.item()], counts[idx].item()/n"
   ]
  },
  {
   "cell_type": "markdown",
   "metadata": {},
   "source": [
    "that's 15%, so we are doing way better!"
   ]
  },
  {
   "cell_type": "markdown",
   "metadata": {},
   "source": [
    "### RNN - The Same Model But With A Loop"
   ]
  },
  {
   "cell_type": "code",
   "execution_count": 23,
   "metadata": {},
   "outputs": [
    {
     "data": {
      "text/plain": [
       "LMModel2(\n",
       "  (input_to_embed): Embedding(30, 50)\n",
       "  (embed_to_hidden): Linear(in_features=50, out_features=50, bias=True)\n",
       "  (hidden_to_output): Linear(in_features=50, out_features=30, bias=True)\n",
       ")"
      ]
     },
     "execution_count": 23,
     "metadata": {},
     "output_type": "execute_result"
    }
   ],
   "source": [
    "class LMModel2(Module):\n",
    "    def __init__(self, vocab_sz, n_hidden):\n",
    "        self.input_to_embed = nn.Embedding(vocab_sz, n_hidden)  \n",
    "        self.embed_to_hidden = nn.Linear(n_hidden, n_hidden)     \n",
    "        self.hidden_to_output = nn.Linear(n_hidden,vocab_sz)\n",
    "        \n",
    "    def forward(self, x):\n",
    "        # we don't need this but just to make it explicity\n",
    "        # that h is reinitialized at every call to forward()\n",
    "        h = 0\n",
    "\n",
    "        # the loop here represent not the layers\n",
    "        # but the number of tokens in the sequence\n",
    "        for i in range(3):\n",
    "            \n",
    "            h = h + self.input_to_embed(x[:,i])\n",
    "            h = F.relu(self.embed_to_hidden(h))\n",
    "        return self.hidden_to_output(h)\n",
    "    \n",
    "model = LMModel2(len(vocab), 50)\n",
    "model"
   ]
  },
  {
   "cell_type": "code",
   "execution_count": 25,
   "metadata": {},
   "outputs": [
    {
     "data": {
      "text/html": [
       "\n",
       "<style>\n",
       "    /* Turns off some styling */\n",
       "    progress {\n",
       "        /* gets rid of default border in Firefox and Opera. */\n",
       "        border: none;\n",
       "        /* Needs to be in here for Safari polyfill so background images work as expected. */\n",
       "        background-size: auto;\n",
       "    }\n",
       "    progress:not([value]), progress:not([value])::-webkit-progress-bar {\n",
       "        background: repeating-linear-gradient(45deg, #7e7e7e, #7e7e7e 10px, #5c5c5c 10px, #5c5c5c 20px);\n",
       "    }\n",
       "    .progress-bar-interrupted, .progress-bar-interrupted::-webkit-progress-bar {\n",
       "        background: #F44336;\n",
       "    }\n",
       "</style>\n"
      ],
      "text/plain": [
       "<IPython.core.display.HTML object>"
      ]
     },
     "metadata": {},
     "output_type": "display_data"
    },
    {
     "data": {
      "text/html": [
       "<table border=\"1\" class=\"dataframe\">\n",
       "  <thead>\n",
       "    <tr style=\"text-align: left;\">\n",
       "      <th>epoch</th>\n",
       "      <th>train_loss</th>\n",
       "      <th>valid_loss</th>\n",
       "      <th>accuracy</th>\n",
       "      <th>time</th>\n",
       "    </tr>\n",
       "  </thead>\n",
       "  <tbody>\n",
       "    <tr>\n",
       "      <td>0</td>\n",
       "      <td>1.988599</td>\n",
       "      <td>1.935852</td>\n",
       "      <td>0.458997</td>\n",
       "      <td>00:08</td>\n",
       "    </tr>\n",
       "    <tr>\n",
       "      <td>1</td>\n",
       "      <td>1.460923</td>\n",
       "      <td>1.794153</td>\n",
       "      <td>0.465890</td>\n",
       "      <td>00:10</td>\n",
       "    </tr>\n",
       "    <tr>\n",
       "      <td>2</td>\n",
       "      <td>1.438169</td>\n",
       "      <td>1.711949</td>\n",
       "      <td>0.484668</td>\n",
       "      <td>00:14</td>\n",
       "    </tr>\n",
       "    <tr>\n",
       "      <td>3</td>\n",
       "      <td>1.400839</td>\n",
       "      <td>1.725397</td>\n",
       "      <td>0.445448</td>\n",
       "      <td>00:25</td>\n",
       "    </tr>\n",
       "  </tbody>\n",
       "</table>"
      ],
      "text/plain": [
       "<IPython.core.display.HTML object>"
      ]
     },
     "metadata": {},
     "output_type": "display_data"
    }
   ],
   "source": [
    "learn = Learner(dls, model, loss_func=F.cross_entropy, \n",
    "                metrics=accuracy)\n",
    "learn.fit_one_cycle(4, 1e-3)"
   ]
  },
  {
   "cell_type": "code",
   "execution_count": 128,
   "metadata": {},
   "outputs": [
    {
     "data": {
      "text/html": [
       "<div>\n",
       "<style scoped>\n",
       "    .dataframe tbody tr th:only-of-type {\n",
       "        vertical-align: middle;\n",
       "    }\n",
       "\n",
       "    .dataframe tbody tr th {\n",
       "        vertical-align: top;\n",
       "    }\n",
       "\n",
       "    .dataframe thead th {\n",
       "        text-align: right;\n",
       "    }\n",
       "</style>\n",
       "<table border=\"1\" class=\"dataframe\">\n",
       "  <thead>\n",
       "    <tr style=\"text-align: right;\">\n",
       "      <th></th>\n",
       "      <th></th>\n",
       "    </tr>\n",
       "  </thead>\n",
       "  <tbody>\n",
       "    <tr>\n",
       "      <th>LMModel2 - stateless</th>\n",
       "      <td>0.4361777901649475</td>\n",
       "    </tr>\n",
       "  </tbody>\n",
       "</table>\n",
       "</div>"
      ],
      "text/plain": [
       "                                        \n",
       "LMModel2 - stateless  0.4361777901649475"
      ]
     },
     "execution_count": 128,
     "metadata": {},
     "output_type": "execute_result"
    }
   ],
   "source": [
    "track_results('LMModel2 - stateless', learn.recorder.log[-2], reset=True)"
   ]
  },
  {
   "cell_type": "markdown",
   "metadata": {},
   "source": [
    "# Improving the RNN"
   ]
  },
  {
   "cell_type": "markdown",
   "metadata": {},
   "source": [
    "What's going on? Look at forward pass:\n",
    "```python\n",
    " def forward(self, x):\n",
    "        h = 0\n",
    "        for i in range(3):\n",
    "            h = h + self.input_to_embed(x[:,i])\n",
    "            h = F.relu(self.embed_to_hidden(h))\n",
    "        return self.hidden_to_output(h)\n",
    "```\n",
    "\n",
    "__Problem1: h is reinitialized__\n",
    "- h is reinitialized to 0 every time\n",
    "\n",
    "__Problem2:__\n",
    "- why only predict the 4th word when we could use the intermediate predictions to also predict the 2nd and 3rd word?\n",
    "\n",
    "Let's see how to implement those changes"
   ]
  },
  {
   "cell_type": "markdown",
   "metadata": {},
   "source": [
    "### Maintaining the State of an RNN"
   ]
  },
  {
   "cell_type": "code",
   "execution_count": 41,
   "metadata": {},
   "outputs": [
    {
     "data": {
      "text/plain": [
       "LMModel3(\n",
       "  (input_to_embed): Embedding(30, 50)\n",
       "  (embed_to_hidden): Linear(in_features=50, out_features=50, bias=True)\n",
       "  (hidden_to_output): Linear(in_features=50, out_features=30, bias=True)\n",
       ")"
      ]
     },
     "execution_count": 41,
     "metadata": {},
     "output_type": "execute_result"
    }
   ],
   "source": [
    "class LMModel3(Module):\n",
    "    def __init__(self, vocab_sz, n_hidden):\n",
    "        self.input_to_embed = nn.Embedding(vocab_sz, n_hidden)  \n",
    "        self.embed_to_hidden = nn.Linear(n_hidden, n_hidden)     \n",
    "        self.hidden_to_output = nn.Linear(n_hidden,vocab_sz)\n",
    "        self.h = 0\n",
    "        \n",
    "    def forward(self, x):\n",
    "        for i in range(3):\n",
    "            self.h = self.h + self.input_to_embed(x[:,i])\n",
    "            self.h = F.relu(self.embed_to_hidden(self.h))\n",
    "        output = self.hidden_to_output(self.h)\n",
    "        self.h = self.h.detach()\n",
    "        return output\n",
    "    \n",
    "    def reset(self): self.h = 0\n",
    "\n",
    "model = LMModel3(len(vocab), 50)\n",
    "model"
   ]
  },
  {
   "cell_type": "markdown",
   "metadata": {},
   "source": [
    "what does the state of the model represent?"
   ]
  },
  {
   "cell_type": "code",
   "execution_count": 39,
   "metadata": {},
   "outputs": [
    {
     "data": {
      "text/plain": [
       "device(type='cpu')"
      ]
     },
     "execution_count": 39,
     "metadata": {},
     "output_type": "execute_result"
    }
   ],
   "source": [
    "train_x.device"
   ]
  },
  {
   "cell_type": "code",
   "execution_count": 42,
   "metadata": {},
   "outputs": [],
   "source": [
    "# r = model(train_x)\n",
    "# model.h.shape, model.h"
   ]
  },
  {
   "cell_type": "markdown",
   "metadata": {},
   "source": [
    "what does the result of forward() represents?"
   ]
  },
  {
   "cell_type": "markdown",
   "metadata": {},
   "source": [
    "why is the result of forward() and model.h different? what do each represent?"
   ]
  },
  {
   "cell_type": "markdown",
   "metadata": {},
   "source": [
    "### Chaining Chunks Properly"
   ]
  },
  {
   "cell_type": "code",
   "execution_count": 30,
   "metadata": {},
   "outputs": [],
   "source": [
    "# just some debug helpers\n",
    "def num_to_vocab(tns):\n",
    "    if tns.dim() == 0:\n",
    "        return vocab[tns.item()]\n",
    "    else:\n",
    "        return [vocab[o] for o in tns]\n",
    "\n",
    "def debug_tuple_batch(samples, max_n=3):\n",
    "    bs = len(samples[0])\n",
    "    ctxs = get_empty_df(min(bs, max_n))\n",
    "    for i,ctx in enumerate(ctxs):\n",
    "        ctx['text'] = ' '.join([vocab[o] for o in samples[0][i]])\n",
    "        ctx['target'] = vocab[samples[1][i]]\n",
    "        if i == max_n: break\n",
    "    display_df(pd.DataFrame(ctxs))\n",
    "\n",
    "def debug_two_batches(dataset):\n",
    "    iter_dls = iter(dataset)\n",
    "    first_batch = next(iter_dls)\n",
    "    second_batch = next(iter_dls)\n",
    "\n",
    "    debug_tuple_batch(first_batch)\n",
    "    debug_tuple_batch(second_batch)"
   ]
  },
  {
   "cell_type": "markdown",
   "metadata": {},
   "source": [
    "__Let's recap how we are feeding data to the model__"
   ]
  },
  {
   "cell_type": "code",
   "execution_count": 31,
   "metadata": {},
   "outputs": [
    {
     "data": {
      "text/html": [
       "<table border=\"1\" class=\"dataframe\">\n",
       "  <thead>\n",
       "    <tr style=\"text-align: right;\">\n",
       "      <th></th>\n",
       "      <th>text</th>\n",
       "      <th>target</th>\n",
       "    </tr>\n",
       "  </thead>\n",
       "  <tbody>\n",
       "    <tr>\n",
       "      <th>0</th>\n",
       "      <td>one . two</td>\n",
       "      <td>.</td>\n",
       "    </tr>\n",
       "    <tr>\n",
       "      <th>1</th>\n",
       "      <td>. three .</td>\n",
       "      <td>four</td>\n",
       "    </tr>\n",
       "    <tr>\n",
       "      <th>2</th>\n",
       "      <td>four . five</td>\n",
       "      <td>.</td>\n",
       "    </tr>\n",
       "  </tbody>\n",
       "</table>"
      ],
      "text/plain": [
       "<IPython.core.display.HTML object>"
      ]
     },
     "metadata": {},
     "output_type": "display_data"
    },
    {
     "data": {
      "text/html": [
       "<table border=\"1\" class=\"dataframe\">\n",
       "  <thead>\n",
       "    <tr style=\"text-align: right;\">\n",
       "      <th></th>\n",
       "      <th>text</th>\n",
       "      <th>target</th>\n",
       "    </tr>\n",
       "  </thead>\n",
       "  <tbody>\n",
       "    <tr>\n",
       "      <th>0</th>\n",
       "      <td>three . seventy</td>\n",
       "      <td>four</td>\n",
       "    </tr>\n",
       "    <tr>\n",
       "      <th>1</th>\n",
       "      <td>four . seventy</td>\n",
       "      <td>five</td>\n",
       "    </tr>\n",
       "    <tr>\n",
       "      <th>2</th>\n",
       "      <td>five . seventy</td>\n",
       "      <td>six</td>\n",
       "    </tr>\n",
       "  </tbody>\n",
       "</table>"
      ],
      "text/plain": [
       "<IPython.core.display.HTML object>"
      ]
     },
     "metadata": {},
     "output_type": "display_data"
    }
   ],
   "source": [
    "debug_two_batches(dls.train)"
   ]
  },
  {
   "cell_type": "markdown",
   "metadata": {},
   "source": [
    "__What's wrong?__\n",
    "Remember that we are now keeping a state for each row, so we want the next batch to start from where it was before:\n",
    "- batch 1 row 1 -> batch 2 row 1\n",
    "- batch 1 row 2 -> batch 2 row 2\n",
    "- etc."
   ]
  },
  {
   "cell_type": "code",
   "execution_count": 32,
   "metadata": {},
   "outputs": [],
   "source": [
    "bs = 64\n",
    "split = int(len(seqs) * 0.8)"
   ]
  },
  {
   "cell_type": "code",
   "execution_count": 33,
   "metadata": {},
   "outputs": [
    {
     "data": {
      "text/plain": [
       "(#16768) [(tensor([0, 1, 2]), 1),(tensor([11,  1,  2]), 28),(tensor([25,  7,  1]), 3),(tensor([5, 1, 5]), 28),(tensor([28, 12,  1]), 7),(tensor([ 8, 28, 25]), 8),(tensor([29, 22,  6]), 1),(tensor([28, 25,  8]), 1),(tensor([29,  2, 28]), 27),(tensor([13,  1,  0]), 29)...]"
      ]
     },
     "execution_count": 33,
     "metadata": {},
     "output_type": "execute_result"
    }
   ],
   "source": [
    "m = len(seqs)//bs\n",
    "m,bs,len(seqs)\n",
    "\n",
    "def group_chunks(ds, bs):\n",
    "    m = len(ds) // bs\n",
    "    new_ds = L()\n",
    "    for i in range(m): new_ds += L(ds[i + m*j] for j in range(bs))\n",
    "    return new_ds\n",
    "\n",
    "group_chunks(seqs[:split], bs)"
   ]
  },
  {
   "cell_type": "code",
   "execution_count": 35,
   "metadata": {},
   "outputs": [
    {
     "data": {
      "text/html": [
       "<table border=\"1\" class=\"dataframe\">\n",
       "  <thead>\n",
       "    <tr style=\"text-align: right;\">\n",
       "      <th></th>\n",
       "      <th>text</th>\n",
       "      <th>target</th>\n",
       "    </tr>\n",
       "  </thead>\n",
       "  <tbody>\n",
       "    <tr>\n",
       "      <th>0</th>\n",
       "      <td>one . two</td>\n",
       "      <td>.</td>\n",
       "    </tr>\n",
       "    <tr>\n",
       "      <th>1</th>\n",
       "      <td>eleven . two</td>\n",
       "      <td>hundred</td>\n",
       "    </tr>\n",
       "    <tr>\n",
       "      <th>2</th>\n",
       "      <td>seventy seven .</td>\n",
       "      <td>three</td>\n",
       "    </tr>\n",
       "  </tbody>\n",
       "</table>"
      ],
      "text/plain": [
       "<IPython.core.display.HTML object>"
      ]
     },
     "metadata": {},
     "output_type": "display_data"
    },
    {
     "data": {
      "text/html": [
       "<table border=\"1\" class=\"dataframe\">\n",
       "  <thead>\n",
       "    <tr style=\"text-align: right;\">\n",
       "      <th></th>\n",
       "      <th>text</th>\n",
       "      <th>target</th>\n",
       "    </tr>\n",
       "  </thead>\n",
       "  <tbody>\n",
       "    <tr>\n",
       "      <th>0</th>\n",
       "      <td>. three .</td>\n",
       "      <td>four</td>\n",
       "    </tr>\n",
       "    <tr>\n",
       "      <th>1</th>\n",
       "      <td>hundred twelve .</td>\n",
       "      <td>two</td>\n",
       "    </tr>\n",
       "    <tr>\n",
       "      <th>2</th>\n",
       "      <td>three hundred seventy</td>\n",
       "      <td>eight</td>\n",
       "    </tr>\n",
       "  </tbody>\n",
       "</table>"
      ],
      "text/plain": [
       "<IPython.core.display.HTML object>"
      ]
     },
     "metadata": {},
     "output_type": "display_data"
    }
   ],
   "source": [
    "# one last thing is to call drop_last = True, because last chunk might not be long enough\n",
    "dls = DataLoaders.from_dsets(\n",
    "    group_chunks(seqs[:split], bs), \n",
    "    group_chunks(seqs[split:], bs),\n",
    "    bs=bs, drop_last=True, shuffle=False)\n",
    "\n",
    "debug_two_batches(dls.train)"
   ]
  },
  {
   "cell_type": "code",
   "execution_count": 43,
   "metadata": {},
   "outputs": [
    {
     "data": {
      "text/html": [
       "\n",
       "<style>\n",
       "    /* Turns off some styling */\n",
       "    progress {\n",
       "        /* gets rid of default border in Firefox and Opera. */\n",
       "        border: none;\n",
       "        /* Needs to be in here for Safari polyfill so background images work as expected. */\n",
       "        background-size: auto;\n",
       "    }\n",
       "    progress:not([value]), progress:not([value])::-webkit-progress-bar {\n",
       "        background: repeating-linear-gradient(45deg, #7e7e7e, #7e7e7e 10px, #5c5c5c 10px, #5c5c5c 20px);\n",
       "    }\n",
       "    .progress-bar-interrupted, .progress-bar-interrupted::-webkit-progress-bar {\n",
       "        background: #F44336;\n",
       "    }\n",
       "</style>\n"
      ],
      "text/plain": [
       "<IPython.core.display.HTML object>"
      ]
     },
     "metadata": {},
     "output_type": "display_data"
    },
    {
     "data": {
      "text/html": [
       "<table border=\"1\" class=\"dataframe\">\n",
       "  <thead>\n",
       "    <tr style=\"text-align: left;\">\n",
       "      <th>epoch</th>\n",
       "      <th>train_loss</th>\n",
       "      <th>valid_loss</th>\n",
       "      <th>accuracy</th>\n",
       "      <th>time</th>\n",
       "    </tr>\n",
       "  </thead>\n",
       "  <tbody>\n",
       "    <tr>\n",
       "      <td>0</td>\n",
       "      <td>1.791531</td>\n",
       "      <td>1.941288</td>\n",
       "      <td>0.450000</td>\n",
       "      <td>00:12</td>\n",
       "    </tr>\n",
       "    <tr>\n",
       "      <td>1</td>\n",
       "      <td>1.358283</td>\n",
       "      <td>1.885019</td>\n",
       "      <td>0.394712</td>\n",
       "      <td>00:12</td>\n",
       "    </tr>\n",
       "    <tr>\n",
       "      <td>2</td>\n",
       "      <td>1.115887</td>\n",
       "      <td>1.770902</td>\n",
       "      <td>0.437740</td>\n",
       "      <td>00:12</td>\n",
       "    </tr>\n",
       "    <tr>\n",
       "      <td>3</td>\n",
       "      <td>1.032673</td>\n",
       "      <td>1.537765</td>\n",
       "      <td>0.519712</td>\n",
       "      <td>00:13</td>\n",
       "    </tr>\n",
       "    <tr>\n",
       "      <td>4</td>\n",
       "      <td>0.971527</td>\n",
       "      <td>1.452277</td>\n",
       "      <td>0.566587</td>\n",
       "      <td>00:13</td>\n",
       "    </tr>\n",
       "    <tr>\n",
       "      <td>5</td>\n",
       "      <td>0.938112</td>\n",
       "      <td>1.632869</td>\n",
       "      <td>0.537260</td>\n",
       "      <td>00:11</td>\n",
       "    </tr>\n",
       "    <tr>\n",
       "      <td>6</td>\n",
       "      <td>0.877660</td>\n",
       "      <td>1.576912</td>\n",
       "      <td>0.581010</td>\n",
       "      <td>00:13</td>\n",
       "    </tr>\n",
       "    <tr>\n",
       "      <td>7</td>\n",
       "      <td>0.835049</td>\n",
       "      <td>1.544586</td>\n",
       "      <td>0.592548</td>\n",
       "      <td>00:11</td>\n",
       "    </tr>\n",
       "    <tr>\n",
       "      <td>8</td>\n",
       "      <td>0.802555</td>\n",
       "      <td>1.573149</td>\n",
       "      <td>0.590144</td>\n",
       "      <td>00:12</td>\n",
       "    </tr>\n",
       "    <tr>\n",
       "      <td>9</td>\n",
       "      <td>0.790295</td>\n",
       "      <td>1.589208</td>\n",
       "      <td>0.590865</td>\n",
       "      <td>00:12</td>\n",
       "    </tr>\n",
       "  </tbody>\n",
       "</table>"
      ],
      "text/plain": [
       "<IPython.core.display.HTML object>"
      ]
     },
     "metadata": {},
     "output_type": "display_data"
    }
   ],
   "source": [
    "# The last thing we add is a little tweak of the training loop via a Callback.\n",
    "# this one will call the reset method of our model at the beginning of each epoch and before each validation phase.\n",
    "#\n",
    "# Since we implemented that method to zero the hidden state of the model,\n",
    "# this will make sure we start with a clean state before reading those continuous chunks of text.\n",
    "# We can also start training a bit longer:\n",
    "learn = Learner(dls, model, loss_func=F.cross_entropy,\n",
    "                metrics=accuracy, cbs=[ModelResetter,ActivationStats(with_hist=True)])\n",
    "learn.fit_one_cycle(10, 3e-3)"
   ]
  },
  {
   "cell_type": "code",
   "execution_count": 45,
   "metadata": {},
   "outputs": [
    {
     "data": {
      "image/png": "[encoded data removed]",
      "text/plain": [
       "<Figure size 1200x300 with 3 Axes>"
      ]
     },
     "metadata": {},
     "output_type": "display_data"
    },
    {
     "data": {
      "image/png": "[encoded data removed]",
      "text/plain": [
       "<Figure size 1000x500 with 1 Axes>"
      ]
     },
     "metadata": {},
     "output_type": "display_data"
    },
    {
     "data": {
      "image/png": "[encoded data removed]",
      "text/plain": [
       "<Figure size 1200x300 with 3 Axes>"
      ]
     },
     "metadata": {},
     "output_type": "display_data"
    },
    {
     "data": {
      "image/png": "[encoded data removed]",
      "text/plain": [
       "<Figure size 1000x500 with 1 Axes>"
      ]
     },
     "metadata": {},
     "output_type": "display_data"
    }
   ],
   "source": [
    "learn.activation_stats.plot_layer_stats(0)\n",
    "learn.activation_stats.color_dim(0)\n",
    "learn.activation_stats.plot_layer_stats(-1)\n",
    "learn.activation_stats.color_dim(-1)"
   ]
  },
  {
   "cell_type": "code",
   "execution_count": 46,
   "metadata": {},
   "outputs": [
    {
     "data": {
      "text/html": [
       "<div>\n",
       "<style scoped>\n",
       "    .dataframe tbody tr th:only-of-type {\n",
       "        vertical-align: middle;\n",
       "    }\n",
       "\n",
       "    .dataframe tbody tr th {\n",
       "        vertical-align: top;\n",
       "    }\n",
       "\n",
       "    .dataframe thead th {\n",
       "        text-align: right;\n",
       "    }\n",
       "</style>\n",
       "<table border=\"1\" class=\"dataframe\">\n",
       "  <thead>\n",
       "    <tr style=\"text-align: right;\">\n",
       "      <th></th>\n",
       "      <th></th>\n",
       "    </tr>\n",
       "  </thead>\n",
       "  <tbody>\n",
       "    <tr>\n",
       "      <th>LMModel3 - Stateful RNN</th>\n",
       "      <td>0.5908653736114502</td>\n",
       "    </tr>\n",
       "  </tbody>\n",
       "</table>\n",
       "</div>"
      ],
      "text/plain": [
       "                                           \n",
       "LMModel3 - Stateful RNN  0.5908653736114502"
      ]
     },
     "execution_count": 46,
     "metadata": {},
     "output_type": "execute_result"
    }
   ],
   "source": [
    "track_results('LMModel3 - Stateful RNN', learn.recorder.log[-2])"
   ]
  },
  {
   "cell_type": "markdown",
   "metadata": {},
   "source": [
    "### Creating More Signal To Get To The Point Of Overfitting"
   ]
  },
  {
   "cell_type": "markdown",
   "metadata": {},
   "source": [
    "The first rule of training, is always to get to a point where you overfit.\n",
    "\n",
    "We are still not overfitting, meaning we need to ask more, we need to ask something harder from our model.\n",
    "> In terms of optimization, it means there is not enough feeding back enough signal to update weights.\n",
    "\n",
    "Instead of asking to predict every 4th word, let's ask it to predict the next word. "
   ]
  },
  {
   "cell_type": "code",
   "execution_count": 47,
   "metadata": {},
   "outputs": [
    {
     "data": {
      "text/html": [
       "<table border=\"1\" class=\"dataframe\">\n",
       "  <thead>\n",
       "    <tr style=\"text-align: right;\">\n",
       "      <th></th>\n",
       "      <th>text</th>\n",
       "      <th>target</th>\n",
       "    </tr>\n",
       "  </thead>\n",
       "  <tbody>\n",
       "    <tr>\n",
       "      <th>0</th>\n",
       "      <td>one . two . three . four . five . six . seven . eight .</td>\n",
       "      <td>[., two, ., three, ., four, ., five, ., six, ., seven, ., eight, ., nine]</td>\n",
       "    </tr>\n",
       "    <tr>\n",
       "      <th>1</th>\n",
       "      <td>two hundred eleven . two hundred twelve . two hundred thirteen . two hundred fourteen .</td>\n",
       "      <td>[hundred, eleven, ., two, hundred, twelve, ., two, hundred, thirteen, ., two, hundred, fourteen, ., two]</td>\n",
       "    </tr>\n",
       "    <tr>\n",
       "      <th>2</th>\n",
       "      <td>six . three hundred seventy seven . three hundred seventy eight . three hundred seventy nine</td>\n",
       "      <td>[., three, hundred, seventy, seven, ., three, hundred, seventy, eight, ., three, hundred, seventy, nine, .]</td>\n",
       "    </tr>\n",
       "  </tbody>\n",
       "</table>"
      ],
      "text/plain": [
       "<IPython.core.display.HTML object>"
      ]
     },
     "metadata": {},
     "output_type": "display_data"
    },
    {
     "data": {
      "text/html": [
       "<table border=\"1\" class=\"dataframe\">\n",
       "  <thead>\n",
       "    <tr style=\"text-align: right;\">\n",
       "      <th></th>\n",
       "      <th>text</th>\n",
       "      <th>target</th>\n",
       "    </tr>\n",
       "  </thead>\n",
       "  <tbody>\n",
       "    <tr>\n",
       "      <th>0</th>\n",
       "      <td>nine . ten . eleven . twelve . thirteen . fourteen . fifteen . sixteen .</td>\n",
       "      <td>[., ten, ., eleven, ., twelve, ., thirteen, ., fourteen, ., fifteen, ., sixteen, ., seventeen]</td>\n",
       "    </tr>\n",
       "    <tr>\n",
       "      <th>1</th>\n",
       "      <td>two hundred fifteen . two hundred sixteen . two hundred seventeen . two hundred eighteen .</td>\n",
       "      <td>[hundred, fifteen, ., two, hundred, sixteen, ., two, hundred, seventeen, ., two, hundred, eighteen, ., two]</td>\n",
       "    </tr>\n",
       "    <tr>\n",
       "      <th>2</th>\n",
       "      <td>. three hundred eighty . three hundred eighty one . three hundred eighty two . three</td>\n",
       "      <td>[three, hundred, eighty, ., three, hundred, eighty, one, ., three, hundred, eighty, two, ., three, hundred]</td>\n",
       "    </tr>\n",
       "  </tbody>\n",
       "</table>"
      ],
      "text/plain": [
       "<IPython.core.display.HTML object>"
      ]
     },
     "metadata": {},
     "output_type": "display_data"
    }
   ],
   "source": [
    "# preparing x and y\n",
    "sequence_length = 16\n",
    "seqs = L((tensor(nums[i:i+sequence_length]), tensor(nums[i+1:i+sequence_length+1]))\n",
    "         for i in range(0,len(nums)-sequence_length-1,sequence_length))\n",
    "\n",
    "split = int(len(seqs) * 0.8)\n",
    "dls = DataLoaders.from_dsets(group_chunks(seqs[:split], bs),\n",
    "                             group_chunks(seqs[split:], bs),\n",
    "                             bs=bs, drop_last=True, shuffle=False)\n",
    "dls.vocab = vocab\n",
    "\n",
    "debug_two_batches(dls.train)"
   ]
  },
  {
   "cell_type": "code",
   "execution_count": 49,
   "metadata": {},
   "outputs": [
    {
     "data": {
      "text/plain": [
       "[(#16) ['one','.','two','.','three','.','four','.','five','.'...],\n",
       " (#16) ['.','two','.','three','.','four','.','five','.','six'...]]"
      ]
     },
     "execution_count": 49,
     "metadata": {},
     "output_type": "execute_result"
    }
   ],
   "source": [
    "[L(vocab[o] for o in s) for s in seqs[0]]"
   ]
  },
  {
   "cell_type": "code",
   "execution_count": 50,
   "metadata": {},
   "outputs": [
    {
     "data": {
      "text/plain": [
       "(torch.Size([64, 16]), torch.Size([64, 16]))"
      ]
     },
     "execution_count": 50,
     "metadata": {},
     "output_type": "execute_result"
    }
   ],
   "source": [
    "x, y = dls.one_batch()\n",
    "x.shape, y.shape"
   ]
  },
  {
   "cell_type": "markdown",
   "metadata": {},
   "source": [
    "Two changes:\n",
    "- We increased the length of the sequence\n",
    "- The target is not a single word anymore, but a whole sequence offset by 1 (why can't we just ask for one word instead of a sequence)"
   ]
  },
  {
   "cell_type": "code",
   "execution_count": 51,
   "metadata": {},
   "outputs": [],
   "source": [
    "class LMModel4(Module):\n",
    "    def __init__(self, vocab_sz, n_hidden, sequence_length):\n",
    "        self.sequence_length = sequence_length\n",
    "        self.input_to_embed = nn.Embedding(vocab_sz, n_hidden)  \n",
    "        self.embed_to_hidden = nn.Linear(n_hidden, n_hidden)     \n",
    "        self.hidden_to_output = nn.Linear(n_hidden,vocab_sz)\n",
    "        self.h = 0\n",
    "        \n",
    "    def forward(self, x):\n",
    "        output = []\n",
    "        # we are going token by token in the sequence\n",
    "        for i in range(sequence_length):\n",
    "            # we get the embedding for that token\n",
    "            self.h = self.h + self.input_to_embed(x[:,i])\n",
    "            # we feed that to the hidden layer to get an activation\n",
    "            self.h = F.relu(self.embed_to_hidden(self.h))\n",
    "            # finally we pick a token from the output layer\n",
    "            # bam we added our first token to the output sequence\n",
    "            output.append(self.hidden_to_output(self.h))\n",
    "        self.h = self.h.detach()\n",
    "        # ask yourself why do we need that\n",
    "        return torch.stack(output, dim=1)\n",
    "    \n",
    "    def reset(self): self.h = 0\n",
    "\n",
    "model = LMModel4(len(vocab), 50, sequence_length)\n"
   ]
  },
  {
   "cell_type": "code",
   "execution_count": 52,
   "metadata": {},
   "outputs": [
    {
     "data": {
      "text/plain": [
       "torch.Size([64, 16, 30])"
      ]
     },
     "execution_count": 52,
     "metadata": {},
     "output_type": "execute_result"
    }
   ],
   "source": [
    "# can you guess what's the output shape of forward?\n",
    "model(x).shape"
   ]
  },
  {
   "cell_type": "code",
   "execution_count": 53,
   "metadata": {},
   "outputs": [],
   "source": [
    "# do you remember what should be the shapes of inp and targ? here?\n",
    "def loss_func(inp, targ):\n",
    "    # print(inp.shape, targ.shape)\n",
    "    return F.cross_entropy(inp.view(-1, len(vocab)), targ.view(-1))"
   ]
  },
  {
   "cell_type": "code",
   "execution_count": 54,
   "metadata": {},
   "outputs": [
    {
     "data": {
      "text/html": [
       "\n",
       "<style>\n",
       "    /* Turns off some styling */\n",
       "    progress {\n",
       "        /* gets rid of default border in Firefox and Opera. */\n",
       "        border: none;\n",
       "        /* Needs to be in here for Safari polyfill so background images work as expected. */\n",
       "        background-size: auto;\n",
       "    }\n",
       "    progress:not([value]), progress:not([value])::-webkit-progress-bar {\n",
       "        background: repeating-linear-gradient(45deg, #7e7e7e, #7e7e7e 10px, #5c5c5c 10px, #5c5c5c 20px);\n",
       "    }\n",
       "    .progress-bar-interrupted, .progress-bar-interrupted::-webkit-progress-bar {\n",
       "        background: #F44336;\n",
       "    }\n",
       "</style>\n"
      ],
      "text/plain": [
       "<IPython.core.display.HTML object>"
      ]
     },
     "metadata": {},
     "output_type": "display_data"
    },
    {
     "data": {
      "text/html": [
       "<table border=\"1\" class=\"dataframe\">\n",
       "  <thead>\n",
       "    <tr style=\"text-align: left;\">\n",
       "      <th>epoch</th>\n",
       "      <th>train_loss</th>\n",
       "      <th>valid_loss</th>\n",
       "      <th>accuracy</th>\n",
       "      <th>time</th>\n",
       "    </tr>\n",
       "  </thead>\n",
       "  <tbody>\n",
       "    <tr>\n",
       "      <td>0</td>\n",
       "      <td>3.260197</td>\n",
       "      <td>3.108436</td>\n",
       "      <td>0.157145</td>\n",
       "      <td>00:05</td>\n",
       "    </tr>\n",
       "    <tr>\n",
       "      <td>1</td>\n",
       "      <td>2.534969</td>\n",
       "      <td>1.957451</td>\n",
       "      <td>0.451904</td>\n",
       "      <td>00:05</td>\n",
       "    </tr>\n",
       "    <tr>\n",
       "      <td>2</td>\n",
       "      <td>1.827447</td>\n",
       "      <td>1.792214</td>\n",
       "      <td>0.475098</td>\n",
       "      <td>00:05</td>\n",
       "    </tr>\n",
       "    <tr>\n",
       "      <td>3</td>\n",
       "      <td>1.505731</td>\n",
       "      <td>1.756495</td>\n",
       "      <td>0.504150</td>\n",
       "      <td>00:04</td>\n",
       "    </tr>\n",
       "    <tr>\n",
       "      <td>4</td>\n",
       "      <td>1.335382</td>\n",
       "      <td>1.790762</td>\n",
       "      <td>0.522542</td>\n",
       "      <td>00:05</td>\n",
       "    </tr>\n",
       "    <tr>\n",
       "      <td>5</td>\n",
       "      <td>1.231626</td>\n",
       "      <td>1.803264</td>\n",
       "      <td>0.524251</td>\n",
       "      <td>00:05</td>\n",
       "    </tr>\n",
       "    <tr>\n",
       "      <td>6</td>\n",
       "      <td>1.146055</td>\n",
       "      <td>2.032609</td>\n",
       "      <td>0.541097</td>\n",
       "      <td>00:04</td>\n",
       "    </tr>\n",
       "    <tr>\n",
       "      <td>7</td>\n",
       "      <td>1.080976</td>\n",
       "      <td>2.185641</td>\n",
       "      <td>0.516195</td>\n",
       "      <td>00:05</td>\n",
       "    </tr>\n",
       "    <tr>\n",
       "      <td>8</td>\n",
       "      <td>1.031717</td>\n",
       "      <td>2.191043</td>\n",
       "      <td>0.544027</td>\n",
       "      <td>00:05</td>\n",
       "    </tr>\n",
       "    <tr>\n",
       "      <td>9</td>\n",
       "      <td>0.991187</td>\n",
       "      <td>2.347391</td>\n",
       "      <td>0.542155</td>\n",
       "      <td>00:04</td>\n",
       "    </tr>\n",
       "    <tr>\n",
       "      <td>10</td>\n",
       "      <td>0.947286</td>\n",
       "      <td>2.366549</td>\n",
       "      <td>0.554525</td>\n",
       "      <td>00:04</td>\n",
       "    </tr>\n",
       "    <tr>\n",
       "      <td>11</td>\n",
       "      <td>0.914964</td>\n",
       "      <td>2.433228</td>\n",
       "      <td>0.561279</td>\n",
       "      <td>00:05</td>\n",
       "    </tr>\n",
       "    <tr>\n",
       "      <td>12</td>\n",
       "      <td>0.887329</td>\n",
       "      <td>2.537990</td>\n",
       "      <td>0.557292</td>\n",
       "      <td>00:04</td>\n",
       "    </tr>\n",
       "    <tr>\n",
       "      <td>13</td>\n",
       "      <td>0.868563</td>\n",
       "      <td>2.526248</td>\n",
       "      <td>0.558431</td>\n",
       "      <td>00:05</td>\n",
       "    </tr>\n",
       "    <tr>\n",
       "      <td>14</td>\n",
       "      <td>0.857967</td>\n",
       "      <td>2.539009</td>\n",
       "      <td>0.554606</td>\n",
       "      <td>00:05</td>\n",
       "    </tr>\n",
       "  </tbody>\n",
       "</table>"
      ],
      "text/plain": [
       "<IPython.core.display.HTML object>"
      ]
     },
     "metadata": {},
     "output_type": "display_data"
    },
    {
     "data": {
      "text/html": [
       "<div>\n",
       "<style scoped>\n",
       "    .dataframe tbody tr th:only-of-type {\n",
       "        vertical-align: middle;\n",
       "    }\n",
       "\n",
       "    .dataframe tbody tr th {\n",
       "        vertical-align: top;\n",
       "    }\n",
       "\n",
       "    .dataframe thead th {\n",
       "        text-align: right;\n",
       "    }\n",
       "</style>\n",
       "<table border=\"1\" class=\"dataframe\">\n",
       "  <thead>\n",
       "    <tr style=\"text-align: right;\">\n",
       "      <th></th>\n",
       "      <th></th>\n",
       "    </tr>\n",
       "  </thead>\n",
       "  <tbody>\n",
       "    <tr>\n",
       "      <th>LMModel3 - Stateful RNN</th>\n",
       "      <td>0.5908653736114502</td>\n",
       "    </tr>\n",
       "    <tr>\n",
       "      <th>LMModel4 - Sequence To Sequence RNN</th>\n",
       "      <td>0.5546061396598816</td>\n",
       "    </tr>\n",
       "  </tbody>\n",
       "</table>\n",
       "</div>"
      ],
      "text/plain": [
       "                                                       \n",
       "LMModel3 - Stateful RNN              0.5908653736114502\n",
       "LMModel4 - Sequence To Sequence RNN  0.5546061396598816"
      ]
     },
     "execution_count": 54,
     "metadata": {},
     "output_type": "execute_result"
    }
   ],
   "source": [
    "learn = Learner(dls), model, loss_func=loss_func,\n",
    "                metrics=accuracy, cbs=ModelResetter)\n",
    "learn.fit_one_cycle(15, 3e-3)\n",
    "track_results('LMModel4 - Sequence To Sequence RNN', learn.recorder.log[-2])"
   ]
  },
  {
   "cell_type": "markdown",
   "metadata": {},
   "source": [
    "We need to train for longer, since the task has changed a bit and is more complicated now. But we end up with a good result... At least, sometimes. If you run it a few times, you'll see that you can get quite different results on different runs. That's because effectively we have a very deep network here, which can result in very large or very small gradients. We'll see in the next part of this chapter how to deal with this.\n",
    "\n",
    "Now, the obvious way to get a better model is to go deeper: we only have one linear layer between the hidden state and the output activations in our basic RNN, so maybe we'll get better results with more.\n"
   ]
  },
  {
   "cell_type": "markdown",
   "metadata": {},
   "source": [
    "### Why Not Keeping The Label As One Token?"
   ]
  },
  {
   "cell_type": "markdown",
   "metadata": {},
   "source": [
    "# Going Deeper With Multilayer RNNs"
   ]
  },
  {
   "cell_type": "markdown",
   "metadata": {},
   "source": [
    "As we saw earlier, a deeper model = less stable model, we will handle this vanishing gradients problem later.\n",
    "For now, let's see how we can improve even more!\n",
    "The solution is to go deeper!\n",
    "\n",
    "We can do that by stacking multiple RNNs together, PyTorch `RNN` class will help us do that"
   ]
  },
  {
   "cell_type": "code",
   "execution_count": 61,
   "metadata": {},
   "outputs": [],
   "source": [
    "class LMModel5(Module):\n",
    "    def __init__(self, vocab_sz, n_hidden, n_layers):\n",
    "        self.i_h = nn.Embedding(vocab_sz, n_hidden)\n",
    "        self.rnn = nn.RNN(n_hidden, n_hidden, n_layers, batch_first=True)\n",
    "        self.h_o = nn.Linear(n_hidden, vocab_sz)\n",
    "        self.h = torch.zeros(n_layers, bs, n_hidden)\n",
    "        \n",
    "    def forward(self, x):\n",
    "        res,h = self.rnn(self.i_h(x), self.h)\n",
    "        self.h = h.detach()\n",
    "        return self.h_o(res)\n",
    "    \n",
    "    def reset(self): self.h.zero_()\n",
    "\n",
    "model = LMModel5(len(vocab), 64, 2)"
   ]
  },
  {
   "cell_type": "code",
   "execution_count": 62,
   "metadata": {},
   "outputs": [
    {
     "data": {
      "text/html": [
       "\n",
       "<style>\n",
       "    /* Turns off some styling */\n",
       "    progress {\n",
       "        /* gets rid of default border in Firefox and Opera. */\n",
       "        border: none;\n",
       "        /* Needs to be in here for Safari polyfill so background images work as expected. */\n",
       "        background-size: auto;\n",
       "    }\n",
       "    progress:not([value]), progress:not([value])::-webkit-progress-bar {\n",
       "        background: repeating-linear-gradient(45deg, #7e7e7e, #7e7e7e 10px, #5c5c5c 10px, #5c5c5c 20px);\n",
       "    }\n",
       "    .progress-bar-interrupted, .progress-bar-interrupted::-webkit-progress-bar {\n",
       "        background: #F44336;\n",
       "    }\n",
       "</style>\n"
      ],
      "text/plain": [
       "<IPython.core.display.HTML object>"
      ]
     },
     "metadata": {},
     "output_type": "display_data"
    },
    {
     "data": {
      "text/html": [
       "<table border=\"1\" class=\"dataframe\">\n",
       "  <thead>\n",
       "    <tr style=\"text-align: left;\">\n",
       "      <th>epoch</th>\n",
       "      <th>train_loss</th>\n",
       "      <th>valid_loss</th>\n",
       "      <th>accuracy</th>\n",
       "      <th>time</th>\n",
       "    </tr>\n",
       "  </thead>\n",
       "  <tbody>\n",
       "    <tr>\n",
       "      <td>0</td>\n",
       "      <td>3.003863</td>\n",
       "      <td>2.553400</td>\n",
       "      <td>0.467773</td>\n",
       "      <td>00:06</td>\n",
       "    </tr>\n",
       "    <tr>\n",
       "      <td>1</td>\n",
       "      <td>2.120981</td>\n",
       "      <td>1.789022</td>\n",
       "      <td>0.471191</td>\n",
       "      <td>00:06</td>\n",
       "    </tr>\n",
       "    <tr>\n",
       "      <td>2</td>\n",
       "      <td>1.696467</td>\n",
       "      <td>1.837492</td>\n",
       "      <td>0.348958</td>\n",
       "      <td>00:06</td>\n",
       "    </tr>\n",
       "    <tr>\n",
       "      <td>3</td>\n",
       "      <td>1.471004</td>\n",
       "      <td>1.680713</td>\n",
       "      <td>0.470785</td>\n",
       "      <td>00:07</td>\n",
       "    </tr>\n",
       "    <tr>\n",
       "      <td>4</td>\n",
       "      <td>1.291711</td>\n",
       "      <td>1.775995</td>\n",
       "      <td>0.485840</td>\n",
       "      <td>00:07</td>\n",
       "    </tr>\n",
       "    <tr>\n",
       "      <td>5</td>\n",
       "      <td>1.100399</td>\n",
       "      <td>2.022147</td>\n",
       "      <td>0.474854</td>\n",
       "      <td>00:07</td>\n",
       "    </tr>\n",
       "    <tr>\n",
       "      <td>6</td>\n",
       "      <td>0.941022</td>\n",
       "      <td>2.099477</td>\n",
       "      <td>0.488525</td>\n",
       "      <td>00:07</td>\n",
       "    </tr>\n",
       "    <tr>\n",
       "      <td>7</td>\n",
       "      <td>0.802063</td>\n",
       "      <td>2.014339</td>\n",
       "      <td>0.519531</td>\n",
       "      <td>00:07</td>\n",
       "    </tr>\n",
       "    <tr>\n",
       "      <td>8</td>\n",
       "      <td>0.684461</td>\n",
       "      <td>2.031696</td>\n",
       "      <td>0.539307</td>\n",
       "      <td>00:07</td>\n",
       "    </tr>\n",
       "    <tr>\n",
       "      <td>9</td>\n",
       "      <td>0.594140</td>\n",
       "      <td>2.046263</td>\n",
       "      <td>0.543864</td>\n",
       "      <td>00:07</td>\n",
       "    </tr>\n",
       "    <tr>\n",
       "      <td>10</td>\n",
       "      <td>0.527788</td>\n",
       "      <td>2.111178</td>\n",
       "      <td>0.547526</td>\n",
       "      <td>00:07</td>\n",
       "    </tr>\n",
       "    <tr>\n",
       "      <td>11</td>\n",
       "      <td>0.481157</td>\n",
       "      <td>2.104577</td>\n",
       "      <td>0.551676</td>\n",
       "      <td>00:07</td>\n",
       "    </tr>\n",
       "    <tr>\n",
       "      <td>12</td>\n",
       "      <td>0.449054</td>\n",
       "      <td>2.136133</td>\n",
       "      <td>0.553060</td>\n",
       "      <td>00:07</td>\n",
       "    </tr>\n",
       "    <tr>\n",
       "      <td>13</td>\n",
       "      <td>0.430121</td>\n",
       "      <td>2.167197</td>\n",
       "      <td>0.550212</td>\n",
       "      <td>00:07</td>\n",
       "    </tr>\n",
       "    <tr>\n",
       "      <td>14</td>\n",
       "      <td>0.420220</td>\n",
       "      <td>2.154661</td>\n",
       "      <td>0.552409</td>\n",
       "      <td>00:07</td>\n",
       "    </tr>\n",
       "  </tbody>\n",
       "</table>"
      ],
      "text/plain": [
       "<IPython.core.display.HTML object>"
      ]
     },
     "metadata": {},
     "output_type": "display_data"
    },
    {
     "data": {
      "text/html": [
       "<div>\n",
       "<style scoped>\n",
       "    .dataframe tbody tr th:only-of-type {\n",
       "        vertical-align: middle;\n",
       "    }\n",
       "\n",
       "    .dataframe tbody tr th {\n",
       "        vertical-align: top;\n",
       "    }\n",
       "\n",
       "    .dataframe thead th {\n",
       "        text-align: right;\n",
       "    }\n",
       "</style>\n",
       "<table border=\"1\" class=\"dataframe\">\n",
       "  <thead>\n",
       "    <tr style=\"text-align: right;\">\n",
       "      <th></th>\n",
       "      <th></th>\n",
       "    </tr>\n",
       "  </thead>\n",
       "  <tbody>\n",
       "    <tr>\n",
       "      <th>LMModel3 - Stateful RNN</th>\n",
       "      <td>0.5908653736114502</td>\n",
       "    </tr>\n",
       "    <tr>\n",
       "      <th>LMModel4 - Sequence To Sequence RNN</th>\n",
       "      <td>0.5546061396598816</td>\n",
       "    </tr>\n",
       "    <tr>\n",
       "      <th>LMModel5 - Stacked RNNs</th>\n",
       "      <td>0.5524088740348816</td>\n",
       "    </tr>\n",
       "  </tbody>\n",
       "</table>\n",
       "</div>"
      ],
      "text/plain": [
       "                                                       \n",
       "LMModel3 - Stateful RNN              0.5908653736114502\n",
       "LMModel4 - Sequence To Sequence RNN  0.5546061396598816\n",
       "LMModel5 - Stacked RNNs              0.5524088740348816"
      ]
     },
     "execution_count": 62,
     "metadata": {},
     "output_type": "execute_result"
    }
   ],
   "source": [
    "learn = Learner(dls, model, \n",
    "                loss_func=CrossEntropyLossFlat(), \n",
    "                metrics=accuracy, cbs=[ModelResetter,ActivationStats(with_hist=True)])\n",
    "learn.fit_one_cycle(15, 3e-3)\n",
    "track_results('LMModel5 - Stacked RNNs', learn.recorder.log[-2])"
   ]
  },
  {
   "cell_type": "markdown",
   "metadata": {},
   "source": [
    "Now that's disappointing... our previous single-layer RNN performed better. Why? The reason is that we have a deeper model, leading to exploding or vanishing activations."
   ]
  },
  {
   "cell_type": "markdown",
   "metadata": {},
   "source": [
    "Let's take a look at the activation stats"
   ]
  },
  {
   "cell_type": "code",
   "execution_count": 63,
   "metadata": {},
   "outputs": [
    {
     "data": {
      "image/png": "[encoded data removed]",
      "text/plain": [
       "<Figure size 1200x300 with 3 Axes>"
      ]
     },
     "metadata": {},
     "output_type": "display_data"
    },
    {
     "data": {
      "image/png": "[encoded data removed]",
      "text/plain": [
       "<Figure size 1000x500 with 1 Axes>"
      ]
     },
     "metadata": {},
     "output_type": "display_data"
    },
    {
     "data": {
      "image/png": "[encoded data removed]",
      "text/plain": [
       "<Figure size 1200x300 with 3 Axes>"
      ]
     },
     "metadata": {},
     "output_type": "display_data"
    },
    {
     "data": {
      "image/png": "[encoded data removed]",
      "text/plain": [
       "<Figure size 1000x500 with 1 Axes>"
      ]
     },
     "metadata": {},
     "output_type": "display_data"
    }
   ],
   "source": [
    "learn.activation_stats.plot_layer_stats(0)\n",
    "learn.activation_stats.color_dim(0)\n",
    "learn.activation_stats.plot_layer_stats(-1)\n",
    "learn.activation_stats.color_dim(-1)"
   ]
  },
  {
   "cell_type": "markdown",
   "metadata": {},
   "source": [
    "# Building a LSTM From Scratch"
   ]
  },
  {
   "cell_type": "markdown",
   "metadata": {},
   "source": [
    "Understanding the effect of passing through sigmoid and tanh"
   ]
  },
  {
   "cell_type": "code",
   "execution_count": 139,
   "metadata": {},
   "outputs": [
    {
     "data": {
      "text/plain": [
       "tensor([ 0.6248, -2.0750,  1.0938, -0.3075,  0.9561])"
      ]
     },
     "execution_count": 139,
     "metadata": {},
     "output_type": "execute_result"
    }
   ],
   "source": [
    "x = torch.randn(5)\n",
    "l1 = nn.Linear(5, 10)\n",
    "x"
   ]
  },
  {
   "cell_type": "code",
   "execution_count": 140,
   "metadata": {},
   "outputs": [
    {
     "data": {
      "text/plain": [
       "tensor([0.6513, 0.1116, 0.7491, 0.4237, 0.7223])"
      ]
     },
     "execution_count": 140,
     "metadata": {},
     "output_type": "execute_result"
    }
   ],
   "source": [
    "inp1 = torch.sigmoid(x)\n",
    "inp1"
   ]
  },
  {
   "cell_type": "code",
   "execution_count": 141,
   "metadata": {},
   "outputs": [
    {
     "data": {
      "text/plain": [
       "tensor([0.5726, 0.1111, 0.6346, 0.4001, 0.6184])"
      ]
     },
     "execution_count": 141,
     "metadata": {},
     "output_type": "execute_result"
    }
   ],
   "source": [
    "inp2 = torch.tanh(inp1)\n",
    "inp2"
   ]
  },
  {
   "cell_type": "code",
   "execution_count": null,
   "metadata": {},
   "outputs": [],
   "source": [
    "class LSTMCell(Module):\n",
    "    def __init__(self, n_inputs, n_hiddens):\n",
    "        self.forget_gate    = nn.Linear(n_inputs + n_hiddens, n_hiddens)\n",
    "        self.input_gate     = nn.Linear(n_inputs + n_hiddens, n_hiddens)\n",
    "        self.cell_gate      = nn.Linear(n_inputs + n_hiddens, n_hiddens)\n",
    "        self.output_gate    = nn.Linear(n_inputs + n_hiddens, n_hiddens)\n",
    "\n",
    "    def forward(self, input, state):\n",
    "        # get previous state?\n",
    "        h,cell_state = state\n",
    "\n",
    "        # concatenate previous thing and new input \n",
    "        h = torch.cat([h, input], dim=1)\n",
    "\n",
    "        # *****************\n",
    "        # compute 4 gates\n",
    "        # *****************\n",
    "\n",
    "        # 1. Forget Gate - Mask to determine how much of the inputish do we want to keep?\n",
    "        # decide how much to keep = [0, 0.3, 0.5, 0.7, 1], etc.\n",
    "        # remember some! forget some!\n",
    "        cell_state *= torch.sigmoid(self.forget_gate(h))\n",
    "\n",
    "        # 2. Input Gate And 3. Cell Gate\n",
    "        # sigmoid   = how much of the input do you want, 10%, 20%?\n",
    "        # tanh      = among the cell gate values, arrange them, create meaning\n",
    "        cell_state = cell_state + torch.sigmoid(self.input_gate(h)) * torch.tanh(self.cell_gate(h))\n",
    "\n",
    "        # 4. Update hidden state from Output Gate\n",
    "        # sigmoid   = how much of the output do you want, 50%, 80%?\n",
    "        # tanh      = among the cell STATE values, arrange them, create meaning\n",
    "        h = torch.sigmoid(self.output_gate(h)) * torch.tanh(cell_state)\n",
    "        return h, (h, cell_state)"
   ]
  },
  {
   "cell_type": "markdown",
   "metadata": {},
   "source": [
    "# Fixing Exploding or Disappearing Activations With LSTMs"
   ]
  },
  {
   "cell_type": "code",
   "execution_count": 64,
   "metadata": {},
   "outputs": [
    {
     "data": {
      "text/plain": [
       "torch.Size([2, 64, 50])"
      ]
     },
     "execution_count": 64,
     "metadata": {},
     "output_type": "execute_result"
    }
   ],
   "source": [
    "# remember this shape, it's gonna be the output of the internal LSTM\n",
    "torch.zeros(2, bs, 50).shape"
   ]
  },
  {
   "cell_type": "code",
   "execution_count": 67,
   "metadata": {},
   "outputs": [
    {
     "name": "stdout",
     "output_type": "stream",
     "text": [
      "LMModel6(\n",
      "  (inputs_to_embeds): Embedding(30, 50)\n",
      "  (rnn): LSTM(50, 50, num_layers=2, batch_first=True)\n",
      "  (hidden_to_output): Linear(in_features=50, out_features=30, bias=True)\n",
      ")\n"
     ]
    },
    {
     "data": {
      "text/html": [
       "\n",
       "<style>\n",
       "    /* Turns off some styling */\n",
       "    progress {\n",
       "        /* gets rid of default border in Firefox and Opera. */\n",
       "        border: none;\n",
       "        /* Needs to be in here for Safari polyfill so background images work as expected. */\n",
       "        background-size: auto;\n",
       "    }\n",
       "    progress:not([value]), progress:not([value])::-webkit-progress-bar {\n",
       "        background: repeating-linear-gradient(45deg, #7e7e7e, #7e7e7e 10px, #5c5c5c 10px, #5c5c5c 20px);\n",
       "    }\n",
       "    .progress-bar-interrupted, .progress-bar-interrupted::-webkit-progress-bar {\n",
       "        background: #F44336;\n",
       "    }\n",
       "</style>\n"
      ],
      "text/plain": [
       "<IPython.core.display.HTML object>"
      ]
     },
     "metadata": {},
     "output_type": "display_data"
    },
    {
     "data": {
      "text/html": [
       "<table border=\"1\" class=\"dataframe\">\n",
       "  <thead>\n",
       "    <tr style=\"text-align: left;\">\n",
       "      <th>epoch</th>\n",
       "      <th>train_loss</th>\n",
       "      <th>valid_loss</th>\n",
       "      <th>accuracy</th>\n",
       "      <th>time</th>\n",
       "    </tr>\n",
       "  </thead>\n",
       "  <tbody>\n",
       "    <tr>\n",
       "      <td>0</td>\n",
       "      <td>3.153225</td>\n",
       "      <td>2.860101</td>\n",
       "      <td>0.265951</td>\n",
       "      <td>00:08</td>\n",
       "    </tr>\n",
       "    <tr>\n",
       "      <td>1</td>\n",
       "      <td>2.365912</td>\n",
       "      <td>1.753775</td>\n",
       "      <td>0.466309</td>\n",
       "      <td>00:07</td>\n",
       "    </tr>\n",
       "    <tr>\n",
       "      <td>2</td>\n",
       "      <td>1.706985</td>\n",
       "      <td>1.691177</td>\n",
       "      <td>0.482666</td>\n",
       "      <td>00:07</td>\n",
       "    </tr>\n",
       "    <tr>\n",
       "      <td>3</td>\n",
       "      <td>1.413896</td>\n",
       "      <td>1.781284</td>\n",
       "      <td>0.504150</td>\n",
       "      <td>00:07</td>\n",
       "    </tr>\n",
       "    <tr>\n",
       "      <td>4</td>\n",
       "      <td>1.211155</td>\n",
       "      <td>1.871725</td>\n",
       "      <td>0.537923</td>\n",
       "      <td>00:07</td>\n",
       "    </tr>\n",
       "    <tr>\n",
       "      <td>5</td>\n",
       "      <td>1.039084</td>\n",
       "      <td>1.971692</td>\n",
       "      <td>0.606201</td>\n",
       "      <td>00:07</td>\n",
       "    </tr>\n",
       "    <tr>\n",
       "      <td>6</td>\n",
       "      <td>0.886829</td>\n",
       "      <td>1.927024</td>\n",
       "      <td>0.668864</td>\n",
       "      <td>00:08</td>\n",
       "    </tr>\n",
       "    <tr>\n",
       "      <td>7</td>\n",
       "      <td>0.722746</td>\n",
       "      <td>1.938235</td>\n",
       "      <td>0.689860</td>\n",
       "      <td>00:07</td>\n",
       "    </tr>\n",
       "    <tr>\n",
       "      <td>8</td>\n",
       "      <td>0.558757</td>\n",
       "      <td>1.808729</td>\n",
       "      <td>0.716878</td>\n",
       "      <td>00:08</td>\n",
       "    </tr>\n",
       "    <tr>\n",
       "      <td>9</td>\n",
       "      <td>0.418356</td>\n",
       "      <td>1.792872</td>\n",
       "      <td>0.752034</td>\n",
       "      <td>00:08</td>\n",
       "    </tr>\n",
       "    <tr>\n",
       "      <td>10</td>\n",
       "      <td>0.310722</td>\n",
       "      <td>1.751335</td>\n",
       "      <td>0.765951</td>\n",
       "      <td>00:08</td>\n",
       "    </tr>\n",
       "    <tr>\n",
       "      <td>11</td>\n",
       "      <td>0.236308</td>\n",
       "      <td>1.714072</td>\n",
       "      <td>0.777425</td>\n",
       "      <td>00:07</td>\n",
       "    </tr>\n",
       "    <tr>\n",
       "      <td>12</td>\n",
       "      <td>0.187731</td>\n",
       "      <td>1.724756</td>\n",
       "      <td>0.790039</td>\n",
       "      <td>00:07</td>\n",
       "    </tr>\n",
       "    <tr>\n",
       "      <td>13</td>\n",
       "      <td>0.159689</td>\n",
       "      <td>1.724759</td>\n",
       "      <td>0.790202</td>\n",
       "      <td>00:07</td>\n",
       "    </tr>\n",
       "    <tr>\n",
       "      <td>14</td>\n",
       "      <td>0.146356</td>\n",
       "      <td>1.717203</td>\n",
       "      <td>0.789958</td>\n",
       "      <td>00:07</td>\n",
       "    </tr>\n",
       "  </tbody>\n",
       "</table>"
      ],
      "text/plain": [
       "<IPython.core.display.HTML object>"
      ]
     },
     "metadata": {},
     "output_type": "display_data"
    },
    {
     "data": {
      "text/html": [
       "<div>\n",
       "<style scoped>\n",
       "    .dataframe tbody tr th:only-of-type {\n",
       "        vertical-align: middle;\n",
       "    }\n",
       "\n",
       "    .dataframe tbody tr th {\n",
       "        vertical-align: top;\n",
       "    }\n",
       "\n",
       "    .dataframe thead th {\n",
       "        text-align: right;\n",
       "    }\n",
       "</style>\n",
       "<table border=\"1\" class=\"dataframe\">\n",
       "  <thead>\n",
       "    <tr style=\"text-align: right;\">\n",
       "      <th></th>\n",
       "      <th></th>\n",
       "    </tr>\n",
       "  </thead>\n",
       "  <tbody>\n",
       "    <tr>\n",
       "      <th>LMModel3 - Stateful RNN</th>\n",
       "      <td>0.5908653736114502</td>\n",
       "    </tr>\n",
       "    <tr>\n",
       "      <th>LMModel4 - Sequence To Sequence RNN</th>\n",
       "      <td>0.5546061396598816</td>\n",
       "    </tr>\n",
       "    <tr>\n",
       "      <th>LMModel5 - Stacked RNNs</th>\n",
       "      <td>0.5524088740348816</td>\n",
       "    </tr>\n",
       "    <tr>\n",
       "      <th>LMModel6 - LSTM</th>\n",
       "      <td>0.7899577021598816</td>\n",
       "    </tr>\n",
       "  </tbody>\n",
       "</table>\n",
       "</div>"
      ],
      "text/plain": [
       "                                                       \n",
       "LMModel3 - Stateful RNN              0.5908653736114502\n",
       "LMModel4 - Sequence To Sequence RNN  0.5546061396598816\n",
       "LMModel5 - Stacked RNNs              0.5524088740348816\n",
       "LMModel6 - LSTM                      0.7899577021598816"
      ]
     },
     "execution_count": 67,
     "metadata": {},
     "output_type": "execute_result"
    }
   ],
   "source": [
    "class LMModel6(Module):\n",
    "    def __init__(self, vocab_sz, n_hidden, lstm_n_layers):\n",
    "        self.inputs_to_embeds = nn.Embedding(vocab_sz, n_hidden)\n",
    "        # batch_first because..?\n",
    "        self.rnn = nn.LSTM(n_hidden, n_hidden, lstm_n_layers, batch_first=True)\n",
    "        self.hidden_to_output = nn.Linear(n_hidden, vocab_sz)\n",
    "\n",
    "        # self.h = [torch.Size([2, 64, 50]), torch.Size([2, 64, 50])]\n",
    "        self.h = [torch.zeros(lstm_n_layers, bs, n_hidden) for _ in range(2)] # 2 because lstm requires 2 hidden states\n",
    "\n",
    "    def forward(self, x):\n",
    "        # res = ?\n",
    "        res,lstm_hidden_states = self.rnn(self.inputs_to_embeds(x), self.h)\n",
    "        self.h = [h_.detach() for h_ in lstm_hidden_states]\n",
    "        return self.hidden_to_output(res)\n",
    "\n",
    "    def reset(self):\n",
    "        for h in self.h: h.zero_()\n",
    "\n",
    "\n",
    "model = LMModel6(len(vocab), 50, 2)\n",
    "print(model)\n",
    "learn = Learner(dls, model, \n",
    "                loss_func=CrossEntropyLossFlat(), \n",
    "                metrics=accuracy, cbs=[ModelResetter,ActivationStats(with_hist=True)])\n",
    "learn.fit_one_cycle(15, 1e-2)\n",
    "track_results('LMModel6 - LSTM', learn.recorder.log[-2])"
   ]
  },
  {
   "cell_type": "markdown",
   "metadata": {},
   "source": [
    "Looking at the training loss, we see that we are overfitting, it'a a sign that we need to do some regularization, if we want to continue training for more epochs"
   ]
  },
  {
   "cell_type": "markdown",
   "metadata": {},
   "source": [
    "\n",
    "# Regularizing an LSTM with AWD-LSTM"
   ]
  },
  {
   "cell_type": "markdown",
   "metadata": {},
   "source": [
    "Usually in other domains such as vision, we would use data augmentation to solve overfitting. But in text, it's not that common. Instead there are techniques like:\n",
    "- Dropout\n",
    "- activation regularization\n",
    "- and temporal activation regularization "
   ]
  },
  {
   "cell_type": "markdown",
   "metadata": {},
   "source": [
    "### Bernouilli"
   ]
  },
  {
   "cell_type": "code",
   "execution_count": 68,
   "metadata": {},
   "outputs": [
    {
     "data": {
      "text/plain": [
       "tensor([0.9446, 0.4416, 0.0462, 0.8045, 0.1625])"
      ]
     },
     "execution_count": 68,
     "metadata": {},
     "output_type": "execute_result"
    }
   ],
   "source": [
    "a = torch.empty(5).uniform_(0, 1)\n",
    "a"
   ]
  },
  {
   "cell_type": "code",
   "execution_count": 69,
   "metadata": {},
   "outputs": [
    {
     "name": "stdout",
     "output_type": "stream",
     "text": [
      "tensor([1., 0., 1., 1., 1.])\n",
      "tensor([1., 1., 1., 0., 0.])\n",
      "tensor([1., 1., 1., 1., 1.])\n",
      "tensor([1., 1., 1., 0., 1.])\n",
      "tensor([1., 1., 0., 1., 1.])\n"
     ]
    }
   ],
   "source": [
    "for _ in range (5):\n",
    "    print(a.bernoulli(0.9))"
   ]
  },
  {
   "cell_type": "code",
   "execution_count": 70,
   "metadata": {},
   "outputs": [
    {
     "name": "stdout",
     "output_type": "stream",
     "text": [
      "tensor([1., 0., 0., 0., 0.])\n",
      "tensor([0., 1., 0., 0., 1.])\n",
      "tensor([0., 0., 0., 0., 0.])\n",
      "tensor([0., 1., 0., 0., 1.])\n",
      "tensor([0., 0., 0., 0., 0.])\n"
     ]
    }
   ],
   "source": [
    "for _ in range (5):\n",
    "    print(a.bernoulli(0.1))"
   ]
  },
  {
   "cell_type": "code",
   "execution_count": 71,
   "metadata": {},
   "outputs": [
    {
     "name": "stdout",
     "output_type": "stream",
     "text": [
      "tensor([1., 1., 0., 1., 1.])\n",
      "tensor([1., 0., 1., 0., 0.])\n",
      "tensor([1., 0., 0., 0., 1.])\n",
      "tensor([1., 0., 1., 1., 1.])\n",
      "tensor([1., 1., 0., 1., 1.])\n"
     ]
    }
   ],
   "source": [
    "for _ in range (5):\n",
    "    print(a.bernoulli(0.5))"
   ]
  },
  {
   "cell_type": "markdown",
   "metadata": {},
   "source": [
    "### Dropout Layer"
   ]
  },
  {
   "cell_type": "markdown",
   "metadata": {},
   "source": [
    "1. Use bernoulli to create a mask\n",
    "2. Apply the mask to the weights, thus making some weights 0\n",
    "3. And... not just multiply remaining by 1 but more than 1, making their magniture more important!"
   ]
  },
  {
   "cell_type": "code",
   "execution_count": 72,
   "metadata": {},
   "outputs": [
    {
     "name": "stdout",
     "output_type": "stream",
     "text": [
      "x\t\t\t tensor([0.9446, 0.4416, 0.0462, 0.8045, 0.1625])\n",
      "mask\t\t\t tensor([0., 0., 1., 1., 0.])\n",
      "mask.div(1-self.p)\t tensor([0., 0., 2., 2., 0.])\n"
     ]
    },
    {
     "data": {
      "text/plain": [
       "tensor([0.0000, 0.0000, 0.0925, 1.6090, 0.0000])"
      ]
     },
     "execution_count": 72,
     "metadata": {},
     "output_type": "execute_result"
    }
   ],
   "source": [
    "class Dropout(Module):\n",
    "    def __init__(self, p): self.p = p\n",
    "    def forward(self, x):\n",
    "        if not self.training: return x\n",
    "        mask = x.new(*x.shape).bernoulli_(1-self.p)\n",
    "        print('x\\t\\t\\t', x)\n",
    "        print('mask\\t\\t\\t', mask)\n",
    "        print('mask.div(1-self.p)\\t', mask.div(1-self.p))\n",
    "        return x * mask.div_(1-self.p)\n",
    "    \n",
    "Dropout(0.5)(a)"
   ]
  },
  {
   "cell_type": "markdown",
   "metadata": {},
   "source": [
    "__how does this `mask.div_` trick keep the weights magnitude?__\n",
    "\n",
    "It's a bit different than keeping the same of the weights or the mean of the weights, we can measure the magnitude by..."
   ]
  },
  {
   "cell_type": "code",
   "execution_count": 81,
   "metadata": {},
   "outputs": [
    {
     "name": "stdout",
     "output_type": "stream",
     "text": [
      "Difference with dropout (magnitude): 60.312301940917905\n",
      "Difference with mask only: 439.1952346801759\n"
     ]
    }
   ],
   "source": [
    "# Define a simple input tensor\n",
    "input_tensor = torch.randn(1000, 1000)\n",
    "\n",
    "# Define dropout probability\n",
    "p = 0.3\n",
    "\n",
    "# Without dropout\n",
    "output_without_dropout = input_tensor.clone()\n",
    "\n",
    "# With dropout, multiple experiments\n",
    "n_experiments = 100\n",
    "outputs_with_dropout = []\n",
    "\n",
    "outputs_with_masks = []\n",
    "\n",
    "for _ in range(n_experiments):\n",
    "    mask = input_tensor.new_full(input_tensor.shape, 1-p).bernoulli()\n",
    "    output_with_mask = input_tensor * mask\n",
    "    outputs_with_masks.append(output_with_mask.sum().item())\n",
    "\n",
    "    real_mask = input_tensor.new_full(input_tensor.shape, 1-p).bernoulli().div_(1-p)\n",
    "    output_with_dropout = input_tensor * real_mask\n",
    "    outputs_with_dropout.append(output_with_dropout.sum().item())\n",
    "\n",
    "    \n",
    "\n",
    "# Calculate average output sum with dropout\n",
    "average_output_with_dropout = sum(outputs_with_dropout) / n_experiments\n",
    "\n",
    "# Calculate average output sum with mask\n",
    "average_output_with_mask = sum(outputs_with_masks) / n_experiments\n",
    "\n",
    "# Compare\n",
    "print(\"Difference with dropout (magnitude):\", abs(output_without_dropout.sum().item() - average_output_with_dropout))\n",
    "print(\"Difference with mask only:\", abs(output_without_dropout.sum().item() - average_output_with_mask))\n"
   ]
  },
  {
   "cell_type": "markdown",
   "metadata": {},
   "source": [
    "As we can see, increase the original magnitude of the remaining weights `mask.div_(1-p)`\n",
    "And thus help the overall magnitude to be closer to as if we had the original weights\n",
    "With the benefit of course that we now have new weights that are set to 0 and that we can use to train more"
   ]
  },
  {
   "cell_type": "markdown",
   "metadata": {},
   "source": [
    "### Activation Regularization and Temporal Activation Regularization"
   ]
  },
  {
   "cell_type": "markdown",
   "metadata": {},
   "source": [
    "### Putting Everything Together"
   ]
  },
  {
   "cell_type": "code",
   "execution_count": 118,
   "metadata": {},
   "outputs": [
    {
     "data": {
      "text/plain": [
       "(365478, 'one . two ')"
      ]
     },
     "execution_count": 118,
     "metadata": {},
     "output_type": "execute_result"
    }
   ],
   "source": [
    "len(text), text[:10]"
   ]
  },
  {
   "cell_type": "markdown",
   "metadata": {},
   "source": [
    "We want to have sequences of 16 tokens for each row"
   ]
  },
  {
   "cell_type": "code",
   "execution_count": 119,
   "metadata": {},
   "outputs": [
    {
     "data": {
      "text/plain": [
       "'one . two . three . four . five . six . seven . eight .'"
      ]
     },
     "execution_count": 119,
     "metadata": {},
     "output_type": "execute_result"
    }
   ],
   "source": [
    "sequences = [' '.join(tokens[i:i+16]) for i in range(0, len(tokens), sequence_length)]\n",
    "sequences[0]"
   ]
  },
  {
   "cell_type": "code",
   "execution_count": 120,
   "metadata": {},
   "outputs": [
    {
     "data": {
      "text/html": [
       "<div>\n",
       "<style scoped>\n",
       "    .dataframe tbody tr th:only-of-type {\n",
       "        vertical-align: middle;\n",
       "    }\n",
       "\n",
       "    .dataframe tbody tr th {\n",
       "        vertical-align: top;\n",
       "    }\n",
       "\n",
       "    .dataframe thead th {\n",
       "        text-align: right;\n",
       "    }\n",
       "</style>\n",
       "<table border=\"1\" class=\"dataframe\">\n",
       "  <thead>\n",
       "    <tr style=\"text-align: right;\">\n",
       "      <th></th>\n",
       "      <th>text</th>\n",
       "    </tr>\n",
       "  </thead>\n",
       "  <tbody>\n",
       "    <tr>\n",
       "      <th>0</th>\n",
       "      <td>one . two . three . four . five . six . seven . eight .</td>\n",
       "    </tr>\n",
       "    <tr>\n",
       "      <th>1</th>\n",
       "      <td>nine . ten . eleven . twelve . thirteen . fourteen . fifteen . sixteen .</td>\n",
       "    </tr>\n",
       "    <tr>\n",
       "      <th>2</th>\n",
       "      <td>seventeen . eighteen . nineteen . twenty . twenty one . twenty two . twenty three</td>\n",
       "    </tr>\n",
       "    <tr>\n",
       "      <th>3</th>\n",
       "      <td>. twenty four . twenty five . twenty six . twenty seven . twenty eight .</td>\n",
       "    </tr>\n",
       "    <tr>\n",
       "      <th>4</th>\n",
       "      <td>twenty nine . thirty . thirty one . thirty two . thirty three . thirty four</td>\n",
       "    </tr>\n",
       "    <tr>\n",
       "      <th>...</th>\n",
       "      <td>...</td>\n",
       "    </tr>\n",
       "    <tr>\n",
       "      <th>3939</th>\n",
       "      <td>eighty nine . nine thousand nine hundred ninety . nine thousand nine hundred ninety one .</td>\n",
       "    </tr>\n",
       "    <tr>\n",
       "      <th>3940</th>\n",
       "      <td>nine thousand nine hundred ninety two . nine thousand nine hundred ninety three . nine thousand</td>\n",
       "    </tr>\n",
       "    <tr>\n",
       "      <th>3941</th>\n",
       "      <td>nine hundred ninety four . nine thousand nine hundred ninety five . nine thousand nine hundred</td>\n",
       "    </tr>\n",
       "    <tr>\n",
       "      <th>3942</th>\n",
       "      <td>ninety six . nine thousand nine hundred ninety seven . nine thousand nine hundred ninety eight</td>\n",
       "    </tr>\n",
       "    <tr>\n",
       "      <th>3943</th>\n",
       "      <td>. nine thousand nine hundred ninety nine</td>\n",
       "    </tr>\n",
       "  </tbody>\n",
       "</table>\n",
       "<p>3944 rows × 1 columns</p>\n",
       "</div>"
      ],
      "text/plain": [
       "                                                                                                 text\n",
       "0                                             one . two . three . four . five . six . seven . eight .\n",
       "1                            nine . ten . eleven . twelve . thirteen . fourteen . fifteen . sixteen .\n",
       "2                   seventeen . eighteen . nineteen . twenty . twenty one . twenty two . twenty three\n",
       "3                            . twenty four . twenty five . twenty six . twenty seven . twenty eight .\n",
       "4                         twenty nine . thirty . thirty one . thirty two . thirty three . thirty four\n",
       "...                                                                                               ...\n",
       "3939        eighty nine . nine thousand nine hundred ninety . nine thousand nine hundred ninety one .\n",
       "3940  nine thousand nine hundred ninety two . nine thousand nine hundred ninety three . nine thousand\n",
       "3941   nine hundred ninety four . nine thousand nine hundred ninety five . nine thousand nine hundred\n",
       "3942   ninety six . nine thousand nine hundred ninety seven . nine thousand nine hundred ninety eight\n",
       "3943                                                         . nine thousand nine hundred ninety nine\n",
       "\n",
       "[3944 rows x 1 columns]"
      ]
     },
     "execution_count": 120,
     "metadata": {},
     "output_type": "execute_result"
    }
   ],
   "source": [
    "df = pd.DataFrame({'text': sequences})\n",
    "df"
   ]
  },
  {
   "cell_type": "code",
   "execution_count": 121,
   "metadata": {},
   "outputs": [
    {
     "data": {
      "text/html": [
       "<table border=\"1\" class=\"dataframe\">\n",
       "  <thead>\n",
       "    <tr style=\"text-align: right;\">\n",
       "      <th></th>\n",
       "      <th>text</th>\n",
       "      <th>text_</th>\n",
       "    </tr>\n",
       "  </thead>\n",
       "  <tbody>\n",
       "    <tr>\n",
       "      <th>0</th>\n",
       "      <td>xxbos . six hundred thirty . six hundred thirty one . six hundred thirty two .</td>\n",
       "      <td>. six hundred thirty . six hundred thirty one . six hundred thirty two . six</td>\n",
       "    </tr>\n",
       "    <tr>\n",
       "      <th>1</th>\n",
       "      <td>two hundred ninety four . four thousand two hundred ninety five . xxbos nine thousand nine</td>\n",
       "      <td>hundred ninety four . four thousand two hundred ninety five . xxbos nine thousand nine hundred</td>\n",
       "    </tr>\n",
       "    <tr>\n",
       "      <th>2</th>\n",
       "      <td>. seven thousand four hundred twenty nine xxbos eight hundred eleven . one thousand eight hundred</td>\n",
       "      <td>seven thousand four hundred twenty nine xxbos eight hundred eleven . one thousand eight hundred twelve</td>\n",
       "    </tr>\n",
       "  </tbody>\n",
       "</table>"
      ],
      "text/plain": [
       "<IPython.core.display.HTML object>"
      ]
     },
     "metadata": {},
     "output_type": "display_data"
    },
    {
     "data": {
      "text/plain": [
       "(40, None)"
      ]
     },
     "execution_count": 121,
     "metadata": {},
     "output_type": "execute_result"
    }
   ],
   "source": [
    "dls = DataBlock(\n",
    "    blocks=TextBlock.from_df('text', is_lm=True),\n",
    "    get_items=ColReader('text'),  # Assuming each item in your DataFrame is a text entry\n",
    "    splitter=RandomSplitter(0.2)  # Randomly split the data into training and validation sets\n",
    ").dataloaders(df, bs=bs, seq_len=sequence_length, drop_last=True, shuffle=False)\n",
    "dls.device = None\n",
    "\n",
    "dls.show_batch(max_n=3)\n",
    "len(dls.vocab), dls.device"
   ]
  },
  {
   "cell_type": "markdown",
   "metadata": {},
   "source": [
    "VERIFY LAST BATCH"
   ]
  },
  {
   "cell_type": "code",
   "execution_count": 122,
   "metadata": {},
   "outputs": [
    {
     "name": "stdout",
     "output_type": "stream",
     "text": [
      "thousand xxbos three . four thousand  |  seven thousand four hundred twenty eight\n"
     ]
    }
   ],
   "source": [
    "def show_last_batch(dls):\n",
    "    last_batch = None\n",
    "    for batch in dls.train:\n",
    "        last_batch = batch\n",
    "    x, y = last_batch\n",
    "\n",
    "    # Get the vocabulary from the DataLoader\n",
    "    vocab = dls.vocab\n",
    "\n",
    "    # Function to convert indices to text\n",
    "    def indices_to_text(indices):\n",
    "        return ' '.join([vocab[it] for it in indices])\n",
    "\n",
    "    # Convert and print the first input sequence in the batch\n",
    "    print(indices_to_text(x[0]), ' | ', indices_to_text(x[1]))\n",
    "\n",
    "show_last_batch(dls)\n",
    "# last batch doesn't seem right... what to do?"
   ]
  },
  {
   "cell_type": "code",
   "execution_count": 128,
   "metadata": {},
   "outputs": [
    {
     "name": "stdout",
     "output_type": "stream",
     "text": [
      "LMModel7(\n",
      "  (i_h): Embedding(40, 80)\n",
      "  (rnn): LSTM(80, 80, num_layers=4, batch_first=True)\n",
      "  (drop): Dropout(p=0.4, inplace=False)\n",
      "  (h_o): Linear(in_features=80, out_features=40, bias=True)\n",
      ")\n"
     ]
    },
    {
     "data": {
      "text/html": [
       "\n",
       "<style>\n",
       "    /* Turns off some styling */\n",
       "    progress {\n",
       "        /* gets rid of default border in Firefox and Opera. */\n",
       "        border: none;\n",
       "        /* Needs to be in here for Safari polyfill so background images work as expected. */\n",
       "        background-size: auto;\n",
       "    }\n",
       "    progress:not([value]), progress:not([value])::-webkit-progress-bar {\n",
       "        background: repeating-linear-gradient(45deg, #7e7e7e, #7e7e7e 10px, #5c5c5c 10px, #5c5c5c 20px);\n",
       "    }\n",
       "    .progress-bar-interrupted, .progress-bar-interrupted::-webkit-progress-bar {\n",
       "        background: #F44336;\n",
       "    }\n",
       "</style>\n"
      ],
      "text/plain": [
       "<IPython.core.display.HTML object>"
      ]
     },
     "metadata": {},
     "output_type": "display_data"
    },
    {
     "data": {
      "text/html": [
       "<table border=\"1\" class=\"dataframe\">\n",
       "  <thead>\n",
       "    <tr style=\"text-align: left;\">\n",
       "      <th>epoch</th>\n",
       "      <th>train_loss</th>\n",
       "      <th>valid_loss</th>\n",
       "      <th>accuracy</th>\n",
       "      <th>perplexity</th>\n",
       "      <th>time</th>\n",
       "    </tr>\n",
       "  </thead>\n",
       "  <tbody>\n",
       "    <tr>\n",
       "      <td>0</td>\n",
       "      <td>2.995922</td>\n",
       "      <td>2.450656</td>\n",
       "      <td>0.351423</td>\n",
       "      <td>11.595953</td>\n",
       "      <td>00:06</td>\n",
       "    </tr>\n",
       "    <tr>\n",
       "      <td>1</td>\n",
       "      <td>2.302832</td>\n",
       "      <td>1.941079</td>\n",
       "      <td>0.379813</td>\n",
       "      <td>6.966263</td>\n",
       "      <td>00:06</td>\n",
       "    </tr>\n",
       "    <tr>\n",
       "      <td>2</td>\n",
       "      <td>1.863473</td>\n",
       "      <td>1.756165</td>\n",
       "      <td>0.456264</td>\n",
       "      <td>5.790191</td>\n",
       "      <td>00:06</td>\n",
       "    </tr>\n",
       "    <tr>\n",
       "      <td>3</td>\n",
       "      <td>1.617806</td>\n",
       "      <td>1.518527</td>\n",
       "      <td>0.478167</td>\n",
       "      <td>4.565497</td>\n",
       "      <td>00:06</td>\n",
       "    </tr>\n",
       "    <tr>\n",
       "      <td>4</td>\n",
       "      <td>1.451983</td>\n",
       "      <td>1.417245</td>\n",
       "      <td>0.487723</td>\n",
       "      <td>4.125739</td>\n",
       "      <td>00:07</td>\n",
       "    </tr>\n",
       "    <tr>\n",
       "      <td>5</td>\n",
       "      <td>1.321320</td>\n",
       "      <td>1.326928</td>\n",
       "      <td>0.531250</td>\n",
       "      <td>3.769444</td>\n",
       "      <td>00:06</td>\n",
       "    </tr>\n",
       "    <tr>\n",
       "      <td>6</td>\n",
       "      <td>1.212605</td>\n",
       "      <td>1.112487</td>\n",
       "      <td>0.590890</td>\n",
       "      <td>3.041914</td>\n",
       "      <td>00:07</td>\n",
       "    </tr>\n",
       "    <tr>\n",
       "      <td>7</td>\n",
       "      <td>1.101270</td>\n",
       "      <td>1.099972</td>\n",
       "      <td>0.602539</td>\n",
       "      <td>3.004081</td>\n",
       "      <td>00:07</td>\n",
       "    </tr>\n",
       "    <tr>\n",
       "      <td>8</td>\n",
       "      <td>1.019222</td>\n",
       "      <td>0.977569</td>\n",
       "      <td>0.642299</td>\n",
       "      <td>2.657986</td>\n",
       "      <td>00:06</td>\n",
       "    </tr>\n",
       "    <tr>\n",
       "      <td>9</td>\n",
       "      <td>0.928289</td>\n",
       "      <td>0.973586</td>\n",
       "      <td>0.649065</td>\n",
       "      <td>2.647420</td>\n",
       "      <td>00:06</td>\n",
       "    </tr>\n",
       "    <tr>\n",
       "      <td>10</td>\n",
       "      <td>0.857956</td>\n",
       "      <td>0.867160</td>\n",
       "      <td>0.679478</td>\n",
       "      <td>2.380143</td>\n",
       "      <td>00:06</td>\n",
       "    </tr>\n",
       "    <tr>\n",
       "      <td>11</td>\n",
       "      <td>0.800414</td>\n",
       "      <td>0.842291</td>\n",
       "      <td>0.697754</td>\n",
       "      <td>2.321679</td>\n",
       "      <td>00:06</td>\n",
       "    </tr>\n",
       "    <tr>\n",
       "      <td>12</td>\n",
       "      <td>0.770373</td>\n",
       "      <td>0.802784</td>\n",
       "      <td>0.714146</td>\n",
       "      <td>2.231746</td>\n",
       "      <td>00:06</td>\n",
       "    </tr>\n",
       "    <tr>\n",
       "      <td>13</td>\n",
       "      <td>0.747808</td>\n",
       "      <td>0.791040</td>\n",
       "      <td>0.715262</td>\n",
       "      <td>2.205689</td>\n",
       "      <td>00:06</td>\n",
       "    </tr>\n",
       "    <tr>\n",
       "      <td>14</td>\n",
       "      <td>0.735945</td>\n",
       "      <td>0.789492</td>\n",
       "      <td>0.715820</td>\n",
       "      <td>2.202278</td>\n",
       "      <td>00:06</td>\n",
       "    </tr>\n",
       "  </tbody>\n",
       "</table>"
      ],
      "text/plain": [
       "<IPython.core.display.HTML object>"
      ]
     },
     "metadata": {},
     "output_type": "display_data"
    },
    {
     "data": {
      "text/html": [
       "<div>\n",
       "<style scoped>\n",
       "    .dataframe tbody tr th:only-of-type {\n",
       "        vertical-align: middle;\n",
       "    }\n",
       "\n",
       "    .dataframe tbody tr th {\n",
       "        vertical-align: top;\n",
       "    }\n",
       "\n",
       "    .dataframe thead th {\n",
       "        text-align: right;\n",
       "    }\n",
       "</style>\n",
       "<table border=\"1\" class=\"dataframe\">\n",
       "  <thead>\n",
       "    <tr style=\"text-align: right;\">\n",
       "      <th></th>\n",
       "      <th></th>\n",
       "    </tr>\n",
       "  </thead>\n",
       "  <tbody>\n",
       "    <tr>\n",
       "      <th>LMModel7 - LSTM - Dropout/AR/TR</th>\n",
       "      <td>0.7158203125</td>\n",
       "    </tr>\n",
       "  </tbody>\n",
       "</table>\n",
       "</div>"
      ],
      "text/plain": [
       "                                             \n",
       "LMModel7 - LSTM - Dropout/AR/TR  0.7158203125"
      ]
     },
     "execution_count": 128,
     "metadata": {},
     "output_type": "execute_result"
    }
   ],
   "source": [
    "class LMModel7(Module):\n",
    "    def __init__(self, vocab_sz, n_hidden, n_layers, p, bs=64):\n",
    "        self.i_h = nn.Embedding(vocab_sz, n_hidden)\n",
    "        self.rnn = nn.LSTM(n_hidden, n_hidden, n_layers, batch_first=True)\n",
    "        self.drop = nn.Dropout(p)\n",
    "        self.h_o = nn.Linear(n_hidden, vocab_sz)\n",
    "        self.h_o.weight = self.i_h.weight\n",
    "        self.bs = bs\n",
    "        self.n_hidden,self.n_layers = n_hidden,n_layers\n",
    "        self.h = [torch.zeros(n_layers, bs, n_hidden) for _ in range(2)]\n",
    "        \n",
    "    def forward(self, x):\n",
    "        if self.h is None or self.h[0].size(1) != x.size(0):\n",
    "            # Adjust hidden state size based on current batch size\n",
    "            self.reset_hidden(x.size(0))\n",
    "        raw,h = self.rnn(self.i_h(x), self.h)\n",
    "        out = self.drop(raw)\n",
    "        self.h = [h_.detach() for h_ in h]\n",
    "        return self.h_o(out),raw,out\n",
    "    \n",
    "    def reset_hidden(self, bs):\n",
    "        self.bs = bs\n",
    "        # Reset hidden state to zeros with appropriate batch size\n",
    "        self.h = (torch.zeros(self.n_layers, self.bs, self.n_hidden),\n",
    "                  torch.zeros(self.n_layers, self.bs, self.n_hidden))\n",
    "    \n",
    "    def reset(self): \n",
    "        for h in self.h: h.zero_()\n",
    "\n",
    "# our model seems not able to overfit, no need of big dropout value for now\n",
    "model = LMModel7(len(dls.vocab), 80, 4, 0.4)\n",
    "print(model)\n",
    "# learn = Learner(dls, model, \n",
    "#                 loss_func=CrossEntropyLossFlat(), \n",
    "#                 metrics=accuracy, cbs=[ModelResetter,ActivationStats(with_hist=True),RNNRegularizer(alpha=2, beta=1)]).to_fp16()\n",
    "\n",
    "# If you use TextLearner, but you will have to implement get_preds and predict yourself\n",
    "learn = LMLearner(dls, model,\n",
    "                    loss_func=CrossEntropyLossFlat(),\n",
    "                    metrics=[accuracy, Perplexity()],\n",
    "                    cbs=[ActivationStats(with_hist=True)])\n",
    "\n",
    "gc.collect()\n",
    "# learn.lr_find()\n",
    "# our model seems not able to overfit, no need of big weight decay value for now\n",
    "learn.fit_one_cycle(15, 1e-2, wd=0.1)\n",
    "track_results('LMModel7 - LSTM - Dropout/AR/TR', learn.recorder.log[-3])"
   ]
  },
  {
   "cell_type": "code",
   "execution_count": null,
   "metadata": {},
   "outputs": [],
   "source": []
  },
  {
   "cell_type": "code",
   "execution_count": 186,
   "metadata": {},
   "outputs": [
    {
     "data": {
      "text/html": [
       "\n",
       "<style>\n",
       "    /* Turns off some styling */\n",
       "    progress {\n",
       "        /* gets rid of default border in Firefox and Opera. */\n",
       "        border: none;\n",
       "        /* Needs to be in here for Safari polyfill so background images work as expected. */\n",
       "        background-size: auto;\n",
       "    }\n",
       "    progress:not([value]), progress:not([value])::-webkit-progress-bar {\n",
       "        background: repeating-linear-gradient(45deg, #7e7e7e, #7e7e7e 10px, #5c5c5c 10px, #5c5c5c 20px);\n",
       "    }\n",
       "    .progress-bar-interrupted, .progress-bar-interrupted::-webkit-progress-bar {\n",
       "        background: #F44336;\n",
       "    }\n",
       "</style>\n"
      ],
      "text/plain": [
       "<IPython.core.display.HTML object>"
      ]
     },
     "metadata": {},
     "output_type": "display_data"
    },
    {
     "data": {
      "text/html": [],
      "text/plain": [
       "<IPython.core.display.HTML object>"
      ]
     },
     "metadata": {},
     "output_type": "display_data"
    },
    {
     "data": {
      "text/html": [
       "<table border=\"1\" class=\"dataframe\">\n",
       "  <thead>\n",
       "    <tr style=\"text-align: right;\">\n",
       "      <th></th>\n",
       "      <th>input</th>\n",
       "      <th>target</th>\n",
       "      <th>pred</th>\n",
       "    </tr>\n",
       "  </thead>\n",
       "  <tbody>\n",
       "    <tr>\n",
       "      <th>0</th>\n",
       "      <td>xxbos thousand three hundred twenty eight . eight thousand three hundred twenty nine . eight thousand</td>\n",
       "      <td>thousand three hundred twenty eight . eight thousand three hundred twenty nine . eight thousand three</td>\n",
       "      <td>. one hundred thirty three . three thousand three hundred twenty nine . eight thousand three</td>\n",
       "    </tr>\n",
       "    <tr>\n",
       "      <th>1</th>\n",
       "      <td>nine . four thousand two hundred fifty . four thousand two hundred fifty one . xxbos</td>\n",
       "      <td>. four thousand two hundred fifty . four thousand two hundred fifty one . xxbos thousand</td>\n",
       "      <td>thousand three thousand seven hundred thirty . four thousand xxbos xxbos xxbos xxbos xxbos xxbos .</td>\n",
       "    </tr>\n",
       "    <tr>\n",
       "      <th>2</th>\n",
       "      <td>thousand six hundred forty one . three thousand six hundred forty two . xxbos nine thousand</td>\n",
       "      <td>six hundred forty one . three thousand six hundred forty two . xxbos nine thousand three</td>\n",
       "      <td>five hundred eighty three . xxbos thousand xxbos hundred forty two . xxbos . hundred one</td>\n",
       "    </tr>\n",
       "  </tbody>\n",
       "</table>"
      ],
      "text/plain": [
       "<IPython.core.display.HTML object>"
      ]
     },
     "metadata": {},
     "output_type": "display_data"
    }
   ],
   "source": [
    "learn.show_results(max_n=3)"
   ]
  },
  {
   "cell_type": "code",
   "execution_count": 187,
   "metadata": {},
   "outputs": [
    {
     "data": {
      "text/html": [
       "\n",
       "<style>\n",
       "    /* Turns off some styling */\n",
       "    progress {\n",
       "        /* gets rid of default border in Firefox and Opera. */\n",
       "        border: none;\n",
       "        /* Needs to be in here for Safari polyfill so background images work as expected. */\n",
       "        background-size: auto;\n",
       "    }\n",
       "    progress:not([value]), progress:not([value])::-webkit-progress-bar {\n",
       "        background: repeating-linear-gradient(45deg, #7e7e7e, #7e7e7e 10px, #5c5c5c 10px, #5c5c5c 20px);\n",
       "    }\n",
       "    .progress-bar-interrupted, .progress-bar-interrupted::-webkit-progress-bar {\n",
       "        background: #F44336;\n",
       "    }\n",
       "</style>\n"
      ],
      "text/plain": [
       "<IPython.core.display.HTML object>"
      ]
     },
     "metadata": {},
     "output_type": "display_data"
    },
    {
     "data": {
      "text/html": [],
      "text/plain": [
       "<IPython.core.display.HTML object>"
      ]
     },
     "metadata": {},
     "output_type": "display_data"
    },
    {
     "data": {
      "text/html": [
       "\n",
       "<style>\n",
       "    /* Turns off some styling */\n",
       "    progress {\n",
       "        /* gets rid of default border in Firefox and Opera. */\n",
       "        border: none;\n",
       "        /* Needs to be in here for Safari polyfill so background images work as expected. */\n",
       "        background-size: auto;\n",
       "    }\n",
       "    progress:not([value]), progress:not([value])::-webkit-progress-bar {\n",
       "        background: repeating-linear-gradient(45deg, #7e7e7e, #7e7e7e 10px, #5c5c5c 10px, #5c5c5c 20px);\n",
       "    }\n",
       "    .progress-bar-interrupted, .progress-bar-interrupted::-webkit-progress-bar {\n",
       "        background: #F44336;\n",
       "    }\n",
       "</style>\n"
      ],
      "text/plain": [
       "<IPython.core.display.HTML object>"
      ]
     },
     "metadata": {},
     "output_type": "display_data"
    },
    {
     "data": {
      "text/html": [],
      "text/plain": [
       "<IPython.core.display.HTML object>"
      ]
     },
     "metadata": {},
     "output_type": "display_data"
    },
    {
     "data": {
      "text/html": [
       "\n",
       "<style>\n",
       "    /* Turns off some styling */\n",
       "    progress {\n",
       "        /* gets rid of default border in Firefox and Opera. */\n",
       "        border: none;\n",
       "        /* Needs to be in here for Safari polyfill so background images work as expected. */\n",
       "        background-size: auto;\n",
       "    }\n",
       "    progress:not([value]), progress:not([value])::-webkit-progress-bar {\n",
       "        background: repeating-linear-gradient(45deg, #7e7e7e, #7e7e7e 10px, #5c5c5c 10px, #5c5c5c 20px);\n",
       "    }\n",
       "    .progress-bar-interrupted, .progress-bar-interrupted::-webkit-progress-bar {\n",
       "        background: #F44336;\n",
       "    }\n",
       "</style>\n"
      ],
      "text/plain": [
       "<IPython.core.display.HTML object>"
      ]
     },
     "metadata": {},
     "output_type": "display_data"
    },
    {
     "data": {
      "text/html": [],
      "text/plain": [
       "<IPython.core.display.HTML object>"
      ]
     },
     "metadata": {},
     "output_type": "display_data"
    },
    {
     "data": {
      "text/html": [
       "\n",
       "<style>\n",
       "    /* Turns off some styling */\n",
       "    progress {\n",
       "        /* gets rid of default border in Firefox and Opera. */\n",
       "        border: none;\n",
       "        /* Needs to be in here for Safari polyfill so background images work as expected. */\n",
       "        background-size: auto;\n",
       "    }\n",
       "    progress:not([value]), progress:not([value])::-webkit-progress-bar {\n",
       "        background: repeating-linear-gradient(45deg, #7e7e7e, #7e7e7e 10px, #5c5c5c 10px, #5c5c5c 20px);\n",
       "    }\n",
       "    .progress-bar-interrupted, .progress-bar-interrupted::-webkit-progress-bar {\n",
       "        background: #F44336;\n",
       "    }\n",
       "</style>\n"
      ],
      "text/plain": [
       "<IPython.core.display.HTML object>"
      ]
     },
     "metadata": {},
     "output_type": "display_data"
    },
    {
     "data": {
      "text/html": [],
      "text/plain": [
       "<IPython.core.display.HTML object>"
      ]
     },
     "metadata": {},
     "output_type": "display_data"
    },
    {
     "data": {
      "text/html": [
       "\n",
       "<style>\n",
       "    /* Turns off some styling */\n",
       "    progress {\n",
       "        /* gets rid of default border in Firefox and Opera. */\n",
       "        border: none;\n",
       "        /* Needs to be in here for Safari polyfill so background images work as expected. */\n",
       "        background-size: auto;\n",
       "    }\n",
       "    progress:not([value]), progress:not([value])::-webkit-progress-bar {\n",
       "        background: repeating-linear-gradient(45deg, #7e7e7e, #7e7e7e 10px, #5c5c5c 10px, #5c5c5c 20px);\n",
       "    }\n",
       "    .progress-bar-interrupted, .progress-bar-interrupted::-webkit-progress-bar {\n",
       "        background: #F44336;\n",
       "    }\n",
       "</style>\n"
      ],
      "text/plain": [
       "<IPython.core.display.HTML object>"
      ]
     },
     "metadata": {},
     "output_type": "display_data"
    },
    {
     "data": {
      "text/html": [],
      "text/plain": [
       "<IPython.core.display.HTML object>"
      ]
     },
     "metadata": {},
     "output_type": "display_data"
    },
    {
     "name": "stdout",
     "output_type": "stream",
     "text": [
      "one . nine thousand seven hundred thirteen . nine thousand seven hundred fourteen . nine thousand\n",
      "one hundred thirty . seven thousand one hundred thirty one . seven thousand one hundred thirty\n",
      "one thousand two hundred seventy three . one thousand two hundred seventy four . one thousand\n",
      "one . two thousand six hundred sixty two . two thousand six hundred sixty three .\n",
      "one thousand seven hundred sixty three . one thousand seven hundred sixty four . one three\n"
     ]
    }
   ],
   "source": [
    "def predict_next(txt, learn):\n",
    "    N_WORDS = 16\n",
    "    N_SENTENCES = 5\n",
    "    preds = [learn.predict(txt, N_WORDS, temperature=0.75) \n",
    "             for _ in range(N_SENTENCES)]\n",
    "    print(\"\\n\".join(preds))\n",
    "\n",
    "predict_next('one', learn)"
   ]
  },
  {
   "cell_type": "markdown",
   "metadata": {},
   "source": [
    "# Comparing our model with fastai solution on numbers dataset"
   ]
  },
  {
   "cell_type": "code",
   "execution_count": 193,
   "metadata": {},
   "outputs": [
    {
     "name": "stdout",
     "output_type": "stream",
     "text": [
      "SequentialRNN(\n",
      "  (0): AWD_LSTM(\n",
      "    (encoder): Embedding(40, 400, padding_idx=1)\n",
      "    (encoder_dp): EmbeddingDropout(\n",
      "      (emb): Embedding(40, 400, padding_idx=1)\n",
      "    )\n",
      "    (rnns): ModuleList(\n",
      "      (0): WeightDropout(\n",
      "        (module): LSTM(400, 1152, batch_first=True)\n",
      "      )\n",
      "      (1): WeightDropout(\n",
      "        (module): LSTM(1152, 1152, batch_first=True)\n",
      "      )\n",
      "      (2): WeightDropout(\n",
      "        (module): LSTM(1152, 400, batch_first=True)\n",
      "      )\n",
      "    )\n",
      "    (input_dp): RNNDropout()\n",
      "    (hidden_dps): ModuleList(\n",
      "      (0-2): 3 x RNNDropout()\n",
      "    )\n",
      "  )\n",
      "  (1): LinearDecoder(\n",
      "    (decoder): Linear(in_features=400, out_features=40, bias=True)\n",
      "    (output_dp): RNNDropout()\n",
      "  )\n",
      ")\n"
     ]
    },
    {
     "data": {
      "text/html": [
       "\n",
       "<style>\n",
       "    /* Turns off some styling */\n",
       "    progress {\n",
       "        /* gets rid of default border in Firefox and Opera. */\n",
       "        border: none;\n",
       "        /* Needs to be in here for Safari polyfill so background images work as expected. */\n",
       "        background-size: auto;\n",
       "    }\n",
       "    progress:not([value]), progress:not([value])::-webkit-progress-bar {\n",
       "        background: repeating-linear-gradient(45deg, #7e7e7e, #7e7e7e 10px, #5c5c5c 10px, #5c5c5c 20px);\n",
       "    }\n",
       "    .progress-bar-interrupted, .progress-bar-interrupted::-webkit-progress-bar {\n",
       "        background: #F44336;\n",
       "    }\n",
       "</style>\n"
      ],
      "text/plain": [
       "<IPython.core.display.HTML object>"
      ]
     },
     "metadata": {},
     "output_type": "display_data"
    },
    {
     "data": {
      "text/html": [
       "<table border=\"1\" class=\"dataframe\">\n",
       "  <thead>\n",
       "    <tr style=\"text-align: left;\">\n",
       "      <th>epoch</th>\n",
       "      <th>train_loss</th>\n",
       "      <th>valid_loss</th>\n",
       "      <th>accuracy</th>\n",
       "      <th>perplexity</th>\n",
       "      <th>time</th>\n",
       "    </tr>\n",
       "  </thead>\n",
       "  <tbody>\n",
       "    <tr>\n",
       "      <td>0</td>\n",
       "      <td>4.729809</td>\n",
       "      <td>3.851745</td>\n",
       "      <td>0.114118</td>\n",
       "      <td>47.075153</td>\n",
       "      <td>00:33</td>\n",
       "    </tr>\n",
       "    <tr>\n",
       "      <td>1</td>\n",
       "      <td>3.494388</td>\n",
       "      <td>2.196289</td>\n",
       "      <td>0.343959</td>\n",
       "      <td>8.991582</td>\n",
       "      <td>00:32</td>\n",
       "    </tr>\n",
       "    <tr>\n",
       "      <td>2</td>\n",
       "      <td>2.687732</td>\n",
       "      <td>1.880692</td>\n",
       "      <td>0.411551</td>\n",
       "      <td>6.558039</td>\n",
       "      <td>00:31</td>\n",
       "    </tr>\n",
       "    <tr>\n",
       "      <td>3</td>\n",
       "      <td>2.268278</td>\n",
       "      <td>1.765584</td>\n",
       "      <td>0.419852</td>\n",
       "      <td>5.844984</td>\n",
       "      <td>00:31</td>\n",
       "    </tr>\n",
       "    <tr>\n",
       "      <td>4</td>\n",
       "      <td>2.027504</td>\n",
       "      <td>1.714239</td>\n",
       "      <td>0.428362</td>\n",
       "      <td>5.552448</td>\n",
       "      <td>00:33</td>\n",
       "    </tr>\n",
       "    <tr>\n",
       "      <td>5</td>\n",
       "      <td>1.882215</td>\n",
       "      <td>1.674678</td>\n",
       "      <td>0.438616</td>\n",
       "      <td>5.337076</td>\n",
       "      <td>00:32</td>\n",
       "    </tr>\n",
       "    <tr>\n",
       "      <td>6</td>\n",
       "      <td>1.790388</td>\n",
       "      <td>1.657169</td>\n",
       "      <td>0.446010</td>\n",
       "      <td>5.244440</td>\n",
       "      <td>00:33</td>\n",
       "    </tr>\n",
       "    <tr>\n",
       "      <td>7</td>\n",
       "      <td>1.722497</td>\n",
       "      <td>1.615540</td>\n",
       "      <td>0.460519</td>\n",
       "      <td>5.030602</td>\n",
       "      <td>00:33</td>\n",
       "    </tr>\n",
       "    <tr>\n",
       "      <td>8</td>\n",
       "      <td>1.671582</td>\n",
       "      <td>1.592613</td>\n",
       "      <td>0.469169</td>\n",
       "      <td>4.916578</td>\n",
       "      <td>00:33</td>\n",
       "    </tr>\n",
       "    <tr>\n",
       "      <td>9</td>\n",
       "      <td>1.637526</td>\n",
       "      <td>1.565410</td>\n",
       "      <td>0.475377</td>\n",
       "      <td>4.784638</td>\n",
       "      <td>00:32</td>\n",
       "    </tr>\n",
       "    <tr>\n",
       "      <td>10</td>\n",
       "      <td>1.605653</td>\n",
       "      <td>1.545317</td>\n",
       "      <td>0.478655</td>\n",
       "      <td>4.689456</td>\n",
       "      <td>00:33</td>\n",
       "    </tr>\n",
       "    <tr>\n",
       "      <td>11</td>\n",
       "      <td>1.573179</td>\n",
       "      <td>1.527498</td>\n",
       "      <td>0.483119</td>\n",
       "      <td>4.606637</td>\n",
       "      <td>00:34</td>\n",
       "    </tr>\n",
       "    <tr>\n",
       "      <td>12</td>\n",
       "      <td>1.557290</td>\n",
       "      <td>1.522318</td>\n",
       "      <td>0.483608</td>\n",
       "      <td>4.582834</td>\n",
       "      <td>00:33</td>\n",
       "    </tr>\n",
       "    <tr>\n",
       "      <td>13</td>\n",
       "      <td>1.539081</td>\n",
       "      <td>1.516828</td>\n",
       "      <td>0.486398</td>\n",
       "      <td>4.557746</td>\n",
       "      <td>00:33</td>\n",
       "    </tr>\n",
       "    <tr>\n",
       "      <td>14</td>\n",
       "      <td>1.527381</td>\n",
       "      <td>1.516105</td>\n",
       "      <td>0.487235</td>\n",
       "      <td>4.554450</td>\n",
       "      <td>00:33</td>\n",
       "    </tr>\n",
       "  </tbody>\n",
       "</table>"
      ],
      "text/plain": [
       "<IPython.core.display.HTML object>"
      ]
     },
     "metadata": {},
     "output_type": "display_data"
    }
   ],
   "source": [
    "learn = language_model_learner(\n",
    "    dls, AWD_LSTM, drop_mult=0.1,\n",
    "    metrics=[accuracy, Perplexity()])\n",
    "# learn.lr_find(suggest_funcs=(slide,valley))\n",
    "print(learn.model)\n",
    "# learn.lr_find()\n",
    "learn.fit_one_cycle(15, 1e-2, wd=0.1)"
   ]
  },
  {
   "cell_type": "markdown",
   "metadata": {},
   "source": [
    "__What's going on?__\n",
    "- the model is too big to learn from such a small dataset? hidden = 400!\n",
    "- or maybe need to be trained longer?"
   ]
  },
  {
   "cell_type": "code",
   "execution_count": 190,
   "metadata": {},
   "outputs": [
    {
     "data": {
      "text/html": [
       "\n",
       "<style>\n",
       "    /* Turns off some styling */\n",
       "    progress {\n",
       "        /* gets rid of default border in Firefox and Opera. */\n",
       "        border: none;\n",
       "        /* Needs to be in here for Safari polyfill so background images work as expected. */\n",
       "        background-size: auto;\n",
       "    }\n",
       "    progress:not([value]), progress:not([value])::-webkit-progress-bar {\n",
       "        background: repeating-linear-gradient(45deg, #7e7e7e, #7e7e7e 10px, #5c5c5c 10px, #5c5c5c 20px);\n",
       "    }\n",
       "    .progress-bar-interrupted, .progress-bar-interrupted::-webkit-progress-bar {\n",
       "        background: #F44336;\n",
       "    }\n",
       "</style>\n"
      ],
      "text/plain": [
       "<IPython.core.display.HTML object>"
      ]
     },
     "metadata": {},
     "output_type": "display_data"
    },
    {
     "data": {
      "text/html": [],
      "text/plain": [
       "<IPython.core.display.HTML object>"
      ]
     },
     "metadata": {},
     "output_type": "display_data"
    },
    {
     "data": {
      "text/html": [
       "\n",
       "<style>\n",
       "    /* Turns off some styling */\n",
       "    progress {\n",
       "        /* gets rid of default border in Firefox and Opera. */\n",
       "        border: none;\n",
       "        /* Needs to be in here for Safari polyfill so background images work as expected. */\n",
       "        background-size: auto;\n",
       "    }\n",
       "    progress:not([value]), progress:not([value])::-webkit-progress-bar {\n",
       "        background: repeating-linear-gradient(45deg, #7e7e7e, #7e7e7e 10px, #5c5c5c 10px, #5c5c5c 20px);\n",
       "    }\n",
       "    .progress-bar-interrupted, .progress-bar-interrupted::-webkit-progress-bar {\n",
       "        background: #F44336;\n",
       "    }\n",
       "</style>\n"
      ],
      "text/plain": [
       "<IPython.core.display.HTML object>"
      ]
     },
     "metadata": {},
     "output_type": "display_data"
    },
    {
     "data": {
      "text/html": [],
      "text/plain": [
       "<IPython.core.display.HTML object>"
      ]
     },
     "metadata": {},
     "output_type": "display_data"
    },
    {
     "name": "stdout",
     "output_type": "stream",
     "text": [
      "one hundred eighty two . nine hundred eighty nine thousand four hundred fourteen Fifteen\n",
      "one ten hundred forty four . five hundred forty nine . five hundred forty seven . nine\n"
     ]
    }
   ],
   "source": [
    "predict_next('one', learn)"
   ]
  },
  {
   "cell_type": "markdown",
   "metadata": {},
   "source": [
    "# IMDB Dataset"
   ]
  },
  {
   "cell_type": "markdown",
   "metadata": {},
   "source": [
    "### Our Model"
   ]
  },
  {
   "cell_type": "code",
   "execution_count": 196,
   "metadata": {},
   "outputs": [
    {
     "data": {
      "text/html": [
       "<table border=\"1\" class=\"dataframe\">\n",
       "  <thead>\n",
       "    <tr style=\"text-align: right;\">\n",
       "      <th></th>\n",
       "      <th>text</th>\n",
       "      <th>text_</th>\n",
       "    </tr>\n",
       "  </thead>\n",
       "  <tbody>\n",
       "    <tr>\n",
       "      <th>0</th>\n",
       "      <td>xxbos xxmaj this is the best pilot for xxup st out there ! xxmaj let 's just say that this is just the pilot , and it seems a little time passed before the shot the second episode because it has a completely different feel that will become the norm for the rest of the series . xxmaj avery xxmaj brooks will tend to over - act but this becomes more balanced as the series progresses . xxmaj finally we</td>\n",
       "      <td>xxmaj this is the best pilot for xxup st out there ! xxmaj let 's just say that this is just the pilot , and it seems a little time passed before the shot the second episode because it has a completely different feel that will become the norm for the rest of the series . xxmaj avery xxmaj brooks will tend to over - act but this becomes more balanced as the series progresses . xxmaj finally we get</td>\n",
       "    </tr>\n",
       "    <tr>\n",
       "      <th>1</th>\n",
       "      <td>hang around for the next ninety or so minutes will depend on your propensity for xxunk . xxbos xxmaj this is on my xxup tv right now … but only long enough for me to finish panning it in this comment . xxmaj the previous comment let me know that this movie will not get any better , no matter how much i hope and pray . i will concur this movie is a colossal waste of my time ,</td>\n",
       "      <td>around for the next ninety or so minutes will depend on your propensity for xxunk . xxbos xxmaj this is on my xxup tv right now … but only long enough for me to finish panning it in this comment . xxmaj the previous comment let me know that this movie will not get any better , no matter how much i hope and pray . i will concur this movie is a colossal waste of my time , and</td>\n",
       "    </tr>\n",
       "    <tr>\n",
       "      <th>2</th>\n",
       "      <td>. xxmaj bravo and bravo ! \\n\\n xxmaj director xxmaj christopher xxmaj xxunk directed this episode and what a talented and passionate guy he is . xxmaj stunning dying - scenes of xxmaj charlie in a place that exists in his memory / soul / heart layered with voices from the xxup er . xxmaj bravo too . \\n\\n xxmaj of course xxmaj liotta deserves a major guest role in such a good series and not to have waltz in</td>\n",
       "      <td>xxmaj bravo and bravo ! \\n\\n xxmaj director xxmaj christopher xxmaj xxunk directed this episode and what a talented and passionate guy he is . xxmaj stunning dying - scenes of xxmaj charlie in a place that exists in his memory / soul / heart layered with voices from the xxup er . xxmaj bravo too . \\n\\n xxmaj of course xxmaj liotta deserves a major guest role in such a good series and not to have waltz in for</td>\n",
       "    </tr>\n",
       "  </tbody>\n",
       "</table>"
      ],
      "text/plain": [
       "<IPython.core.display.HTML object>"
      ]
     },
     "metadata": {},
     "output_type": "display_data"
    },
    {
     "data": {
      "text/plain": [
       "60008"
      ]
     },
     "execution_count": 196,
     "metadata": {},
     "output_type": "execute_result"
    }
   ],
   "source": [
    "path = untar_data(URLs.IMDB)\n",
    "get_imdb = partial(get_text_files, folders=['train', 'test', 'unsup'])\n",
    "\n",
    "dls = DataBlock(\n",
    "     blocks=TextBlock.from_folder(path, is_lm=True),\n",
    "    get_items=get_imdb,\n",
    "    splitter=RandomSplitter(0.2)\n",
    ").dataloaders(path, path=path, bs=128, seq_len=80, drop_last=True, shuffle=False)\n",
    "\n",
    "dls.device = None\n",
    "\n",
    "dls.show_batch(max_n=3)\n",
    "len(dls.vocab)"
   ]
  },
  {
   "cell_type": "code",
   "execution_count": null,
   "metadata": {},
   "outputs": [],
   "source": [
    "model = LMModel7(len(dls.vocab), 80, 2, 0.4, bs=dls.bs)\n",
    "print(model)\n",
    "\n",
    "learn = LMLearner(dls.to('cuda'),model,\n",
    "                    loss_func=CrossEntropyLossFlat(),\n",
    "                    metrics=[accuracy, Perplexity()],\n",
    "                    cbs=[ModelResetter,ActivationStats(with_hist=True)]).fp16()\n",
    "gc.collect()\n",
    "# learn.lr_find(suggest_funcs=(slide, valley))\n",
    "learn.fit_one_cycle(15, 1e-2, wd=0.1)"
   ]
  },
  {
   "cell_type": "code",
   "execution_count": null,
   "metadata": {},
   "outputs": [],
   "source": [
    "predict_next('i love this movie', learn)"
   ]
  },
  {
   "cell_type": "markdown",
   "metadata": {},
   "source": [
    "### Fastai Model"
   ]
  },
  {
   "cell_type": "code",
   "execution_count": null,
   "metadata": {},
   "outputs": [
    {
     "name": "stdout",
     "output_type": "stream",
     "text": [
      "SequentialRNN(\n",
      "  (0): AWD_LSTM(\n",
      "    (encoder): Embedding(60008, 400, padding_idx=1)\n",
      "    (encoder_dp): EmbeddingDropout(\n",
      "      (emb): Embedding(60008, 400, padding_idx=1)\n",
      "    )\n",
      "    (rnns): ModuleList(\n",
      "      (0): WeightDropout(\n",
      "        (module): LSTM(400, 1152, batch_first=True)\n",
      "      )\n",
      "      (1): WeightDropout(\n",
      "        (module): LSTM(1152, 1152, batch_first=True)\n",
      "      )\n",
      "      (2): WeightDropout(\n",
      "        (module): LSTM(1152, 400, batch_first=True)\n",
      "      )\n",
      "    )\n",
      "    (input_dp): RNNDropout()\n",
      "    (hidden_dps): ModuleList(\n",
      "      (0-2): 3 x RNNDropout()\n",
      "    )\n",
      "  )\n",
      "  (1): LinearDecoder(\n",
      "    (decoder): Linear(in_features=400, out_features=60008, bias=True)\n",
      "    (output_dp): RNNDropout()\n",
      "  )\n",
      ")\n"
     ]
    },
    {
     "data": {
      "text/html": [
       "\n",
       "<style>\n",
       "    /* Turns off some styling */\n",
       "    progress {\n",
       "        /* gets rid of default border in Firefox and Opera. */\n",
       "        border: none;\n",
       "        /* Needs to be in here for Safari polyfill so background images work as expected. */\n",
       "        background-size: auto;\n",
       "    }\n",
       "    progress:not([value]), progress:not([value])::-webkit-progress-bar {\n",
       "        background: repeating-linear-gradient(45deg, #7e7e7e, #7e7e7e 10px, #5c5c5c 10px, #5c5c5c 20px);\n",
       "    }\n",
       "    .progress-bar-interrupted, .progress-bar-interrupted::-webkit-progress-bar {\n",
       "        background: #F44336;\n",
       "    }\n",
       "</style>\n"
      ],
      "text/plain": [
       "<IPython.core.display.HTML object>"
      ]
     },
     "metadata": {},
     "output_type": "display_data"
    },
    {
     "data": {
      "text/html": [
       "\n",
       "    <div>\n",
       "      <progress value='0' class='' max='15' style='width:300px; height:20px; vertical-align: middle;'></progress>\n",
       "      0.00% [0/15 00:00&lt;?]\n",
       "    </div>\n",
       "    \n",
       "<table border=\"1\" class=\"dataframe\">\n",
       "  <thead>\n",
       "    <tr style=\"text-align: left;\">\n",
       "      <th>epoch</th>\n",
       "      <th>train_loss</th>\n",
       "      <th>valid_loss</th>\n",
       "      <th>accuracy</th>\n",
       "      <th>perplexity</th>\n",
       "      <th>time</th>\n",
       "    </tr>\n",
       "  </thead>\n",
       "  <tbody>\n",
       "  </tbody>\n",
       "</table><p>\n",
       "\n",
       "    <div>\n",
       "      <progress value='1151' class='' max='2337' style='width:300px; height:20px; vertical-align: middle;'></progress>\n",
       "      49.25% [1151/2337 04:50&lt;04:59 4.5814]\n",
       "    </div>\n",
       "    "
      ],
      "text/plain": [
       "<IPython.core.display.HTML object>"
      ]
     },
     "metadata": {},
     "output_type": "display_data"
    }
   ],
   "source": [
    "learn = language_model_learner(\n",
    "    dls.to('cuda'), AWD_LSTM, drop_mult=0.1,\n",
    "    metrics=[accuracy, Perplexity()])\n",
    "# learn.lr_find(suggest_funcs=(slide,valley))\n",
    "print(learn.model)\n",
    "# learn.lr_find()\n",
    "learn.fit_one_cycle(15, 1e-2, wd=0.1).to_fp16()"
   ]
  },
  {
   "cell_type": "code",
   "execution_count": null,
   "metadata": {},
   "outputs": [],
   "source": [
    "predict_next('i love this movie', learn)"
   ]
  },
  {
   "cell_type": "code",
   "execution_count": null,
   "metadata": {},
   "outputs": [],
   "source": []
  }
 ],
 "metadata": {
  "kernelspec": {
   "display_name": "Python 3 (ipykernel)",
   "language": "python",
   "name": "python3"
  },
  "language_info": {
   "codemirror_mode": {
    "name": "ipython",
    "version": 3
   },
   "file_extension": ".py",
   "mimetype": "text/x-python",
   "name": "python",
   "nbconvert_exporter": "python",
   "pygments_lexer": "ipython3",
   "version": "3.12.2"
  }
 },
 "nbformat": 4,
 "nbformat_minor": 4
}
